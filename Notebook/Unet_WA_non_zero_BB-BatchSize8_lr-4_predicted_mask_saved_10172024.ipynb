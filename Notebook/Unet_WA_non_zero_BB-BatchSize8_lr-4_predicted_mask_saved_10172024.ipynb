{
 "cells": [
  {
   "cell_type": "code",
   "execution_count": 27,
   "metadata": {},
   "outputs": [
    {
     "name": "stdout",
     "output_type": "stream",
     "text": [
      "Requirement already satisfied: albumentations in c:\\users\\yang_pc\\anaconda3\\envs\\py310cuda118\\lib\\site-packages (1.4.14)\n",
      "Requirement already satisfied: numpy>=1.24.4 in c:\\users\\yang_pc\\anaconda3\\envs\\py310cuda118\\lib\\site-packages (from albumentations) (1.26.4)\n",
      "Requirement already satisfied: scipy>=1.10.0 in c:\\users\\yang_pc\\anaconda3\\envs\\py310cuda118\\lib\\site-packages (from albumentations) (1.13.0)\n",
      "Requirement already satisfied: scikit-image>=0.21.0 in c:\\users\\yang_pc\\anaconda3\\envs\\py310cuda118\\lib\\site-packages (from albumentations) (0.24.0)\n",
      "Requirement already satisfied: PyYAML in c:\\users\\yang_pc\\anaconda3\\envs\\py310cuda118\\lib\\site-packages (from albumentations) (6.0.1)\n",
      "Requirement already satisfied: typing-extensions>=4.9.0 in c:\\users\\yang_pc\\anaconda3\\envs\\py310cuda118\\lib\\site-packages (from albumentations) (4.11.0)\n",
      "Requirement already satisfied: pydantic>=2.7.0 in c:\\users\\yang_pc\\anaconda3\\envs\\py310cuda118\\lib\\site-packages (from albumentations) (2.8.2)\n",
      "Requirement already satisfied: albucore>=0.0.13 in c:\\users\\yang_pc\\anaconda3\\envs\\py310cuda118\\lib\\site-packages (from albumentations) (0.0.13)\n",
      "Requirement already satisfied: eval-type-backport in c:\\users\\yang_pc\\anaconda3\\envs\\py310cuda118\\lib\\site-packages (from albumentations) (0.2.0)\n",
      "Requirement already satisfied: opencv-python-headless>=4.9.0.80 in c:\\users\\yang_pc\\anaconda3\\envs\\py310cuda118\\lib\\site-packages (from albumentations) (4.9.0.80)\n",
      "Requirement already satisfied: tomli>=2.0.1 in c:\\users\\yang_pc\\anaconda3\\envs\\py310cuda118\\lib\\site-packages (from albucore>=0.0.13->albumentations) (2.0.1)\n",
      "Requirement already satisfied: annotated-types>=0.4.0 in c:\\users\\yang_pc\\anaconda3\\envs\\py310cuda118\\lib\\site-packages (from pydantic>=2.7.0->albumentations) (0.7.0)\n",
      "Requirement already satisfied: pydantic-core==2.20.1 in c:\\users\\yang_pc\\anaconda3\\envs\\py310cuda118\\lib\\site-packages (from pydantic>=2.7.0->albumentations) (2.20.1)\n",
      "Requirement already satisfied: networkx>=2.8 in c:\\users\\yang_pc\\anaconda3\\envs\\py310cuda118\\lib\\site-packages (from scikit-image>=0.21.0->albumentations) (3.2.1)\n",
      "Requirement already satisfied: pillow>=9.1 in c:\\users\\yang_pc\\anaconda3\\envs\\py310cuda118\\lib\\site-packages (from scikit-image>=0.21.0->albumentations) (10.3.0)\n",
      "Requirement already satisfied: imageio>=2.33 in c:\\users\\yang_pc\\anaconda3\\envs\\py310cuda118\\lib\\site-packages (from scikit-image>=0.21.0->albumentations) (2.34.1)\n",
      "Requirement already satisfied: tifffile>=2022.8.12 in c:\\users\\yang_pc\\anaconda3\\envs\\py310cuda118\\lib\\site-packages (from scikit-image>=0.21.0->albumentations) (2024.8.28)\n",
      "Requirement already satisfied: packaging>=21 in c:\\users\\yang_pc\\anaconda3\\envs\\py310cuda118\\lib\\site-packages (from scikit-image>=0.21.0->albumentations) (24.0)\n",
      "Requirement already satisfied: lazy-loader>=0.4 in c:\\users\\yang_pc\\anaconda3\\envs\\py310cuda118\\lib\\site-packages (from scikit-image>=0.21.0->albumentations) (0.4)\n",
      "^C\n"
     ]
    }
   ],
   "source": [
    "!pip install albumentations\n",
    "!pip install -q segmentation-models-pytorch\n",
    "!pip install -q torchsummary"
   ]
  },
  {
   "cell_type": "code",
   "execution_count": null,
   "metadata": {},
   "outputs": [
    {
     "name": "stdout",
     "output_type": "stream",
     "text": [
      "Requirement already satisfied: segmentation-models-pytorch in c:\\users\\yang_pc\\anaconda3\\envs\\py310cuda118\\lib\\site-packages (0.3.4)\n",
      "Requirement already satisfied: efficientnet-pytorch==0.7.1 in c:\\users\\yang_pc\\anaconda3\\envs\\py310cuda118\\lib\\site-packages (from segmentation-models-pytorch) (0.7.1)\n",
      "Requirement already satisfied: huggingface-hub>=0.24.6 in c:\\users\\yang_pc\\anaconda3\\envs\\py310cuda118\\lib\\site-packages (from segmentation-models-pytorch) (0.24.6)\n",
      "Requirement already satisfied: pillow in c:\\users\\yang_pc\\anaconda3\\envs\\py310cuda118\\lib\\site-packages (from segmentation-models-pytorch) (10.3.0)\n",
      "Requirement already satisfied: pretrainedmodels==0.7.4 in c:\\users\\yang_pc\\anaconda3\\envs\\py310cuda118\\lib\\site-packages (from segmentation-models-pytorch) (0.7.4)\n",
      "Requirement already satisfied: six in c:\\users\\yang_pc\\anaconda3\\envs\\py310cuda118\\lib\\site-packages (from segmentation-models-pytorch) (1.16.0)\n",
      "Requirement already satisfied: timm==0.9.7 in c:\\users\\yang_pc\\anaconda3\\envs\\py310cuda118\\lib\\site-packages (from segmentation-models-pytorch) (0.9.7)\n",
      "Requirement already satisfied: torchvision>=0.5.0 in c:\\users\\yang_pc\\anaconda3\\envs\\py310cuda118\\lib\\site-packages (from segmentation-models-pytorch) (0.16.1+cu118)\n",
      "Requirement already satisfied: tqdm in c:\\users\\yang_pc\\anaconda3\\envs\\py310cuda118\\lib\\site-packages (from segmentation-models-pytorch) (4.66.5)\n",
      "Requirement already satisfied: torch in c:\\users\\yang_pc\\anaconda3\\envs\\py310cuda118\\lib\\site-packages (from efficientnet-pytorch==0.7.1->segmentation-models-pytorch) (2.1.1+cu118)\n",
      "Requirement already satisfied: munch in c:\\users\\yang_pc\\anaconda3\\envs\\py310cuda118\\lib\\site-packages (from pretrainedmodels==0.7.4->segmentation-models-pytorch) (4.0.0)\n",
      "Requirement already satisfied: pyyaml in c:\\users\\yang_pc\\anaconda3\\envs\\py310cuda118\\lib\\site-packages (from timm==0.9.7->segmentation-models-pytorch) (6.0.1)\n",
      "Requirement already satisfied: safetensors in c:\\users\\yang_pc\\anaconda3\\envs\\py310cuda118\\lib\\site-packages (from timm==0.9.7->segmentation-models-pytorch) (0.4.4)\n",
      "Requirement already satisfied: filelock in c:\\users\\yang_pc\\anaconda3\\envs\\py310cuda118\\lib\\site-packages (from huggingface-hub>=0.24.6->segmentation-models-pytorch) (3.9.0)\n",
      "Requirement already satisfied: fsspec>=2023.5.0 in c:\\users\\yang_pc\\anaconda3\\envs\\py310cuda118\\lib\\site-packages (from huggingface-hub>=0.24.6->segmentation-models-pytorch) (2024.3.1)\n",
      "Requirement already satisfied: packaging>=20.9 in c:\\users\\yang_pc\\anaconda3\\envs\\py310cuda118\\lib\\site-packages (from huggingface-hub>=0.24.6->segmentation-models-pytorch) (24.0)\n",
      "Requirement already satisfied: requests in c:\\users\\yang_pc\\anaconda3\\envs\\py310cuda118\\lib\\site-packages (from huggingface-hub>=0.24.6->segmentation-models-pytorch) (2.32.3)\n",
      "Requirement already satisfied: typing-extensions>=3.7.4.3 in c:\\users\\yang_pc\\anaconda3\\envs\\py310cuda118\\lib\\site-packages (from huggingface-hub>=0.24.6->segmentation-models-pytorch) (4.11.0)\n",
      "Requirement already satisfied: numpy in c:\\users\\yang_pc\\anaconda3\\envs\\py310cuda118\\lib\\site-packages (from torchvision>=0.5.0->segmentation-models-pytorch) (1.26.4)\n",
      "Requirement already satisfied: sympy in c:\\users\\yang_pc\\anaconda3\\envs\\py310cuda118\\lib\\site-packages (from torch->efficientnet-pytorch==0.7.1->segmentation-models-pytorch) (1.12)\n",
      "Requirement already satisfied: networkx in c:\\users\\yang_pc\\anaconda3\\envs\\py310cuda118\\lib\\site-packages (from torch->efficientnet-pytorch==0.7.1->segmentation-models-pytorch) (3.2.1)\n",
      "Requirement already satisfied: jinja2 in c:\\users\\yang_pc\\anaconda3\\envs\\py310cuda118\\lib\\site-packages (from torch->efficientnet-pytorch==0.7.1->segmentation-models-pytorch) (3.1.2)\n",
      "Requirement already satisfied: colorama in c:\\users\\yang_pc\\anaconda3\\envs\\py310cuda118\\lib\\site-packages (from tqdm->segmentation-models-pytorch) (0.4.6)\n",
      "Requirement already satisfied: charset-normalizer<4,>=2 in c:\\users\\yang_pc\\anaconda3\\envs\\py310cuda118\\lib\\site-packages (from requests->huggingface-hub>=0.24.6->segmentation-models-pytorch) (2.1.1)\n",
      "Requirement already satisfied: idna<4,>=2.5 in c:\\users\\yang_pc\\anaconda3\\envs\\py310cuda118\\lib\\site-packages (from requests->huggingface-hub>=0.24.6->segmentation-models-pytorch) (3.4)\n",
      "Requirement already satisfied: urllib3<3,>=1.21.1 in c:\\users\\yang_pc\\anaconda3\\envs\\py310cuda118\\lib\\site-packages (from requests->huggingface-hub>=0.24.6->segmentation-models-pytorch) (1.26.13)\n",
      "Requirement already satisfied: certifi>=2017.4.17 in c:\\users\\yang_pc\\anaconda3\\envs\\py310cuda118\\lib\\site-packages (from requests->huggingface-hub>=0.24.6->segmentation-models-pytorch) (2024.2.2)\n",
      "Requirement already satisfied: MarkupSafe>=2.0 in c:\\users\\yang_pc\\anaconda3\\envs\\py310cuda118\\lib\\site-packages (from jinja2->torch->efficientnet-pytorch==0.7.1->segmentation-models-pytorch) (2.1.3)\n",
      "Requirement already satisfied: mpmath>=0.19 in c:\\users\\yang_pc\\anaconda3\\envs\\py310cuda118\\lib\\site-packages (from sympy->torch->efficientnet-pytorch==0.7.1->segmentation-models-pytorch) (1.3.0)\n",
      "Requirement already satisfied: torchsummary in c:\\users\\yang_pc\\anaconda3\\envs\\py310cuda118\\lib\\site-packages (1.5.1)\n"
     ]
    }
   ],
   "source": [
    "!pip install segmentation-models-pytorch\n",
    "!pip install torchsummary\n"
   ]
  },
  {
   "cell_type": "code",
   "execution_count": null,
   "metadata": {},
   "outputs": [
    {
     "name": "stdout",
     "output_type": "stream",
     "text": [
      "Collecting huggingface-hub==0.16.4\n",
      "  Downloading huggingface_hub-0.16.4-py3-none-any.whl.metadata (12 kB)\n",
      "Requirement already satisfied: filelock in c:\\users\\yang_pc\\anaconda3\\envs\\py310cuda118\\lib\\site-packages (from huggingface-hub==0.16.4) (3.9.0)\n",
      "Requirement already satisfied: fsspec in c:\\users\\yang_pc\\anaconda3\\envs\\py310cuda118\\lib\\site-packages (from huggingface-hub==0.16.4) (2024.3.1)\n",
      "Requirement already satisfied: requests in c:\\users\\yang_pc\\anaconda3\\envs\\py310cuda118\\lib\\site-packages (from huggingface-hub==0.16.4) (2.32.3)\n",
      "Requirement already satisfied: tqdm>=4.42.1 in c:\\users\\yang_pc\\anaconda3\\envs\\py310cuda118\\lib\\site-packages (from huggingface-hub==0.16.4) (4.66.5)\n",
      "Requirement already satisfied: pyyaml>=5.1 in c:\\users\\yang_pc\\anaconda3\\envs\\py310cuda118\\lib\\site-packages (from huggingface-hub==0.16.4) (6.0.1)\n",
      "Requirement already satisfied: typing-extensions>=3.7.4.3 in c:\\users\\yang_pc\\anaconda3\\envs\\py310cuda118\\lib\\site-packages (from huggingface-hub==0.16.4) (4.11.0)\n",
      "Requirement already satisfied: packaging>=20.9 in c:\\users\\yang_pc\\anaconda3\\envs\\py310cuda118\\lib\\site-packages (from huggingface-hub==0.16.4) (24.0)\n",
      "Requirement already satisfied: colorama in c:\\users\\yang_pc\\anaconda3\\envs\\py310cuda118\\lib\\site-packages (from tqdm>=4.42.1->huggingface-hub==0.16.4) (0.4.6)\n",
      "Requirement already satisfied: charset-normalizer<4,>=2 in c:\\users\\yang_pc\\anaconda3\\envs\\py310cuda118\\lib\\site-packages (from requests->huggingface-hub==0.16.4) (2.1.1)\n",
      "Requirement already satisfied: idna<4,>=2.5 in c:\\users\\yang_pc\\anaconda3\\envs\\py310cuda118\\lib\\site-packages (from requests->huggingface-hub==0.16.4) (3.4)\n",
      "Requirement already satisfied: urllib3<3,>=1.21.1 in c:\\users\\yang_pc\\anaconda3\\envs\\py310cuda118\\lib\\site-packages (from requests->huggingface-hub==0.16.4) (1.26.13)\n",
      "Requirement already satisfied: certifi>=2017.4.17 in c:\\users\\yang_pc\\anaconda3\\envs\\py310cuda118\\lib\\site-packages (from requests->huggingface-hub==0.16.4) (2024.2.2)\n",
      "Downloading huggingface_hub-0.16.4-py3-none-any.whl (268 kB)\n",
      "   ---------------------------------------- 0.0/268.8 kB ? eta -:--:--\n",
      "   - -------------------------------------- 10.2/268.8 kB ? eta -:--:--\n",
      "   ---------- ---------------------------- 71.7/268.8 kB 975.2 kB/s eta 0:00:01\n",
      "   ------------------------- -------------- 174.1/268.8 kB 1.7 MB/s eta 0:00:01\n",
      "   ---------------------------------------- 268.8/268.8 kB 1.8 MB/s eta 0:00:00\n",
      "Installing collected packages: huggingface-hub\n",
      "  Attempting uninstall: huggingface-hub\n",
      "    Found existing installation: huggingface-hub 0.24.6\n",
      "    Uninstalling huggingface-hub-0.24.6:\n",
      "      Successfully uninstalled huggingface-hub-0.24.6\n",
      "Successfully installed huggingface-hub-0.16.4\n"
     ]
    },
    {
     "name": "stderr",
     "output_type": "stream",
     "text": [
      "ERROR: pip's dependency resolver does not currently take into account all the packages that are installed. This behaviour is the source of the following dependency conflicts.\n",
      "datasets 2.21.0 requires huggingface-hub>=0.21.2, but you have huggingface-hub 0.16.4 which is incompatible.\n",
      "segmentation-models-pytorch 0.3.4 requires huggingface-hub>=0.24.6, but you have huggingface-hub 0.16.4 which is incompatible.\n",
      "transformers 4.44.2 requires huggingface-hub<1.0,>=0.23.2, but you have huggingface-hub 0.16.4 which is incompatible.\n"
     ]
    }
   ],
   "source": [
    "!pip install huggingface-hub==0.16.4\n"
   ]
  },
  {
   "cell_type": "code",
   "execution_count": 1,
   "metadata": {},
   "outputs": [],
   "source": [
    "import segmentation_models_pytorch as smp\n",
    "from torchsummary import summary\n"
   ]
  },
  {
   "cell_type": "code",
   "execution_count": 2,
   "metadata": {
    "colab": {
     "base_uri": "https://localhost:8080/"
    },
    "id": "48rFWt8_m5_a",
    "outputId": "08e112e4-7040-431b-eafa-a6149257af37"
   },
   "outputs": [
    {
     "name": "stdout",
     "output_type": "stream",
     "text": [
      "True\n"
     ]
    },
    {
     "name": "stderr",
     "output_type": "stream",
     "text": [
      "c:\\Users\\Yang_PC\\anaconda3\\envs\\py310cuda118\\lib\\site-packages\\albumentations\\__init__.py:13: UserWarning: A new version of Albumentations is available: 1.4.18 (you have 1.4.14). Upgrade using: pip install -U albumentations. To disable automatic update checks, set the environment variable NO_ALBUMENTATIONS_UPDATE to 1.\n",
      "  check_for_updates()\n"
     ]
    },
    {
     "data": {
      "text/plain": [
       "device(type='cuda')"
      ]
     },
     "execution_count": 2,
     "metadata": {},
     "output_type": "execute_result"
    }
   ],
   "source": [
    "import numpy as np\n",
    "import pandas as pd\n",
    "import matplotlib.pyplot as plt\n",
    "\n",
    "from sklearn.model_selection import train_test_split\n",
    "\n",
    "import torch\n",
    "import torch.nn as nn\n",
    "from torch.utils.data import Dataset, DataLoader\n",
    "from torchvision import transforms as T\n",
    "import torchvision\n",
    "import torch.nn.functional as F\n",
    "from torch.autograd import Variable\n",
    "\n",
    "from PIL import Image\n",
    "import cv2\n",
    "import albumentations as A\n",
    "\n",
    "import time\n",
    "import os\n",
    "from tqdm.notebook import tqdm\n",
    "\n",
    "#!pip install -q segmentation-models-pytorch\n",
    "#!pip install -q torchsummary\n",
    "\n",
    "from torchsummary import summary\n",
    "import segmentation_models_pytorch as smp\n",
    "\n",
    "#print(os.getenv('PATH'))\n",
    "print(torch.cuda.is_available())\n",
    "\n",
    "os.environ[\"CUDA_VISIBLE_DEVICES\"] = \"0\"\n",
    "device = torch.device(\"cuda\" if torch.cuda.is_available() else \"cpu\")\n",
    "device"
   ]
  },
  {
   "cell_type": "code",
   "execution_count": 4,
   "metadata": {
    "id": "oA3Xz1ddo-XU"
   },
   "outputs": [
    {
     "name": "stdout",
     "output_type": "stream",
     "text": [
      "image_path: D:\\ML_Seagrass\\SourceData\\Washington\\Washington\\train\\image\n"
     ]
    }
   ],
   "source": [
    "from pathlib import Path\n",
    "\n",
    "# For local file paths (Windows)\n",
    "data_directory = Path(r'D:\\ML_Seagrass\\SourceData\\Washington\\Washington\\train')\n",
    "\n",
    "IMAGE_PATH = data_directory / \"image\"\n",
    "MASK_PATH = data_directory / \"index\"\n",
    "\n",
    "print(\"image_path:\", IMAGE_PATH)\n",
    "\n"
   ]
  },
  {
   "cell_type": "code",
   "execution_count": 5,
   "metadata": {},
   "outputs": [
    {
     "name": "stdout",
     "output_type": "stream",
     "text": [
      "torch version: 2.1.1+cu118\n",
      "torchvision version: 0.16.1+cu118\n"
     ]
    }
   ],
   "source": [
    "try:\n",
    "    import torch\n",
    "    import torchvision\n",
    "    print(f\"torch version: {torch.__version__}\")\n",
    "    print(f\"torchvision version: {torchvision.__version__}\")\n",
    "except:\n",
    "    print(f\"[INFO] torch/torchvision not available.\")"
   ]
  },
  {
   "cell_type": "code",
   "execution_count": 6,
   "metadata": {},
   "outputs": [
    {
     "name": "stdout",
     "output_type": "stream",
     "text": [
      "True\n",
      "0\n",
      "NVIDIA GeForce RTX 3060\n"
     ]
    }
   ],
   "source": [
    "import torch\n",
    "print(torch.cuda.is_available())  # Should return True if CUDA is available\n",
    "print(torch.cuda.current_device())  # Should return the current GPU device\n",
    "print(torch.cuda.get_device_name(0))  # Should return the name of the GPU\n"
   ]
  },
  {
   "cell_type": "code",
   "execution_count": 7,
   "metadata": {
    "colab": {
     "base_uri": "https://localhost:8080/",
     "height": 423
    },
    "id": "6zLJIko6pa0v",
    "outputId": "dedbbed7-7c8b-4401-cc7d-23717aad04a0"
   },
   "outputs": [
    {
     "data": {
      "text/html": [
       "<div>\n",
       "<style scoped>\n",
       "    .dataframe tbody tr th:only-of-type {\n",
       "        vertical-align: middle;\n",
       "    }\n",
       "\n",
       "    .dataframe tbody tr th {\n",
       "        vertical-align: top;\n",
       "    }\n",
       "\n",
       "    .dataframe thead th {\n",
       "        text-align: right;\n",
       "    }\n",
       "</style>\n",
       "<table border=\"1\" class=\"dataframe\">\n",
       "  <thead>\n",
       "    <tr style=\"text-align: right;\">\n",
       "      <th></th>\n",
       "      <th>id</th>\n",
       "    </tr>\n",
       "  </thead>\n",
       "  <tbody>\n",
       "    <tr>\n",
       "      <th>0</th>\n",
       "      <td>BH_WA_19_row10_col4</td>\n",
       "    </tr>\n",
       "    <tr>\n",
       "      <th>1</th>\n",
       "      <td>BH_WA_19_row10_col6</td>\n",
       "    </tr>\n",
       "    <tr>\n",
       "      <th>2</th>\n",
       "      <td>BH_WA_19_row1_col14</td>\n",
       "    </tr>\n",
       "    <tr>\n",
       "      <th>3</th>\n",
       "      <td>BH_WA_19_row2_col15</td>\n",
       "    </tr>\n",
       "    <tr>\n",
       "      <th>4</th>\n",
       "      <td>BH_WA_19_row3_col13</td>\n",
       "    </tr>\n",
       "    <tr>\n",
       "      <th>...</th>\n",
       "      <td>...</td>\n",
       "    </tr>\n",
       "    <tr>\n",
       "      <th>1196</th>\n",
       "      <td>NC_WA_22_row9_col10</td>\n",
       "    </tr>\n",
       "    <tr>\n",
       "      <th>1197</th>\n",
       "      <td>NC_WA_22_row9_col5</td>\n",
       "    </tr>\n",
       "    <tr>\n",
       "      <th>1198</th>\n",
       "      <td>NC_WA_22_row9_col6</td>\n",
       "    </tr>\n",
       "    <tr>\n",
       "      <th>1199</th>\n",
       "      <td>NC_WA_22_row9_col7</td>\n",
       "    </tr>\n",
       "    <tr>\n",
       "      <th>1200</th>\n",
       "      <td>NC_WA_22_row9_col9</td>\n",
       "    </tr>\n",
       "  </tbody>\n",
       "</table>\n",
       "<p>1201 rows × 1 columns</p>\n",
       "</div>"
      ],
      "text/plain": [
       "                       id\n",
       "0     BH_WA_19_row10_col4\n",
       "1     BH_WA_19_row10_col6\n",
       "2     BH_WA_19_row1_col14\n",
       "3     BH_WA_19_row2_col15\n",
       "4     BH_WA_19_row3_col13\n",
       "...                   ...\n",
       "1196  NC_WA_22_row9_col10\n",
       "1197   NC_WA_22_row9_col5\n",
       "1198   NC_WA_22_row9_col6\n",
       "1199   NC_WA_22_row9_col7\n",
       "1200   NC_WA_22_row9_col9\n",
       "\n",
       "[1201 rows x 1 columns]"
      ]
     },
     "execution_count": 7,
     "metadata": {},
     "output_type": "execute_result"
    }
   ],
   "source": [
    "n_classes = 2 # classes of the mask\n",
    "\n",
    "def create_dataframe():\n",
    "    name = []\n",
    "    for dirname, _, filenames in os.walk(IMAGE_PATH):\n",
    "        for filename in filenames:\n",
    "            name.append(filename.split('.')[0])\n",
    "\n",
    "    return pd.DataFrame({'id':name}, index= np.arange(0, len(name)))\n",
    "\n",
    "df = create_dataframe()\n",
    "\n",
    "df"
   ]
  },
  {
   "cell_type": "code",
   "execution_count": 8,
   "metadata": {
    "id": "BSVX6_-wpeR3"
   },
   "outputs": [],
   "source": [
    "# X_trainval, X_test = train_test_split(df['id'].values, test_size=0.1, random_state=19)\n",
    "# X_train, X_val = train_test_split(X_trainval, test_size=0.15, random_state=19)\n",
    "\n",
    "# Independent folders for train, validation, and test images\n",
    "train_folder = r'D:\\ML_Seagrass\\SourceData\\Washington\\Washington\\train'\n",
    "val_folder = r'D:\\ML_Seagrass\\SourceData\\Washington\\Washington\\valid'\n",
    "test_folder = r'D:\\ML_Seagrass\\SourceData\\Washington\\Washington\\test'\n",
    "\n",
    "# Load all image paths from respective folders\n",
    "X_train = [os.path.join(train_folder, img) for img in os.listdir(train_folder) if img.endswith(('.jpg', '.png', '.jpeg'))]\n",
    "X_val = [os.path.join(val_folder, img) for img in os.listdir(val_folder) if img.endswith(('.jpg', '.png', '.jpeg'))]\n",
    "X_test = [os.path.join(test_folder, img) for img in os.listdir(test_folder) if img.endswith(('.jpg', '.png', '.jpeg'))]\n",
    "\n",
    "\n",
    "\n"
   ]
  },
  {
   "cell_type": "code",
   "execution_count": 12,
   "metadata": {},
   "outputs": [],
   "source": [
    "import os\n",
    "import pandas as pd\n",
    "\n",
    "# Define paths to the train, valid, and test image and mask folders\n",
    "# Example usage\n",
    "main_folder = r'D:\\ML_Seagrass\\SourceData\\Washington\\Washington'\n",
    "\n",
    "train_image_folder = os.path.join(main_folder, 'train', 'image')\n",
    "train_mask_folder = os.path.join(main_folder, 'train', 'index')\n",
    "val_image_folder = os.path.join(main_folder, 'valid', 'image')\n",
    "val_mask_folder = os.path.join(main_folder, 'valid', 'index')\n",
    "test_image_folder = os.path.join(main_folder, 'test', 'image')\n",
    "test_mask_folder = os.path.join(main_folder, 'test', 'index')\n",
    "    \n",
    "# Function to create dataframes from the given folder structure\n",
    "def create_dataframes_from_main_folder(main_folder):\n",
    "    \n",
    "\n",
    "    # Helper function to create a dataframe from image and mask folders\n",
    "    def create_dataframe_from_folders(image_folder, mask_folder):\n",
    "        image_names = [img.split('.')[0] for img in os.listdir(image_folder) if img.endswith(('.jpg', '.png', '.jpeg'))]\n",
    "        mask_names = [mask.split('.')[0] for mask in os.listdir(mask_folder) if mask.endswith(('.jpg', '.png', '.jpeg'))]\n",
    "\n",
    "        # Ensure that the image and mask file names match\n",
    "        assert set(image_names) == set(mask_names), \"Image and mask file names do not match!\"\n",
    "\n",
    "        return pd.DataFrame({'id': image_names})\n",
    "\n",
    "    # Create dataframes for train, valid, and test sets\n",
    "    df_train = create_dataframe_from_folders(train_image_folder, train_mask_folder)\n",
    "    df_val = create_dataframe_from_folders(val_image_folder, val_mask_folder)\n",
    "    df_test = create_dataframe_from_folders(test_image_folder, test_mask_folder)\n",
    "\n",
    "    # Return dataframes\n",
    "    return df_train, df_val, df_test\n",
    "\n",
    "  # Replace with the path to your main folder\n",
    "df_train, df_val, df_test = create_dataframes_from_main_folder(main_folder)\n",
    "\n",
    "# Assign X_train, X_val, and X_test\n",
    "X_train = df_train['id'].values\n",
    "X_val = df_val['id'].values\n",
    "X_test = df_test['id'].values\n"
   ]
  },
  {
   "cell_type": "code",
   "execution_count": 13,
   "metadata": {
    "colab": {
     "base_uri": "https://localhost:8080/",
     "height": 888
    },
    "id": "wf0e_7LGpggP",
    "outputId": "8856ad38-5d4e-4b10-a11c-8494b69b46df"
   },
   "outputs": [
    {
     "name": "stdout",
     "output_type": "stream",
     "text": [
      "Image Path: D:\\ML_Seagrass\\SourceData\\Washington\\Washington\\valid\\image\\BH_WA_19_row10_col5.png\n",
      "Mask Path: D:\\ML_Seagrass\\SourceData\\Washington\\Washington\\valid\\index\\BH_WA_19_row10_col5.png\n"
     ]
    },
    {
     "data": {
      "image/png": "[encoded data removed]",
      "text/plain": [
       "<Figure size 640x480 with 1 Axes>"
      ]
     },
     "metadata": {},
     "output_type": "display_data"
    },
    {
     "data": {
      "image/png": "[encoded data removed]",
      "text/plain": [
       "<Figure size 640x480 with 1 Axes>"
      ]
     },
     "metadata": {},
     "output_type": "display_data"
    },
    {
     "name": "stdout",
     "output_type": "stream",
     "text": [
      "(512, 512, 3)\n",
      "(512, 512)\n"
     ]
    }
   ],
   "source": [
    "for idx in X_val:\n",
    "    img_path = os.path.join(val_image_folder, idx + '.png')\n",
    "    mask_path = os.path.join(val_mask_folder, idx + '.png')\n",
    "\n",
    "    \n",
    "    # Print out the file paths for debugging\n",
    "    print(\"Image Path:\", img_path)\n",
    "    print(\"Mask Path:\", mask_path)\n",
    "    \n",
    "    img = Image.open(img_path)\n",
    "    mask = Image.open(mask_path)\n",
    "    plt.imshow(img)\n",
    "    plt.show()\n",
    "    plt.imshow(mask)\n",
    "    plt.show()\n",
    "    print(np.asarray(img).shape)\n",
    "    print(np.asarray(mask).shape)\n",
    "    break"
   ]
  },
  {
   "cell_type": "code",
   "execution_count": 14,
   "metadata": {},
   "outputs": [],
   "source": [
    "class Drone_data(Dataset):\n",
    "    def __init__(self, img_path, mask_path, X, mean, std, transform=None, patch=False):\n",
    "        self.img_path = Path(img_path)\n",
    "        self.mask_path = Path(mask_path)\n",
    "        self.X = X\n",
    "        self.mean = mean\n",
    "        self.std = std\n",
    "        self.transform = transform\n",
    "        self.patch = patch\n",
    "\n",
    "    def __len__(self):\n",
    "        return len(self.X)\n",
    "\n",
    "    def __getitem__(self, idx):\n",
    "        # Create image and mask paths using pathlib\n",
    "        img_path = self.img_path / f'{self.X[idx]}.png'\n",
    "        mask_path = self.mask_path / f'{self.X[idx]}.png'\n",
    "        \n",
    "        # Read and convert the image to RGB\n",
    "        img = cv2.imread(str(img_path))\n",
    "        img = cv2.cvtColor(img, cv2.COLOR_BGR2RGB)\n",
    "        \n",
    "        # Open and convert the mask to grayscale\n",
    "        mask = Image.open(mask_path)\n",
    "        mask = mask.convert(\"L\")\n",
    "        mask = np.array(mask)\n",
    "\n",
    "        # Map mask values: 255 -> 1\n",
    "        mask = np.where(mask == 255, 1, 0).astype(np.uint8)\n",
    "\n",
    "        if self.transform is not None:\n",
    "            aug = self.transform(image=img, mask=mask)\n",
    "            img = aug['image']\n",
    "            mask = aug['mask']\n",
    "\n",
    "        # Convert image to tensor and normalize\n",
    "        t = T.Compose([T.ToTensor(), T.Normalize(self.mean, self.std)])\n",
    "        img = t(img)\n",
    "        \n",
    "        # Convert mask to a tensor\n",
    "        mask = torch.from_numpy(mask).long()\n",
    "\n",
    "        if self.patch:\n",
    "            img, mask = self.tiles(img, mask)\n",
    "\n",
    "        return img, mask\n",
    "\n",
    "    def tiles(self, img, mask):\n",
    "        # Implementation of tile extraction if needed\n",
    "        pass"
   ]
  },
  {
   "cell_type": "code",
   "execution_count": 33,
   "metadata": {
    "id": "rRd3W4Ibpqv5"
   },
   "outputs": [],
   "source": [
    "mean=[0.485, 0.456, 0.406]\n",
    "std=[0.229, 0.224, 0.225]\n",
    "\n",
    "t_train = A.Compose([A.Resize(704, 1056, interpolation=cv2.INTER_NEAREST), A.HorizontalFlip(), A.VerticalFlip(),\n",
    "                     A.GridDistortion(p=0.2), A.RandomBrightnessContrast((0,0.5),(0,0.5)),\n",
    "                     A.GaussNoise()])\n",
    "\n",
    "t_val = A.Compose([A.Resize(704, 1056, interpolation=cv2.INTER_NEAREST), A.HorizontalFlip(),\n",
    "                   A.GridDistortion(p=0.2)])\n",
    "\n",
    "#datasets\n",
    "train_set = Drone_data(train_image_folder, train_mask_folder, X_train, mean, std, t_train, patch=False)\n",
    "val_set = Drone_data(val_image_folder, val_mask_folder, X_val, mean, std, t_val, patch=False)\n",
    "\n",
    "#dataloader\n",
    "batch_size= 4\n",
    "\n",
    "train_loader = DataLoader(train_set, batch_size=batch_size, shuffle=True)\n",
    "val_loader = DataLoader(val_set, batch_size=batch_size, shuffle=True)"
   ]
  },
  {
   "cell_type": "code",
   "execution_count": 18,
   "metadata": {
    "id": "Sbi4cet3pr4s"
   },
   "outputs": [],
   "source": [
    "model = smp.Unet('mobilenet_v2', encoder_weights='imagenet', classes=2, activation=None, encoder_depth=5, decoder_channels=[256, 128, 64, 32, 16])"
   ]
  },
  {
   "cell_type": "code",
   "execution_count": 16,
   "metadata": {
    "id": "J04RHDRDpug2"
   },
   "outputs": [],
   "source": [
    "def pixel_accuracy(output, mask):\n",
    "    with torch.no_grad():\n",
    "        output = torch.argmax(F.softmax(output, dim=1), dim=1)\n",
    "        correct = torch.eq(output, mask).int()\n",
    "        accuracy = float(correct.sum()) / float(correct.numel())\n",
    "    return accuracy"
   ]
  },
  {
   "cell_type": "code",
   "execution_count": 17,
   "metadata": {
    "id": "i7C0X7c8pv-e"
   },
   "outputs": [],
   "source": [
    "def mIoU(pred_mask, mask, smooth=1e-10, n_classes=23):\n",
    "    with torch.no_grad():\n",
    "        pred_mask = F.softmax(pred_mask, dim=1)\n",
    "        pred_mask = torch.argmax(pred_mask, dim=1)\n",
    "        pred_mask = pred_mask.contiguous().view(-1)\n",
    "        mask = mask.contiguous().view(-1)\n",
    "\n",
    "        iou_per_class = []\n",
    "        for clas in range(0, n_classes): #loop per pixel class\n",
    "            true_class = pred_mask == clas\n",
    "            true_label = mask == clas\n",
    "\n",
    "            if true_label.long().sum().item() == 0: #no exist label in this loop\n",
    "                iou_per_class.append(np.nan)\n",
    "            else:\n",
    "                intersect = torch.logical_and(true_class, true_label).sum().float().item()\n",
    "                union = torch.logical_or(true_class, true_label).sum().float().item()\n",
    "\n",
    "                iou = (intersect + smooth) / (union +smooth)\n",
    "                iou_per_class.append(iou)\n",
    "        return np.nanmean(iou_per_class)"
   ]
  },
  {
   "cell_type": "code",
   "execution_count": 19,
   "metadata": {
    "id": "XIT87qSWpxoz"
   },
   "outputs": [],
   "source": [
    "def get_lr(optimizer):\n",
    "    for param_group in optimizer.param_groups:\n",
    "        return param_group['lr']"
   ]
  },
  {
   "cell_type": "code",
   "execution_count": 20,
   "metadata": {
    "id": "3xV71lNyp0MB"
   },
   "outputs": [],
   "source": [
    "def fit(epochs, model, train_loader, val_loader, criterion, optimizer, scheduler, patch=False):\n",
    "    torch.cuda.empty_cache()\n",
    "    train_losses = []\n",
    "    test_losses = []\n",
    "    val_iou = []; val_acc = []\n",
    "    train_iou = []; train_acc = []\n",
    "    lrs = []\n",
    "    min_loss = np.inf\n",
    "    decrease = 1 ; not_improve=0\n",
    "\n",
    "    model.to(device)\n",
    "    fit_time = time.time()\n",
    "    for e in range(epochs):\n",
    "        since = time.time()\n",
    "        running_loss = 0\n",
    "        iou_score = 0\n",
    "        accuracy = 0\n",
    "        #training loop\n",
    "        model.train()\n",
    "        for i, data in enumerate(tqdm(train_loader)):\n",
    "            #training phase\n",
    "            image_tiles, mask_tiles = data\n",
    "            if patch:\n",
    "                bs, n_tiles, c, h, w = image_tiles.size()\n",
    "\n",
    "                image_tiles = image_tiles.view(-1,c, h, w)\n",
    "                mask_tiles = mask_tiles.view(-1, h, w)\n",
    "\n",
    "            image = image_tiles.to(device); mask = mask_tiles.to(device);\n",
    "            #forward\n",
    "            output = model(image)\n",
    "            #output = torch.argmax(output, dim=1)\n",
    "            loss = criterion(output, mask)\n",
    "            #evaluation metrics\n",
    "            iou_score += mIoU(output, mask)\n",
    "            accuracy += pixel_accuracy(output, mask)\n",
    "            #backward\n",
    "            loss.backward()\n",
    "            optimizer.step() #update weight\n",
    "            optimizer.zero_grad() #reset gradient\n",
    "\n",
    "            #step the learning rate\n",
    "            lrs.append(get_lr(optimizer))\n",
    "            scheduler.step()\n",
    "\n",
    "            running_loss += loss.item()\n",
    "\n",
    "        else:\n",
    "            model.eval()\n",
    "            test_loss = 0\n",
    "            test_accuracy = 0\n",
    "            val_iou_score = 0\n",
    "            #validation loop\n",
    "            with torch.no_grad():\n",
    "                for i, data in enumerate(tqdm(val_loader)):\n",
    "                    #reshape to 9 patches from single image, delete batch size\n",
    "                    image_tiles, mask_tiles = data\n",
    "\n",
    "                    if patch:\n",
    "                        bs, n_tiles, c, h, w = image_tiles.size()\n",
    "\n",
    "                        image_tiles = image_tiles.view(-1,c, h, w)\n",
    "                        mask_tiles = mask_tiles.view(-1, h, w)\n",
    "\n",
    "                    image = image_tiles.to(device); mask = mask_tiles.to(device);\n",
    "                    output = model(image)\n",
    "                    #evaluation metrics\n",
    "                    val_iou_score +=  mIoU(output, mask)\n",
    "                    test_accuracy += pixel_accuracy(output, mask)\n",
    "                    #loss\n",
    "                    loss = criterion(output, mask)\n",
    "                    test_loss += loss.item()\n",
    "\n",
    "            #calculatio mean for each batch\n",
    "            train_losses.append(running_loss/len(train_loader))\n",
    "            test_losses.append(test_loss/len(val_loader))\n",
    "\n",
    "\n",
    "            if min_loss > (test_loss/len(val_loader)):\n",
    "                print('Loss Decreasing.. {:.3f} >> {:.3f} '.format(min_loss, (test_loss/len(val_loader))))\n",
    "                min_loss = (test_loss/len(val_loader))\n",
    "                decrease += 1\n",
    "                if decrease % 5 == 0:\n",
    "                    print('saving model...')\n",
    "                    torch.save(model, 'Unet-Mobilenet_v2_mIoU-{:.3f}.pt'.format(val_iou_score/len(val_loader)))\n",
    "\n",
    "\n",
    "            if (test_loss/len(val_loader)) > min_loss:\n",
    "                not_improve += 1\n",
    "                min_loss = (test_loss/len(val_loader))\n",
    "                print(f'Loss Not Decrease for {not_improve} time')\n",
    "                if not_improve == 7:\n",
    "                    print('Loss not decrease for 7 times, Stop Training')\n",
    "                    break\n",
    "\n",
    "            #iou\n",
    "            val_iou.append(val_iou_score/len(val_loader))\n",
    "            train_iou.append(iou_score/len(train_loader))\n",
    "            train_acc.append(accuracy/len(train_loader))\n",
    "            val_acc.append(test_accuracy/ len(val_loader))\n",
    "            print(\"Epoch:{}/{}..\".format(e+1, epochs),\n",
    "                  \"Train Loss: {:.3f}..\".format(running_loss/len(train_loader)),\n",
    "                  \"Val Loss: {:.3f}..\".format(test_loss/len(val_loader)),\n",
    "                  \"Train mIoU:{:.3f}..\".format(iou_score/len(train_loader)),\n",
    "                  \"Val mIoU: {:.3f}..\".format(val_iou_score/len(val_loader)),\n",
    "                  \"Train Acc:{:.3f}..\".format(accuracy/len(train_loader)),\n",
    "                  \"Val Acc:{:.3f}..\".format(test_accuracy/len(val_loader)),\n",
    "                  \"Time: {:.2f}m\".format((time.time()-since)/60))\n",
    "\n",
    "    history = {'train_loss' : train_losses, 'val_loss': test_losses,\n",
    "               'train_miou' :train_iou, 'val_miou':val_iou,\n",
    "               'train_acc' :train_acc, 'val_acc':val_acc,\n",
    "               'lrs': lrs}\n",
    "    \n",
    "    total_time_minutes = (time.time() - fit_time) / 60\n",
    "\n",
    "    # Print the total time\n",
    "    print('Total time: {:.2f} m'.format(total_time_minutes))\n",
    "\n",
    "    #print('Total time: {:.2f} m' .format((time.time()- fit_time)/60))\n",
    "    return history"
   ]
  },
  {
   "cell_type": "code",
   "execution_count": null,
   "metadata": {},
   "outputs": [],
   "source": [
    "torch.cuda.empty_cache()"
   ]
  },
  {
   "cell_type": "code",
   "execution_count": 21,
   "metadata": {},
   "outputs": [
    {
     "name": "stdout",
     "output_type": "stream",
     "text": [
      "Thu Oct 17 19:33:27 2024       \n",
      "+-----------------------------------------------------------------------------------------+\n",
      "| NVIDIA-SMI 556.12                 Driver Version: 556.12         CUDA Version: 12.5     |\n",
      "|-----------------------------------------+------------------------+----------------------+\n",
      "| GPU  Name                  Driver-Model | Bus-Id          Disp.A | Volatile Uncorr. ECC |\n",
      "| Fan  Temp   Perf          Pwr:Usage/Cap |           Memory-Usage | GPU-Util  Compute M. |\n",
      "|                                         |                        |               MIG M. |\n",
      "|=========================================+========================+======================|\n",
      "|   0  NVIDIA GeForce RTX 3060      WDDM  |   00000000:01:00.0  On |                  N/A |\n",
      "| 37%   47C    P8             11W /  170W |     702MiB /  12288MiB |      7%      Default |\n",
      "|                                         |                        |                  N/A |\n",
      "+-----------------------------------------+------------------------+----------------------+\n",
      "                                                                                         \n",
      "+-----------------------------------------------------------------------------------------+\n",
      "| Processes:                                                                              |\n",
      "|  GPU   GI   CI        PID   Type   Process name                              GPU Memory |\n",
      "|        ID   ID                                                               Usage      |\n",
      "|=========================================================================================|\n",
      "|    0   N/A  N/A      1972    C+G   C:\\Program Files\\RustDesk\\rustdesk.exe      N/A      |\n",
      "|    0   N/A  N/A      2336    C+G   ...siveControlPanel\\SystemSettings.exe      N/A      |\n",
      "|    0   N/A  N/A      3104    C+G   C:\\Windows\\explorer.exe                     N/A      |\n",
      "|    0   N/A  N/A      5512    C+G   ...ne\\Binaries\\Win64\\EpicWebHelper.exe      N/A      |\n",
      "|    0   N/A  N/A      7980    C+G   ...CBS_cw5n1h2txyewy\\TextInputHost.exe      N/A      |\n",
      "|    0   N/A  N/A      8000    C+G   ...5n1h2txyewy\\ShellExperienceHost.exe      N/A      |\n",
      "|    0   N/A  N/A      8888    C+G   ....Search_cw5n1h2txyewy\\SearchApp.exe      N/A      |\n",
      "|    0   N/A  N/A      9240    C+G   ...2txyewy\\StartMenuExperienceHost.exe      N/A      |\n",
      "|    0   N/A  N/A      9300    C+G   ...e Stream\\98.0.0.0\\GoogleDriveFS.exe      N/A      |\n",
      "|    0   N/A  N/A      9620    C+G   ....Search_cw5n1h2txyewy\\SearchApp.exe      N/A      |\n",
      "|    0   N/A  N/A     10364    C+G   ...1.0_x64__8wekyb3d8bbwe\\Video.UI.exe      N/A      |\n",
      "|    0   N/A  N/A     10716    C+G   ...Programs\\Microsoft VS Code\\Code.exe      N/A      |\n",
      "|    0   N/A  N/A     10984    C+G   ...oogle\\Chrome\\Application\\chrome.exe      N/A      |\n",
      "|    0   N/A  N/A     11708    C+G   ...inaries\\Win64\\EpicGamesLauncher.exe      N/A      |\n",
      "|    0   N/A  N/A     11988    C+G   ...\\cef\\cef.win7x64\\steamwebhelper.exe      N/A      |\n",
      "|    0   N/A  N/A     13636    C+G   ...\\cef\\cef.win7x64\\steamwebhelper.exe      N/A      |\n",
      "|    0   N/A  N/A     16640    C+G   ...cal\\Microsoft\\OneDrive\\OneDrive.exe      N/A      |\n",
      "|    0   N/A  N/A     17788    C+G   ...oogle\\Chrome\\Application\\chrome.exe      N/A      |\n",
      "+-----------------------------------------------------------------------------------------+\n",
      "\n"
     ]
    }
   ],
   "source": [
    "import subprocess\n",
    "\n",
    "def check_gpu_memory():\n",
    "    result = subprocess.run(['nvidia-smi'], stdout=subprocess.PIPE)\n",
    "    print(result.stdout.decode('utf-8'))\n",
    "\n",
    "check_gpu_memory()"
   ]
  },
  {
   "cell_type": "code",
   "execution_count": 22,
   "metadata": {},
   "outputs": [
    {
     "data": {
      "text/plain": [
       "Unet(\n",
       "  (encoder): MobileNetV2Encoder(\n",
       "    (features): Sequential(\n",
       "      (0): Conv2dNormActivation(\n",
       "        (0): Conv2d(3, 32, kernel_size=(3, 3), stride=(2, 2), padding=(1, 1), bias=False)\n",
       "        (1): BatchNorm2d(32, eps=1e-05, momentum=0.1, affine=True, track_running_stats=True)\n",
       "        (2): ReLU6(inplace=True)\n",
       "      )\n",
       "      (1): InvertedResidual(\n",
       "        (conv): Sequential(\n",
       "          (0): Conv2dNormActivation(\n",
       "            (0): Conv2d(32, 32, kernel_size=(3, 3), stride=(1, 1), padding=(1, 1), groups=32, bias=False)\n",
       "            (1): BatchNorm2d(32, eps=1e-05, momentum=0.1, affine=True, track_running_stats=True)\n",
       "            (2): ReLU6(inplace=True)\n",
       "          )\n",
       "          (1): Conv2d(32, 16, kernel_size=(1, 1), stride=(1, 1), bias=False)\n",
       "          (2): BatchNorm2d(16, eps=1e-05, momentum=0.1, affine=True, track_running_stats=True)\n",
       "        )\n",
       "      )\n",
       "      (2): InvertedResidual(\n",
       "        (conv): Sequential(\n",
       "          (0): Conv2dNormActivation(\n",
       "            (0): Conv2d(16, 96, kernel_size=(1, 1), stride=(1, 1), bias=False)\n",
       "            (1): BatchNorm2d(96, eps=1e-05, momentum=0.1, affine=True, track_running_stats=True)\n",
       "            (2): ReLU6(inplace=True)\n",
       "          )\n",
       "          (1): Conv2dNormActivation(\n",
       "            (0): Conv2d(96, 96, kernel_size=(3, 3), stride=(2, 2), padding=(1, 1), groups=96, bias=False)\n",
       "            (1): BatchNorm2d(96, eps=1e-05, momentum=0.1, affine=True, track_running_stats=True)\n",
       "            (2): ReLU6(inplace=True)\n",
       "          )\n",
       "          (2): Conv2d(96, 24, kernel_size=(1, 1), stride=(1, 1), bias=False)\n",
       "          (3): BatchNorm2d(24, eps=1e-05, momentum=0.1, affine=True, track_running_stats=True)\n",
       "        )\n",
       "      )\n",
       "      (3): InvertedResidual(\n",
       "        (conv): Sequential(\n",
       "          (0): Conv2dNormActivation(\n",
       "            (0): Conv2d(24, 144, kernel_size=(1, 1), stride=(1, 1), bias=False)\n",
       "            (1): BatchNorm2d(144, eps=1e-05, momentum=0.1, affine=True, track_running_stats=True)\n",
       "            (2): ReLU6(inplace=True)\n",
       "          )\n",
       "          (1): Conv2dNormActivation(\n",
       "            (0): Conv2d(144, 144, kernel_size=(3, 3), stride=(1, 1), padding=(1, 1), groups=144, bias=False)\n",
       "            (1): BatchNorm2d(144, eps=1e-05, momentum=0.1, affine=True, track_running_stats=True)\n",
       "            (2): ReLU6(inplace=True)\n",
       "          )\n",
       "          (2): Conv2d(144, 24, kernel_size=(1, 1), stride=(1, 1), bias=False)\n",
       "          (3): BatchNorm2d(24, eps=1e-05, momentum=0.1, affine=True, track_running_stats=True)\n",
       "        )\n",
       "      )\n",
       "      (4): InvertedResidual(\n",
       "        (conv): Sequential(\n",
       "          (0): Conv2dNormActivation(\n",
       "            (0): Conv2d(24, 144, kernel_size=(1, 1), stride=(1, 1), bias=False)\n",
       "            (1): BatchNorm2d(144, eps=1e-05, momentum=0.1, affine=True, track_running_stats=True)\n",
       "            (2): ReLU6(inplace=True)\n",
       "          )\n",
       "          (1): Conv2dNormActivation(\n",
       "            (0): Conv2d(144, 144, kernel_size=(3, 3), stride=(2, 2), padding=(1, 1), groups=144, bias=False)\n",
       "            (1): BatchNorm2d(144, eps=1e-05, momentum=0.1, affine=True, track_running_stats=True)\n",
       "            (2): ReLU6(inplace=True)\n",
       "          )\n",
       "          (2): Conv2d(144, 32, kernel_size=(1, 1), stride=(1, 1), bias=False)\n",
       "          (3): BatchNorm2d(32, eps=1e-05, momentum=0.1, affine=True, track_running_stats=True)\n",
       "        )\n",
       "      )\n",
       "      (5): InvertedResidual(\n",
       "        (conv): Sequential(\n",
       "          (0): Conv2dNormActivation(\n",
       "            (0): Conv2d(32, 192, kernel_size=(1, 1), stride=(1, 1), bias=False)\n",
       "            (1): BatchNorm2d(192, eps=1e-05, momentum=0.1, affine=True, track_running_stats=True)\n",
       "            (2): ReLU6(inplace=True)\n",
       "          )\n",
       "          (1): Conv2dNormActivation(\n",
       "            (0): Conv2d(192, 192, kernel_size=(3, 3), stride=(1, 1), padding=(1, 1), groups=192, bias=False)\n",
       "            (1): BatchNorm2d(192, eps=1e-05, momentum=0.1, affine=True, track_running_stats=True)\n",
       "            (2): ReLU6(inplace=True)\n",
       "          )\n",
       "          (2): Conv2d(192, 32, kernel_size=(1, 1), stride=(1, 1), bias=False)\n",
       "          (3): BatchNorm2d(32, eps=1e-05, momentum=0.1, affine=True, track_running_stats=True)\n",
       "        )\n",
       "      )\n",
       "      (6): InvertedResidual(\n",
       "        (conv): Sequential(\n",
       "          (0): Conv2dNormActivation(\n",
       "            (0): Conv2d(32, 192, kernel_size=(1, 1), stride=(1, 1), bias=False)\n",
       "            (1): BatchNorm2d(192, eps=1e-05, momentum=0.1, affine=True, track_running_stats=True)\n",
       "            (2): ReLU6(inplace=True)\n",
       "          )\n",
       "          (1): Conv2dNormActivation(\n",
       "            (0): Conv2d(192, 192, kernel_size=(3, 3), stride=(1, 1), padding=(1, 1), groups=192, bias=False)\n",
       "            (1): BatchNorm2d(192, eps=1e-05, momentum=0.1, affine=True, track_running_stats=True)\n",
       "            (2): ReLU6(inplace=True)\n",
       "          )\n",
       "          (2): Conv2d(192, 32, kernel_size=(1, 1), stride=(1, 1), bias=False)\n",
       "          (3): BatchNorm2d(32, eps=1e-05, momentum=0.1, affine=True, track_running_stats=True)\n",
       "        )\n",
       "      )\n",
       "      (7): InvertedResidual(\n",
       "        (conv): Sequential(\n",
       "          (0): Conv2dNormActivation(\n",
       "            (0): Conv2d(32, 192, kernel_size=(1, 1), stride=(1, 1), bias=False)\n",
       "            (1): BatchNorm2d(192, eps=1e-05, momentum=0.1, affine=True, track_running_stats=True)\n",
       "            (2): ReLU6(inplace=True)\n",
       "          )\n",
       "          (1): Conv2dNormActivation(\n",
       "            (0): Conv2d(192, 192, kernel_size=(3, 3), stride=(2, 2), padding=(1, 1), groups=192, bias=False)\n",
       "            (1): BatchNorm2d(192, eps=1e-05, momentum=0.1, affine=True, track_running_stats=True)\n",
       "            (2): ReLU6(inplace=True)\n",
       "          )\n",
       "          (2): Conv2d(192, 64, kernel_size=(1, 1), stride=(1, 1), bias=False)\n",
       "          (3): BatchNorm2d(64, eps=1e-05, momentum=0.1, affine=True, track_running_stats=True)\n",
       "        )\n",
       "      )\n",
       "      (8): InvertedResidual(\n",
       "        (conv): Sequential(\n",
       "          (0): Conv2dNormActivation(\n",
       "            (0): Conv2d(64, 384, kernel_size=(1, 1), stride=(1, 1), bias=False)\n",
       "            (1): BatchNorm2d(384, eps=1e-05, momentum=0.1, affine=True, track_running_stats=True)\n",
       "            (2): ReLU6(inplace=True)\n",
       "          )\n",
       "          (1): Conv2dNormActivation(\n",
       "            (0): Conv2d(384, 384, kernel_size=(3, 3), stride=(1, 1), padding=(1, 1), groups=384, bias=False)\n",
       "            (1): BatchNorm2d(384, eps=1e-05, momentum=0.1, affine=True, track_running_stats=True)\n",
       "            (2): ReLU6(inplace=True)\n",
       "          )\n",
       "          (2): Conv2d(384, 64, kernel_size=(1, 1), stride=(1, 1), bias=False)\n",
       "          (3): BatchNorm2d(64, eps=1e-05, momentum=0.1, affine=True, track_running_stats=True)\n",
       "        )\n",
       "      )\n",
       "      (9): InvertedResidual(\n",
       "        (conv): Sequential(\n",
       "          (0): Conv2dNormActivation(\n",
       "            (0): Conv2d(64, 384, kernel_size=(1, 1), stride=(1, 1), bias=False)\n",
       "            (1): BatchNorm2d(384, eps=1e-05, momentum=0.1, affine=True, track_running_stats=True)\n",
       "            (2): ReLU6(inplace=True)\n",
       "          )\n",
       "          (1): Conv2dNormActivation(\n",
       "            (0): Conv2d(384, 384, kernel_size=(3, 3), stride=(1, 1), padding=(1, 1), groups=384, bias=False)\n",
       "            (1): BatchNorm2d(384, eps=1e-05, momentum=0.1, affine=True, track_running_stats=True)\n",
       "            (2): ReLU6(inplace=True)\n",
       "          )\n",
       "          (2): Conv2d(384, 64, kernel_size=(1, 1), stride=(1, 1), bias=False)\n",
       "          (3): BatchNorm2d(64, eps=1e-05, momentum=0.1, affine=True, track_running_stats=True)\n",
       "        )\n",
       "      )\n",
       "      (10): InvertedResidual(\n",
       "        (conv): Sequential(\n",
       "          (0): Conv2dNormActivation(\n",
       "            (0): Conv2d(64, 384, kernel_size=(1, 1), stride=(1, 1), bias=False)\n",
       "            (1): BatchNorm2d(384, eps=1e-05, momentum=0.1, affine=True, track_running_stats=True)\n",
       "            (2): ReLU6(inplace=True)\n",
       "          )\n",
       "          (1): Conv2dNormActivation(\n",
       "            (0): Conv2d(384, 384, kernel_size=(3, 3), stride=(1, 1), padding=(1, 1), groups=384, bias=False)\n",
       "            (1): BatchNorm2d(384, eps=1e-05, momentum=0.1, affine=True, track_running_stats=True)\n",
       "            (2): ReLU6(inplace=True)\n",
       "          )\n",
       "          (2): Conv2d(384, 64, kernel_size=(1, 1), stride=(1, 1), bias=False)\n",
       "          (3): BatchNorm2d(64, eps=1e-05, momentum=0.1, affine=True, track_running_stats=True)\n",
       "        )\n",
       "      )\n",
       "      (11): InvertedResidual(\n",
       "        (conv): Sequential(\n",
       "          (0): Conv2dNormActivation(\n",
       "            (0): Conv2d(64, 384, kernel_size=(1, 1), stride=(1, 1), bias=False)\n",
       "            (1): BatchNorm2d(384, eps=1e-05, momentum=0.1, affine=True, track_running_stats=True)\n",
       "            (2): ReLU6(inplace=True)\n",
       "          )\n",
       "          (1): Conv2dNormActivation(\n",
       "            (0): Conv2d(384, 384, kernel_size=(3, 3), stride=(1, 1), padding=(1, 1), groups=384, bias=False)\n",
       "            (1): BatchNorm2d(384, eps=1e-05, momentum=0.1, affine=True, track_running_stats=True)\n",
       "            (2): ReLU6(inplace=True)\n",
       "          )\n",
       "          (2): Conv2d(384, 96, kernel_size=(1, 1), stride=(1, 1), bias=False)\n",
       "          (3): BatchNorm2d(96, eps=1e-05, momentum=0.1, affine=True, track_running_stats=True)\n",
       "        )\n",
       "      )\n",
       "      (12): InvertedResidual(\n",
       "        (conv): Sequential(\n",
       "          (0): Conv2dNormActivation(\n",
       "            (0): Conv2d(96, 576, kernel_size=(1, 1), stride=(1, 1), bias=False)\n",
       "            (1): BatchNorm2d(576, eps=1e-05, momentum=0.1, affine=True, track_running_stats=True)\n",
       "            (2): ReLU6(inplace=True)\n",
       "          )\n",
       "          (1): Conv2dNormActivation(\n",
       "            (0): Conv2d(576, 576, kernel_size=(3, 3), stride=(1, 1), padding=(1, 1), groups=576, bias=False)\n",
       "            (1): BatchNorm2d(576, eps=1e-05, momentum=0.1, affine=True, track_running_stats=True)\n",
       "            (2): ReLU6(inplace=True)\n",
       "          )\n",
       "          (2): Conv2d(576, 96, kernel_size=(1, 1), stride=(1, 1), bias=False)\n",
       "          (3): BatchNorm2d(96, eps=1e-05, momentum=0.1, affine=True, track_running_stats=True)\n",
       "        )\n",
       "      )\n",
       "      (13): InvertedResidual(\n",
       "        (conv): Sequential(\n",
       "          (0): Conv2dNormActivation(\n",
       "            (0): Conv2d(96, 576, kernel_size=(1, 1), stride=(1, 1), bias=False)\n",
       "            (1): BatchNorm2d(576, eps=1e-05, momentum=0.1, affine=True, track_running_stats=True)\n",
       "            (2): ReLU6(inplace=True)\n",
       "          )\n",
       "          (1): Conv2dNormActivation(\n",
       "            (0): Conv2d(576, 576, kernel_size=(3, 3), stride=(1, 1), padding=(1, 1), groups=576, bias=False)\n",
       "            (1): BatchNorm2d(576, eps=1e-05, momentum=0.1, affine=True, track_running_stats=True)\n",
       "            (2): ReLU6(inplace=True)\n",
       "          )\n",
       "          (2): Conv2d(576, 96, kernel_size=(1, 1), stride=(1, 1), bias=False)\n",
       "          (3): BatchNorm2d(96, eps=1e-05, momentum=0.1, affine=True, track_running_stats=True)\n",
       "        )\n",
       "      )\n",
       "      (14): InvertedResidual(\n",
       "        (conv): Sequential(\n",
       "          (0): Conv2dNormActivation(\n",
       "            (0): Conv2d(96, 576, kernel_size=(1, 1), stride=(1, 1), bias=False)\n",
       "            (1): BatchNorm2d(576, eps=1e-05, momentum=0.1, affine=True, track_running_stats=True)\n",
       "            (2): ReLU6(inplace=True)\n",
       "          )\n",
       "          (1): Conv2dNormActivation(\n",
       "            (0): Conv2d(576, 576, kernel_size=(3, 3), stride=(2, 2), padding=(1, 1), groups=576, bias=False)\n",
       "            (1): BatchNorm2d(576, eps=1e-05, momentum=0.1, affine=True, track_running_stats=True)\n",
       "            (2): ReLU6(inplace=True)\n",
       "          )\n",
       "          (2): Conv2d(576, 160, kernel_size=(1, 1), stride=(1, 1), bias=False)\n",
       "          (3): BatchNorm2d(160, eps=1e-05, momentum=0.1, affine=True, track_running_stats=True)\n",
       "        )\n",
       "      )\n",
       "      (15): InvertedResidual(\n",
       "        (conv): Sequential(\n",
       "          (0): Conv2dNormActivation(\n",
       "            (0): Conv2d(160, 960, kernel_size=(1, 1), stride=(1, 1), bias=False)\n",
       "            (1): BatchNorm2d(960, eps=1e-05, momentum=0.1, affine=True, track_running_stats=True)\n",
       "            (2): ReLU6(inplace=True)\n",
       "          )\n",
       "          (1): Conv2dNormActivation(\n",
       "            (0): Conv2d(960, 960, kernel_size=(3, 3), stride=(1, 1), padding=(1, 1), groups=960, bias=False)\n",
       "            (1): BatchNorm2d(960, eps=1e-05, momentum=0.1, affine=True, track_running_stats=True)\n",
       "            (2): ReLU6(inplace=True)\n",
       "          )\n",
       "          (2): Conv2d(960, 160, kernel_size=(1, 1), stride=(1, 1), bias=False)\n",
       "          (3): BatchNorm2d(160, eps=1e-05, momentum=0.1, affine=True, track_running_stats=True)\n",
       "        )\n",
       "      )\n",
       "      (16): InvertedResidual(\n",
       "        (conv): Sequential(\n",
       "          (0): Conv2dNormActivation(\n",
       "            (0): Conv2d(160, 960, kernel_size=(1, 1), stride=(1, 1), bias=False)\n",
       "            (1): BatchNorm2d(960, eps=1e-05, momentum=0.1, affine=True, track_running_stats=True)\n",
       "            (2): ReLU6(inplace=True)\n",
       "          )\n",
       "          (1): Conv2dNormActivation(\n",
       "            (0): Conv2d(960, 960, kernel_size=(3, 3), stride=(1, 1), padding=(1, 1), groups=960, bias=False)\n",
       "            (1): BatchNorm2d(960, eps=1e-05, momentum=0.1, affine=True, track_running_stats=True)\n",
       "            (2): ReLU6(inplace=True)\n",
       "          )\n",
       "          (2): Conv2d(960, 160, kernel_size=(1, 1), stride=(1, 1), bias=False)\n",
       "          (3): BatchNorm2d(160, eps=1e-05, momentum=0.1, affine=True, track_running_stats=True)\n",
       "        )\n",
       "      )\n",
       "      (17): InvertedResidual(\n",
       "        (conv): Sequential(\n",
       "          (0): Conv2dNormActivation(\n",
       "            (0): Conv2d(160, 960, kernel_size=(1, 1), stride=(1, 1), bias=False)\n",
       "            (1): BatchNorm2d(960, eps=1e-05, momentum=0.1, affine=True, track_running_stats=True)\n",
       "            (2): ReLU6(inplace=True)\n",
       "          )\n",
       "          (1): Conv2dNormActivation(\n",
       "            (0): Conv2d(960, 960, kernel_size=(3, 3), stride=(1, 1), padding=(1, 1), groups=960, bias=False)\n",
       "            (1): BatchNorm2d(960, eps=1e-05, momentum=0.1, affine=True, track_running_stats=True)\n",
       "            (2): ReLU6(inplace=True)\n",
       "          )\n",
       "          (2): Conv2d(960, 320, kernel_size=(1, 1), stride=(1, 1), bias=False)\n",
       "          (3): BatchNorm2d(320, eps=1e-05, momentum=0.1, affine=True, track_running_stats=True)\n",
       "        )\n",
       "      )\n",
       "      (18): Conv2dNormActivation(\n",
       "        (0): Conv2d(320, 1280, kernel_size=(1, 1), stride=(1, 1), bias=False)\n",
       "        (1): BatchNorm2d(1280, eps=1e-05, momentum=0.1, affine=True, track_running_stats=True)\n",
       "        (2): ReLU6(inplace=True)\n",
       "      )\n",
       "    )\n",
       "  )\n",
       "  (decoder): UnetDecoder(\n",
       "    (center): Identity()\n",
       "    (blocks): ModuleList(\n",
       "      (0): DecoderBlock(\n",
       "        (conv1): Conv2dReLU(\n",
       "          (0): Conv2d(1376, 256, kernel_size=(3, 3), stride=(1, 1), padding=(1, 1), bias=False)\n",
       "          (1): BatchNorm2d(256, eps=1e-05, momentum=0.1, affine=True, track_running_stats=True)\n",
       "          (2): ReLU(inplace=True)\n",
       "        )\n",
       "        (attention1): Attention(\n",
       "          (attention): Identity()\n",
       "        )\n",
       "        (conv2): Conv2dReLU(\n",
       "          (0): Conv2d(256, 256, kernel_size=(3, 3), stride=(1, 1), padding=(1, 1), bias=False)\n",
       "          (1): BatchNorm2d(256, eps=1e-05, momentum=0.1, affine=True, track_running_stats=True)\n",
       "          (2): ReLU(inplace=True)\n",
       "        )\n",
       "        (attention2): Attention(\n",
       "          (attention): Identity()\n",
       "        )\n",
       "      )\n",
       "      (1): DecoderBlock(\n",
       "        (conv1): Conv2dReLU(\n",
       "          (0): Conv2d(288, 128, kernel_size=(3, 3), stride=(1, 1), padding=(1, 1), bias=False)\n",
       "          (1): BatchNorm2d(128, eps=1e-05, momentum=0.1, affine=True, track_running_stats=True)\n",
       "          (2): ReLU(inplace=True)\n",
       "        )\n",
       "        (attention1): Attention(\n",
       "          (attention): Identity()\n",
       "        )\n",
       "        (conv2): Conv2dReLU(\n",
       "          (0): Conv2d(128, 128, kernel_size=(3, 3), stride=(1, 1), padding=(1, 1), bias=False)\n",
       "          (1): BatchNorm2d(128, eps=1e-05, momentum=0.1, affine=True, track_running_stats=True)\n",
       "          (2): ReLU(inplace=True)\n",
       "        )\n",
       "        (attention2): Attention(\n",
       "          (attention): Identity()\n",
       "        )\n",
       "      )\n",
       "      (2): DecoderBlock(\n",
       "        (conv1): Conv2dReLU(\n",
       "          (0): Conv2d(152, 64, kernel_size=(3, 3), stride=(1, 1), padding=(1, 1), bias=False)\n",
       "          (1): BatchNorm2d(64, eps=1e-05, momentum=0.1, affine=True, track_running_stats=True)\n",
       "          (2): ReLU(inplace=True)\n",
       "        )\n",
       "        (attention1): Attention(\n",
       "          (attention): Identity()\n",
       "        )\n",
       "        (conv2): Conv2dReLU(\n",
       "          (0): Conv2d(64, 64, kernel_size=(3, 3), stride=(1, 1), padding=(1, 1), bias=False)\n",
       "          (1): BatchNorm2d(64, eps=1e-05, momentum=0.1, affine=True, track_running_stats=True)\n",
       "          (2): ReLU(inplace=True)\n",
       "        )\n",
       "        (attention2): Attention(\n",
       "          (attention): Identity()\n",
       "        )\n",
       "      )\n",
       "      (3): DecoderBlock(\n",
       "        (conv1): Conv2dReLU(\n",
       "          (0): Conv2d(80, 32, kernel_size=(3, 3), stride=(1, 1), padding=(1, 1), bias=False)\n",
       "          (1): BatchNorm2d(32, eps=1e-05, momentum=0.1, affine=True, track_running_stats=True)\n",
       "          (2): ReLU(inplace=True)\n",
       "        )\n",
       "        (attention1): Attention(\n",
       "          (attention): Identity()\n",
       "        )\n",
       "        (conv2): Conv2dReLU(\n",
       "          (0): Conv2d(32, 32, kernel_size=(3, 3), stride=(1, 1), padding=(1, 1), bias=False)\n",
       "          (1): BatchNorm2d(32, eps=1e-05, momentum=0.1, affine=True, track_running_stats=True)\n",
       "          (2): ReLU(inplace=True)\n",
       "        )\n",
       "        (attention2): Attention(\n",
       "          (attention): Identity()\n",
       "        )\n",
       "      )\n",
       "      (4): DecoderBlock(\n",
       "        (conv1): Conv2dReLU(\n",
       "          (0): Conv2d(32, 16, kernel_size=(3, 3), stride=(1, 1), padding=(1, 1), bias=False)\n",
       "          (1): BatchNorm2d(16, eps=1e-05, momentum=0.1, affine=True, track_running_stats=True)\n",
       "          (2): ReLU(inplace=True)\n",
       "        )\n",
       "        (attention1): Attention(\n",
       "          (attention): Identity()\n",
       "        )\n",
       "        (conv2): Conv2dReLU(\n",
       "          (0): Conv2d(16, 16, kernel_size=(3, 3), stride=(1, 1), padding=(1, 1), bias=False)\n",
       "          (1): BatchNorm2d(16, eps=1e-05, momentum=0.1, affine=True, track_running_stats=True)\n",
       "          (2): ReLU(inplace=True)\n",
       "        )\n",
       "        (attention2): Attention(\n",
       "          (attention): Identity()\n",
       "        )\n",
       "      )\n",
       "    )\n",
       "  )\n",
       "  (segmentation_head): SegmentationHead(\n",
       "    (0): Conv2d(16, 2, kernel_size=(3, 3), stride=(1, 1), padding=(1, 1))\n",
       "    (1): Identity()\n",
       "    (2): Activation(\n",
       "      (activation): Identity()\n",
       "    )\n",
       "  )\n",
       ")"
      ]
     },
     "execution_count": 22,
     "metadata": {},
     "output_type": "execute_result"
    }
   ],
   "source": [
    "import os\n",
    "import torch\n",
    "\n",
    "# Enable CUDA_LAUNCH_BLOCKING\n",
    "os.environ['CUDA_LAUNCH_BLOCKING'] = '1'\n",
    "\n",
    "# Your previous setup code\n",
    "max_lr = 1e-4\n",
    "epoch = 20\n",
    "weight_decay = 1e-4\n",
    "\n",
    "criterion = nn.CrossEntropyLoss()\n",
    "optimizer = torch.optim.AdamW(model.parameters(), lr=max_lr, weight_decay=weight_decay)\n",
    "sched = torch.optim.lr_scheduler.OneCycleLR(optimizer, max_lr, epochs=epoch,\n",
    "                                            steps_per_epoch=len(train_loader))\n",
    "\n",
    "# Ensure model is on the correct device\n",
    "model.to(device)\n",
    "\n",
    "\n"
   ]
  },
  {
   "cell_type": "code",
   "execution_count": null,
   "metadata": {},
   "outputs": [],
   "source": [
    "# Run fit function\n",
    "history = fit(epoch, model, train_loader, val_loader, criterion, optimizer, sched)"
   ]
  },
  {
   "cell_type": "code",
   "execution_count": null,
   "metadata": {
    "colab": {
     "base_uri": "https://localhost:8080/",
     "height": 49,
     "referenced_widgets": [
      "7c1f12cb1ab847249bb4280c54b564cb",
      "19d6d94b89704a269debe53bb709576d",
      "d4f923059c214d2a8aa3fd74ef0b0b38",
      "be620ffd47314ef3b9e071b5f1eca94c",
      "163f38a04bda46ee92bb147e7d5faa80",
      "1a19a3eae622461585e820b2fb93316c",
      "66a3ea8eb4f24f50b8e82fb9f25e3bcd",
      "0d48ded90abf4b10b0ce4a023cedc338",
      "4907a67a924f4daea078544b5a929188",
      "110ee953de00408389437603ab9cbd15",
      "4fc823b122304890af9cb927f3f8afef"
     ]
    },
    "id": "58OHqNi0p2iv",
    "outputId": "21a4592b-8670-4713-e9b2-cd77b9969706"
   },
   "outputs": [
    {
     "data": {
      "application/vnd.jupyter.widget-view+json": {
       "model_id": "663918ca2d1c447ca8caaa4f43efd1c5",
       "version_major": 2,
       "version_minor": 0
      },
      "text/plain": [
       "  0%|          | 0/161 [00:00<?, ?it/s]"
      ]
     },
     "metadata": {},
     "output_type": "display_data"
    },
    {
     "data": {
      "application/vnd.jupyter.widget-view+json": {
       "model_id": "a18fbefb47fc4332bba0a16cb79e237d",
       "version_major": 2,
       "version_minor": 0
      },
      "text/plain": [
       "  0%|          | 0/29 [00:00<?, ?it/s]"
      ]
     },
     "metadata": {},
     "output_type": "display_data"
    },
    {
     "name": "stdout",
     "output_type": "stream",
     "text": [
      "Loss Decreasing.. inf >> 0.394 \n",
      "Epoch:1/20.. Train Loss: 0.444.. Val Loss: 0.394.. Train mIoU:0.635.. Val mIoU: 0.673.. Train Acc:0.781.. Val Acc:0.814.. Time: 2.25m\n"
     ]
    },
    {
     "data": {
      "application/vnd.jupyter.widget-view+json": {
       "model_id": "e059209e50f34992b57a42e7b0856d7d",
       "version_major": 2,
       "version_minor": 0
      },
      "text/plain": [
       "  0%|          | 0/161 [00:00<?, ?it/s]"
      ]
     },
     "metadata": {},
     "output_type": "display_data"
    },
    {
     "data": {
      "application/vnd.jupyter.widget-view+json": {
       "model_id": "c85246f6c8d649129fcce33a899236bb",
       "version_major": 2,
       "version_minor": 0
      },
      "text/plain": [
       "  0%|          | 0/29 [00:00<?, ?it/s]"
      ]
     },
     "metadata": {},
     "output_type": "display_data"
    },
    {
     "name": "stdout",
     "output_type": "stream",
     "text": [
      "Loss Decreasing.. 0.394 >> 0.379 \n",
      "Epoch:2/20.. Train Loss: 0.441.. Val Loss: 0.379.. Train mIoU:0.639.. Val mIoU: 0.674.. Train Acc:0.783.. Val Acc:0.821.. Time: 2.21m\n"
     ]
    },
    {
     "data": {
      "application/vnd.jupyter.widget-view+json": {
       "model_id": "cd6c30603c36436ca1e0b5027484df88",
       "version_major": 2,
       "version_minor": 0
      },
      "text/plain": [
       "  0%|          | 0/161 [00:00<?, ?it/s]"
      ]
     },
     "metadata": {},
     "output_type": "display_data"
    },
    {
     "data": {
      "application/vnd.jupyter.widget-view+json": {
       "model_id": "ae1f986af2e04773b2e9f364192e1a10",
       "version_major": 2,
       "version_minor": 0
      },
      "text/plain": [
       "  0%|          | 0/29 [00:00<?, ?it/s]"
      ]
     },
     "metadata": {},
     "output_type": "display_data"
    },
    {
     "name": "stdout",
     "output_type": "stream",
     "text": [
      "Loss Not Decrease for 1 time\n",
      "Epoch:3/20.. Train Loss: 0.465.. Val Loss: 0.402.. Train mIoU:0.627.. Val mIoU: 0.671.. Train Acc:0.775.. Val Acc:0.810.. Time: 2.26m\n"
     ]
    },
    {
     "data": {
      "application/vnd.jupyter.widget-view+json": {
       "model_id": "53f7a3f6642c481d83160bd68c4b1107",
       "version_major": 2,
       "version_minor": 0
      },
      "text/plain": [
       "  0%|          | 0/161 [00:00<?, ?it/s]"
      ]
     },
     "metadata": {},
     "output_type": "display_data"
    },
    {
     "data": {
      "application/vnd.jupyter.widget-view+json": {
       "model_id": "d722f26ca08c4c1482f6f1978f9e1541",
       "version_major": 2,
       "version_minor": 0
      },
      "text/plain": [
       "  0%|          | 0/29 [00:00<?, ?it/s]"
      ]
     },
     "metadata": {},
     "output_type": "display_data"
    },
    {
     "name": "stdout",
     "output_type": "stream",
     "text": [
      "Loss Decreasing.. 0.402 >> 0.386 \n",
      "Epoch:4/20.. Train Loss: 0.453.. Val Loss: 0.386.. Train mIoU:0.636.. Val mIoU: 0.678.. Train Acc:0.779.. Val Acc:0.817.. Time: 2.24m\n"
     ]
    },
    {
     "data": {
      "application/vnd.jupyter.widget-view+json": {
       "model_id": "92ccd05dd96b406b8a21bab2091bfb3b",
       "version_major": 2,
       "version_minor": 0
      },
      "text/plain": [
       "  0%|          | 0/161 [00:00<?, ?it/s]"
      ]
     },
     "metadata": {},
     "output_type": "display_data"
    },
    {
     "data": {
      "application/vnd.jupyter.widget-view+json": {
       "model_id": "820f7033be17426083ab3feb41780a39",
       "version_major": 2,
       "version_minor": 0
      },
      "text/plain": [
       "  0%|          | 0/29 [00:00<?, ?it/s]"
      ]
     },
     "metadata": {},
     "output_type": "display_data"
    },
    {
     "name": "stdout",
     "output_type": "stream",
     "text": [
      "Loss Not Decrease for 2 time\n",
      "Epoch:5/20.. Train Loss: 0.470.. Val Loss: 0.397.. Train mIoU:0.615.. Val mIoU: 0.673.. Train Acc:0.764.. Val Acc:0.817.. Time: 2.24m\n"
     ]
    },
    {
     "data": {
      "application/vnd.jupyter.widget-view+json": {
       "model_id": "9b88b4cdc9564af6b2c7e9f8d566a662",
       "version_major": 2,
       "version_minor": 0
      },
      "text/plain": [
       "  0%|          | 0/161 [00:00<?, ?it/s]"
      ]
     },
     "metadata": {},
     "output_type": "display_data"
    },
    {
     "data": {
      "application/vnd.jupyter.widget-view+json": {
       "model_id": "dc199c5f9a4740e5983e7b42afd9d28e",
       "version_major": 2,
       "version_minor": 0
      },
      "text/plain": [
       "  0%|          | 0/29 [00:00<?, ?it/s]"
      ]
     },
     "metadata": {},
     "output_type": "display_data"
    },
    {
     "name": "stdout",
     "output_type": "stream",
     "text": [
      "Loss Decreasing.. 0.397 >> 0.386 \n",
      "saving model...\n",
      "Epoch:6/20.. Train Loss: 0.456.. Val Loss: 0.386.. Train mIoU:0.632.. Val mIoU: 0.676.. Train Acc:0.776.. Val Acc:0.819.. Time: 2.27m\n"
     ]
    },
    {
     "data": {
      "application/vnd.jupyter.widget-view+json": {
       "model_id": "c5bea668783b4522ae08b4e9a1398e95",
       "version_major": 2,
       "version_minor": 0
      },
      "text/plain": [
       "  0%|          | 0/161 [00:00<?, ?it/s]"
      ]
     },
     "metadata": {},
     "output_type": "display_data"
    },
    {
     "data": {
      "application/vnd.jupyter.widget-view+json": {
       "model_id": "8bc0593f878e4aaf8f584bc61e072884",
       "version_major": 2,
       "version_minor": 0
      },
      "text/plain": [
       "  0%|          | 0/29 [00:00<?, ?it/s]"
      ]
     },
     "metadata": {},
     "output_type": "display_data"
    },
    {
     "name": "stdout",
     "output_type": "stream",
     "text": [
      "Loss Not Decrease for 3 time\n",
      "Epoch:7/20.. Train Loss: 0.459.. Val Loss: 0.477.. Train mIoU:0.629.. Val mIoU: 0.656.. Train Acc:0.774.. Val Acc:0.806.. Time: 2.26m\n"
     ]
    },
    {
     "data": {
      "application/vnd.jupyter.widget-view+json": {
       "model_id": "f524b68537db4650882540f43e15dbb0",
       "version_major": 2,
       "version_minor": 0
      },
      "text/plain": [
       "  0%|          | 0/161 [00:00<?, ?it/s]"
      ]
     },
     "metadata": {},
     "output_type": "display_data"
    },
    {
     "data": {
      "application/vnd.jupyter.widget-view+json": {
       "model_id": "97d6b90f9cbf42b48092108929eebc94",
       "version_major": 2,
       "version_minor": 0
      },
      "text/plain": [
       "  0%|          | 0/29 [00:00<?, ?it/s]"
      ]
     },
     "metadata": {},
     "output_type": "display_data"
    },
    {
     "name": "stdout",
     "output_type": "stream",
     "text": [
      "Loss Decreasing.. 0.477 >> 0.389 \n",
      "Epoch:8/20.. Train Loss: 0.457.. Val Loss: 0.389.. Train mIoU:0.633.. Val mIoU: 0.669.. Train Acc:0.779.. Val Acc:0.822.. Time: 2.25m\n"
     ]
    },
    {
     "data": {
      "application/vnd.jupyter.widget-view+json": {
       "model_id": "7399668a05c94a93b186828755a01aa9",
       "version_major": 2,
       "version_minor": 0
      },
      "text/plain": [
       "  0%|          | 0/161 [00:00<?, ?it/s]"
      ]
     },
     "metadata": {},
     "output_type": "display_data"
    },
    {
     "data": {
      "application/vnd.jupyter.widget-view+json": {
       "model_id": "806b20c61ebf41a0b284021cacf8bd42",
       "version_major": 2,
       "version_minor": 0
      },
      "text/plain": [
       "  0%|          | 0/29 [00:00<?, ?it/s]"
      ]
     },
     "metadata": {},
     "output_type": "display_data"
    },
    {
     "name": "stdout",
     "output_type": "stream",
     "text": [
      "Loss Not Decrease for 4 time\n",
      "Epoch:9/20.. Train Loss: 0.458.. Val Loss: 0.451.. Train mIoU:0.624.. Val mIoU: 0.642.. Train Acc:0.774.. Val Acc:0.798.. Time: 2.27m\n"
     ]
    },
    {
     "data": {
      "application/vnd.jupyter.widget-view+json": {
       "model_id": "22f40a92142c4e7b8857bd1f9bfe2b7d",
       "version_major": 2,
       "version_minor": 0
      },
      "text/plain": [
       "  0%|          | 0/161 [00:00<?, ?it/s]"
      ]
     },
     "metadata": {},
     "output_type": "display_data"
    },
    {
     "data": {
      "application/vnd.jupyter.widget-view+json": {
       "model_id": "badfefc19f014a6dafe1ef7e3b98f2f2",
       "version_major": 2,
       "version_minor": 0
      },
      "text/plain": [
       "  0%|          | 0/29 [00:00<?, ?it/s]"
      ]
     },
     "metadata": {},
     "output_type": "display_data"
    },
    {
     "name": "stdout",
     "output_type": "stream",
     "text": [
      "Loss Decreasing.. 0.451 >> 0.400 \n",
      "Epoch:10/20.. Train Loss: 0.459.. Val Loss: 0.400.. Train mIoU:0.629.. Val mIoU: 0.673.. Train Acc:0.777.. Val Acc:0.817.. Time: 2.24m\n"
     ]
    },
    {
     "data": {
      "application/vnd.jupyter.widget-view+json": {
       "model_id": "1266fd75acc34e32b579a12e2a512e12",
       "version_major": 2,
       "version_minor": 0
      },
      "text/plain": [
       "  0%|          | 0/161 [00:00<?, ?it/s]"
      ]
     },
     "metadata": {},
     "output_type": "display_data"
    },
    {
     "data": {
      "application/vnd.jupyter.widget-view+json": {
       "model_id": "64e35e7fef824f3d9ae6cdd1545e203d",
       "version_major": 2,
       "version_minor": 0
      },
      "text/plain": [
       "  0%|          | 0/29 [00:00<?, ?it/s]"
      ]
     },
     "metadata": {},
     "output_type": "display_data"
    },
    {
     "name": "stdout",
     "output_type": "stream",
     "text": [
      "Loss Decreasing.. 0.400 >> 0.371 \n",
      "Epoch:11/20.. Train Loss: 0.454.. Val Loss: 0.371.. Train mIoU:0.635.. Val mIoU: 0.692.. Train Acc:0.779.. Val Acc:0.832.. Time: 2.20m\n"
     ]
    },
    {
     "data": {
      "application/vnd.jupyter.widget-view+json": {
       "model_id": "0d2cc579d6dc45728cc6664fc832f174",
       "version_major": 2,
       "version_minor": 0
      },
      "text/plain": [
       "  0%|          | 0/161 [00:00<?, ?it/s]"
      ]
     },
     "metadata": {},
     "output_type": "display_data"
    },
    {
     "data": {
      "application/vnd.jupyter.widget-view+json": {
       "model_id": "e991470cf3b44000b72b78be53876d9b",
       "version_major": 2,
       "version_minor": 0
      },
      "text/plain": [
       "  0%|          | 0/29 [00:00<?, ?it/s]"
      ]
     },
     "metadata": {},
     "output_type": "display_data"
    },
    {
     "name": "stdout",
     "output_type": "stream",
     "text": [
      "Loss Not Decrease for 5 time\n",
      "Epoch:12/20.. Train Loss: 0.431.. Val Loss: 0.375.. Train mIoU:0.654.. Val mIoU: 0.707.. Train Acc:0.794.. Val Acc:0.833.. Time: 2.25m\n"
     ]
    },
    {
     "data": {
      "application/vnd.jupyter.widget-view+json": {
       "model_id": "f2d3afab68474a2487033a3b99c14293",
       "version_major": 2,
       "version_minor": 0
      },
      "text/plain": [
       "  0%|          | 0/161 [00:00<?, ?it/s]"
      ]
     },
     "metadata": {},
     "output_type": "display_data"
    },
    {
     "data": {
      "application/vnd.jupyter.widget-view+json": {
       "model_id": "db7f08b93f9c44d7a8e790601e6751dc",
       "version_major": 2,
       "version_minor": 0
      },
      "text/plain": [
       "  0%|          | 0/29 [00:00<?, ?it/s]"
      ]
     },
     "metadata": {},
     "output_type": "display_data"
    },
    {
     "name": "stdout",
     "output_type": "stream",
     "text": [
      "Loss Not Decrease for 6 time\n",
      "Epoch:13/20.. Train Loss: 0.437.. Val Loss: 0.385.. Train mIoU:0.646.. Val mIoU: 0.702.. Train Acc:0.790.. Val Acc:0.831.. Time: 2.22m\n"
     ]
    },
    {
     "data": {
      "application/vnd.jupyter.widget-view+json": {
       "model_id": "448247f968b54a61a41997e1a0cb0c5e",
       "version_major": 2,
       "version_minor": 0
      },
      "text/plain": [
       "  0%|          | 0/161 [00:00<?, ?it/s]"
      ]
     },
     "metadata": {},
     "output_type": "display_data"
    },
    {
     "data": {
      "application/vnd.jupyter.widget-view+json": {
       "model_id": "e0cc70f209484fbda4db54a443b8c6a6",
       "version_major": 2,
       "version_minor": 0
      },
      "text/plain": [
       "  0%|          | 0/29 [00:00<?, ?it/s]"
      ]
     },
     "metadata": {},
     "output_type": "display_data"
    },
    {
     "name": "stdout",
     "output_type": "stream",
     "text": [
      "Loss Decreasing.. 0.385 >> 0.377 \n",
      "Epoch:14/20.. Train Loss: 0.430.. Val Loss: 0.377.. Train mIoU:0.647.. Val mIoU: 0.688.. Train Acc:0.789.. Val Acc:0.832.. Time: 2.25m\n"
     ]
    },
    {
     "data": {
      "application/vnd.jupyter.widget-view+json": {
       "model_id": "c74fd3fae8b64a549dd6e676e29705ec",
       "version_major": 2,
       "version_minor": 0
      },
      "text/plain": [
       "  0%|          | 0/161 [00:00<?, ?it/s]"
      ]
     },
     "metadata": {},
     "output_type": "display_data"
    },
    {
     "data": {
      "application/vnd.jupyter.widget-view+json": {
       "model_id": "73dfdb670182452f971340f67947a49a",
       "version_major": 2,
       "version_minor": 0
      },
      "text/plain": [
       "  0%|          | 0/29 [00:00<?, ?it/s]"
      ]
     },
     "metadata": {},
     "output_type": "display_data"
    },
    {
     "name": "stdout",
     "output_type": "stream",
     "text": [
      "Loss Not Decrease for 7 time\n",
      "Loss not decrease for 7 times, Stop Training\n",
      "Total time: 33.61 m\n"
     ]
    }
   ],
   "source": [
    "max_lr = 1e-4\n",
    "epoch = 20\n",
    "weight_decay = 1e-4\n",
    "\n",
    "criterion = nn.CrossEntropyLoss()\n",
    "optimizer = torch.optim.AdamW(model.parameters(), lr=max_lr, weight_decay=weight_decay)\n",
    "sched = torch.optim.lr_scheduler.OneCycleLR(optimizer, max_lr, epochs=epoch,\n",
    "                                            steps_per_epoch=len(train_loader))\n",
    "\n",
    "history = fit(epoch, model, train_loader, val_loader, criterion, optimizer, sched)"
   ]
  },
  {
   "cell_type": "code",
   "execution_count": null,
   "metadata": {
    "id": "BchY4i7kFNgN"
   },
   "outputs": [],
   "source": [
    "torch.save(model, 'Unet-mobilenet2-batchsize4-Alaska_lr-4.pt')"
   ]
  },
  {
   "cell_type": "code",
   "execution_count": 24,
   "metadata": {},
   "outputs": [
    {
     "data": {
      "text/plain": [
       "Unet(\n",
       "  (encoder): MobileNetV2Encoder(\n",
       "    (features): Sequential(\n",
       "      (0): Conv2dNormActivation(\n",
       "        (0): Conv2d(3, 32, kernel_size=(3, 3), stride=(2, 2), padding=(1, 1), bias=False)\n",
       "        (1): BatchNorm2d(32, eps=1e-05, momentum=0.1, affine=True, track_running_stats=True)\n",
       "        (2): ReLU6(inplace=True)\n",
       "      )\n",
       "      (1): InvertedResidual(\n",
       "        (conv): Sequential(\n",
       "          (0): Conv2dNormActivation(\n",
       "            (0): Conv2d(32, 32, kernel_size=(3, 3), stride=(1, 1), padding=(1, 1), groups=32, bias=False)\n",
       "            (1): BatchNorm2d(32, eps=1e-05, momentum=0.1, affine=True, track_running_stats=True)\n",
       "            (2): ReLU6(inplace=True)\n",
       "          )\n",
       "          (1): Conv2d(32, 16, kernel_size=(1, 1), stride=(1, 1), bias=False)\n",
       "          (2): BatchNorm2d(16, eps=1e-05, momentum=0.1, affine=True, track_running_stats=True)\n",
       "        )\n",
       "      )\n",
       "      (2): InvertedResidual(\n",
       "        (conv): Sequential(\n",
       "          (0): Conv2dNormActivation(\n",
       "            (0): Conv2d(16, 96, kernel_size=(1, 1), stride=(1, 1), bias=False)\n",
       "            (1): BatchNorm2d(96, eps=1e-05, momentum=0.1, affine=True, track_running_stats=True)\n",
       "            (2): ReLU6(inplace=True)\n",
       "          )\n",
       "          (1): Conv2dNormActivation(\n",
       "            (0): Conv2d(96, 96, kernel_size=(3, 3), stride=(2, 2), padding=(1, 1), groups=96, bias=False)\n",
       "            (1): BatchNorm2d(96, eps=1e-05, momentum=0.1, affine=True, track_running_stats=True)\n",
       "            (2): ReLU6(inplace=True)\n",
       "          )\n",
       "          (2): Conv2d(96, 24, kernel_size=(1, 1), stride=(1, 1), bias=False)\n",
       "          (3): BatchNorm2d(24, eps=1e-05, momentum=0.1, affine=True, track_running_stats=True)\n",
       "        )\n",
       "      )\n",
       "      (3): InvertedResidual(\n",
       "        (conv): Sequential(\n",
       "          (0): Conv2dNormActivation(\n",
       "            (0): Conv2d(24, 144, kernel_size=(1, 1), stride=(1, 1), bias=False)\n",
       "            (1): BatchNorm2d(144, eps=1e-05, momentum=0.1, affine=True, track_running_stats=True)\n",
       "            (2): ReLU6(inplace=True)\n",
       "          )\n",
       "          (1): Conv2dNormActivation(\n",
       "            (0): Conv2d(144, 144, kernel_size=(3, 3), stride=(1, 1), padding=(1, 1), groups=144, bias=False)\n",
       "            (1): BatchNorm2d(144, eps=1e-05, momentum=0.1, affine=True, track_running_stats=True)\n",
       "            (2): ReLU6(inplace=True)\n",
       "          )\n",
       "          (2): Conv2d(144, 24, kernel_size=(1, 1), stride=(1, 1), bias=False)\n",
       "          (3): BatchNorm2d(24, eps=1e-05, momentum=0.1, affine=True, track_running_stats=True)\n",
       "        )\n",
       "      )\n",
       "      (4): InvertedResidual(\n",
       "        (conv): Sequential(\n",
       "          (0): Conv2dNormActivation(\n",
       "            (0): Conv2d(24, 144, kernel_size=(1, 1), stride=(1, 1), bias=False)\n",
       "            (1): BatchNorm2d(144, eps=1e-05, momentum=0.1, affine=True, track_running_stats=True)\n",
       "            (2): ReLU6(inplace=True)\n",
       "          )\n",
       "          (1): Conv2dNormActivation(\n",
       "            (0): Conv2d(144, 144, kernel_size=(3, 3), stride=(2, 2), padding=(1, 1), groups=144, bias=False)\n",
       "            (1): BatchNorm2d(144, eps=1e-05, momentum=0.1, affine=True, track_running_stats=True)\n",
       "            (2): ReLU6(inplace=True)\n",
       "          )\n",
       "          (2): Conv2d(144, 32, kernel_size=(1, 1), stride=(1, 1), bias=False)\n",
       "          (3): BatchNorm2d(32, eps=1e-05, momentum=0.1, affine=True, track_running_stats=True)\n",
       "        )\n",
       "      )\n",
       "      (5): InvertedResidual(\n",
       "        (conv): Sequential(\n",
       "          (0): Conv2dNormActivation(\n",
       "            (0): Conv2d(32, 192, kernel_size=(1, 1), stride=(1, 1), bias=False)\n",
       "            (1): BatchNorm2d(192, eps=1e-05, momentum=0.1, affine=True, track_running_stats=True)\n",
       "            (2): ReLU6(inplace=True)\n",
       "          )\n",
       "          (1): Conv2dNormActivation(\n",
       "            (0): Conv2d(192, 192, kernel_size=(3, 3), stride=(1, 1), padding=(1, 1), groups=192, bias=False)\n",
       "            (1): BatchNorm2d(192, eps=1e-05, momentum=0.1, affine=True, track_running_stats=True)\n",
       "            (2): ReLU6(inplace=True)\n",
       "          )\n",
       "          (2): Conv2d(192, 32, kernel_size=(1, 1), stride=(1, 1), bias=False)\n",
       "          (3): BatchNorm2d(32, eps=1e-05, momentum=0.1, affine=True, track_running_stats=True)\n",
       "        )\n",
       "      )\n",
       "      (6): InvertedResidual(\n",
       "        (conv): Sequential(\n",
       "          (0): Conv2dNormActivation(\n",
       "            (0): Conv2d(32, 192, kernel_size=(1, 1), stride=(1, 1), bias=False)\n",
       "            (1): BatchNorm2d(192, eps=1e-05, momentum=0.1, affine=True, track_running_stats=True)\n",
       "            (2): ReLU6(inplace=True)\n",
       "          )\n",
       "          (1): Conv2dNormActivation(\n",
       "            (0): Conv2d(192, 192, kernel_size=(3, 3), stride=(1, 1), padding=(1, 1), groups=192, bias=False)\n",
       "            (1): BatchNorm2d(192, eps=1e-05, momentum=0.1, affine=True, track_running_stats=True)\n",
       "            (2): ReLU6(inplace=True)\n",
       "          )\n",
       "          (2): Conv2d(192, 32, kernel_size=(1, 1), stride=(1, 1), bias=False)\n",
       "          (3): BatchNorm2d(32, eps=1e-05, momentum=0.1, affine=True, track_running_stats=True)\n",
       "        )\n",
       "      )\n",
       "      (7): InvertedResidual(\n",
       "        (conv): Sequential(\n",
       "          (0): Conv2dNormActivation(\n",
       "            (0): Conv2d(32, 192, kernel_size=(1, 1), stride=(1, 1), bias=False)\n",
       "            (1): BatchNorm2d(192, eps=1e-05, momentum=0.1, affine=True, track_running_stats=True)\n",
       "            (2): ReLU6(inplace=True)\n",
       "          )\n",
       "          (1): Conv2dNormActivation(\n",
       "            (0): Conv2d(192, 192, kernel_size=(3, 3), stride=(2, 2), padding=(1, 1), groups=192, bias=False)\n",
       "            (1): BatchNorm2d(192, eps=1e-05, momentum=0.1, affine=True, track_running_stats=True)\n",
       "            (2): ReLU6(inplace=True)\n",
       "          )\n",
       "          (2): Conv2d(192, 64, kernel_size=(1, 1), stride=(1, 1), bias=False)\n",
       "          (3): BatchNorm2d(64, eps=1e-05, momentum=0.1, affine=True, track_running_stats=True)\n",
       "        )\n",
       "      )\n",
       "      (8): InvertedResidual(\n",
       "        (conv): Sequential(\n",
       "          (0): Conv2dNormActivation(\n",
       "            (0): Conv2d(64, 384, kernel_size=(1, 1), stride=(1, 1), bias=False)\n",
       "            (1): BatchNorm2d(384, eps=1e-05, momentum=0.1, affine=True, track_running_stats=True)\n",
       "            (2): ReLU6(inplace=True)\n",
       "          )\n",
       "          (1): Conv2dNormActivation(\n",
       "            (0): Conv2d(384, 384, kernel_size=(3, 3), stride=(1, 1), padding=(1, 1), groups=384, bias=False)\n",
       "            (1): BatchNorm2d(384, eps=1e-05, momentum=0.1, affine=True, track_running_stats=True)\n",
       "            (2): ReLU6(inplace=True)\n",
       "          )\n",
       "          (2): Conv2d(384, 64, kernel_size=(1, 1), stride=(1, 1), bias=False)\n",
       "          (3): BatchNorm2d(64, eps=1e-05, momentum=0.1, affine=True, track_running_stats=True)\n",
       "        )\n",
       "      )\n",
       "      (9): InvertedResidual(\n",
       "        (conv): Sequential(\n",
       "          (0): Conv2dNormActivation(\n",
       "            (0): Conv2d(64, 384, kernel_size=(1, 1), stride=(1, 1), bias=False)\n",
       "            (1): BatchNorm2d(384, eps=1e-05, momentum=0.1, affine=True, track_running_stats=True)\n",
       "            (2): ReLU6(inplace=True)\n",
       "          )\n",
       "          (1): Conv2dNormActivation(\n",
       "            (0): Conv2d(384, 384, kernel_size=(3, 3), stride=(1, 1), padding=(1, 1), groups=384, bias=False)\n",
       "            (1): BatchNorm2d(384, eps=1e-05, momentum=0.1, affine=True, track_running_stats=True)\n",
       "            (2): ReLU6(inplace=True)\n",
       "          )\n",
       "          (2): Conv2d(384, 64, kernel_size=(1, 1), stride=(1, 1), bias=False)\n",
       "          (3): BatchNorm2d(64, eps=1e-05, momentum=0.1, affine=True, track_running_stats=True)\n",
       "        )\n",
       "      )\n",
       "      (10): InvertedResidual(\n",
       "        (conv): Sequential(\n",
       "          (0): Conv2dNormActivation(\n",
       "            (0): Conv2d(64, 384, kernel_size=(1, 1), stride=(1, 1), bias=False)\n",
       "            (1): BatchNorm2d(384, eps=1e-05, momentum=0.1, affine=True, track_running_stats=True)\n",
       "            (2): ReLU6(inplace=True)\n",
       "          )\n",
       "          (1): Conv2dNormActivation(\n",
       "            (0): Conv2d(384, 384, kernel_size=(3, 3), stride=(1, 1), padding=(1, 1), groups=384, bias=False)\n",
       "            (1): BatchNorm2d(384, eps=1e-05, momentum=0.1, affine=True, track_running_stats=True)\n",
       "            (2): ReLU6(inplace=True)\n",
       "          )\n",
       "          (2): Conv2d(384, 64, kernel_size=(1, 1), stride=(1, 1), bias=False)\n",
       "          (3): BatchNorm2d(64, eps=1e-05, momentum=0.1, affine=True, track_running_stats=True)\n",
       "        )\n",
       "      )\n",
       "      (11): InvertedResidual(\n",
       "        (conv): Sequential(\n",
       "          (0): Conv2dNormActivation(\n",
       "            (0): Conv2d(64, 384, kernel_size=(1, 1), stride=(1, 1), bias=False)\n",
       "            (1): BatchNorm2d(384, eps=1e-05, momentum=0.1, affine=True, track_running_stats=True)\n",
       "            (2): ReLU6(inplace=True)\n",
       "          )\n",
       "          (1): Conv2dNormActivation(\n",
       "            (0): Conv2d(384, 384, kernel_size=(3, 3), stride=(1, 1), padding=(1, 1), groups=384, bias=False)\n",
       "            (1): BatchNorm2d(384, eps=1e-05, momentum=0.1, affine=True, track_running_stats=True)\n",
       "            (2): ReLU6(inplace=True)\n",
       "          )\n",
       "          (2): Conv2d(384, 96, kernel_size=(1, 1), stride=(1, 1), bias=False)\n",
       "          (3): BatchNorm2d(96, eps=1e-05, momentum=0.1, affine=True, track_running_stats=True)\n",
       "        )\n",
       "      )\n",
       "      (12): InvertedResidual(\n",
       "        (conv): Sequential(\n",
       "          (0): Conv2dNormActivation(\n",
       "            (0): Conv2d(96, 576, kernel_size=(1, 1), stride=(1, 1), bias=False)\n",
       "            (1): BatchNorm2d(576, eps=1e-05, momentum=0.1, affine=True, track_running_stats=True)\n",
       "            (2): ReLU6(inplace=True)\n",
       "          )\n",
       "          (1): Conv2dNormActivation(\n",
       "            (0): Conv2d(576, 576, kernel_size=(3, 3), stride=(1, 1), padding=(1, 1), groups=576, bias=False)\n",
       "            (1): BatchNorm2d(576, eps=1e-05, momentum=0.1, affine=True, track_running_stats=True)\n",
       "            (2): ReLU6(inplace=True)\n",
       "          )\n",
       "          (2): Conv2d(576, 96, kernel_size=(1, 1), stride=(1, 1), bias=False)\n",
       "          (3): BatchNorm2d(96, eps=1e-05, momentum=0.1, affine=True, track_running_stats=True)\n",
       "        )\n",
       "      )\n",
       "      (13): InvertedResidual(\n",
       "        (conv): Sequential(\n",
       "          (0): Conv2dNormActivation(\n",
       "            (0): Conv2d(96, 576, kernel_size=(1, 1), stride=(1, 1), bias=False)\n",
       "            (1): BatchNorm2d(576, eps=1e-05, momentum=0.1, affine=True, track_running_stats=True)\n",
       "            (2): ReLU6(inplace=True)\n",
       "          )\n",
       "          (1): Conv2dNormActivation(\n",
       "            (0): Conv2d(576, 576, kernel_size=(3, 3), stride=(1, 1), padding=(1, 1), groups=576, bias=False)\n",
       "            (1): BatchNorm2d(576, eps=1e-05, momentum=0.1, affine=True, track_running_stats=True)\n",
       "            (2): ReLU6(inplace=True)\n",
       "          )\n",
       "          (2): Conv2d(576, 96, kernel_size=(1, 1), stride=(1, 1), bias=False)\n",
       "          (3): BatchNorm2d(96, eps=1e-05, momentum=0.1, affine=True, track_running_stats=True)\n",
       "        )\n",
       "      )\n",
       "      (14): InvertedResidual(\n",
       "        (conv): Sequential(\n",
       "          (0): Conv2dNormActivation(\n",
       "            (0): Conv2d(96, 576, kernel_size=(1, 1), stride=(1, 1), bias=False)\n",
       "            (1): BatchNorm2d(576, eps=1e-05, momentum=0.1, affine=True, track_running_stats=True)\n",
       "            (2): ReLU6(inplace=True)\n",
       "          )\n",
       "          (1): Conv2dNormActivation(\n",
       "            (0): Conv2d(576, 576, kernel_size=(3, 3), stride=(2, 2), padding=(1, 1), groups=576, bias=False)\n",
       "            (1): BatchNorm2d(576, eps=1e-05, momentum=0.1, affine=True, track_running_stats=True)\n",
       "            (2): ReLU6(inplace=True)\n",
       "          )\n",
       "          (2): Conv2d(576, 160, kernel_size=(1, 1), stride=(1, 1), bias=False)\n",
       "          (3): BatchNorm2d(160, eps=1e-05, momentum=0.1, affine=True, track_running_stats=True)\n",
       "        )\n",
       "      )\n",
       "      (15): InvertedResidual(\n",
       "        (conv): Sequential(\n",
       "          (0): Conv2dNormActivation(\n",
       "            (0): Conv2d(160, 960, kernel_size=(1, 1), stride=(1, 1), bias=False)\n",
       "            (1): BatchNorm2d(960, eps=1e-05, momentum=0.1, affine=True, track_running_stats=True)\n",
       "            (2): ReLU6(inplace=True)\n",
       "          )\n",
       "          (1): Conv2dNormActivation(\n",
       "            (0): Conv2d(960, 960, kernel_size=(3, 3), stride=(1, 1), padding=(1, 1), groups=960, bias=False)\n",
       "            (1): BatchNorm2d(960, eps=1e-05, momentum=0.1, affine=True, track_running_stats=True)\n",
       "            (2): ReLU6(inplace=True)\n",
       "          )\n",
       "          (2): Conv2d(960, 160, kernel_size=(1, 1), stride=(1, 1), bias=False)\n",
       "          (3): BatchNorm2d(160, eps=1e-05, momentum=0.1, affine=True, track_running_stats=True)\n",
       "        )\n",
       "      )\n",
       "      (16): InvertedResidual(\n",
       "        (conv): Sequential(\n",
       "          (0): Conv2dNormActivation(\n",
       "            (0): Conv2d(160, 960, kernel_size=(1, 1), stride=(1, 1), bias=False)\n",
       "            (1): BatchNorm2d(960, eps=1e-05, momentum=0.1, affine=True, track_running_stats=True)\n",
       "            (2): ReLU6(inplace=True)\n",
       "          )\n",
       "          (1): Conv2dNormActivation(\n",
       "            (0): Conv2d(960, 960, kernel_size=(3, 3), stride=(1, 1), padding=(1, 1), groups=960, bias=False)\n",
       "            (1): BatchNorm2d(960, eps=1e-05, momentum=0.1, affine=True, track_running_stats=True)\n",
       "            (2): ReLU6(inplace=True)\n",
       "          )\n",
       "          (2): Conv2d(960, 160, kernel_size=(1, 1), stride=(1, 1), bias=False)\n",
       "          (3): BatchNorm2d(160, eps=1e-05, momentum=0.1, affine=True, track_running_stats=True)\n",
       "        )\n",
       "      )\n",
       "      (17): InvertedResidual(\n",
       "        (conv): Sequential(\n",
       "          (0): Conv2dNormActivation(\n",
       "            (0): Conv2d(160, 960, kernel_size=(1, 1), stride=(1, 1), bias=False)\n",
       "            (1): BatchNorm2d(960, eps=1e-05, momentum=0.1, affine=True, track_running_stats=True)\n",
       "            (2): ReLU6(inplace=True)\n",
       "          )\n",
       "          (1): Conv2dNormActivation(\n",
       "            (0): Conv2d(960, 960, kernel_size=(3, 3), stride=(1, 1), padding=(1, 1), groups=960, bias=False)\n",
       "            (1): BatchNorm2d(960, eps=1e-05, momentum=0.1, affine=True, track_running_stats=True)\n",
       "            (2): ReLU6(inplace=True)\n",
       "          )\n",
       "          (2): Conv2d(960, 320, kernel_size=(1, 1), stride=(1, 1), bias=False)\n",
       "          (3): BatchNorm2d(320, eps=1e-05, momentum=0.1, affine=True, track_running_stats=True)\n",
       "        )\n",
       "      )\n",
       "      (18): Conv2dNormActivation(\n",
       "        (0): Conv2d(320, 1280, kernel_size=(1, 1), stride=(1, 1), bias=False)\n",
       "        (1): BatchNorm2d(1280, eps=1e-05, momentum=0.1, affine=True, track_running_stats=True)\n",
       "        (2): ReLU6(inplace=True)\n",
       "      )\n",
       "    )\n",
       "  )\n",
       "  (decoder): UnetDecoder(\n",
       "    (center): Identity()\n",
       "    (blocks): ModuleList(\n",
       "      (0): DecoderBlock(\n",
       "        (conv1): Conv2dReLU(\n",
       "          (0): Conv2d(1376, 256, kernel_size=(3, 3), stride=(1, 1), padding=(1, 1), bias=False)\n",
       "          (1): BatchNorm2d(256, eps=1e-05, momentum=0.1, affine=True, track_running_stats=True)\n",
       "          (2): ReLU(inplace=True)\n",
       "        )\n",
       "        (attention1): Attention(\n",
       "          (attention): Identity()\n",
       "        )\n",
       "        (conv2): Conv2dReLU(\n",
       "          (0): Conv2d(256, 256, kernel_size=(3, 3), stride=(1, 1), padding=(1, 1), bias=False)\n",
       "          (1): BatchNorm2d(256, eps=1e-05, momentum=0.1, affine=True, track_running_stats=True)\n",
       "          (2): ReLU(inplace=True)\n",
       "        )\n",
       "        (attention2): Attention(\n",
       "          (attention): Identity()\n",
       "        )\n",
       "      )\n",
       "      (1): DecoderBlock(\n",
       "        (conv1): Conv2dReLU(\n",
       "          (0): Conv2d(288, 128, kernel_size=(3, 3), stride=(1, 1), padding=(1, 1), bias=False)\n",
       "          (1): BatchNorm2d(128, eps=1e-05, momentum=0.1, affine=True, track_running_stats=True)\n",
       "          (2): ReLU(inplace=True)\n",
       "        )\n",
       "        (attention1): Attention(\n",
       "          (attention): Identity()\n",
       "        )\n",
       "        (conv2): Conv2dReLU(\n",
       "          (0): Conv2d(128, 128, kernel_size=(3, 3), stride=(1, 1), padding=(1, 1), bias=False)\n",
       "          (1): BatchNorm2d(128, eps=1e-05, momentum=0.1, affine=True, track_running_stats=True)\n",
       "          (2): ReLU(inplace=True)\n",
       "        )\n",
       "        (attention2): Attention(\n",
       "          (attention): Identity()\n",
       "        )\n",
       "      )\n",
       "      (2): DecoderBlock(\n",
       "        (conv1): Conv2dReLU(\n",
       "          (0): Conv2d(152, 64, kernel_size=(3, 3), stride=(1, 1), padding=(1, 1), bias=False)\n",
       "          (1): BatchNorm2d(64, eps=1e-05, momentum=0.1, affine=True, track_running_stats=True)\n",
       "          (2): ReLU(inplace=True)\n",
       "        )\n",
       "        (attention1): Attention(\n",
       "          (attention): Identity()\n",
       "        )\n",
       "        (conv2): Conv2dReLU(\n",
       "          (0): Conv2d(64, 64, kernel_size=(3, 3), stride=(1, 1), padding=(1, 1), bias=False)\n",
       "          (1): BatchNorm2d(64, eps=1e-05, momentum=0.1, affine=True, track_running_stats=True)\n",
       "          (2): ReLU(inplace=True)\n",
       "        )\n",
       "        (attention2): Attention(\n",
       "          (attention): Identity()\n",
       "        )\n",
       "      )\n",
       "      (3): DecoderBlock(\n",
       "        (conv1): Conv2dReLU(\n",
       "          (0): Conv2d(80, 32, kernel_size=(3, 3), stride=(1, 1), padding=(1, 1), bias=False)\n",
       "          (1): BatchNorm2d(32, eps=1e-05, momentum=0.1, affine=True, track_running_stats=True)\n",
       "          (2): ReLU(inplace=True)\n",
       "        )\n",
       "        (attention1): Attention(\n",
       "          (attention): Identity()\n",
       "        )\n",
       "        (conv2): Conv2dReLU(\n",
       "          (0): Conv2d(32, 32, kernel_size=(3, 3), stride=(1, 1), padding=(1, 1), bias=False)\n",
       "          (1): BatchNorm2d(32, eps=1e-05, momentum=0.1, affine=True, track_running_stats=True)\n",
       "          (2): ReLU(inplace=True)\n",
       "        )\n",
       "        (attention2): Attention(\n",
       "          (attention): Identity()\n",
       "        )\n",
       "      )\n",
       "      (4): DecoderBlock(\n",
       "        (conv1): Conv2dReLU(\n",
       "          (0): Conv2d(32, 16, kernel_size=(3, 3), stride=(1, 1), padding=(1, 1), bias=False)\n",
       "          (1): BatchNorm2d(16, eps=1e-05, momentum=0.1, affine=True, track_running_stats=True)\n",
       "          (2): ReLU(inplace=True)\n",
       "        )\n",
       "        (attention1): Attention(\n",
       "          (attention): Identity()\n",
       "        )\n",
       "        (conv2): Conv2dReLU(\n",
       "          (0): Conv2d(16, 16, kernel_size=(3, 3), stride=(1, 1), padding=(1, 1), bias=False)\n",
       "          (1): BatchNorm2d(16, eps=1e-05, momentum=0.1, affine=True, track_running_stats=True)\n",
       "          (2): ReLU(inplace=True)\n",
       "        )\n",
       "        (attention2): Attention(\n",
       "          (attention): Identity()\n",
       "        )\n",
       "      )\n",
       "    )\n",
       "  )\n",
       "  (segmentation_head): SegmentationHead(\n",
       "    (0): Conv2d(16, 2, kernel_size=(3, 3), stride=(1, 1), padding=(1, 1))\n",
       "    (1): Identity()\n",
       "    (2): Activation(\n",
       "      (activation): Identity()\n",
       "    )\n",
       "  )\n",
       ")"
      ]
     },
     "execution_count": 24,
     "metadata": {},
     "output_type": "execute_result"
    }
   ],
   "source": [
    "model_path = r'D:\\ML_Seagrass\\models\\checkpoints\\Unet-mobilenet2-batchsize8-WA_NON_ZERO_lr-4.pt'\n",
    "\n",
    "device = torch.device('cuda' if torch.cuda.is_available() else 'cpu')\n",
    "model = torch.load(model_path)\n",
    "model.to(device)\n",
    "\n",
    "\n"
   ]
  },
  {
   "cell_type": "code",
   "execution_count": 25,
   "metadata": {
    "id": "I0tS5lEOFR-o"
   },
   "outputs": [],
   "source": [
    "def plot_loss(history):\n",
    "    plt.plot(history['val_loss'], label='val', marker='o')\n",
    "    plt.plot( history['train_loss'], label='train', marker='o')\n",
    "    plt.title('Loss per epoch'); plt.ylabel('loss')\n",
    "    plt.xlabel('epoch')\n",
    "    plt.legend(), plt.grid()\n",
    "    plt.show()\n",
    "\n",
    "def plot_score(history):\n",
    "    plt.plot(history['train_miou'], label='train_mIoU', marker='*')\n",
    "    plt.plot(history['val_miou'], label='val_mIoU',  marker='*')\n",
    "    plt.title('Score per epoch'); plt.ylabel('mean IoU')\n",
    "    plt.xlabel('epoch')\n",
    "    plt.legend(), plt.grid()\n",
    "    plt.show()\n",
    "\n",
    "def plot_acc(history):\n",
    "    plt.plot(history['train_acc'], label='train_accuracy', marker='*')\n",
    "    plt.plot(history['val_acc'], label='val_accuracy',  marker='*')\n",
    "    plt.title('Accuracy per epoch'); plt.ylabel('Accuracy')\n",
    "    plt.xlabel('epoch')\n",
    "    plt.legend(), plt.grid()\n",
    "    plt.show()"
   ]
  },
  {
   "cell_type": "code",
   "execution_count": 26,
   "metadata": {
    "colab": {
     "base_uri": "https://localhost:8080/",
     "height": 1000
    },
    "id": "_trDOO9hFV8p",
    "outputId": "f8342968-3714-48f5-e510-976db45d5ee3"
   },
   "outputs": [
    {
     "ename": "NameError",
     "evalue": "name 'history' is not defined",
     "output_type": "error",
     "traceback": [
      "\u001b[1;31m---------------------------------------------------------------------------\u001b[0m",
      "\u001b[1;31mNameError\u001b[0m                                 Traceback (most recent call last)",
      "Cell \u001b[1;32mIn[26], line 1\u001b[0m\n\u001b[1;32m----> 1\u001b[0m plot_loss(\u001b[43mhistory\u001b[49m)\n\u001b[0;32m      2\u001b[0m plot_score(history)\n\u001b[0;32m      3\u001b[0m plot_acc(history)\n",
      "\u001b[1;31mNameError\u001b[0m: name 'history' is not defined"
     ]
    }
   ],
   "source": [
    "plot_loss(history)\n",
    "plot_score(history)\n",
    "plot_acc(history)"
   ]
  },
  {
   "cell_type": "code",
   "execution_count": null,
   "metadata": {},
   "outputs": [],
   "source": [
    "import torchvision.transforms as transforms\n",
    "\n",
    "def to_tensor(image):\n",
    "    return transforms.ToTensor()(image)"
   ]
  },
  {
   "cell_type": "code",
   "execution_count": 28,
   "metadata": {
    "id": "s7vAnGWxIcvF"
   },
   "outputs": [],
   "source": [
    "class DroneTestDataset(Dataset):\n",
    "    def __init__(self, img_path, mask_path, X, transform=None):\n",
    "        self.img_path = Path(img_path)\n",
    "        self.mask_path = Path(mask_path)\n",
    "        self.X = X\n",
    "        self.transform = transform\n",
    "\n",
    "    def __len__(self):\n",
    "        return len(self.X)\n",
    "\n",
    "    def __getitem__(self, idx):\n",
    "        # Create image and mask paths using pathlib\n",
    "        img_file_name = f'{self.X[idx]}.png'\n",
    "        img_path = self.img_path / img_file_name\n",
    "        mask_path = self.mask_path / img_file_name\n",
    "        \n",
    "        # Read and convert the image to RGB using OpenCV\n",
    "        img = cv2.imread(str(img_path))\n",
    "        img = cv2.cvtColor(img, cv2.COLOR_BGR2RGB)\n",
    "        \n",
    "        # Read the mask in grayscale directly using OpenCV\n",
    "        mask = cv2.imread(str(mask_path), cv2.IMREAD_GRAYSCALE)\n",
    "\n",
    "        if self.transform is not None:\n",
    "            # Convert image and mask to NumPy arrays for transformation\n",
    "            transformed = self.transform(image=img, mask=mask)\n",
    "            img = transformed['image']\n",
    "            mask = transformed['mask']\n",
    "        \n",
    "        # Convert the image to PIL Image (consistent with DroneTestDataset1)\n",
    "        img = Image.fromarray(img)\n",
    "\n",
    "        # Convert mask to a PyTorch tensor\n",
    "        mask = torch.from_numpy(mask).long()\n",
    "\n",
    "        # Return the image, mask, and file name\n",
    "        return img, mask, img_file_name\n",
    "\n",
    "t_test = A.Resize(768, 1152, interpolation=cv2.INTER_NEAREST)\n",
    "test_set = DroneTestDataset(test_image_folder, test_mask_folder, X_test, transform=t_test)"
   ]
  },
  {
   "cell_type": "code",
   "execution_count": 76,
   "metadata": {},
   "outputs": [],
   "source": [
    "import torch\n",
    "import torchvision.transforms as T\n",
    "import matplotlib.pyplot as plt\n",
    "import cv2\n",
    "import numpy as np\n",
    "\n",
    "\n",
    "# Updated function to perform inference and save the predicted mask with resizing\n",
    "def predict_image_mask_miou(model, image, mask, save_file, mean=[0.485, 0.456, 0.406], std=[0.229, 0.224, 0.225]):\n",
    "    model.eval()  # Set the model to evaluation mode\n",
    "    \n",
    "    # Store original image dimensions before transforming\n",
    "    original_height, original_width = 512, 512  # PIL Image size: (width, height)\n",
    "    \n",
    "    # Apply transformation to the image (e.g., normalization)\n",
    "    t = T.Compose([T.ToTensor(), T.Normalize(mean, std)])\n",
    "    image_tensor = t(image)  # Keep 'image' unchanged for later use\n",
    "    \n",
    "    # Move image and mask to the appropriate device\n",
    "    image_tensor = image_tensor.to(device)\n",
    "    mask = mask.to(device)\n",
    "    \n",
    "    with torch.no_grad():  # Disable gradient calculation for inference\n",
    "        image_tensor = image_tensor.unsqueeze(0)  # Add batch dimension for the model\n",
    "        mask = mask.unsqueeze(0)    # Add batch dimension\n",
    "\n",
    "        output = model(image_tensor)  # Run model inference\n",
    "        score = mIoU(output, mask)  # Compute mIoU score\n",
    "        \n",
    "        # Get the predicted mask by taking the argmax of the model's output\n",
    "        pred_mask = torch.argmax(output, dim=1)\n",
    "        pred_mask = pred_mask.cpu().squeeze(0)  # Move to CPU and remove batch dimension\n",
    "\n",
    "    # Resize the predicted mask to match the original image size\n",
    "    pred_mask_resized = cv2.resize(pred_mask.numpy(), (original_width, original_height), interpolation=cv2.INTER_NEAREST)\n",
    "    \n",
    "    # Save the resized predicted mask as a grayscale image\n",
    "    plt.imsave(save_file, pred_mask_resized, cmap='gray')  # Save mask as a grayscale image\n",
    "    \n",
    "    return pred_mask_resized, score\n",
    "\n",
    "\n",
    "import cv2\n",
    "import numpy as np\n",
    "import matplotlib.pyplot as plt\n",
    "from PIL import Image\n",
    "\n",
    "import cv2\n",
    "import numpy as np\n",
    "import matplotlib.pyplot as plt\n",
    "from PIL import Image\n",
    "\n",
    "def save_predicted_mask_overlay(pred_mask, img_file_name, image_folder, save_file, alpha=0.5):\n",
    "    \"\"\"\n",
    "    Overlays the predicted mask on the original image read from a specified folder, and saves the result.\n",
    "    \n",
    "    Parameters:\n",
    "    - pred_mask: The predicted mask (PyTorch tensor or NumPy array with values 0 and 1).\n",
    "    - img_file_name: The name of the image file (e.g., 'image_001.png').\n",
    "    - image_folder: The path to the folder where the original image is located.\n",
    "    - save_file: The path to save the overlaid image.\n",
    "    - alpha: The transparency factor for the overlay (default is 0.3 for higher transparency).\n",
    "    \"\"\"\n",
    "    # Build the full image path\n",
    "    img_path = os.path.join(image_folder, img_file_name)\n",
    "\n",
    "    # Read the original image from the specified folder\n",
    "    original_image = Image.open(img_path).convert('RGB')  # Use PIL to read the image\n",
    "    original_image = np.array(original_image)  # Convert to NumPy array\n",
    "\n",
    "    # Convert the predicted mask to a NumPy array if it's a PyTorch tensor\n",
    "    if isinstance(pred_mask, torch.Tensor):\n",
    "        pred_mask = pred_mask.cpu().numpy()\n",
    "\n",
    "    # Ensure the predicted mask has 2D shape (height, width)\n",
    "    if pred_mask.ndim != 2:\n",
    "        raise ValueError(f\"Expected 2D mask, but got shape {pred_mask.shape}\")\n",
    "\n",
    "    # Resize the predicted mask to match the original image size (assuming original image size is 512x512)\n",
    "    original_height, original_width = original_image.shape[:2]\n",
    "    pred_mask_resized = cv2.resize(pred_mask, (original_width, original_height), interpolation=cv2.INTER_NEAREST)\n",
    "\n",
    "    # Ensure the image is in the correct format (height, width, 3)\n",
    "    if original_image.ndim != 3 or original_image.shape[2] != 3:\n",
    "        raise ValueError(f\"Expected 3D RGB image, but got shape {original_image.shape}\")\n",
    "\n",
    "    # Create a copy of the original image to modify\n",
    "    overlay = original_image.copy()\n",
    "\n",
    "    # Broadcast the mask across the 3 RGB channels (set the mask area to light blue)\n",
    "    light_blue_color = [78,156,217]  # Light blue RGB\n",
    "    light_blue_mask = np.zeros_like(overlay)\n",
    "    light_blue_mask[pred_mask_resized == 1] = light_blue_color  # Light blue for class 1 (object)\n",
    "\n",
    "    # Blend the original image and the light blue mask, keeping the original image intensity intact\n",
    "    blended_image = cv2.addWeighted(light_blue_mask, alpha, original_image, 1, 0)\n",
    "\n",
    "    # Save the blended image\n",
    "    plt.imsave(save_file, blended_image)\n",
    "    print(f\"Saved overlay image: {save_file}\")\n"
   ]
  },
  {
   "cell_type": "code",
   "execution_count": 77,
   "metadata": {},
   "outputs": [
    {
     "name": "stderr",
     "output_type": "stream",
     "text": [
      "  1%|          | 1/172 [00:00<01:21,  2.11it/s]"
     ]
    },
    {
     "name": "stdout",
     "output_type": "stream",
     "text": [
      "Saved overlay image: D:\\ML_Seagrass\\SourceData\\Washington\\Washington\\test\\overlay\\BH_WA_19_row4_col12.png\n",
      "Saved predicted mask for BH_WA_19_row4_col12.png with mIoU score: 0.628\n"
     ]
    },
    {
     "name": "stderr",
     "output_type": "stream",
     "text": [
      "  1%|          | 2/172 [00:00<01:04,  2.62it/s]"
     ]
    },
    {
     "name": "stdout",
     "output_type": "stream",
     "text": [
      "Saved overlay image: D:\\ML_Seagrass\\SourceData\\Washington\\Washington\\test\\overlay\\BH_WA_19_row6_col11.png\n",
      "Saved predicted mask for BH_WA_19_row6_col11.png with mIoU score: 0.565\n"
     ]
    },
    {
     "name": "stderr",
     "output_type": "stream",
     "text": [
      "  2%|▏         | 3/172 [00:01<00:59,  2.83it/s]"
     ]
    },
    {
     "name": "stdout",
     "output_type": "stream",
     "text": [
      "Saved overlay image: D:\\ML_Seagrass\\SourceData\\Washington\\Washington\\test\\overlay\\BH_WA_20_row12_col10.png\n",
      "Saved predicted mask for BH_WA_20_row12_col10.png with mIoU score: 0.969\n"
     ]
    },
    {
     "name": "stderr",
     "output_type": "stream",
     "text": [
      "  2%|▏         | 4/172 [00:01<00:57,  2.92it/s]"
     ]
    },
    {
     "name": "stdout",
     "output_type": "stream",
     "text": [
      "Saved overlay image: D:\\ML_Seagrass\\SourceData\\Washington\\Washington\\test\\overlay\\BH_WA_20_row12_col6.png\n",
      "Saved predicted mask for BH_WA_20_row12_col6.png with mIoU score: 0.027\n"
     ]
    },
    {
     "name": "stderr",
     "output_type": "stream",
     "text": [
      "  3%|▎         | 5/172 [00:01<01:01,  2.70it/s]"
     ]
    },
    {
     "name": "stdout",
     "output_type": "stream",
     "text": [
      "Saved overlay image: D:\\ML_Seagrass\\SourceData\\Washington\\Washington\\test\\overlay\\BH_WA_20_row2_col17.png\n",
      "Saved predicted mask for BH_WA_20_row2_col17.png with mIoU score: 0.932\n"
     ]
    },
    {
     "name": "stderr",
     "output_type": "stream",
     "text": [
      "  3%|▎         | 6/172 [00:02<01:13,  2.26it/s]"
     ]
    },
    {
     "name": "stdout",
     "output_type": "stream",
     "text": [
      "Saved overlay image: D:\\ML_Seagrass\\SourceData\\Washington\\Washington\\test\\overlay\\BH_WA_20_row3_col16.png\n",
      "Saved predicted mask for BH_WA_20_row3_col16.png with mIoU score: 0.944\n"
     ]
    },
    {
     "name": "stderr",
     "output_type": "stream",
     "text": [
      "  4%|▍         | 7/172 [00:02<01:09,  2.39it/s]"
     ]
    },
    {
     "name": "stdout",
     "output_type": "stream",
     "text": [
      "Saved overlay image: D:\\ML_Seagrass\\SourceData\\Washington\\Washington\\test\\overlay\\BH_WA_20_row8_col10.png\n",
      "Saved predicted mask for BH_WA_20_row8_col10.png with mIoU score: 0.744\n"
     ]
    },
    {
     "name": "stderr",
     "output_type": "stream",
     "text": [
      "  5%|▍         | 8/172 [00:03<01:06,  2.47it/s]"
     ]
    },
    {
     "name": "stdout",
     "output_type": "stream",
     "text": [
      "Saved overlay image: D:\\ML_Seagrass\\SourceData\\Washington\\Washington\\test\\overlay\\BH_WA_20_row9_col14.png\n",
      "Saved predicted mask for BH_WA_20_row9_col14.png with mIoU score: 0.880\n"
     ]
    },
    {
     "name": "stderr",
     "output_type": "stream",
     "text": [
      "  5%|▌         | 9/172 [00:03<01:05,  2.47it/s]"
     ]
    },
    {
     "name": "stdout",
     "output_type": "stream",
     "text": [
      "Saved overlay image: D:\\ML_Seagrass\\SourceData\\Washington\\Washington\\test\\overlay\\BH_WA_20_row9_col8.png\n",
      "Saved predicted mask for BH_WA_20_row9_col8.png with mIoU score: 0.589\n"
     ]
    },
    {
     "name": "stderr",
     "output_type": "stream",
     "text": [
      "  6%|▌         | 10/172 [00:03<01:03,  2.55it/s]"
     ]
    },
    {
     "name": "stdout",
     "output_type": "stream",
     "text": [
      "Saved overlay image: D:\\ML_Seagrass\\SourceData\\Washington\\Washington\\test\\overlay\\BH_WA_21_row12_col8.png\n",
      "Saved predicted mask for BH_WA_21_row12_col8.png with mIoU score: 0.917\n"
     ]
    },
    {
     "name": "stderr",
     "output_type": "stream",
     "text": [
      "  6%|▋         | 11/172 [00:04<01:01,  2.60it/s]"
     ]
    },
    {
     "name": "stdout",
     "output_type": "stream",
     "text": [
      "Saved overlay image: D:\\ML_Seagrass\\SourceData\\Washington\\Washington\\test\\overlay\\BH_WA_21_row3_col15.png\n",
      "Saved predicted mask for BH_WA_21_row3_col15.png with mIoU score: 0.651\n"
     ]
    },
    {
     "name": "stderr",
     "output_type": "stream",
     "text": [
      "  7%|▋         | 12/172 [00:04<01:00,  2.66it/s]"
     ]
    },
    {
     "name": "stdout",
     "output_type": "stream",
     "text": [
      "Saved overlay image: D:\\ML_Seagrass\\SourceData\\Washington\\Washington\\test\\overlay\\BH_WA_21_row4_col13.png\n",
      "Saved predicted mask for BH_WA_21_row4_col13.png with mIoU score: 0.936\n"
     ]
    },
    {
     "name": "stderr",
     "output_type": "stream",
     "text": [
      "  8%|▊         | 13/172 [00:05<00:59,  2.65it/s]"
     ]
    },
    {
     "name": "stdout",
     "output_type": "stream",
     "text": [
      "Saved overlay image: D:\\ML_Seagrass\\SourceData\\Washington\\Washington\\test\\overlay\\BH_WA_21_row5_col14.png\n",
      "Saved predicted mask for BH_WA_21_row5_col14.png with mIoU score: 0.143\n"
     ]
    },
    {
     "name": "stderr",
     "output_type": "stream",
     "text": [
      "  8%|▊         | 14/172 [00:05<00:58,  2.69it/s]"
     ]
    },
    {
     "name": "stdout",
     "output_type": "stream",
     "text": [
      "Saved overlay image: D:\\ML_Seagrass\\SourceData\\Washington\\Washington\\test\\overlay\\BH_WA_21_row6_col12.png\n",
      "Saved predicted mask for BH_WA_21_row6_col12.png with mIoU score: 0.534\n"
     ]
    },
    {
     "name": "stderr",
     "output_type": "stream",
     "text": [
      "  9%|▊         | 15/172 [00:05<00:57,  2.71it/s]"
     ]
    },
    {
     "name": "stdout",
     "output_type": "stream",
     "text": [
      "Saved overlay image: D:\\ML_Seagrass\\SourceData\\Washington\\Washington\\test\\overlay\\BH_WA_21_row8_col8.png\n",
      "Saved predicted mask for BH_WA_21_row8_col8.png with mIoU score: 0.816\n"
     ]
    },
    {
     "name": "stderr",
     "output_type": "stream",
     "text": [
      "  9%|▉         | 16/172 [00:06<00:57,  2.71it/s]"
     ]
    },
    {
     "name": "stdout",
     "output_type": "stream",
     "text": [
      "Saved overlay image: D:\\ML_Seagrass\\SourceData\\Washington\\Washington\\test\\overlay\\BH_WA_21_row9_col12.png\n",
      "Saved predicted mask for BH_WA_21_row9_col12.png with mIoU score: 0.890\n"
     ]
    },
    {
     "name": "stderr",
     "output_type": "stream",
     "text": [
      " 10%|▉         | 17/172 [00:06<01:01,  2.53it/s]"
     ]
    },
    {
     "name": "stdout",
     "output_type": "stream",
     "text": [
      "Saved overlay image: D:\\ML_Seagrass\\SourceData\\Washington\\Washington\\test\\overlay\\BH_WA_22_row12_col8.png\n",
      "Saved predicted mask for BH_WA_22_row12_col8.png with mIoU score: 0.288\n"
     ]
    },
    {
     "name": "stderr",
     "output_type": "stream",
     "text": [
      " 10%|█         | 18/172 [00:06<00:59,  2.60it/s]"
     ]
    },
    {
     "name": "stdout",
     "output_type": "stream",
     "text": [
      "Saved overlay image: D:\\ML_Seagrass\\SourceData\\Washington\\Washington\\test\\overlay\\BH_WA_22_row6_col17.png\n",
      "Saved predicted mask for BH_WA_22_row6_col17.png with mIoU score: 0.062\n"
     ]
    },
    {
     "name": "stderr",
     "output_type": "stream",
     "text": [
      " 11%|█         | 19/172 [00:07<00:54,  2.81it/s]"
     ]
    },
    {
     "name": "stdout",
     "output_type": "stream",
     "text": [
      "Saved overlay image: D:\\ML_Seagrass\\SourceData\\Washington\\Washington\\test\\overlay\\BH_WA_22_row7_col13.png\n",
      "Saved predicted mask for BH_WA_22_row7_col13.png with mIoU score: 0.854\n"
     ]
    },
    {
     "name": "stderr",
     "output_type": "stream",
     "text": [
      " 12%|█▏        | 20/172 [00:07<00:52,  2.87it/s]"
     ]
    },
    {
     "name": "stdout",
     "output_type": "stream",
     "text": [
      "Saved overlay image: D:\\ML_Seagrass\\SourceData\\Washington\\Washington\\test\\overlay\\BH_WA_22_row7_col15.png\n",
      "Saved predicted mask for BH_WA_22_row7_col15.png with mIoU score: 0.496\n"
     ]
    },
    {
     "name": "stderr",
     "output_type": "stream",
     "text": [
      " 12%|█▏        | 21/172 [00:07<00:54,  2.78it/s]"
     ]
    },
    {
     "name": "stdout",
     "output_type": "stream",
     "text": [
      "Saved overlay image: D:\\ML_Seagrass\\SourceData\\Washington\\Washington\\test\\overlay\\BH_WA_22_row8_col13.png\n",
      "Saved predicted mask for BH_WA_22_row8_col13.png with mIoU score: 0.371\n"
     ]
    },
    {
     "name": "stderr",
     "output_type": "stream",
     "text": [
      " 13%|█▎        | 22/172 [00:08<00:47,  3.14it/s]"
     ]
    },
    {
     "name": "stdout",
     "output_type": "stream",
     "text": [
      "Saved overlay image: D:\\ML_Seagrass\\SourceData\\Washington\\Washington\\test\\overlay\\BH_WA_22_row9_col9.png\n",
      "Saved predicted mask for BH_WA_22_row9_col9.png with mIoU score: 0.862\n"
     ]
    },
    {
     "name": "stderr",
     "output_type": "stream",
     "text": [
      " 13%|█▎        | 23/172 [00:08<00:48,  3.06it/s]"
     ]
    },
    {
     "name": "stdout",
     "output_type": "stream",
     "text": [
      "Saved overlay image: D:\\ML_Seagrass\\SourceData\\Washington\\Washington\\test\\overlay\\FB_WA_19_row10_col11.png\n",
      "Saved predicted mask for FB_WA_19_row10_col11.png with mIoU score: 0.154\n"
     ]
    },
    {
     "name": "stderr",
     "output_type": "stream",
     "text": [
      " 14%|█▍        | 24/172 [00:08<00:50,  2.93it/s]"
     ]
    },
    {
     "name": "stdout",
     "output_type": "stream",
     "text": [
      "Saved overlay image: D:\\ML_Seagrass\\SourceData\\Washington\\Washington\\test\\overlay\\FB_WA_19_row10_col8.png\n",
      "Saved predicted mask for FB_WA_19_row10_col8.png with mIoU score: 0.279\n"
     ]
    },
    {
     "name": "stderr",
     "output_type": "stream",
     "text": [
      " 15%|█▍        | 25/172 [00:09<00:50,  2.91it/s]"
     ]
    },
    {
     "name": "stdout",
     "output_type": "stream",
     "text": [
      "Saved overlay image: D:\\ML_Seagrass\\SourceData\\Washington\\Washington\\test\\overlay\\FB_WA_19_row11_col11.png\n",
      "Saved predicted mask for FB_WA_19_row11_col11.png with mIoU score: 0.207\n"
     ]
    },
    {
     "name": "stderr",
     "output_type": "stream",
     "text": [
      " 15%|█▌        | 26/172 [00:09<00:53,  2.72it/s]"
     ]
    },
    {
     "name": "stdout",
     "output_type": "stream",
     "text": [
      "Saved overlay image: D:\\ML_Seagrass\\SourceData\\Washington\\Washington\\test\\overlay\\FB_WA_19_row11_col3.png\n",
      "Saved predicted mask for FB_WA_19_row11_col3.png with mIoU score: 0.584\n"
     ]
    },
    {
     "name": "stderr",
     "output_type": "stream",
     "text": [
      " 16%|█▌        | 27/172 [00:10<00:55,  2.62it/s]"
     ]
    },
    {
     "name": "stdout",
     "output_type": "stream",
     "text": [
      "Saved overlay image: D:\\ML_Seagrass\\SourceData\\Washington\\Washington\\test\\overlay\\FB_WA_19_row13_col3.png\n",
      "Saved predicted mask for FB_WA_19_row13_col3.png with mIoU score: 0.337\n"
     ]
    },
    {
     "name": "stderr",
     "output_type": "stream",
     "text": [
      " 16%|█▋        | 28/172 [00:10<00:51,  2.79it/s]"
     ]
    },
    {
     "name": "stdout",
     "output_type": "stream",
     "text": [
      "Saved overlay image: D:\\ML_Seagrass\\SourceData\\Washington\\Washington\\test\\overlay\\FB_WA_19_row2_col6.png\n",
      "Saved predicted mask for FB_WA_19_row2_col6.png with mIoU score: 0.368\n"
     ]
    },
    {
     "name": "stderr",
     "output_type": "stream",
     "text": [
      " 17%|█▋        | 30/172 [00:10<00:43,  3.27it/s]"
     ]
    },
    {
     "name": "stdout",
     "output_type": "stream",
     "text": [
      "Saved overlay image: D:\\ML_Seagrass\\SourceData\\Washington\\Washington\\test\\overlay\\FB_WA_19_row2_col8.png\n",
      "Saved predicted mask for FB_WA_19_row2_col8.png with mIoU score: 0.539\n",
      "Saved overlay image: D:\\ML_Seagrass\\SourceData\\Washington\\Washington\\test\\overlay\\FB_WA_19_row3_col14.png\n",
      "Saved predicted mask for FB_WA_19_row3_col14.png with mIoU score: 0.891\n"
     ]
    },
    {
     "name": "stderr",
     "output_type": "stream",
     "text": [
      " 18%|█▊        | 31/172 [00:11<00:38,  3.71it/s]"
     ]
    },
    {
     "name": "stdout",
     "output_type": "stream",
     "text": [
      "Saved overlay image: D:\\ML_Seagrass\\SourceData\\Washington\\Washington\\test\\overlay\\FB_WA_19_row4_col3.png\n",
      "Saved predicted mask for FB_WA_19_row4_col3.png with mIoU score: 0.698\n"
     ]
    },
    {
     "name": "stderr",
     "output_type": "stream",
     "text": [
      " 19%|█▊        | 32/172 [00:11<00:38,  3.65it/s]"
     ]
    },
    {
     "name": "stdout",
     "output_type": "stream",
     "text": [
      "Saved overlay image: D:\\ML_Seagrass\\SourceData\\Washington\\Washington\\test\\overlay\\FB_WA_19_row4_col8.png\n",
      "Saved predicted mask for FB_WA_19_row4_col8.png with mIoU score: 0.448\n"
     ]
    },
    {
     "name": "stderr",
     "output_type": "stream",
     "text": [
      " 19%|█▉        | 33/172 [00:11<00:43,  3.20it/s]"
     ]
    },
    {
     "name": "stdout",
     "output_type": "stream",
     "text": [
      "Saved overlay image: D:\\ML_Seagrass\\SourceData\\Washington\\Washington\\test\\overlay\\FB_WA_19_row5_col15.png\n",
      "Saved predicted mask for FB_WA_19_row5_col15.png with mIoU score: 0.259\n"
     ]
    },
    {
     "name": "stderr",
     "output_type": "stream",
     "text": [
      " 20%|█▉        | 34/172 [00:12<00:48,  2.83it/s]"
     ]
    },
    {
     "name": "stdout",
     "output_type": "stream",
     "text": [
      "Saved overlay image: D:\\ML_Seagrass\\SourceData\\Washington\\Washington\\test\\overlay\\FB_WA_19_row5_col16.png\n",
      "Saved predicted mask for FB_WA_19_row5_col16.png with mIoU score: 0.513\n"
     ]
    },
    {
     "name": "stderr",
     "output_type": "stream",
     "text": [
      " 20%|██        | 35/172 [00:12<00:51,  2.64it/s]"
     ]
    },
    {
     "name": "stdout",
     "output_type": "stream",
     "text": [
      "Saved overlay image: D:\\ML_Seagrass\\SourceData\\Washington\\Washington\\test\\overlay\\FB_WA_19_row5_col21.png\n",
      "Saved predicted mask for FB_WA_19_row5_col21.png with mIoU score: 0.907\n"
     ]
    },
    {
     "name": "stderr",
     "output_type": "stream",
     "text": [
      " 21%|██        | 36/172 [00:13<00:49,  2.74it/s]"
     ]
    },
    {
     "name": "stdout",
     "output_type": "stream",
     "text": [
      "Saved overlay image: D:\\ML_Seagrass\\SourceData\\Washington\\Washington\\test\\overlay\\FB_WA_19_row5_col22.png\n",
      "Saved predicted mask for FB_WA_19_row5_col22.png with mIoU score: 0.937\n"
     ]
    },
    {
     "name": "stderr",
     "output_type": "stream",
     "text": [
      " 22%|██▏       | 37/172 [00:13<00:49,  2.74it/s]"
     ]
    },
    {
     "name": "stdout",
     "output_type": "stream",
     "text": [
      "Saved overlay image: D:\\ML_Seagrass\\SourceData\\Washington\\Washington\\test\\overlay\\FB_WA_19_row6_col19.png\n",
      "Saved predicted mask for FB_WA_19_row6_col19.png with mIoU score: 0.251\n"
     ]
    },
    {
     "name": "stderr",
     "output_type": "stream",
     "text": [
      " 22%|██▏       | 38/172 [00:13<00:49,  2.72it/s]"
     ]
    },
    {
     "name": "stdout",
     "output_type": "stream",
     "text": [
      "Saved overlay image: D:\\ML_Seagrass\\SourceData\\Washington\\Washington\\test\\overlay\\FB_WA_19_row8_col18.png\n",
      "Saved predicted mask for FB_WA_19_row8_col18.png with mIoU score: 0.621\n"
     ]
    },
    {
     "name": "stderr",
     "output_type": "stream",
     "text": [
      " 23%|██▎       | 39/172 [00:14<00:53,  2.48it/s]"
     ]
    },
    {
     "name": "stdout",
     "output_type": "stream",
     "text": [
      "Saved overlay image: D:\\ML_Seagrass\\SourceData\\Washington\\Washington\\test\\overlay\\FB_WA_19_row9_col10.png\n",
      "Saved predicted mask for FB_WA_19_row9_col10.png with mIoU score: 0.167\n"
     ]
    },
    {
     "name": "stderr",
     "output_type": "stream",
     "text": [
      " 23%|██▎       | 40/172 [00:14<00:52,  2.51it/s]"
     ]
    },
    {
     "name": "stdout",
     "output_type": "stream",
     "text": [
      "Saved overlay image: D:\\ML_Seagrass\\SourceData\\Washington\\Washington\\test\\overlay\\FB_WA_20_row10_col6.png\n",
      "Saved predicted mask for FB_WA_20_row10_col6.png with mIoU score: 0.749\n"
     ]
    },
    {
     "name": "stderr",
     "output_type": "stream",
     "text": [
      " 24%|██▍       | 41/172 [00:15<00:51,  2.52it/s]"
     ]
    },
    {
     "name": "stdout",
     "output_type": "stream",
     "text": [
      "Saved overlay image: D:\\ML_Seagrass\\SourceData\\Washington\\Washington\\test\\overlay\\FB_WA_20_row11_col15.png\n",
      "Saved predicted mask for FB_WA_20_row11_col15.png with mIoU score: 0.935\n"
     ]
    },
    {
     "name": "stderr",
     "output_type": "stream",
     "text": [
      " 24%|██▍       | 42/172 [00:15<00:53,  2.45it/s]"
     ]
    },
    {
     "name": "stdout",
     "output_type": "stream",
     "text": [
      "Saved overlay image: D:\\ML_Seagrass\\SourceData\\Washington\\Washington\\test\\overlay\\FB_WA_20_row11_col7.png\n",
      "Saved predicted mask for FB_WA_20_row11_col7.png with mIoU score: 0.896\n"
     ]
    },
    {
     "name": "stderr",
     "output_type": "stream",
     "text": [
      " 25%|██▌       | 43/172 [00:15<00:50,  2.55it/s]"
     ]
    },
    {
     "name": "stdout",
     "output_type": "stream",
     "text": [
      "Saved overlay image: D:\\ML_Seagrass\\SourceData\\Washington\\Washington\\test\\overlay\\FB_WA_20_row1_col14.png\n",
      "Saved predicted mask for FB_WA_20_row1_col14.png with mIoU score: 0.905\n"
     ]
    },
    {
     "name": "stderr",
     "output_type": "stream",
     "text": [
      " 26%|██▌       | 44/172 [00:16<00:52,  2.42it/s]"
     ]
    },
    {
     "name": "stdout",
     "output_type": "stream",
     "text": [
      "Saved overlay image: D:\\ML_Seagrass\\SourceData\\Washington\\Washington\\test\\overlay\\FB_WA_20_row3_col16.png\n",
      "Saved predicted mask for FB_WA_20_row3_col16.png with mIoU score: 0.977\n"
     ]
    },
    {
     "name": "stderr",
     "output_type": "stream",
     "text": [
      " 26%|██▌       | 45/172 [00:16<00:53,  2.39it/s]"
     ]
    },
    {
     "name": "stdout",
     "output_type": "stream",
     "text": [
      "Saved overlay image: D:\\ML_Seagrass\\SourceData\\Washington\\Washington\\test\\overlay\\FB_WA_20_row5_col8.png\n",
      "Saved predicted mask for FB_WA_20_row5_col8.png with mIoU score: 0.852\n"
     ]
    },
    {
     "name": "stderr",
     "output_type": "stream",
     "text": [
      " 27%|██▋       | 46/172 [00:17<00:53,  2.37it/s]"
     ]
    },
    {
     "name": "stdout",
     "output_type": "stream",
     "text": [
      "Saved overlay image: D:\\ML_Seagrass\\SourceData\\Washington\\Washington\\test\\overlay\\FB_WA_20_row6_col10.png\n",
      "Saved predicted mask for FB_WA_20_row6_col10.png with mIoU score: 0.837\n"
     ]
    },
    {
     "name": "stderr",
     "output_type": "stream",
     "text": [
      " 27%|██▋       | 47/172 [00:17<00:53,  2.34it/s]"
     ]
    },
    {
     "name": "stdout",
     "output_type": "stream",
     "text": [
      "Saved overlay image: D:\\ML_Seagrass\\SourceData\\Washington\\Washington\\test\\overlay\\FB_WA_20_row6_col9.png\n",
      "Saved predicted mask for FB_WA_20_row6_col9.png with mIoU score: 0.561\n"
     ]
    },
    {
     "name": "stderr",
     "output_type": "stream",
     "text": [
      " 28%|██▊       | 48/172 [00:18<00:53,  2.31it/s]"
     ]
    },
    {
     "name": "stdout",
     "output_type": "stream",
     "text": [
      "Saved overlay image: D:\\ML_Seagrass\\SourceData\\Washington\\Washington\\test\\overlay\\FB_WA_20_row7_col7.png\n",
      "Saved predicted mask for FB_WA_20_row7_col7.png with mIoU score: 0.680\n"
     ]
    },
    {
     "name": "stderr",
     "output_type": "stream",
     "text": [
      " 28%|██▊       | 49/172 [00:18<00:52,  2.33it/s]"
     ]
    },
    {
     "name": "stdout",
     "output_type": "stream",
     "text": [
      "Saved overlay image: D:\\ML_Seagrass\\SourceData\\Washington\\Washington\\test\\overlay\\FB_WA_20_row8_col12.png\n",
      "Saved predicted mask for FB_WA_20_row8_col12.png with mIoU score: 0.815\n"
     ]
    },
    {
     "name": "stderr",
     "output_type": "stream",
     "text": [
      " 29%|██▉       | 50/172 [00:18<00:51,  2.35it/s]"
     ]
    },
    {
     "name": "stdout",
     "output_type": "stream",
     "text": [
      "Saved overlay image: D:\\ML_Seagrass\\SourceData\\Washington\\Washington\\test\\overlay\\FB_WA_20_row8_col9.png\n",
      "Saved predicted mask for FB_WA_20_row8_col9.png with mIoU score: 0.747\n"
     ]
    },
    {
     "name": "stderr",
     "output_type": "stream",
     "text": [
      " 30%|██▉       | 51/172 [00:19<00:49,  2.45it/s]"
     ]
    },
    {
     "name": "stdout",
     "output_type": "stream",
     "text": [
      "Saved overlay image: D:\\ML_Seagrass\\SourceData\\Washington\\Washington\\test\\overlay\\FB_WA_21_row7_col11.png\n",
      "Saved predicted mask for FB_WA_21_row7_col11.png with mIoU score: 0.752\n"
     ]
    },
    {
     "name": "stderr",
     "output_type": "stream",
     "text": [
      " 30%|███       | 52/172 [00:19<00:52,  2.28it/s]"
     ]
    },
    {
     "name": "stdout",
     "output_type": "stream",
     "text": [
      "Saved overlay image: D:\\ML_Seagrass\\SourceData\\Washington\\Washington\\test\\overlay\\FB_WA_21_row7_col5.png\n",
      "Saved predicted mask for FB_WA_21_row7_col5.png with mIoU score: 0.935\n"
     ]
    },
    {
     "name": "stderr",
     "output_type": "stream",
     "text": [
      " 31%|███       | 53/172 [00:20<00:49,  2.42it/s]"
     ]
    },
    {
     "name": "stdout",
     "output_type": "stream",
     "text": [
      "Saved overlay image: D:\\ML_Seagrass\\SourceData\\Washington\\Washington\\test\\overlay\\FB_WA_21_row8_col14.png\n",
      "Saved predicted mask for FB_WA_21_row8_col14.png with mIoU score: 0.401\n"
     ]
    },
    {
     "name": "stderr",
     "output_type": "stream",
     "text": [
      " 31%|███▏      | 54/172 [00:20<00:48,  2.44it/s]"
     ]
    },
    {
     "name": "stdout",
     "output_type": "stream",
     "text": [
      "Saved overlay image: D:\\ML_Seagrass\\SourceData\\Washington\\Washington\\test\\overlay\\FB_WA_22_row6_col8.png\n",
      "Saved predicted mask for FB_WA_22_row6_col8.png with mIoU score: 0.422\n"
     ]
    },
    {
     "name": "stderr",
     "output_type": "stream",
     "text": [
      " 32%|███▏      | 55/172 [00:20<00:46,  2.50it/s]"
     ]
    },
    {
     "name": "stdout",
     "output_type": "stream",
     "text": [
      "Saved overlay image: D:\\ML_Seagrass\\SourceData\\Washington\\Washington\\test\\overlay\\FB_WA_22_row7_col11.png\n",
      "Saved predicted mask for FB_WA_22_row7_col11.png with mIoU score: 0.679\n"
     ]
    },
    {
     "name": "stderr",
     "output_type": "stream",
     "text": [
      " 33%|███▎      | 56/172 [00:21<00:45,  2.53it/s]"
     ]
    },
    {
     "name": "stdout",
     "output_type": "stream",
     "text": [
      "Saved overlay image: D:\\ML_Seagrass\\SourceData\\Washington\\Washington\\test\\overlay\\FB_WA_22_row7_col12.png\n",
      "Saved predicted mask for FB_WA_22_row7_col12.png with mIoU score: 0.628\n"
     ]
    },
    {
     "name": "stderr",
     "output_type": "stream",
     "text": [
      " 33%|███▎      | 57/172 [00:21<00:46,  2.48it/s]"
     ]
    },
    {
     "name": "stdout",
     "output_type": "stream",
     "text": [
      "Saved overlay image: D:\\ML_Seagrass\\SourceData\\Washington\\Washington\\test\\overlay\\FB_WA_22_row7_col8.png\n",
      "Saved predicted mask for FB_WA_22_row7_col8.png with mIoU score: 0.363\n"
     ]
    },
    {
     "name": "stderr",
     "output_type": "stream",
     "text": [
      " 34%|███▎      | 58/172 [00:22<00:45,  2.52it/s]"
     ]
    },
    {
     "name": "stdout",
     "output_type": "stream",
     "text": [
      "Saved overlay image: D:\\ML_Seagrass\\SourceData\\Washington\\Washington\\test\\overlay\\FB_WA_22_row8_col10.png\n",
      "Saved predicted mask for FB_WA_22_row8_col10.png with mIoU score: 0.928\n"
     ]
    },
    {
     "name": "stderr",
     "output_type": "stream",
     "text": [
      " 34%|███▍      | 59/172 [00:22<00:45,  2.50it/s]"
     ]
    },
    {
     "name": "stdout",
     "output_type": "stream",
     "text": [
      "Saved overlay image: D:\\ML_Seagrass\\SourceData\\Washington\\Washington\\test\\overlay\\FB_WA_22_row8_col14.png\n",
      "Saved predicted mask for FB_WA_22_row8_col14.png with mIoU score: 0.853\n"
     ]
    },
    {
     "name": "stderr",
     "output_type": "stream",
     "text": [
      " 35%|███▍      | 60/172 [00:22<00:45,  2.46it/s]"
     ]
    },
    {
     "name": "stdout",
     "output_type": "stream",
     "text": [
      "Saved overlay image: D:\\ML_Seagrass\\SourceData\\Washington\\Washington\\test\\overlay\\IC_WA_19_row3_col10.png\n",
      "Saved predicted mask for IC_WA_19_row3_col10.png with mIoU score: 0.977\n"
     ]
    },
    {
     "name": "stderr",
     "output_type": "stream",
     "text": [
      " 35%|███▌      | 61/172 [00:23<00:44,  2.49it/s]"
     ]
    },
    {
     "name": "stdout",
     "output_type": "stream",
     "text": [
      "Saved overlay image: D:\\ML_Seagrass\\SourceData\\Washington\\Washington\\test\\overlay\\IC_WA_19_row4_col9.png\n",
      "Saved predicted mask for IC_WA_19_row4_col9.png with mIoU score: 0.102\n"
     ]
    },
    {
     "name": "stderr",
     "output_type": "stream",
     "text": [
      " 36%|███▌      | 62/172 [00:23<00:44,  2.46it/s]"
     ]
    },
    {
     "name": "stdout",
     "output_type": "stream",
     "text": [
      "Saved overlay image: D:\\ML_Seagrass\\SourceData\\Washington\\Washington\\test\\overlay\\IC_WA_20_row10_col7.png\n",
      "Saved predicted mask for IC_WA_20_row10_col7.png with mIoU score: 0.712\n"
     ]
    },
    {
     "name": "stderr",
     "output_type": "stream",
     "text": [
      " 37%|███▋      | 63/172 [00:24<00:45,  2.41it/s]"
     ]
    },
    {
     "name": "stdout",
     "output_type": "stream",
     "text": [
      "Saved overlay image: D:\\ML_Seagrass\\SourceData\\Washington\\Washington\\test\\overlay\\IC_WA_20_row11_col22.png\n",
      "Saved predicted mask for IC_WA_20_row11_col22.png with mIoU score: 0.327\n"
     ]
    },
    {
     "name": "stderr",
     "output_type": "stream",
     "text": [
      " 37%|███▋      | 64/172 [00:24<00:42,  2.51it/s]"
     ]
    },
    {
     "name": "stdout",
     "output_type": "stream",
     "text": [
      "Saved overlay image: D:\\ML_Seagrass\\SourceData\\Washington\\Washington\\test\\overlay\\IC_WA_20_row15_col15.png\n",
      "Saved predicted mask for IC_WA_20_row15_col15.png with mIoU score: 0.796\n"
     ]
    },
    {
     "name": "stderr",
     "output_type": "stream",
     "text": [
      " 38%|███▊      | 65/172 [00:24<00:39,  2.74it/s]"
     ]
    },
    {
     "name": "stdout",
     "output_type": "stream",
     "text": [
      "Saved overlay image: D:\\ML_Seagrass\\SourceData\\Washington\\Washington\\test\\overlay\\IC_WA_20_row15_col17.png\n",
      "Saved predicted mask for IC_WA_20_row15_col17.png with mIoU score: 0.866\n"
     ]
    },
    {
     "name": "stderr",
     "output_type": "stream",
     "text": [
      " 38%|███▊      | 66/172 [00:25<00:37,  2.79it/s]"
     ]
    },
    {
     "name": "stdout",
     "output_type": "stream",
     "text": [
      "Saved overlay image: D:\\ML_Seagrass\\SourceData\\Washington\\Washington\\test\\overlay\\IC_WA_20_row3_col11.png\n",
      "Saved predicted mask for IC_WA_20_row3_col11.png with mIoU score: 0.901\n"
     ]
    },
    {
     "name": "stderr",
     "output_type": "stream",
     "text": [
      " 39%|███▉      | 67/172 [00:25<00:37,  2.81it/s]"
     ]
    },
    {
     "name": "stdout",
     "output_type": "stream",
     "text": [
      "Saved overlay image: D:\\ML_Seagrass\\SourceData\\Washington\\Washington\\test\\overlay\\IC_WA_20_row6_col17.png\n",
      "Saved predicted mask for IC_WA_20_row6_col17.png with mIoU score: 0.846\n"
     ]
    },
    {
     "name": "stderr",
     "output_type": "stream",
     "text": [
      " 40%|███▉      | 68/172 [00:25<00:33,  3.11it/s]"
     ]
    },
    {
     "name": "stdout",
     "output_type": "stream",
     "text": [
      "Saved overlay image: D:\\ML_Seagrass\\SourceData\\Washington\\Washington\\test\\overlay\\IC_WA_20_row6_col23.png\n",
      "Saved predicted mask for IC_WA_20_row6_col23.png with mIoU score: 0.996\n"
     ]
    },
    {
     "name": "stderr",
     "output_type": "stream",
     "text": [
      " 40%|████      | 69/172 [00:26<00:34,  3.01it/s]"
     ]
    },
    {
     "name": "stdout",
     "output_type": "stream",
     "text": [
      "Saved overlay image: D:\\ML_Seagrass\\SourceData\\Washington\\Washington\\test\\overlay\\IC_WA_20_row7_col13.png\n",
      "Saved predicted mask for IC_WA_20_row7_col13.png with mIoU score: 0.899\n"
     ]
    },
    {
     "name": "stderr",
     "output_type": "stream",
     "text": [
      " 41%|████      | 70/172 [00:26<00:34,  2.94it/s]"
     ]
    },
    {
     "name": "stdout",
     "output_type": "stream",
     "text": [
      "Saved overlay image: D:\\ML_Seagrass\\SourceData\\Washington\\Washington\\test\\overlay\\IC_WA_20_row8_col23.png\n",
      "Saved predicted mask for IC_WA_20_row8_col23.png with mIoU score: 0.519\n"
     ]
    },
    {
     "name": "stderr",
     "output_type": "stream",
     "text": [
      " 41%|████▏     | 71/172 [00:26<00:36,  2.74it/s]"
     ]
    },
    {
     "name": "stdout",
     "output_type": "stream",
     "text": [
      "Saved overlay image: D:\\ML_Seagrass\\SourceData\\Washington\\Washington\\test\\overlay\\IC_WA_20_row9_col18.png\n",
      "Saved predicted mask for IC_WA_20_row9_col18.png with mIoU score: 0.325\n"
     ]
    },
    {
     "name": "stderr",
     "output_type": "stream",
     "text": [
      " 42%|████▏     | 72/172 [00:27<00:37,  2.68it/s]"
     ]
    },
    {
     "name": "stdout",
     "output_type": "stream",
     "text": [
      "Saved overlay image: D:\\ML_Seagrass\\SourceData\\Washington\\Washington\\test\\overlay\\IC_WA_20_row9_col23.png\n",
      "Saved predicted mask for IC_WA_20_row9_col23.png with mIoU score: 0.051\n"
     ]
    },
    {
     "name": "stderr",
     "output_type": "stream",
     "text": [
      " 42%|████▏     | 73/172 [00:27<00:32,  3.01it/s]"
     ]
    },
    {
     "name": "stdout",
     "output_type": "stream",
     "text": [
      "Saved overlay image: D:\\ML_Seagrass\\SourceData\\Washington\\Washington\\test\\overlay\\IC_WA_20_row9_col24.png\n",
      "Saved predicted mask for IC_WA_20_row9_col24.png with mIoU score: 0.968\n"
     ]
    },
    {
     "name": "stderr",
     "output_type": "stream",
     "text": [
      " 43%|████▎     | 74/172 [00:27<00:33,  2.89it/s]"
     ]
    },
    {
     "name": "stdout",
     "output_type": "stream",
     "text": [
      "Saved overlay image: D:\\ML_Seagrass\\SourceData\\Washington\\Washington\\test\\overlay\\IC_WA_21_row10_col10.png\n",
      "Saved predicted mask for IC_WA_21_row10_col10.png with mIoU score: 0.001\n"
     ]
    },
    {
     "name": "stderr",
     "output_type": "stream",
     "text": [
      " 44%|████▎     | 75/172 [00:28<00:35,  2.75it/s]"
     ]
    },
    {
     "name": "stdout",
     "output_type": "stream",
     "text": [
      "Saved overlay image: D:\\ML_Seagrass\\SourceData\\Washington\\Washington\\test\\overlay\\IC_WA_21_row10_col5.png\n",
      "Saved predicted mask for IC_WA_21_row10_col5.png with mIoU score: 0.832\n"
     ]
    },
    {
     "name": "stderr",
     "output_type": "stream",
     "text": [
      " 44%|████▍     | 76/172 [00:28<00:35,  2.70it/s]"
     ]
    },
    {
     "name": "stdout",
     "output_type": "stream",
     "text": [
      "Saved overlay image: D:\\ML_Seagrass\\SourceData\\Washington\\Washington\\test\\overlay\\IC_WA_21_row12_col11.png\n",
      "Saved predicted mask for IC_WA_21_row12_col11.png with mIoU score: 0.094\n"
     ]
    },
    {
     "name": "stderr",
     "output_type": "stream",
     "text": [
      " 45%|████▍     | 77/172 [00:29<00:36,  2.63it/s]"
     ]
    },
    {
     "name": "stdout",
     "output_type": "stream",
     "text": [
      "Saved overlay image: D:\\ML_Seagrass\\SourceData\\Washington\\Washington\\test\\overlay\\IC_WA_21_row12_col13.png\n",
      "Saved predicted mask for IC_WA_21_row12_col13.png with mIoU score: 0.426\n"
     ]
    },
    {
     "name": "stderr",
     "output_type": "stream",
     "text": [
      " 45%|████▌     | 78/172 [00:29<00:35,  2.62it/s]"
     ]
    },
    {
     "name": "stdout",
     "output_type": "stream",
     "text": [
      "Saved overlay image: D:\\ML_Seagrass\\SourceData\\Washington\\Washington\\test\\overlay\\IC_WA_21_row12_col14.png\n",
      "Saved predicted mask for IC_WA_21_row12_col14.png with mIoU score: 0.550\n"
     ]
    },
    {
     "name": "stderr",
     "output_type": "stream",
     "text": [
      " 46%|████▌     | 79/172 [00:29<00:35,  2.60it/s]"
     ]
    },
    {
     "name": "stdout",
     "output_type": "stream",
     "text": [
      "Saved overlay image: D:\\ML_Seagrass\\SourceData\\Washington\\Washington\\test\\overlay\\IC_WA_21_row12_col17.png\n",
      "Saved predicted mask for IC_WA_21_row12_col17.png with mIoU score: 0.868\n"
     ]
    },
    {
     "name": "stderr",
     "output_type": "stream",
     "text": [
      " 47%|████▋     | 80/172 [00:30<00:35,  2.61it/s]"
     ]
    },
    {
     "name": "stdout",
     "output_type": "stream",
     "text": [
      "Saved overlay image: D:\\ML_Seagrass\\SourceData\\Washington\\Washington\\test\\overlay\\IC_WA_21_row13_col12.png\n",
      "Saved predicted mask for IC_WA_21_row13_col12.png with mIoU score: 0.391\n"
     ]
    },
    {
     "name": "stderr",
     "output_type": "stream",
     "text": [
      " 47%|████▋     | 81/172 [00:30<00:35,  2.55it/s]"
     ]
    },
    {
     "name": "stdout",
     "output_type": "stream",
     "text": [
      "Saved overlay image: D:\\ML_Seagrass\\SourceData\\Washington\\Washington\\test\\overlay\\IC_WA_21_row15_col9.png\n",
      "Saved predicted mask for IC_WA_21_row15_col9.png with mIoU score: 0.917\n"
     ]
    },
    {
     "name": "stderr",
     "output_type": "stream",
     "text": [
      " 48%|████▊     | 82/172 [00:31<00:34,  2.59it/s]"
     ]
    },
    {
     "name": "stdout",
     "output_type": "stream",
     "text": [
      "Saved overlay image: D:\\ML_Seagrass\\SourceData\\Washington\\Washington\\test\\overlay\\IC_WA_21_row6_col22.png\n",
      "Saved predicted mask for IC_WA_21_row6_col22.png with mIoU score: 0.363\n"
     ]
    },
    {
     "name": "stderr",
     "output_type": "stream",
     "text": [
      " 48%|████▊     | 83/172 [00:31<00:33,  2.62it/s]"
     ]
    },
    {
     "name": "stdout",
     "output_type": "stream",
     "text": [
      "Saved overlay image: D:\\ML_Seagrass\\SourceData\\Washington\\Washington\\test\\overlay\\IC_WA_21_row7_col14.png\n",
      "Saved predicted mask for IC_WA_21_row7_col14.png with mIoU score: 0.892\n"
     ]
    },
    {
     "name": "stderr",
     "output_type": "stream",
     "text": [
      " 49%|████▉     | 84/172 [00:31<00:29,  3.01it/s]"
     ]
    },
    {
     "name": "stdout",
     "output_type": "stream",
     "text": [
      "Saved overlay image: D:\\ML_Seagrass\\SourceData\\Washington\\Washington\\test\\overlay\\IC_WA_22_row10_col9.png\n",
      "Saved predicted mask for IC_WA_22_row10_col9.png with mIoU score: 0.937\n"
     ]
    },
    {
     "name": "stderr",
     "output_type": "stream",
     "text": [
      " 49%|████▉     | 85/172 [00:31<00:28,  3.09it/s]"
     ]
    },
    {
     "name": "stdout",
     "output_type": "stream",
     "text": [
      "Saved overlay image: D:\\ML_Seagrass\\SourceData\\Washington\\Washington\\test\\overlay\\IC_WA_22_row5_col9.png\n",
      "Saved predicted mask for IC_WA_22_row5_col9.png with mIoU score: 0.785\n"
     ]
    },
    {
     "name": "stderr",
     "output_type": "stream",
     "text": [
      " 50%|█████     | 86/172 [00:32<00:28,  3.04it/s]"
     ]
    },
    {
     "name": "stdout",
     "output_type": "stream",
     "text": [
      "Saved overlay image: D:\\ML_Seagrass\\SourceData\\Washington\\Washington\\test\\overlay\\IC_WA_22_row6_col16.png\n",
      "Saved predicted mask for IC_WA_22_row6_col16.png with mIoU score: 0.901\n"
     ]
    },
    {
     "name": "stderr",
     "output_type": "stream",
     "text": [
      " 51%|█████     | 87/172 [00:32<00:29,  2.90it/s]"
     ]
    },
    {
     "name": "stdout",
     "output_type": "stream",
     "text": [
      "Saved overlay image: D:\\ML_Seagrass\\SourceData\\Washington\\Washington\\test\\overlay\\IC_WA_22_row8_col11.png\n",
      "Saved predicted mask for IC_WA_22_row8_col11.png with mIoU score: 0.724\n"
     ]
    },
    {
     "name": "stderr",
     "output_type": "stream",
     "text": [
      " 51%|█████     | 88/172 [00:32<00:29,  2.88it/s]"
     ]
    },
    {
     "name": "stdout",
     "output_type": "stream",
     "text": [
      "Saved overlay image: D:\\ML_Seagrass\\SourceData\\Washington\\Washington\\test\\overlay\\JF_WA_19_row12_col14.png\n",
      "Saved predicted mask for JF_WA_19_row12_col14.png with mIoU score: 0.036\n"
     ]
    },
    {
     "name": "stderr",
     "output_type": "stream",
     "text": [
      " 52%|█████▏    | 89/172 [00:33<00:29,  2.80it/s]"
     ]
    },
    {
     "name": "stdout",
     "output_type": "stream",
     "text": [
      "Saved overlay image: D:\\ML_Seagrass\\SourceData\\Washington\\Washington\\test\\overlay\\JF_WA_19_row13_col12.png\n",
      "Saved predicted mask for JF_WA_19_row13_col12.png with mIoU score: 0.534\n"
     ]
    },
    {
     "name": "stderr",
     "output_type": "stream",
     "text": [
      " 53%|█████▎    | 91/172 [00:33<00:23,  3.40it/s]"
     ]
    },
    {
     "name": "stdout",
     "output_type": "stream",
     "text": [
      "Saved overlay image: D:\\ML_Seagrass\\SourceData\\Washington\\Washington\\test\\overlay\\JF_WA_19_row14_col14.png\n",
      "Saved predicted mask for JF_WA_19_row14_col14.png with mIoU score: 0.893\n",
      "Saved overlay image: D:\\ML_Seagrass\\SourceData\\Washington\\Washington\\test\\overlay\\JF_WA_19_row14_col8.png\n",
      "Saved predicted mask for JF_WA_19_row14_col8.png with mIoU score: 0.993\n"
     ]
    },
    {
     "name": "stderr",
     "output_type": "stream",
     "text": [
      " 53%|█████▎    | 92/172 [00:34<00:23,  3.46it/s]"
     ]
    },
    {
     "name": "stdout",
     "output_type": "stream",
     "text": [
      "Saved overlay image: D:\\ML_Seagrass\\SourceData\\Washington\\Washington\\test\\overlay\\JF_WA_19_row15_col9.png\n",
      "Saved predicted mask for JF_WA_19_row15_col9.png with mIoU score: 0.994\n"
     ]
    },
    {
     "name": "stderr",
     "output_type": "stream",
     "text": [
      " 54%|█████▍    | 93/172 [00:34<00:23,  3.38it/s]"
     ]
    },
    {
     "name": "stdout",
     "output_type": "stream",
     "text": [
      "Saved overlay image: D:\\ML_Seagrass\\SourceData\\Washington\\Washington\\test\\overlay\\JF_WA_19_row2_col9.png\n",
      "Saved predicted mask for JF_WA_19_row2_col9.png with mIoU score: 0.915\n"
     ]
    },
    {
     "name": "stderr",
     "output_type": "stream",
     "text": [
      " 55%|█████▍    | 94/172 [00:34<00:25,  3.09it/s]"
     ]
    },
    {
     "name": "stdout",
     "output_type": "stream",
     "text": [
      "Saved overlay image: D:\\ML_Seagrass\\SourceData\\Washington\\Washington\\test\\overlay\\JF_WA_19_row7_col9.png\n",
      "Saved predicted mask for JF_WA_19_row7_col9.png with mIoU score: 0.037\n"
     ]
    },
    {
     "name": "stderr",
     "output_type": "stream",
     "text": [
      " 55%|█████▌    | 95/172 [00:35<00:26,  2.94it/s]"
     ]
    },
    {
     "name": "stdout",
     "output_type": "stream",
     "text": [
      "Saved overlay image: D:\\ML_Seagrass\\SourceData\\Washington\\Washington\\test\\overlay\\JF_WA_19_row8_col6.png\n",
      "Saved predicted mask for JF_WA_19_row8_col6.png with mIoU score: 0.208\n"
     ]
    },
    {
     "name": "stderr",
     "output_type": "stream",
     "text": [
      " 56%|█████▌    | 96/172 [00:35<00:26,  2.86it/s]"
     ]
    },
    {
     "name": "stdout",
     "output_type": "stream",
     "text": [
      "Saved overlay image: D:\\ML_Seagrass\\SourceData\\Washington\\Washington\\test\\overlay\\JF_WA_19_row9_col18.png\n",
      "Saved predicted mask for JF_WA_19_row9_col18.png with mIoU score: 0.472\n"
     ]
    },
    {
     "name": "stderr",
     "output_type": "stream",
     "text": [
      " 56%|█████▋    | 97/172 [00:35<00:26,  2.85it/s]"
     ]
    },
    {
     "name": "stdout",
     "output_type": "stream",
     "text": [
      "Saved overlay image: D:\\ML_Seagrass\\SourceData\\Washington\\Washington\\test\\overlay\\JF_WA_20_row10_col10.png\n",
      "Saved predicted mask for JF_WA_20_row10_col10.png with mIoU score: 0.020\n"
     ]
    },
    {
     "name": "stderr",
     "output_type": "stream",
     "text": [
      " 57%|█████▋    | 98/172 [00:36<00:26,  2.76it/s]"
     ]
    },
    {
     "name": "stdout",
     "output_type": "stream",
     "text": [
      "Saved overlay image: D:\\ML_Seagrass\\SourceData\\Washington\\Washington\\test\\overlay\\JF_WA_20_row13_col20.png\n",
      "Saved predicted mask for JF_WA_20_row13_col20.png with mIoU score: 0.737\n"
     ]
    },
    {
     "name": "stderr",
     "output_type": "stream",
     "text": [
      " 58%|█████▊    | 99/172 [00:36<00:25,  2.81it/s]"
     ]
    },
    {
     "name": "stdout",
     "output_type": "stream",
     "text": [
      "Saved overlay image: D:\\ML_Seagrass\\SourceData\\Washington\\Washington\\test\\overlay\\JF_WA_20_row14_col13.png\n",
      "Saved predicted mask for JF_WA_20_row14_col13.png with mIoU score: 0.557\n"
     ]
    },
    {
     "name": "stderr",
     "output_type": "stream",
     "text": [
      " 58%|█████▊    | 100/172 [00:37<00:25,  2.78it/s]"
     ]
    },
    {
     "name": "stdout",
     "output_type": "stream",
     "text": [
      "Saved overlay image: D:\\ML_Seagrass\\SourceData\\Washington\\Washington\\test\\overlay\\JF_WA_20_row14_col19.png\n",
      "Saved predicted mask for JF_WA_20_row14_col19.png with mIoU score: 0.588\n"
     ]
    },
    {
     "name": "stderr",
     "output_type": "stream",
     "text": [
      " 59%|█████▊    | 101/172 [00:37<00:25,  2.75it/s]"
     ]
    },
    {
     "name": "stdout",
     "output_type": "stream",
     "text": [
      "Saved overlay image: D:\\ML_Seagrass\\SourceData\\Washington\\Washington\\test\\overlay\\JF_WA_20_row14_col24.png\n",
      "Saved predicted mask for JF_WA_20_row14_col24.png with mIoU score: 0.708\n"
     ]
    },
    {
     "name": "stderr",
     "output_type": "stream",
     "text": [
      " 59%|█████▉    | 102/172 [00:37<00:26,  2.63it/s]"
     ]
    },
    {
     "name": "stdout",
     "output_type": "stream",
     "text": [
      "Saved overlay image: D:\\ML_Seagrass\\SourceData\\Washington\\Washington\\test\\overlay\\JF_WA_20_row15_col24.png\n",
      "Saved predicted mask for JF_WA_20_row15_col24.png with mIoU score: 0.869\n"
     ]
    },
    {
     "name": "stderr",
     "output_type": "stream",
     "text": [
      " 60%|█████▉    | 103/172 [00:38<00:26,  2.64it/s]"
     ]
    },
    {
     "name": "stdout",
     "output_type": "stream",
     "text": [
      "Saved overlay image: D:\\ML_Seagrass\\SourceData\\Washington\\Washington\\test\\overlay\\JF_WA_20_row17_col19.png\n",
      "Saved predicted mask for JF_WA_20_row17_col19.png with mIoU score: 0.441\n"
     ]
    },
    {
     "name": "stderr",
     "output_type": "stream",
     "text": [
      " 60%|██████    | 104/172 [00:38<00:25,  2.68it/s]"
     ]
    },
    {
     "name": "stdout",
     "output_type": "stream",
     "text": [
      "Saved overlay image: D:\\ML_Seagrass\\SourceData\\Washington\\Washington\\test\\overlay\\JF_WA_20_row17_col22.png\n",
      "Saved predicted mask for JF_WA_20_row17_col22.png with mIoU score: 0.039\n"
     ]
    },
    {
     "name": "stderr",
     "output_type": "stream",
     "text": [
      " 61%|██████    | 105/172 [00:38<00:24,  2.70it/s]"
     ]
    },
    {
     "name": "stdout",
     "output_type": "stream",
     "text": [
      "Saved overlay image: D:\\ML_Seagrass\\SourceData\\Washington\\Washington\\test\\overlay\\JF_WA_20_row19_col19.png\n",
      "Saved predicted mask for JF_WA_20_row19_col19.png with mIoU score: 0.533\n"
     ]
    },
    {
     "name": "stderr",
     "output_type": "stream",
     "text": [
      " 62%|██████▏   | 106/172 [00:39<00:24,  2.68it/s]"
     ]
    },
    {
     "name": "stdout",
     "output_type": "stream",
     "text": [
      "Saved overlay image: D:\\ML_Seagrass\\SourceData\\Washington\\Washington\\test\\overlay\\JF_WA_20_row4_col7.png\n",
      "Saved predicted mask for JF_WA_20_row4_col7.png with mIoU score: 0.706\n"
     ]
    },
    {
     "name": "stderr",
     "output_type": "stream",
     "text": [
      " 62%|██████▏   | 107/172 [00:39<00:23,  2.78it/s]"
     ]
    },
    {
     "name": "stdout",
     "output_type": "stream",
     "text": [
      "Saved overlay image: D:\\ML_Seagrass\\SourceData\\Washington\\Washington\\test\\overlay\\JF_WA_20_row6_col4.png\n",
      "Saved predicted mask for JF_WA_20_row6_col4.png with mIoU score: 0.501\n"
     ]
    },
    {
     "name": "stderr",
     "output_type": "stream",
     "text": [
      " 63%|██████▎   | 108/172 [00:40<00:24,  2.60it/s]"
     ]
    },
    {
     "name": "stdout",
     "output_type": "stream",
     "text": [
      "Saved overlay image: D:\\ML_Seagrass\\SourceData\\Washington\\Washington\\test\\overlay\\JF_WA_20_row8_col16.png\n",
      "Saved predicted mask for JF_WA_20_row8_col16.png with mIoU score: 0.929\n"
     ]
    },
    {
     "name": "stderr",
     "output_type": "stream",
     "text": [
      " 63%|██████▎   | 109/172 [00:40<00:24,  2.56it/s]"
     ]
    },
    {
     "name": "stdout",
     "output_type": "stream",
     "text": [
      "Saved overlay image: D:\\ML_Seagrass\\SourceData\\Washington\\Washington\\test\\overlay\\JF_WA_20_row9_col8.png\n",
      "Saved predicted mask for JF_WA_20_row9_col8.png with mIoU score: 0.377\n"
     ]
    },
    {
     "name": "stderr",
     "output_type": "stream",
     "text": [
      " 64%|██████▍   | 110/172 [00:40<00:23,  2.61it/s]"
     ]
    },
    {
     "name": "stdout",
     "output_type": "stream",
     "text": [
      "Saved overlay image: D:\\ML_Seagrass\\SourceData\\Washington\\Washington\\test\\overlay\\JF_WA_21_row10_col10.png\n",
      "Saved predicted mask for JF_WA_21_row10_col10.png with mIoU score: 0.850\n"
     ]
    },
    {
     "name": "stderr",
     "output_type": "stream",
     "text": [
      " 65%|██████▍   | 111/172 [00:41<00:22,  2.68it/s]"
     ]
    },
    {
     "name": "stdout",
     "output_type": "stream",
     "text": [
      "Saved overlay image: D:\\ML_Seagrass\\SourceData\\Washington\\Washington\\test\\overlay\\JF_WA_21_row10_col5.png\n",
      "Saved predicted mask for JF_WA_21_row10_col5.png with mIoU score: 0.839\n"
     ]
    },
    {
     "name": "stderr",
     "output_type": "stream",
     "text": [
      " 65%|██████▌   | 112/172 [00:41<00:22,  2.71it/s]"
     ]
    },
    {
     "name": "stdout",
     "output_type": "stream",
     "text": [
      "Saved overlay image: D:\\ML_Seagrass\\SourceData\\Washington\\Washington\\test\\overlay\\JF_WA_21_row10_col8.png\n",
      "Saved predicted mask for JF_WA_21_row10_col8.png with mIoU score: 0.682\n"
     ]
    },
    {
     "name": "stderr",
     "output_type": "stream",
     "text": [
      " 66%|██████▌   | 113/172 [00:41<00:21,  2.75it/s]"
     ]
    },
    {
     "name": "stdout",
     "output_type": "stream",
     "text": [
      "Saved overlay image: D:\\ML_Seagrass\\SourceData\\Washington\\Washington\\test\\overlay\\JF_WA_21_row11_col19.png\n",
      "Saved predicted mask for JF_WA_21_row11_col19.png with mIoU score: 0.346\n"
     ]
    },
    {
     "name": "stderr",
     "output_type": "stream",
     "text": [
      " 66%|██████▋   | 114/172 [00:42<00:21,  2.71it/s]"
     ]
    },
    {
     "name": "stdout",
     "output_type": "stream",
     "text": [
      "Saved overlay image: D:\\ML_Seagrass\\SourceData\\Washington\\Washington\\test\\overlay\\JF_WA_21_row11_col22.png\n",
      "Saved predicted mask for JF_WA_21_row11_col22.png with mIoU score: 0.506\n"
     ]
    },
    {
     "name": "stderr",
     "output_type": "stream",
     "text": [
      " 67%|██████▋   | 115/172 [00:42<00:20,  2.80it/s]"
     ]
    },
    {
     "name": "stdout",
     "output_type": "stream",
     "text": [
      "Saved overlay image: D:\\ML_Seagrass\\SourceData\\Washington\\Washington\\test\\overlay\\JF_WA_21_row12_col14.png\n",
      "Saved predicted mask for JF_WA_21_row12_col14.png with mIoU score: 0.931\n"
     ]
    },
    {
     "name": "stderr",
     "output_type": "stream",
     "text": [
      " 67%|██████▋   | 116/172 [00:42<00:19,  2.82it/s]"
     ]
    },
    {
     "name": "stdout",
     "output_type": "stream",
     "text": [
      "Saved overlay image: D:\\ML_Seagrass\\SourceData\\Washington\\Washington\\test\\overlay\\JF_WA_21_row12_col18.png\n",
      "Saved predicted mask for JF_WA_21_row12_col18.png with mIoU score: 0.594\n"
     ]
    },
    {
     "name": "stderr",
     "output_type": "stream",
     "text": [
      " 68%|██████▊   | 117/172 [00:43<00:19,  2.75it/s]"
     ]
    },
    {
     "name": "stdout",
     "output_type": "stream",
     "text": [
      "Saved overlay image: D:\\ML_Seagrass\\SourceData\\Washington\\Washington\\test\\overlay\\JF_WA_21_row13_col12.png\n",
      "Saved predicted mask for JF_WA_21_row13_col12.png with mIoU score: 0.605\n"
     ]
    },
    {
     "name": "stderr",
     "output_type": "stream",
     "text": [
      " 69%|██████▊   | 118/172 [00:43<00:19,  2.74it/s]"
     ]
    },
    {
     "name": "stdout",
     "output_type": "stream",
     "text": [
      "Saved overlay image: D:\\ML_Seagrass\\SourceData\\Washington\\Washington\\test\\overlay\\JF_WA_21_row14_col19.png\n",
      "Saved predicted mask for JF_WA_21_row14_col19.png with mIoU score: 0.408\n"
     ]
    },
    {
     "name": "stderr",
     "output_type": "stream",
     "text": [
      " 69%|██████▉   | 119/172 [00:44<00:19,  2.78it/s]"
     ]
    },
    {
     "name": "stdout",
     "output_type": "stream",
     "text": [
      "Saved overlay image: D:\\ML_Seagrass\\SourceData\\Washington\\Washington\\test\\overlay\\JF_WA_21_row15_col22.png\n",
      "Saved predicted mask for JF_WA_21_row15_col22.png with mIoU score: 0.229\n"
     ]
    },
    {
     "name": "stderr",
     "output_type": "stream",
     "text": [
      " 70%|██████▉   | 120/172 [00:44<00:18,  2.78it/s]"
     ]
    },
    {
     "name": "stdout",
     "output_type": "stream",
     "text": [
      "Saved overlay image: D:\\ML_Seagrass\\SourceData\\Washington\\Washington\\test\\overlay\\JF_WA_21_row15_col24.png\n",
      "Saved predicted mask for JF_WA_21_row15_col24.png with mIoU score: 0.558\n"
     ]
    },
    {
     "name": "stderr",
     "output_type": "stream",
     "text": [
      " 70%|███████   | 121/172 [00:44<00:19,  2.68it/s]"
     ]
    },
    {
     "name": "stdout",
     "output_type": "stream",
     "text": [
      "Saved overlay image: D:\\ML_Seagrass\\SourceData\\Washington\\Washington\\test\\overlay\\JF_WA_21_row16_col20.png\n",
      "Saved predicted mask for JF_WA_21_row16_col20.png with mIoU score: 0.347\n"
     ]
    },
    {
     "name": "stderr",
     "output_type": "stream",
     "text": [
      " 71%|███████   | 122/172 [00:45<00:19,  2.59it/s]"
     ]
    },
    {
     "name": "stdout",
     "output_type": "stream",
     "text": [
      "Saved overlay image: D:\\ML_Seagrass\\SourceData\\Washington\\Washington\\test\\overlay\\JF_WA_21_row16_col21.png\n",
      "Saved predicted mask for JF_WA_21_row16_col21.png with mIoU score: 0.167\n"
     ]
    },
    {
     "name": "stderr",
     "output_type": "stream",
     "text": [
      " 72%|███████▏  | 123/172 [00:45<00:18,  2.61it/s]"
     ]
    },
    {
     "name": "stdout",
     "output_type": "stream",
     "text": [
      "Saved overlay image: D:\\ML_Seagrass\\SourceData\\Washington\\Washington\\test\\overlay\\JF_WA_21_row17_col15.png\n",
      "Saved predicted mask for JF_WA_21_row17_col15.png with mIoU score: 0.910\n"
     ]
    },
    {
     "name": "stderr",
     "output_type": "stream",
     "text": [
      " 72%|███████▏  | 124/172 [00:45<00:17,  2.68it/s]"
     ]
    },
    {
     "name": "stdout",
     "output_type": "stream",
     "text": [
      "Saved overlay image: D:\\ML_Seagrass\\SourceData\\Washington\\Washington\\test\\overlay\\JF_WA_21_row17_col16.png\n",
      "Saved predicted mask for JF_WA_21_row17_col16.png with mIoU score: 0.855\n"
     ]
    },
    {
     "name": "stderr",
     "output_type": "stream",
     "text": [
      " 73%|███████▎  | 125/172 [00:46<00:17,  2.64it/s]"
     ]
    },
    {
     "name": "stdout",
     "output_type": "stream",
     "text": [
      "Saved overlay image: D:\\ML_Seagrass\\SourceData\\Washington\\Washington\\test\\overlay\\JF_WA_21_row17_col22.png\n",
      "Saved predicted mask for JF_WA_21_row17_col22.png with mIoU score: 0.579\n"
     ]
    },
    {
     "name": "stderr",
     "output_type": "stream",
     "text": [
      " 73%|███████▎  | 126/172 [00:46<00:16,  2.72it/s]"
     ]
    },
    {
     "name": "stdout",
     "output_type": "stream",
     "text": [
      "Saved overlay image: D:\\ML_Seagrass\\SourceData\\Washington\\Washington\\test\\overlay\\JF_WA_21_row18_col22.png\n",
      "Saved predicted mask for JF_WA_21_row18_col22.png with mIoU score: 0.783\n"
     ]
    },
    {
     "name": "stderr",
     "output_type": "stream",
     "text": [
      " 74%|███████▍  | 127/172 [00:47<00:16,  2.72it/s]"
     ]
    },
    {
     "name": "stdout",
     "output_type": "stream",
     "text": [
      "Saved overlay image: D:\\ML_Seagrass\\SourceData\\Washington\\Washington\\test\\overlay\\JF_WA_21_row19_col16.png\n",
      "Saved predicted mask for JF_WA_21_row19_col16.png with mIoU score: 0.864\n"
     ]
    },
    {
     "name": "stderr",
     "output_type": "stream",
     "text": [
      " 74%|███████▍  | 128/172 [00:47<00:15,  2.82it/s]"
     ]
    },
    {
     "name": "stdout",
     "output_type": "stream",
     "text": [
      "Saved overlay image: D:\\ML_Seagrass\\SourceData\\Washington\\Washington\\test\\overlay\\JF_WA_21_row21_col15.png\n",
      "Saved predicted mask for JF_WA_21_row21_col15.png with mIoU score: 0.936\n"
     ]
    },
    {
     "name": "stderr",
     "output_type": "stream",
     "text": [
      " 75%|███████▌  | 129/172 [00:47<00:14,  2.96it/s]"
     ]
    },
    {
     "name": "stdout",
     "output_type": "stream",
     "text": [
      "Saved overlay image: D:\\ML_Seagrass\\SourceData\\Washington\\Washington\\test\\overlay\\JF_WA_21_row2_col8.png\n",
      "Saved predicted mask for JF_WA_21_row2_col8.png with mIoU score: 0.964\n"
     ]
    },
    {
     "name": "stderr",
     "output_type": "stream",
     "text": [
      " 76%|███████▌  | 130/172 [00:48<00:14,  2.90it/s]"
     ]
    },
    {
     "name": "stdout",
     "output_type": "stream",
     "text": [
      "Saved overlay image: D:\\ML_Seagrass\\SourceData\\Washington\\Washington\\test\\overlay\\JF_WA_21_row5_col6.png\n",
      "Saved predicted mask for JF_WA_21_row5_col6.png with mIoU score: 0.918\n"
     ]
    },
    {
     "name": "stderr",
     "output_type": "stream",
     "text": [
      " 76%|███████▌  | 131/172 [00:48<00:15,  2.70it/s]"
     ]
    },
    {
     "name": "stdout",
     "output_type": "stream",
     "text": [
      "Saved overlay image: D:\\ML_Seagrass\\SourceData\\Washington\\Washington\\test\\overlay\\JF_WA_21_row7_col10.png\n",
      "Saved predicted mask for JF_WA_21_row7_col10.png with mIoU score: 0.806\n"
     ]
    },
    {
     "name": "stderr",
     "output_type": "stream",
     "text": [
      " 77%|███████▋  | 132/172 [00:48<00:15,  2.54it/s]"
     ]
    },
    {
     "name": "stdout",
     "output_type": "stream",
     "text": [
      "Saved overlay image: D:\\ML_Seagrass\\SourceData\\Washington\\Washington\\test\\overlay\\JF_WA_21_row8_col11.png\n",
      "Saved predicted mask for JF_WA_21_row8_col11.png with mIoU score: 0.354\n"
     ]
    },
    {
     "name": "stderr",
     "output_type": "stream",
     "text": [
      " 77%|███████▋  | 133/172 [00:49<00:15,  2.50it/s]"
     ]
    },
    {
     "name": "stdout",
     "output_type": "stream",
     "text": [
      "Saved overlay image: D:\\ML_Seagrass\\SourceData\\Washington\\Washington\\test\\overlay\\JF_WA_21_row8_col14.png\n",
      "Saved predicted mask for JF_WA_21_row8_col14.png with mIoU score: 0.283\n"
     ]
    },
    {
     "name": "stderr",
     "output_type": "stream",
     "text": [
      " 78%|███████▊  | 134/172 [00:49<00:15,  2.48it/s]"
     ]
    },
    {
     "name": "stdout",
     "output_type": "stream",
     "text": [
      "Saved overlay image: D:\\ML_Seagrass\\SourceData\\Washington\\Washington\\test\\overlay\\JF_WA_21_row8_col18.png\n",
      "Saved predicted mask for JF_WA_21_row8_col18.png with mIoU score: 0.367\n"
     ]
    },
    {
     "name": "stderr",
     "output_type": "stream",
     "text": [
      " 78%|███████▊  | 135/172 [00:49<00:12,  2.86it/s]"
     ]
    },
    {
     "name": "stdout",
     "output_type": "stream",
     "text": [
      "Saved overlay image: D:\\ML_Seagrass\\SourceData\\Washington\\Washington\\test\\overlay\\JF_WA_21_row8_col20.png\n",
      "Saved predicted mask for JF_WA_21_row8_col20.png with mIoU score: 0.962\n"
     ]
    },
    {
     "name": "stderr",
     "output_type": "stream",
     "text": [
      " 79%|███████▉  | 136/172 [00:50<00:13,  2.74it/s]"
     ]
    },
    {
     "name": "stdout",
     "output_type": "stream",
     "text": [
      "Saved overlay image: D:\\ML_Seagrass\\SourceData\\Washington\\Washington\\test\\overlay\\JF_WA_21_row9_col11.png\n",
      "Saved predicted mask for JF_WA_21_row9_col11.png with mIoU score: 0.726\n"
     ]
    },
    {
     "name": "stderr",
     "output_type": "stream",
     "text": [
      " 80%|███████▉  | 137/172 [00:50<00:12,  2.87it/s]"
     ]
    },
    {
     "name": "stdout",
     "output_type": "stream",
     "text": [
      "Saved overlay image: D:\\ML_Seagrass\\SourceData\\Washington\\Washington\\test\\overlay\\JF_WA_22_row3_col5.png\n",
      "Saved predicted mask for JF_WA_22_row3_col5.png with mIoU score: 0.485\n"
     ]
    },
    {
     "name": "stderr",
     "output_type": "stream",
     "text": [
      " 80%|████████  | 138/172 [00:51<00:13,  2.55it/s]"
     ]
    },
    {
     "name": "stdout",
     "output_type": "stream",
     "text": [
      "Saved overlay image: D:\\ML_Seagrass\\SourceData\\Washington\\Washington\\test\\overlay\\NC_WA_19_row4_col8.png\n",
      "Saved predicted mask for NC_WA_19_row4_col8.png with mIoU score: 0.573\n"
     ]
    },
    {
     "name": "stderr",
     "output_type": "stream",
     "text": [
      " 81%|████████  | 139/172 [00:51<00:13,  2.53it/s]"
     ]
    },
    {
     "name": "stdout",
     "output_type": "stream",
     "text": [
      "Saved overlay image: D:\\ML_Seagrass\\SourceData\\Washington\\Washington\\test\\overlay\\NC_WA_19_row4_col9.png\n",
      "Saved predicted mask for NC_WA_19_row4_col9.png with mIoU score: 0.603\n"
     ]
    },
    {
     "name": "stderr",
     "output_type": "stream",
     "text": [
      " 81%|████████▏ | 140/172 [00:51<00:11,  2.68it/s]"
     ]
    },
    {
     "name": "stdout",
     "output_type": "stream",
     "text": [
      "Saved overlay image: D:\\ML_Seagrass\\SourceData\\Washington\\Washington\\test\\overlay\\NC_WA_19_row6_col4.png\n",
      "Saved predicted mask for NC_WA_19_row6_col4.png with mIoU score: 0.926\n"
     ]
    },
    {
     "name": "stderr",
     "output_type": "stream",
     "text": [
      " 82%|████████▏ | 141/172 [00:52<00:11,  2.64it/s]"
     ]
    },
    {
     "name": "stdout",
     "output_type": "stream",
     "text": [
      "Saved overlay image: D:\\ML_Seagrass\\SourceData\\Washington\\Washington\\test\\overlay\\NC_WA_20_row10_col9.png\n",
      "Saved predicted mask for NC_WA_20_row10_col9.png with mIoU score: 0.664\n"
     ]
    },
    {
     "name": "stderr",
     "output_type": "stream",
     "text": [
      " 83%|████████▎ | 142/172 [00:52<00:11,  2.67it/s]"
     ]
    },
    {
     "name": "stdout",
     "output_type": "stream",
     "text": [
      "Saved overlay image: D:\\ML_Seagrass\\SourceData\\Washington\\Washington\\test\\overlay\\NC_WA_20_row11_col13.png\n",
      "Saved predicted mask for NC_WA_20_row11_col13.png with mIoU score: 0.616\n"
     ]
    },
    {
     "name": "stderr",
     "output_type": "stream",
     "text": [
      " 83%|████████▎ | 143/172 [00:53<00:11,  2.63it/s]"
     ]
    },
    {
     "name": "stdout",
     "output_type": "stream",
     "text": [
      "Saved overlay image: D:\\ML_Seagrass\\SourceData\\Washington\\Washington\\test\\overlay\\NC_WA_20_row11_col5.png\n",
      "Saved predicted mask for NC_WA_20_row11_col5.png with mIoU score: 0.914\n"
     ]
    },
    {
     "name": "stderr",
     "output_type": "stream",
     "text": [
      " 84%|████████▎ | 144/172 [00:53<00:10,  2.63it/s]"
     ]
    },
    {
     "name": "stdout",
     "output_type": "stream",
     "text": [
      "Saved overlay image: D:\\ML_Seagrass\\SourceData\\Washington\\Washington\\test\\overlay\\NC_WA_20_row13_col10.png\n",
      "Saved predicted mask for NC_WA_20_row13_col10.png with mIoU score: 0.760\n"
     ]
    },
    {
     "name": "stderr",
     "output_type": "stream",
     "text": [
      " 84%|████████▍ | 145/172 [00:53<00:10,  2.65it/s]"
     ]
    },
    {
     "name": "stdout",
     "output_type": "stream",
     "text": [
      "Saved overlay image: D:\\ML_Seagrass\\SourceData\\Washington\\Washington\\test\\overlay\\NC_WA_20_row13_col15.png\n",
      "Saved predicted mask for NC_WA_20_row13_col15.png with mIoU score: 0.942\n"
     ]
    },
    {
     "name": "stderr",
     "output_type": "stream",
     "text": [
      " 85%|████████▍ | 146/172 [00:54<00:09,  2.62it/s]"
     ]
    },
    {
     "name": "stdout",
     "output_type": "stream",
     "text": [
      "Saved overlay image: D:\\ML_Seagrass\\SourceData\\Washington\\Washington\\test\\overlay\\NC_WA_20_row14_col8.png\n",
      "Saved predicted mask for NC_WA_20_row14_col8.png with mIoU score: 0.870\n"
     ]
    },
    {
     "name": "stderr",
     "output_type": "stream",
     "text": [
      " 85%|████████▌ | 147/172 [00:54<00:09,  2.65it/s]"
     ]
    },
    {
     "name": "stdout",
     "output_type": "stream",
     "text": [
      "Saved overlay image: D:\\ML_Seagrass\\SourceData\\Washington\\Washington\\test\\overlay\\NC_WA_20_row15_col6.png\n",
      "Saved predicted mask for NC_WA_20_row15_col6.png with mIoU score: 0.936\n"
     ]
    },
    {
     "name": "stderr",
     "output_type": "stream",
     "text": [
      " 86%|████████▌ | 148/172 [00:54<00:08,  2.73it/s]"
     ]
    },
    {
     "name": "stdout",
     "output_type": "stream",
     "text": [
      "Saved overlay image: D:\\ML_Seagrass\\SourceData\\Washington\\Washington\\test\\overlay\\NC_WA_20_row16_col11.png\n",
      "Saved predicted mask for NC_WA_20_row16_col11.png with mIoU score: 0.722\n"
     ]
    },
    {
     "name": "stderr",
     "output_type": "stream",
     "text": [
      " 87%|████████▋ | 149/172 [00:55<00:08,  2.75it/s]"
     ]
    },
    {
     "name": "stdout",
     "output_type": "stream",
     "text": [
      "Saved overlay image: D:\\ML_Seagrass\\SourceData\\Washington\\Washington\\test\\overlay\\NC_WA_20_row17_col11.png\n",
      "Saved predicted mask for NC_WA_20_row17_col11.png with mIoU score: 0.797\n"
     ]
    },
    {
     "name": "stderr",
     "output_type": "stream",
     "text": [
      " 88%|████████▊ | 151/172 [00:55<00:06,  3.17it/s]"
     ]
    },
    {
     "name": "stdout",
     "output_type": "stream",
     "text": [
      "Saved overlay image: D:\\ML_Seagrass\\SourceData\\Washington\\Washington\\test\\overlay\\NC_WA_20_row18_col10.png\n",
      "Saved predicted mask for NC_WA_20_row18_col10.png with mIoU score: 0.853\n",
      "Saved overlay image: D:\\ML_Seagrass\\SourceData\\Washington\\Washington\\test\\overlay\\NC_WA_20_row21_col18.png\n",
      "Saved predicted mask for NC_WA_20_row21_col18.png with mIoU score: 0.947\n"
     ]
    },
    {
     "name": "stderr",
     "output_type": "stream",
     "text": [
      " 88%|████████▊ | 152/172 [00:56<00:05,  3.48it/s]"
     ]
    },
    {
     "name": "stdout",
     "output_type": "stream",
     "text": [
      "Saved overlay image: D:\\ML_Seagrass\\SourceData\\Washington\\Washington\\test\\overlay\\NC_WA_20_row21_col6.png\n",
      "Saved predicted mask for NC_WA_20_row21_col6.png with mIoU score: 0.946\n"
     ]
    },
    {
     "name": "stderr",
     "output_type": "stream",
     "text": [
      " 89%|████████▉ | 153/172 [00:56<00:06,  2.97it/s]"
     ]
    },
    {
     "name": "stdout",
     "output_type": "stream",
     "text": [
      "Saved overlay image: D:\\ML_Seagrass\\SourceData\\Washington\\Washington\\test\\overlay\\NC_WA_20_row4_col17.png\n",
      "Saved predicted mask for NC_WA_20_row4_col17.png with mIoU score: 0.623\n"
     ]
    },
    {
     "name": "stderr",
     "output_type": "stream",
     "text": [
      " 90%|████████▉ | 154/172 [00:56<00:05,  3.16it/s]"
     ]
    },
    {
     "name": "stdout",
     "output_type": "stream",
     "text": [
      "Saved overlay image: D:\\ML_Seagrass\\SourceData\\Washington\\Washington\\test\\overlay\\NC_WA_20_row5_col19.png\n",
      "Saved predicted mask for NC_WA_20_row5_col19.png with mIoU score: 0.994\n"
     ]
    },
    {
     "name": "stderr",
     "output_type": "stream",
     "text": [
      " 90%|█████████ | 155/172 [00:57<00:06,  2.83it/s]"
     ]
    },
    {
     "name": "stdout",
     "output_type": "stream",
     "text": [
      "Saved overlay image: D:\\ML_Seagrass\\SourceData\\Washington\\Washington\\test\\overlay\\NC_WA_20_row7_col19.png\n",
      "Saved predicted mask for NC_WA_20_row7_col19.png with mIoU score: 0.411\n"
     ]
    },
    {
     "name": "stderr",
     "output_type": "stream",
     "text": [
      " 91%|█████████ | 156/172 [00:57<00:06,  2.64it/s]"
     ]
    },
    {
     "name": "stdout",
     "output_type": "stream",
     "text": [
      "Saved overlay image: D:\\ML_Seagrass\\SourceData\\Washington\\Washington\\test\\overlay\\NC_WA_20_row9_col12.png\n",
      "Saved predicted mask for NC_WA_20_row9_col12.png with mIoU score: 0.741\n"
     ]
    },
    {
     "name": "stderr",
     "output_type": "stream",
     "text": [
      " 91%|█████████▏| 157/172 [00:58<00:05,  2.56it/s]"
     ]
    },
    {
     "name": "stdout",
     "output_type": "stream",
     "text": [
      "Saved overlay image: D:\\ML_Seagrass\\SourceData\\Washington\\Washington\\test\\overlay\\NC_WA_21_row10_col10.png\n",
      "Saved predicted mask for NC_WA_21_row10_col10.png with mIoU score: 0.680\n"
     ]
    },
    {
     "name": "stderr",
     "output_type": "stream",
     "text": [
      " 92%|█████████▏| 158/172 [00:58<00:05,  2.42it/s]"
     ]
    },
    {
     "name": "stdout",
     "output_type": "stream",
     "text": [
      "Saved overlay image: D:\\ML_Seagrass\\SourceData\\Washington\\Washington\\test\\overlay\\NC_WA_21_row11_col8.png\n",
      "Saved predicted mask for NC_WA_21_row11_col8.png with mIoU score: 0.392\n"
     ]
    },
    {
     "name": "stderr",
     "output_type": "stream",
     "text": [
      " 92%|█████████▏| 159/172 [00:58<00:05,  2.46it/s]"
     ]
    },
    {
     "name": "stdout",
     "output_type": "stream",
     "text": [
      "Saved overlay image: D:\\ML_Seagrass\\SourceData\\Washington\\Washington\\test\\overlay\\NC_WA_21_row7_col15.png\n",
      "Saved predicted mask for NC_WA_21_row7_col15.png with mIoU score: 0.540\n"
     ]
    },
    {
     "name": "stderr",
     "output_type": "stream",
     "text": [
      " 93%|█████████▎| 160/172 [00:59<00:04,  2.59it/s]"
     ]
    },
    {
     "name": "stdout",
     "output_type": "stream",
     "text": [
      "Saved overlay image: D:\\ML_Seagrass\\SourceData\\Washington\\Washington\\test\\overlay\\NC_WA_21_row7_col18.png\n",
      "Saved predicted mask for NC_WA_21_row7_col18.png with mIoU score: 0.726\n"
     ]
    },
    {
     "name": "stderr",
     "output_type": "stream",
     "text": [
      " 94%|█████████▎| 161/172 [00:59<00:03,  2.75it/s]"
     ]
    },
    {
     "name": "stdout",
     "output_type": "stream",
     "text": [
      "Saved overlay image: D:\\ML_Seagrass\\SourceData\\Washington\\Washington\\test\\overlay\\NC_WA_21_row8_col1.png\n",
      "Saved predicted mask for NC_WA_21_row8_col1.png with mIoU score: 0.863\n"
     ]
    },
    {
     "name": "stderr",
     "output_type": "stream",
     "text": [
      " 94%|█████████▍| 162/172 [00:59<00:03,  2.81it/s]"
     ]
    },
    {
     "name": "stdout",
     "output_type": "stream",
     "text": [
      "Saved overlay image: D:\\ML_Seagrass\\SourceData\\Washington\\Washington\\test\\overlay\\NC_WA_21_row8_col8.png\n",
      "Saved predicted mask for NC_WA_21_row8_col8.png with mIoU score: 0.915\n"
     ]
    },
    {
     "name": "stderr",
     "output_type": "stream",
     "text": [
      " 95%|█████████▍| 163/172 [01:00<00:03,  2.77it/s]"
     ]
    },
    {
     "name": "stdout",
     "output_type": "stream",
     "text": [
      "Saved overlay image: D:\\ML_Seagrass\\SourceData\\Washington\\Washington\\test\\overlay\\NC_WA_21_row9_col16.png\n",
      "Saved predicted mask for NC_WA_21_row9_col16.png with mIoU score: 0.883\n"
     ]
    },
    {
     "name": "stderr",
     "output_type": "stream",
     "text": [
      " 95%|█████████▌| 164/172 [01:00<00:02,  2.76it/s]"
     ]
    },
    {
     "name": "stdout",
     "output_type": "stream",
     "text": [
      "Saved overlay image: D:\\ML_Seagrass\\SourceData\\Washington\\Washington\\test\\overlay\\NC_WA_22_row10_col5.png\n",
      "Saved predicted mask for NC_WA_22_row10_col5.png with mIoU score: 0.512\n"
     ]
    },
    {
     "name": "stderr",
     "output_type": "stream",
     "text": [
      " 96%|█████████▌| 165/172 [01:00<00:02,  3.06it/s]"
     ]
    },
    {
     "name": "stdout",
     "output_type": "stream",
     "text": [
      "Saved overlay image: D:\\ML_Seagrass\\SourceData\\Washington\\Washington\\test\\overlay\\NC_WA_22_row5_col14.png\n",
      "Saved predicted mask for NC_WA_22_row5_col14.png with mIoU score: 0.733\n"
     ]
    },
    {
     "name": "stderr",
     "output_type": "stream",
     "text": [
      " 97%|█████████▋| 166/172 [01:01<00:02,  2.95it/s]"
     ]
    },
    {
     "name": "stdout",
     "output_type": "stream",
     "text": [
      "Saved overlay image: D:\\ML_Seagrass\\SourceData\\Washington\\Washington\\test\\overlay\\NC_WA_22_row6_col13.png\n",
      "Saved predicted mask for NC_WA_22_row6_col13.png with mIoU score: 0.523\n"
     ]
    },
    {
     "name": "stderr",
     "output_type": "stream",
     "text": [
      " 97%|█████████▋| 167/172 [01:01<00:01,  2.68it/s]"
     ]
    },
    {
     "name": "stdout",
     "output_type": "stream",
     "text": [
      "Saved overlay image: D:\\ML_Seagrass\\SourceData\\Washington\\Washington\\test\\overlay\\NC_WA_22_row7_col13.png\n",
      "Saved predicted mask for NC_WA_22_row7_col13.png with mIoU score: 0.748\n"
     ]
    },
    {
     "name": "stderr",
     "output_type": "stream",
     "text": [
      " 98%|█████████▊| 168/172 [01:02<00:01,  2.75it/s]"
     ]
    },
    {
     "name": "stdout",
     "output_type": "stream",
     "text": [
      "Saved overlay image: D:\\ML_Seagrass\\SourceData\\Washington\\Washington\\test\\overlay\\NC_WA_22_row7_col14.png\n",
      "Saved predicted mask for NC_WA_22_row7_col14.png with mIoU score: 0.779\n"
     ]
    },
    {
     "name": "stderr",
     "output_type": "stream",
     "text": [
      " 98%|█████████▊| 169/172 [01:02<00:01,  2.62it/s]"
     ]
    },
    {
     "name": "stdout",
     "output_type": "stream",
     "text": [
      "Saved overlay image: D:\\ML_Seagrass\\SourceData\\Washington\\Washington\\test\\overlay\\NC_WA_22_row8_col11.png\n",
      "Saved predicted mask for NC_WA_22_row8_col11.png with mIoU score: 0.583\n"
     ]
    },
    {
     "name": "stderr",
     "output_type": "stream",
     "text": [
      " 99%|█████████▉| 170/172 [01:02<00:00,  2.68it/s]"
     ]
    },
    {
     "name": "stdout",
     "output_type": "stream",
     "text": [
      "Saved overlay image: D:\\ML_Seagrass\\SourceData\\Washington\\Washington\\test\\overlay\\NC_WA_22_row8_col7.png\n",
      "Saved predicted mask for NC_WA_22_row8_col7.png with mIoU score: 0.365\n"
     ]
    },
    {
     "name": "stderr",
     "output_type": "stream",
     "text": [
      " 99%|█████████▉| 171/172 [01:03<00:00,  2.63it/s]"
     ]
    },
    {
     "name": "stdout",
     "output_type": "stream",
     "text": [
      "Saved overlay image: D:\\ML_Seagrass\\SourceData\\Washington\\Washington\\test\\overlay\\NC_WA_22_row8_col9.png\n",
      "Saved predicted mask for NC_WA_22_row8_col9.png with mIoU score: 0.637\n"
     ]
    },
    {
     "name": "stderr",
     "output_type": "stream",
     "text": [
      "100%|██████████| 172/172 [01:03<00:00,  2.71it/s]"
     ]
    },
    {
     "name": "stdout",
     "output_type": "stream",
     "text": [
      "Saved overlay image: D:\\ML_Seagrass\\SourceData\\Washington\\Washington\\test\\overlay\\NC_WA_22_row9_col4.png\n",
      "Saved predicted mask for NC_WA_22_row9_col4.png with mIoU score: 0.857\n"
     ]
    },
    {
     "name": "stderr",
     "output_type": "stream",
     "text": [
      "\n"
     ]
    }
   ],
   "source": [
    "import os\n",
    "from tqdm import tqdm\n",
    "\n",
    "# Define the save path for the predicted masks and the folder for original images\n",
    "original_image_folder = r'D:\\ML_Seagrass\\SourceData\\Washington\\Washington\\test\\image'  # Folder with original images\n",
    "save_path = r'D:\\ML_Seagrass\\SourceData\\Washington\\Washington\\test\\overlay'\n",
    "Pred_mask_path = r'D:\\ML_Seagrass\\SourceData\\Washington\\Washington\\test\\predicted'\n",
    "\n",
    "# Ensure the directories exist\n",
    "os.makedirs(save_path, exist_ok=True)\n",
    "os.makedirs(Pred_mask_path, exist_ok=True)\n",
    "\n",
    "# Loop through all images in the test set\n",
    "for idx in tqdm(range(len(test_set))):\n",
    "    image, mask, img_file_name = test_set[idx]  # Get mask and filename from test_set\n",
    "    \n",
    "    # Define the save path for the current predicted mask\n",
    "    save_overlay_file = os.path.join(save_path, f'{img_file_name}')  # Save with filename\n",
    "    save_predicted_file = os.path.join(Pred_mask_path, f'{img_file_name}')\n",
    "     \n",
    "    # Run inference to get the predicted mask\n",
    "    pred_mask, score = predict_image_mask_miou(model, image, mask, save_predicted_file)\n",
    "    \n",
    "    # Save the overlay of the predicted mask on the original image read from `original_image_folder`\n",
    "    save_predicted_mask_overlay(pred_mask, img_file_name, original_image_folder, save_overlay_file)\n",
    "    \n",
    "    # Optionally, log the progress or save additional data\n",
    "    print(f\"Saved predicted mask for {img_file_name} with mIoU score: {score:.3f}\")\n"
   ]
  }
 ],
 "metadata": {
  "accelerator": "GPU",
  "colab": {
   "gpuType": "T4",
   "provenance": []
  },
  "kernelspec": {
   "display_name": "Python 3 (ipykernel)",
   "language": "python",
   "name": "python3"
  },
  "language_info": {
   "codemirror_mode": {
    "name": "ipython",
    "version": 3
   },
   "file_extension": ".py",
   "mimetype": "text/x-python",
   "name": "python",
   "nbconvert_exporter": "python",
   "pygments_lexer": "ipython3",
   "version": "3.10.14"
  },
  "widgets": {
   "application/vnd.jupyter.widget-state+json": {
    "03a2141fad814fa39632b87e7ef8a134": {
     "model_module": "@jupyter-widgets/base",
     "model_module_version": "1.2.0",
     "model_name": "LayoutModel",
     "state": {
      "_model_module": "@jupyter-widgets/base",
      "_model_module_version": "1.2.0",
      "_model_name": "LayoutModel",
      "_view_count": null,
      "_view_module": "@jupyter-widgets/base",
      "_view_module_version": "1.2.0",
      "_view_name": "LayoutView",
      "align_content": null,
      "align_items": null,
      "align_self": null,
      "border": null,
      "bottom": null,
      "display": null,
      "flex": null,
      "flex_flow": null,
      "grid_area": null,
      "grid_auto_columns": null,
      "grid_auto_flow": null,
      "grid_auto_rows": null,
      "grid_column": null,
      "grid_gap": null,
      "grid_row": null,
      "grid_template_areas": null,
      "grid_template_columns": null,
      "grid_template_rows": null,
      "height": null,
      "justify_content": null,
      "justify_items": null,
      "left": null,
      "margin": null,
      "max_height": null,
      "max_width": null,
      "min_height": null,
      "min_width": null,
      "object_fit": null,
      "object_position": null,
      "order": null,
      "overflow": null,
      "overflow_x": null,
      "overflow_y": null,
      "padding": null,
      "right": null,
      "top": null,
      "visibility": null,
      "width": null
     }
    },
    "0c6a036444b043ef9df7cc7e854a2a17": {
     "model_module": "@jupyter-widgets/controls",
     "model_module_version": "1.5.0",
     "model_name": "DescriptionStyleModel",
     "state": {
      "_model_module": "@jupyter-widgets/controls",
      "_model_module_version": "1.5.0",
      "_model_name": "DescriptionStyleModel",
      "_view_count": null,
      "_view_module": "@jupyter-widgets/base",
      "_view_module_version": "1.2.0",
      "_view_name": "StyleView",
      "description_width": ""
     }
    },
    "0d48ded90abf4b10b0ce4a023cedc338": {
     "model_module": "@jupyter-widgets/base",
     "model_module_version": "1.2.0",
     "model_name": "LayoutModel",
     "state": {
      "_model_module": "@jupyter-widgets/base",
      "_model_module_version": "1.2.0",
      "_model_name": "LayoutModel",
      "_view_count": null,
      "_view_module": "@jupyter-widgets/base",
      "_view_module_version": "1.2.0",
      "_view_name": "LayoutView",
      "align_content": null,
      "align_items": null,
      "align_self": null,
      "border": null,
      "bottom": null,
      "display": null,
      "flex": null,
      "flex_flow": null,
      "grid_area": null,
      "grid_auto_columns": null,
      "grid_auto_flow": null,
      "grid_auto_rows": null,
      "grid_column": null,
      "grid_gap": null,
      "grid_row": null,
      "grid_template_areas": null,
      "grid_template_columns": null,
      "grid_template_rows": null,
      "height": null,
      "justify_content": null,
      "justify_items": null,
      "left": null,
      "margin": null,
      "max_height": null,
      "max_width": null,
      "min_height": null,
      "min_width": null,
      "object_fit": null,
      "object_position": null,
      "order": null,
      "overflow": null,
      "overflow_x": null,
      "overflow_y": null,
      "padding": null,
      "right": null,
      "top": null,
      "visibility": null,
      "width": null
     }
    },
    "0da6636154224e239e0acf128251552d": {
     "model_module": "@jupyter-widgets/controls",
     "model_module_version": "1.5.0",
     "model_name": "HTMLModel",
     "state": {
      "_dom_classes": [],
      "_model_module": "@jupyter-widgets/controls",
      "_model_module_version": "1.5.0",
      "_model_name": "HTMLModel",
      "_view_count": null,
      "_view_module": "@jupyter-widgets/controls",
      "_view_module_version": "1.5.0",
      "_view_name": "HTMLView",
      "description": "",
      "description_tooltip": null,
      "layout": "IPY_MODEL_bfea514454064155841bb153d837b5b3",
      "placeholder": "​",
      "style": "IPY_MODEL_7b58b04187ad4246919324f5fa3d9a44",
      "value": "100%"
     }
    },
    "110ee953de00408389437603ab9cbd15": {
     "model_module": "@jupyter-widgets/base",
     "model_module_version": "1.2.0",
     "model_name": "LayoutModel",
     "state": {
      "_model_module": "@jupyter-widgets/base",
      "_model_module_version": "1.2.0",
      "_model_name": "LayoutModel",
      "_view_count": null,
      "_view_module": "@jupyter-widgets/base",
      "_view_module_version": "1.2.0",
      "_view_name": "LayoutView",
      "align_content": null,
      "align_items": null,
      "align_self": null,
      "border": null,
      "bottom": null,
      "display": null,
      "flex": null,
      "flex_flow": null,
      "grid_area": null,
      "grid_auto_columns": null,
      "grid_auto_flow": null,
      "grid_auto_rows": null,
      "grid_column": null,
      "grid_gap": null,
      "grid_row": null,
      "grid_template_areas": null,
      "grid_template_columns": null,
      "grid_template_rows": null,
      "height": null,
      "justify_content": null,
      "justify_items": null,
      "left": null,
      "margin": null,
      "max_height": null,
      "max_width": null,
      "min_height": null,
      "min_width": null,
      "object_fit": null,
      "object_position": null,
      "order": null,
      "overflow": null,
      "overflow_x": null,
      "overflow_y": null,
      "padding": null,
      "right": null,
      "top": null,
      "visibility": null,
      "width": null
     }
    },
    "163f38a04bda46ee92bb147e7d5faa80": {
     "model_module": "@jupyter-widgets/base",
     "model_module_version": "1.2.0",
     "model_name": "LayoutModel",
     "state": {
      "_model_module": "@jupyter-widgets/base",
      "_model_module_version": "1.2.0",
      "_model_name": "LayoutModel",
      "_view_count": null,
      "_view_module": "@jupyter-widgets/base",
      "_view_module_version": "1.2.0",
      "_view_name": "LayoutView",
      "align_content": null,
      "align_items": null,
      "align_self": null,
      "border": null,
      "bottom": null,
      "display": null,
      "flex": null,
      "flex_flow": null,
      "grid_area": null,
      "grid_auto_columns": null,
      "grid_auto_flow": null,
      "grid_auto_rows": null,
      "grid_column": null,
      "grid_gap": null,
      "grid_row": null,
      "grid_template_areas": null,
      "grid_template_columns": null,
      "grid_template_rows": null,
      "height": null,
      "justify_content": null,
      "justify_items": null,
      "left": null,
      "margin": null,
      "max_height": null,
      "max_width": null,
      "min_height": null,
      "min_width": null,
      "object_fit": null,
      "object_position": null,
      "order": null,
      "overflow": null,
      "overflow_x": null,
      "overflow_y": null,
      "padding": null,
      "right": null,
      "top": null,
      "visibility": null,
      "width": null
     }
    },
    "19d6d94b89704a269debe53bb709576d": {
     "model_module": "@jupyter-widgets/controls",
     "model_module_version": "1.5.0",
     "model_name": "HTMLModel",
     "state": {
      "_dom_classes": [],
      "_model_module": "@jupyter-widgets/controls",
      "_model_module_version": "1.5.0",
      "_model_name": "HTMLModel",
      "_view_count": null,
      "_view_module": "@jupyter-widgets/controls",
      "_view_module_version": "1.5.0",
      "_view_name": "HTMLView",
      "description": "",
      "description_tooltip": null,
      "layout": "IPY_MODEL_1a19a3eae622461585e820b2fb93316c",
      "placeholder": "​",
      "style": "IPY_MODEL_66a3ea8eb4f24f50b8e82fb9f25e3bcd",
      "value": "  0%"
     }
    },
    "1a19a3eae622461585e820b2fb93316c": {
     "model_module": "@jupyter-widgets/base",
     "model_module_version": "1.2.0",
     "model_name": "LayoutModel",
     "state": {
      "_model_module": "@jupyter-widgets/base",
      "_model_module_version": "1.2.0",
      "_model_name": "LayoutModel",
      "_view_count": null,
      "_view_module": "@jupyter-widgets/base",
      "_view_module_version": "1.2.0",
      "_view_name": "LayoutView",
      "align_content": null,
      "align_items": null,
      "align_self": null,
      "border": null,
      "bottom": null,
      "display": null,
      "flex": null,
      "flex_flow": null,
      "grid_area": null,
      "grid_auto_columns": null,
      "grid_auto_flow": null,
      "grid_auto_rows": null,
      "grid_column": null,
      "grid_gap": null,
      "grid_row": null,
      "grid_template_areas": null,
      "grid_template_columns": null,
      "grid_template_rows": null,
      "height": null,
      "justify_content": null,
      "justify_items": null,
      "left": null,
      "margin": null,
      "max_height": null,
      "max_width": null,
      "min_height": null,
      "min_width": null,
      "object_fit": null,
      "object_position": null,
      "order": null,
      "overflow": null,
      "overflow_x": null,
      "overflow_y": null,
      "padding": null,
      "right": null,
      "top": null,
      "visibility": null,
      "width": null
     }
    },
    "1c7b25ad1e4b43c79785da22f7abb982": {
     "model_module": "@jupyter-widgets/base",
     "model_module_version": "1.2.0",
     "model_name": "LayoutModel",
     "state": {
      "_model_module": "@jupyter-widgets/base",
      "_model_module_version": "1.2.0",
      "_model_name": "LayoutModel",
      "_view_count": null,
      "_view_module": "@jupyter-widgets/base",
      "_view_module_version": "1.2.0",
      "_view_name": "LayoutView",
      "align_content": null,
      "align_items": null,
      "align_self": null,
      "border": null,
      "bottom": null,
      "display": null,
      "flex": null,
      "flex_flow": null,
      "grid_area": null,
      "grid_auto_columns": null,
      "grid_auto_flow": null,
      "grid_auto_rows": null,
      "grid_column": null,
      "grid_gap": null,
      "grid_row": null,
      "grid_template_areas": null,
      "grid_template_columns": null,
      "grid_template_rows": null,
      "height": null,
      "justify_content": null,
      "justify_items": null,
      "left": null,
      "margin": null,
      "max_height": null,
      "max_width": null,
      "min_height": null,
      "min_width": null,
      "object_fit": null,
      "object_position": null,
      "order": null,
      "overflow": null,
      "overflow_x": null,
      "overflow_y": null,
      "padding": null,
      "right": null,
      "top": null,
      "visibility": null,
      "width": null
     }
    },
    "4907a67a924f4daea078544b5a929188": {
     "model_module": "@jupyter-widgets/controls",
     "model_module_version": "1.5.0",
     "model_name": "ProgressStyleModel",
     "state": {
      "_model_module": "@jupyter-widgets/controls",
      "_model_module_version": "1.5.0",
      "_model_name": "ProgressStyleModel",
      "_view_count": null,
      "_view_module": "@jupyter-widgets/base",
      "_view_module_version": "1.2.0",
      "_view_name": "StyleView",
      "bar_color": null,
      "description_width": ""
     }
    },
    "4a1b1fc61367429491b12299dc5d1ec9": {
     "model_module": "@jupyter-widgets/controls",
     "model_module_version": "1.5.0",
     "model_name": "DescriptionStyleModel",
     "state": {
      "_model_module": "@jupyter-widgets/controls",
      "_model_module_version": "1.5.0",
      "_model_name": "DescriptionStyleModel",
      "_view_count": null,
      "_view_module": "@jupyter-widgets/base",
      "_view_module_version": "1.2.0",
      "_view_name": "StyleView",
      "description_width": ""
     }
    },
    "4a3d1a2536ca421ba23300b348c7372d": {
     "model_module": "@jupyter-widgets/controls",
     "model_module_version": "1.5.0",
     "model_name": "HBoxModel",
     "state": {
      "_dom_classes": [],
      "_model_module": "@jupyter-widgets/controls",
      "_model_module_version": "1.5.0",
      "_model_name": "HBoxModel",
      "_view_count": null,
      "_view_module": "@jupyter-widgets/controls",
      "_view_module_version": "1.5.0",
      "_view_name": "HBoxView",
      "box_style": "",
      "children": [
       "IPY_MODEL_0da6636154224e239e0acf128251552d",
       "IPY_MODEL_f2885ad7a0d946168987cd0860ce2a13",
       "IPY_MODEL_edf110fd6b7f48caa90967a684a7d784"
      ],
      "layout": "IPY_MODEL_1c7b25ad1e4b43c79785da22f7abb982"
     }
    },
    "4c552b1eb28649ec8c49645da3c72bc9": {
     "model_module": "@jupyter-widgets/base",
     "model_module_version": "1.2.0",
     "model_name": "LayoutModel",
     "state": {
      "_model_module": "@jupyter-widgets/base",
      "_model_module_version": "1.2.0",
      "_model_name": "LayoutModel",
      "_view_count": null,
      "_view_module": "@jupyter-widgets/base",
      "_view_module_version": "1.2.0",
      "_view_name": "LayoutView",
      "align_content": null,
      "align_items": null,
      "align_self": null,
      "border": null,
      "bottom": null,
      "display": null,
      "flex": null,
      "flex_flow": null,
      "grid_area": null,
      "grid_auto_columns": null,
      "grid_auto_flow": null,
      "grid_auto_rows": null,
      "grid_column": null,
      "grid_gap": null,
      "grid_row": null,
      "grid_template_areas": null,
      "grid_template_columns": null,
      "grid_template_rows": null,
      "height": null,
      "justify_content": null,
      "justify_items": null,
      "left": null,
      "margin": null,
      "max_height": null,
      "max_width": null,
      "min_height": null,
      "min_width": null,
      "object_fit": null,
      "object_position": null,
      "order": null,
      "overflow": null,
      "overflow_x": null,
      "overflow_y": null,
      "padding": null,
      "right": null,
      "top": null,
      "visibility": null,
      "width": null
     }
    },
    "4e5b4dbac61640bc9dc8286cfee93f13": {
     "model_module": "@jupyter-widgets/controls",
     "model_module_version": "1.5.0",
     "model_name": "HTMLModel",
     "state": {
      "_dom_classes": [],
      "_model_module": "@jupyter-widgets/controls",
      "_model_module_version": "1.5.0",
      "_model_name": "HTMLModel",
      "_view_count": null,
      "_view_module": "@jupyter-widgets/controls",
      "_view_module_version": "1.5.0",
      "_view_name": "HTMLView",
      "description": "",
      "description_tooltip": null,
      "layout": "IPY_MODEL_03a2141fad814fa39632b87e7ef8a134",
      "placeholder": "​",
      "style": "IPY_MODEL_c99b9ceff61144ca937598af9d150c8b",
      "value": "100%"
     }
    },
    "4fc823b122304890af9cb927f3f8afef": {
     "model_module": "@jupyter-widgets/controls",
     "model_module_version": "1.5.0",
     "model_name": "DescriptionStyleModel",
     "state": {
      "_model_module": "@jupyter-widgets/controls",
      "_model_module_version": "1.5.0",
      "_model_name": "DescriptionStyleModel",
      "_view_count": null,
      "_view_module": "@jupyter-widgets/base",
      "_view_module_version": "1.2.0",
      "_view_name": "StyleView",
      "description_width": ""
     }
    },
    "66a3ea8eb4f24f50b8e82fb9f25e3bcd": {
     "model_module": "@jupyter-widgets/controls",
     "model_module_version": "1.5.0",
     "model_name": "DescriptionStyleModel",
     "state": {
      "_model_module": "@jupyter-widgets/controls",
      "_model_module_version": "1.5.0",
      "_model_name": "DescriptionStyleModel",
      "_view_count": null,
      "_view_module": "@jupyter-widgets/base",
      "_view_module_version": "1.2.0",
      "_view_name": "StyleView",
      "description_width": ""
     }
    },
    "68dcb9ff28f54dd387d3e816473cd13f": {
     "model_module": "@jupyter-widgets/base",
     "model_module_version": "1.2.0",
     "model_name": "LayoutModel",
     "state": {
      "_model_module": "@jupyter-widgets/base",
      "_model_module_version": "1.2.0",
      "_model_name": "LayoutModel",
      "_view_count": null,
      "_view_module": "@jupyter-widgets/base",
      "_view_module_version": "1.2.0",
      "_view_name": "LayoutView",
      "align_content": null,
      "align_items": null,
      "align_self": null,
      "border": null,
      "bottom": null,
      "display": null,
      "flex": null,
      "flex_flow": null,
      "grid_area": null,
      "grid_auto_columns": null,
      "grid_auto_flow": null,
      "grid_auto_rows": null,
      "grid_column": null,
      "grid_gap": null,
      "grid_row": null,
      "grid_template_areas": null,
      "grid_template_columns": null,
      "grid_template_rows": null,
      "height": null,
      "justify_content": null,
      "justify_items": null,
      "left": null,
      "margin": null,
      "max_height": null,
      "max_width": null,
      "min_height": null,
      "min_width": null,
      "object_fit": null,
      "object_position": null,
      "order": null,
      "overflow": null,
      "overflow_x": null,
      "overflow_y": null,
      "padding": null,
      "right": null,
      "top": null,
      "visibility": null,
      "width": null
     }
    },
    "7b58b04187ad4246919324f5fa3d9a44": {
     "model_module": "@jupyter-widgets/controls",
     "model_module_version": "1.5.0",
     "model_name": "DescriptionStyleModel",
     "state": {
      "_model_module": "@jupyter-widgets/controls",
      "_model_module_version": "1.5.0",
      "_model_name": "DescriptionStyleModel",
      "_view_count": null,
      "_view_module": "@jupyter-widgets/base",
      "_view_module_version": "1.2.0",
      "_view_name": "StyleView",
      "description_width": ""
     }
    },
    "7c1f12cb1ab847249bb4280c54b564cb": {
     "model_module": "@jupyter-widgets/controls",
     "model_module_version": "1.5.0",
     "model_name": "HBoxModel",
     "state": {
      "_dom_classes": [],
      "_model_module": "@jupyter-widgets/controls",
      "_model_module_version": "1.5.0",
      "_model_name": "HBoxModel",
      "_view_count": null,
      "_view_module": "@jupyter-widgets/controls",
      "_view_module_version": "1.5.0",
      "_view_name": "HBoxView",
      "box_style": "",
      "children": [
       "IPY_MODEL_19d6d94b89704a269debe53bb709576d",
       "IPY_MODEL_d4f923059c214d2a8aa3fd74ef0b0b38",
       "IPY_MODEL_be620ffd47314ef3b9e071b5f1eca94c"
      ],
      "layout": "IPY_MODEL_163f38a04bda46ee92bb147e7d5faa80"
     }
    },
    "84657db6d3dc46d5bd0fa25898ee14f2": {
     "model_module": "@jupyter-widgets/controls",
     "model_module_version": "1.5.0",
     "model_name": "FloatProgressModel",
     "state": {
      "_dom_classes": [],
      "_model_module": "@jupyter-widgets/controls",
      "_model_module_version": "1.5.0",
      "_model_name": "FloatProgressModel",
      "_view_count": null,
      "_view_module": "@jupyter-widgets/controls",
      "_view_module_version": "1.5.0",
      "_view_name": "ProgressView",
      "bar_style": "success",
      "description": "",
      "description_tooltip": null,
      "layout": "IPY_MODEL_8ee2363c68e54d908f2dfb0b698549d3",
      "max": 9,
      "min": 0,
      "orientation": "horizontal",
      "style": "IPY_MODEL_f05c6fe1e5c04ebdae94c909041712ac",
      "value": 9
     }
    },
    "8834a7b9229842e78082e64a5157a0ce": {
     "model_module": "@jupyter-widgets/base",
     "model_module_version": "1.2.0",
     "model_name": "LayoutModel",
     "state": {
      "_model_module": "@jupyter-widgets/base",
      "_model_module_version": "1.2.0",
      "_model_name": "LayoutModel",
      "_view_count": null,
      "_view_module": "@jupyter-widgets/base",
      "_view_module_version": "1.2.0",
      "_view_name": "LayoutView",
      "align_content": null,
      "align_items": null,
      "align_self": null,
      "border": null,
      "bottom": null,
      "display": null,
      "flex": null,
      "flex_flow": null,
      "grid_area": null,
      "grid_auto_columns": null,
      "grid_auto_flow": null,
      "grid_auto_rows": null,
      "grid_column": null,
      "grid_gap": null,
      "grid_row": null,
      "grid_template_areas": null,
      "grid_template_columns": null,
      "grid_template_rows": null,
      "height": null,
      "justify_content": null,
      "justify_items": null,
      "left": null,
      "margin": null,
      "max_height": null,
      "max_width": null,
      "min_height": null,
      "min_width": null,
      "object_fit": null,
      "object_position": null,
      "order": null,
      "overflow": null,
      "overflow_x": null,
      "overflow_y": null,
      "padding": null,
      "right": null,
      "top": null,
      "visibility": null,
      "width": null
     }
    },
    "8ee2363c68e54d908f2dfb0b698549d3": {
     "model_module": "@jupyter-widgets/base",
     "model_module_version": "1.2.0",
     "model_name": "LayoutModel",
     "state": {
      "_model_module": "@jupyter-widgets/base",
      "_model_module_version": "1.2.0",
      "_model_name": "LayoutModel",
      "_view_count": null,
      "_view_module": "@jupyter-widgets/base",
      "_view_module_version": "1.2.0",
      "_view_name": "LayoutView",
      "align_content": null,
      "align_items": null,
      "align_self": null,
      "border": null,
      "bottom": null,
      "display": null,
      "flex": null,
      "flex_flow": null,
      "grid_area": null,
      "grid_auto_columns": null,
      "grid_auto_flow": null,
      "grid_auto_rows": null,
      "grid_column": null,
      "grid_gap": null,
      "grid_row": null,
      "grid_template_areas": null,
      "grid_template_columns": null,
      "grid_template_rows": null,
      "height": null,
      "justify_content": null,
      "justify_items": null,
      "left": null,
      "margin": null,
      "max_height": null,
      "max_width": null,
      "min_height": null,
      "min_width": null,
      "object_fit": null,
      "object_position": null,
      "order": null,
      "overflow": null,
      "overflow_x": null,
      "overflow_y": null,
      "padding": null,
      "right": null,
      "top": null,
      "visibility": null,
      "width": null
     }
    },
    "9075c9929447407ea9e9c5288583dadb": {
     "model_module": "@jupyter-widgets/controls",
     "model_module_version": "1.5.0",
     "model_name": "ProgressStyleModel",
     "state": {
      "_model_module": "@jupyter-widgets/controls",
      "_model_module_version": "1.5.0",
      "_model_name": "ProgressStyleModel",
      "_view_count": null,
      "_view_module": "@jupyter-widgets/base",
      "_view_module_version": "1.2.0",
      "_view_name": "StyleView",
      "bar_color": null,
      "description_width": ""
     }
    },
    "92b88d70c83248279bf530ea2041bfe8": {
     "model_module": "@jupyter-widgets/controls",
     "model_module_version": "1.5.0",
     "model_name": "HTMLModel",
     "state": {
      "_dom_classes": [],
      "_model_module": "@jupyter-widgets/controls",
      "_model_module_version": "1.5.0",
      "_model_name": "HTMLModel",
      "_view_count": null,
      "_view_module": "@jupyter-widgets/controls",
      "_view_module_version": "1.5.0",
      "_view_name": "HTMLView",
      "description": "",
      "description_tooltip": null,
      "layout": "IPY_MODEL_8834a7b9229842e78082e64a5157a0ce",
      "placeholder": "​",
      "style": "IPY_MODEL_0c6a036444b043ef9df7cc7e854a2a17",
      "value": " 9/9 [00:23&lt;00:00,  2.84s/it]"
     }
    },
    "a24b9d4c1e524a1c9c105e6e5740bde1": {
     "model_module": "@jupyter-widgets/controls",
     "model_module_version": "1.5.0",
     "model_name": "HBoxModel",
     "state": {
      "_dom_classes": [],
      "_model_module": "@jupyter-widgets/controls",
      "_model_module_version": "1.5.0",
      "_model_name": "HBoxModel",
      "_view_count": null,
      "_view_module": "@jupyter-widgets/controls",
      "_view_module_version": "1.5.0",
      "_view_name": "HBoxView",
      "box_style": "",
      "children": [
       "IPY_MODEL_4e5b4dbac61640bc9dc8286cfee93f13",
       "IPY_MODEL_84657db6d3dc46d5bd0fa25898ee14f2",
       "IPY_MODEL_92b88d70c83248279bf530ea2041bfe8"
      ],
      "layout": "IPY_MODEL_f7a8233fab1e4dff8bb2403538b49da1"
     }
    },
    "be620ffd47314ef3b9e071b5f1eca94c": {
     "model_module": "@jupyter-widgets/controls",
     "model_module_version": "1.5.0",
     "model_name": "HTMLModel",
     "state": {
      "_dom_classes": [],
      "_model_module": "@jupyter-widgets/controls",
      "_model_module_version": "1.5.0",
      "_model_name": "HTMLModel",
      "_view_count": null,
      "_view_module": "@jupyter-widgets/controls",
      "_view_module_version": "1.5.0",
      "_view_name": "HTMLView",
      "description": "",
      "description_tooltip": null,
      "layout": "IPY_MODEL_110ee953de00408389437603ab9cbd15",
      "placeholder": "​",
      "style": "IPY_MODEL_4fc823b122304890af9cb927f3f8afef",
      "value": " 0/11 [00:00&lt;?, ?it/s]"
     }
    },
    "bfea514454064155841bb153d837b5b3": {
     "model_module": "@jupyter-widgets/base",
     "model_module_version": "1.2.0",
     "model_name": "LayoutModel",
     "state": {
      "_model_module": "@jupyter-widgets/base",
      "_model_module_version": "1.2.0",
      "_model_name": "LayoutModel",
      "_view_count": null,
      "_view_module": "@jupyter-widgets/base",
      "_view_module_version": "1.2.0",
      "_view_name": "LayoutView",
      "align_content": null,
      "align_items": null,
      "align_self": null,
      "border": null,
      "bottom": null,
      "display": null,
      "flex": null,
      "flex_flow": null,
      "grid_area": null,
      "grid_auto_columns": null,
      "grid_auto_flow": null,
      "grid_auto_rows": null,
      "grid_column": null,
      "grid_gap": null,
      "grid_row": null,
      "grid_template_areas": null,
      "grid_template_columns": null,
      "grid_template_rows": null,
      "height": null,
      "justify_content": null,
      "justify_items": null,
      "left": null,
      "margin": null,
      "max_height": null,
      "max_width": null,
      "min_height": null,
      "min_width": null,
      "object_fit": null,
      "object_position": null,
      "order": null,
      "overflow": null,
      "overflow_x": null,
      "overflow_y": null,
      "padding": null,
      "right": null,
      "top": null,
      "visibility": null,
      "width": null
     }
    },
    "c99b9ceff61144ca937598af9d150c8b": {
     "model_module": "@jupyter-widgets/controls",
     "model_module_version": "1.5.0",
     "model_name": "DescriptionStyleModel",
     "state": {
      "_model_module": "@jupyter-widgets/controls",
      "_model_module_version": "1.5.0",
      "_model_name": "DescriptionStyleModel",
      "_view_count": null,
      "_view_module": "@jupyter-widgets/base",
      "_view_module_version": "1.2.0",
      "_view_name": "StyleView",
      "description_width": ""
     }
    },
    "d4f923059c214d2a8aa3fd74ef0b0b38": {
     "model_module": "@jupyter-widgets/controls",
     "model_module_version": "1.5.0",
     "model_name": "FloatProgressModel",
     "state": {
      "_dom_classes": [],
      "_model_module": "@jupyter-widgets/controls",
      "_model_module_version": "1.5.0",
      "_model_name": "FloatProgressModel",
      "_view_count": null,
      "_view_module": "@jupyter-widgets/controls",
      "_view_module_version": "1.5.0",
      "_view_name": "ProgressView",
      "bar_style": "",
      "description": "",
      "description_tooltip": null,
      "layout": "IPY_MODEL_0d48ded90abf4b10b0ce4a023cedc338",
      "max": 11,
      "min": 0,
      "orientation": "horizontal",
      "style": "IPY_MODEL_4907a67a924f4daea078544b5a929188",
      "value": 0
     }
    },
    "edf110fd6b7f48caa90967a684a7d784": {
     "model_module": "@jupyter-widgets/controls",
     "model_module_version": "1.5.0",
     "model_name": "HTMLModel",
     "state": {
      "_dom_classes": [],
      "_model_module": "@jupyter-widgets/controls",
      "_model_module_version": "1.5.0",
      "_model_name": "HTMLModel",
      "_view_count": null,
      "_view_module": "@jupyter-widgets/controls",
      "_view_module_version": "1.5.0",
      "_view_name": "HTMLView",
      "description": "",
      "description_tooltip": null,
      "layout": "IPY_MODEL_4c552b1eb28649ec8c49645da3c72bc9",
      "placeholder": "​",
      "style": "IPY_MODEL_4a1b1fc61367429491b12299dc5d1ec9",
      "value": " 9/9 [00:01&lt;00:00,  6.16it/s]"
     }
    },
    "f05c6fe1e5c04ebdae94c909041712ac": {
     "model_module": "@jupyter-widgets/controls",
     "model_module_version": "1.5.0",
     "model_name": "ProgressStyleModel",
     "state": {
      "_model_module": "@jupyter-widgets/controls",
      "_model_module_version": "1.5.0",
      "_model_name": "ProgressStyleModel",
      "_view_count": null,
      "_view_module": "@jupyter-widgets/base",
      "_view_module_version": "1.2.0",
      "_view_name": "StyleView",
      "bar_color": null,
      "description_width": ""
     }
    },
    "f2885ad7a0d946168987cd0860ce2a13": {
     "model_module": "@jupyter-widgets/controls",
     "model_module_version": "1.5.0",
     "model_name": "FloatProgressModel",
     "state": {
      "_dom_classes": [],
      "_model_module": "@jupyter-widgets/controls",
      "_model_module_version": "1.5.0",
      "_model_name": "FloatProgressModel",
      "_view_count": null,
      "_view_module": "@jupyter-widgets/controls",
      "_view_module_version": "1.5.0",
      "_view_name": "ProgressView",
      "bar_style": "success",
      "description": "",
      "description_tooltip": null,
      "layout": "IPY_MODEL_68dcb9ff28f54dd387d3e816473cd13f",
      "max": 9,
      "min": 0,
      "orientation": "horizontal",
      "style": "IPY_MODEL_9075c9929447407ea9e9c5288583dadb",
      "value": 9
     }
    },
    "f7a8233fab1e4dff8bb2403538b49da1": {
     "model_module": "@jupyter-widgets/base",
     "model_module_version": "1.2.0",
     "model_name": "LayoutModel",
     "state": {
      "_model_module": "@jupyter-widgets/base",
      "_model_module_version": "1.2.0",
      "_model_name": "LayoutModel",
      "_view_count": null,
      "_view_module": "@jupyter-widgets/base",
      "_view_module_version": "1.2.0",
      "_view_name": "LayoutView",
      "align_content": null,
      "align_items": null,
      "align_self": null,
      "border": null,
      "bottom": null,
      "display": null,
      "flex": null,
      "flex_flow": null,
      "grid_area": null,
      "grid_auto_columns": null,
      "grid_auto_flow": null,
      "grid_auto_rows": null,
      "grid_column": null,
      "grid_gap": null,
      "grid_row": null,
      "grid_template_areas": null,
      "grid_template_columns": null,
      "grid_template_rows": null,
      "height": null,
      "justify_content": null,
      "justify_items": null,
      "left": null,
      "margin": null,
      "max_height": null,
      "max_width": null,
      "min_height": null,
      "min_width": null,
      "object_fit": null,
      "object_position": null,
      "order": null,
      "overflow": null,
      "overflow_x": null,
      "overflow_y": null,
      "padding": null,
      "right": null,
      "top": null,
      "visibility": null,
      "width": null
     }
    }
   }
  }
 },
 "nbformat": 4,
 "nbformat_minor": 4
}
