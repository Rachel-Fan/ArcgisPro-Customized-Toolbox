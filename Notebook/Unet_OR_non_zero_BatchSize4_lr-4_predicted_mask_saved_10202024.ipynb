{
 "cells": [
  {
   "cell_type": "code",
   "execution_count": 1,
   "metadata": {},
   "outputs": [
    {
     "name": "stdout",
     "output_type": "stream",
     "text": [
      "Requirement already satisfied: albumentations in c:\\users\\yang_pc\\anaconda3\\envs\\py310cuda118\\lib\\site-packages (1.4.14)\n",
      "Requirement already satisfied: numpy>=1.24.4 in c:\\users\\yang_pc\\anaconda3\\envs\\py310cuda118\\lib\\site-packages (from albumentations) (1.26.4)\n",
      "Requirement already satisfied: scipy>=1.10.0 in c:\\users\\yang_pc\\anaconda3\\envs\\py310cuda118\\lib\\site-packages (from albumentations) (1.13.0)\n",
      "Requirement already satisfied: scikit-image>=0.21.0 in c:\\users\\yang_pc\\anaconda3\\envs\\py310cuda118\\lib\\site-packages (from albumentations) (0.24.0)\n",
      "Requirement already satisfied: PyYAML in c:\\users\\yang_pc\\anaconda3\\envs\\py310cuda118\\lib\\site-packages (from albumentations) (6.0.1)\n",
      "Requirement already satisfied: typing-extensions>=4.9.0 in c:\\users\\yang_pc\\anaconda3\\envs\\py310cuda118\\lib\\site-packages (from albumentations) (4.11.0)\n",
      "Requirement already satisfied: pydantic>=2.7.0 in c:\\users\\yang_pc\\anaconda3\\envs\\py310cuda118\\lib\\site-packages (from albumentations) (2.8.2)\n",
      "Requirement already satisfied: albucore>=0.0.13 in c:\\users\\yang_pc\\anaconda3\\envs\\py310cuda118\\lib\\site-packages (from albumentations) (0.0.13)\n",
      "Requirement already satisfied: eval-type-backport in c:\\users\\yang_pc\\anaconda3\\envs\\py310cuda118\\lib\\site-packages (from albumentations) (0.2.0)\n",
      "Requirement already satisfied: opencv-python-headless>=4.9.0.80 in c:\\users\\yang_pc\\anaconda3\\envs\\py310cuda118\\lib\\site-packages (from albumentations) (4.9.0.80)\n",
      "Requirement already satisfied: tomli>=2.0.1 in c:\\users\\yang_pc\\anaconda3\\envs\\py310cuda118\\lib\\site-packages (from albucore>=0.0.13->albumentations) (2.0.1)\n",
      "Requirement already satisfied: annotated-types>=0.4.0 in c:\\users\\yang_pc\\anaconda3\\envs\\py310cuda118\\lib\\site-packages (from pydantic>=2.7.0->albumentations) (0.7.0)\n",
      "Requirement already satisfied: pydantic-core==2.20.1 in c:\\users\\yang_pc\\anaconda3\\envs\\py310cuda118\\lib\\site-packages (from pydantic>=2.7.0->albumentations) (2.20.1)\n",
      "Requirement already satisfied: networkx>=2.8 in c:\\users\\yang_pc\\anaconda3\\envs\\py310cuda118\\lib\\site-packages (from scikit-image>=0.21.0->albumentations) (3.2.1)\n",
      "Requirement already satisfied: pillow>=9.1 in c:\\users\\yang_pc\\anaconda3\\envs\\py310cuda118\\lib\\site-packages (from scikit-image>=0.21.0->albumentations) (10.3.0)\n",
      "Requirement already satisfied: imageio>=2.33 in c:\\users\\yang_pc\\anaconda3\\envs\\py310cuda118\\lib\\site-packages (from scikit-image>=0.21.0->albumentations) (2.34.1)\n",
      "Requirement already satisfied: tifffile>=2022.8.12 in c:\\users\\yang_pc\\anaconda3\\envs\\py310cuda118\\lib\\site-packages (from scikit-image>=0.21.0->albumentations) (2024.8.28)\n",
      "Requirement already satisfied: packaging>=21 in c:\\users\\yang_pc\\anaconda3\\envs\\py310cuda118\\lib\\site-packages (from scikit-image>=0.21.0->albumentations) (24.0)\n",
      "Requirement already satisfied: lazy-loader>=0.4 in c:\\users\\yang_pc\\anaconda3\\envs\\py310cuda118\\lib\\site-packages (from scikit-image>=0.21.0->albumentations) (0.4)\n"
     ]
    }
   ],
   "source": [
    "!pip install albumentations\n",
    "!pip install -q segmentation-models-pytorch\n",
    "!pip install -q torchsummary"
   ]
  },
  {
   "cell_type": "code",
   "execution_count": 2,
   "metadata": {},
   "outputs": [
    {
     "name": "stdout",
     "output_type": "stream",
     "text": [
      "Requirement already satisfied: segmentation-models-pytorch in c:\\users\\yang_pc\\anaconda3\\envs\\py310cuda118\\lib\\site-packages (0.3.4)\n",
      "Requirement already satisfied: efficientnet-pytorch==0.7.1 in c:\\users\\yang_pc\\anaconda3\\envs\\py310cuda118\\lib\\site-packages (from segmentation-models-pytorch) (0.7.1)\n",
      "Requirement already satisfied: huggingface-hub>=0.24.6 in c:\\users\\yang_pc\\anaconda3\\envs\\py310cuda118\\lib\\site-packages (from segmentation-models-pytorch) (0.24.6)\n",
      "Requirement already satisfied: pillow in c:\\users\\yang_pc\\anaconda3\\envs\\py310cuda118\\lib\\site-packages (from segmentation-models-pytorch) (10.3.0)\n",
      "Requirement already satisfied: pretrainedmodels==0.7.4 in c:\\users\\yang_pc\\anaconda3\\envs\\py310cuda118\\lib\\site-packages (from segmentation-models-pytorch) (0.7.4)\n",
      "Requirement already satisfied: six in c:\\users\\yang_pc\\anaconda3\\envs\\py310cuda118\\lib\\site-packages (from segmentation-models-pytorch) (1.16.0)\n",
      "Requirement already satisfied: timm==0.9.7 in c:\\users\\yang_pc\\anaconda3\\envs\\py310cuda118\\lib\\site-packages (from segmentation-models-pytorch) (0.9.7)\n",
      "Requirement already satisfied: torchvision>=0.5.0 in c:\\users\\yang_pc\\anaconda3\\envs\\py310cuda118\\lib\\site-packages (from segmentation-models-pytorch) (0.16.1+cu118)\n",
      "Requirement already satisfied: tqdm in c:\\users\\yang_pc\\anaconda3\\envs\\py310cuda118\\lib\\site-packages (from segmentation-models-pytorch) (4.66.5)\n",
      "Requirement already satisfied: torch in c:\\users\\yang_pc\\anaconda3\\envs\\py310cuda118\\lib\\site-packages (from efficientnet-pytorch==0.7.1->segmentation-models-pytorch) (2.1.1+cu118)\n",
      "Requirement already satisfied: munch in c:\\users\\yang_pc\\anaconda3\\envs\\py310cuda118\\lib\\site-packages (from pretrainedmodels==0.7.4->segmentation-models-pytorch) (4.0.0)\n",
      "Requirement already satisfied: pyyaml in c:\\users\\yang_pc\\anaconda3\\envs\\py310cuda118\\lib\\site-packages (from timm==0.9.7->segmentation-models-pytorch) (6.0.1)\n",
      "Requirement already satisfied: safetensors in c:\\users\\yang_pc\\anaconda3\\envs\\py310cuda118\\lib\\site-packages (from timm==0.9.7->segmentation-models-pytorch) (0.4.4)\n",
      "Requirement already satisfied: filelock in c:\\users\\yang_pc\\anaconda3\\envs\\py310cuda118\\lib\\site-packages (from huggingface-hub>=0.24.6->segmentation-models-pytorch) (3.9.0)\n",
      "Requirement already satisfied: fsspec>=2023.5.0 in c:\\users\\yang_pc\\anaconda3\\envs\\py310cuda118\\lib\\site-packages (from huggingface-hub>=0.24.6->segmentation-models-pytorch) (2024.3.1)\n",
      "Requirement already satisfied: packaging>=20.9 in c:\\users\\yang_pc\\anaconda3\\envs\\py310cuda118\\lib\\site-packages (from huggingface-hub>=0.24.6->segmentation-models-pytorch) (24.0)\n",
      "Requirement already satisfied: requests in c:\\users\\yang_pc\\anaconda3\\envs\\py310cuda118\\lib\\site-packages (from huggingface-hub>=0.24.6->segmentation-models-pytorch) (2.32.3)\n",
      "Requirement already satisfied: typing-extensions>=3.7.4.3 in c:\\users\\yang_pc\\anaconda3\\envs\\py310cuda118\\lib\\site-packages (from huggingface-hub>=0.24.6->segmentation-models-pytorch) (4.11.0)\n",
      "Requirement already satisfied: numpy in c:\\users\\yang_pc\\anaconda3\\envs\\py310cuda118\\lib\\site-packages (from torchvision>=0.5.0->segmentation-models-pytorch) (1.26.4)\n",
      "Requirement already satisfied: sympy in c:\\users\\yang_pc\\anaconda3\\envs\\py310cuda118\\lib\\site-packages (from torch->efficientnet-pytorch==0.7.1->segmentation-models-pytorch) (1.12)\n",
      "Requirement already satisfied: networkx in c:\\users\\yang_pc\\anaconda3\\envs\\py310cuda118\\lib\\site-packages (from torch->efficientnet-pytorch==0.7.1->segmentation-models-pytorch) (3.2.1)\n",
      "Requirement already satisfied: jinja2 in c:\\users\\yang_pc\\anaconda3\\envs\\py310cuda118\\lib\\site-packages (from torch->efficientnet-pytorch==0.7.1->segmentation-models-pytorch) (3.1.2)\n",
      "Requirement already satisfied: colorama in c:\\users\\yang_pc\\anaconda3\\envs\\py310cuda118\\lib\\site-packages (from tqdm->segmentation-models-pytorch) (0.4.6)\n",
      "Requirement already satisfied: charset-normalizer<4,>=2 in c:\\users\\yang_pc\\anaconda3\\envs\\py310cuda118\\lib\\site-packages (from requests->huggingface-hub>=0.24.6->segmentation-models-pytorch) (2.1.1)\n",
      "Requirement already satisfied: idna<4,>=2.5 in c:\\users\\yang_pc\\anaconda3\\envs\\py310cuda118\\lib\\site-packages (from requests->huggingface-hub>=0.24.6->segmentation-models-pytorch) (3.4)\n",
      "Requirement already satisfied: urllib3<3,>=1.21.1 in c:\\users\\yang_pc\\anaconda3\\envs\\py310cuda118\\lib\\site-packages (from requests->huggingface-hub>=0.24.6->segmentation-models-pytorch) (1.26.13)\n",
      "Requirement already satisfied: certifi>=2017.4.17 in c:\\users\\yang_pc\\anaconda3\\envs\\py310cuda118\\lib\\site-packages (from requests->huggingface-hub>=0.24.6->segmentation-models-pytorch) (2024.2.2)\n",
      "Requirement already satisfied: MarkupSafe>=2.0 in c:\\users\\yang_pc\\anaconda3\\envs\\py310cuda118\\lib\\site-packages (from jinja2->torch->efficientnet-pytorch==0.7.1->segmentation-models-pytorch) (2.1.3)\n",
      "Requirement already satisfied: mpmath>=0.19 in c:\\users\\yang_pc\\anaconda3\\envs\\py310cuda118\\lib\\site-packages (from sympy->torch->efficientnet-pytorch==0.7.1->segmentation-models-pytorch) (1.3.0)\n",
      "Requirement already satisfied: torchsummary in c:\\users\\yang_pc\\anaconda3\\envs\\py310cuda118\\lib\\site-packages (1.5.1)\n"
     ]
    }
   ],
   "source": [
    "!pip install segmentation-models-pytorch\n",
    "!pip install torchsummary\n"
   ]
  },
  {
   "cell_type": "code",
   "execution_count": 3,
   "metadata": {},
   "outputs": [
    {
     "name": "stdout",
     "output_type": "stream",
     "text": [
      "Collecting huggingface-hub==0.16.4\n",
      "  Using cached huggingface_hub-0.16.4-py3-none-any.whl.metadata (12 kB)\n",
      "Requirement already satisfied: filelock in c:\\users\\yang_pc\\anaconda3\\envs\\py310cuda118\\lib\\site-packages (from huggingface-hub==0.16.4) (3.9.0)\n",
      "Requirement already satisfied: fsspec in c:\\users\\yang_pc\\anaconda3\\envs\\py310cuda118\\lib\\site-packages (from huggingface-hub==0.16.4) (2024.3.1)\n",
      "Requirement already satisfied: requests in c:\\users\\yang_pc\\anaconda3\\envs\\py310cuda118\\lib\\site-packages (from huggingface-hub==0.16.4) (2.32.3)\n",
      "Requirement already satisfied: tqdm>=4.42.1 in c:\\users\\yang_pc\\anaconda3\\envs\\py310cuda118\\lib\\site-packages (from huggingface-hub==0.16.4) (4.66.5)\n",
      "Requirement already satisfied: pyyaml>=5.1 in c:\\users\\yang_pc\\anaconda3\\envs\\py310cuda118\\lib\\site-packages (from huggingface-hub==0.16.4) (6.0.1)\n",
      "Requirement already satisfied: typing-extensions>=3.7.4.3 in c:\\users\\yang_pc\\anaconda3\\envs\\py310cuda118\\lib\\site-packages (from huggingface-hub==0.16.4) (4.11.0)\n",
      "Requirement already satisfied: packaging>=20.9 in c:\\users\\yang_pc\\anaconda3\\envs\\py310cuda118\\lib\\site-packages (from huggingface-hub==0.16.4) (24.0)\n",
      "Requirement already satisfied: colorama in c:\\users\\yang_pc\\anaconda3\\envs\\py310cuda118\\lib\\site-packages (from tqdm>=4.42.1->huggingface-hub==0.16.4) (0.4.6)\n",
      "Requirement already satisfied: charset-normalizer<4,>=2 in c:\\users\\yang_pc\\anaconda3\\envs\\py310cuda118\\lib\\site-packages (from requests->huggingface-hub==0.16.4) (2.1.1)\n",
      "Requirement already satisfied: idna<4,>=2.5 in c:\\users\\yang_pc\\anaconda3\\envs\\py310cuda118\\lib\\site-packages (from requests->huggingface-hub==0.16.4) (3.4)\n",
      "Requirement already satisfied: urllib3<3,>=1.21.1 in c:\\users\\yang_pc\\anaconda3\\envs\\py310cuda118\\lib\\site-packages (from requests->huggingface-hub==0.16.4) (1.26.13)\n",
      "Requirement already satisfied: certifi>=2017.4.17 in c:\\users\\yang_pc\\anaconda3\\envs\\py310cuda118\\lib\\site-packages (from requests->huggingface-hub==0.16.4) (2024.2.2)\n",
      "Using cached huggingface_hub-0.16.4-py3-none-any.whl (268 kB)\n",
      "Installing collected packages: huggingface-hub\n",
      "  Attempting uninstall: huggingface-hub\n",
      "    Found existing installation: huggingface-hub 0.24.6\n",
      "    Uninstalling huggingface-hub-0.24.6:\n",
      "      Successfully uninstalled huggingface-hub-0.24.6\n",
      "Successfully installed huggingface-hub-0.16.4\n"
     ]
    },
    {
     "name": "stderr",
     "output_type": "stream",
     "text": [
      "ERROR: pip's dependency resolver does not currently take into account all the packages that are installed. This behaviour is the source of the following dependency conflicts.\n",
      "datasets 2.21.0 requires huggingface-hub>=0.21.2, but you have huggingface-hub 0.16.4 which is incompatible.\n",
      "segmentation-models-pytorch 0.3.4 requires huggingface-hub>=0.24.6, but you have huggingface-hub 0.16.4 which is incompatible.\n",
      "transformers 4.44.2 requires huggingface-hub<1.0,>=0.23.2, but you have huggingface-hub 0.16.4 which is incompatible.\n"
     ]
    }
   ],
   "source": [
    "!pip install huggingface-hub==0.16.4\n"
   ]
  },
  {
   "cell_type": "code",
   "execution_count": 4,
   "metadata": {},
   "outputs": [],
   "source": [
    "import segmentation_models_pytorch as smp\n",
    "from torchsummary import summary\n"
   ]
  },
  {
   "cell_type": "code",
   "execution_count": 5,
   "metadata": {
    "colab": {
     "base_uri": "https://localhost:8080/"
    },
    "id": "48rFWt8_m5_a",
    "outputId": "08e112e4-7040-431b-eafa-a6149257af37"
   },
   "outputs": [
    {
     "name": "stdout",
     "output_type": "stream",
     "text": [
      "True\n"
     ]
    },
    {
     "name": "stderr",
     "output_type": "stream",
     "text": [
      "c:\\Users\\Yang_PC\\anaconda3\\envs\\py310cuda118\\lib\\site-packages\\albumentations\\__init__.py:13: UserWarning: A new version of Albumentations is available: 1.4.18 (you have 1.4.14). Upgrade using: pip install -U albumentations. To disable automatic update checks, set the environment variable NO_ALBUMENTATIONS_UPDATE to 1.\n",
      "  check_for_updates()\n"
     ]
    },
    {
     "data": {
      "text/plain": [
       "device(type='cuda')"
      ]
     },
     "execution_count": 5,
     "metadata": {},
     "output_type": "execute_result"
    }
   ],
   "source": [
    "import numpy as np\n",
    "import pandas as pd\n",
    "import matplotlib.pyplot as plt\n",
    "\n",
    "from sklearn.model_selection import train_test_split\n",
    "\n",
    "import torch\n",
    "import torch.nn as nn\n",
    "from torch.utils.data import Dataset, DataLoader\n",
    "from torchvision import transforms as T\n",
    "import torchvision\n",
    "import torch.nn.functional as F\n",
    "from torch.autograd import Variable\n",
    "\n",
    "from PIL import Image\n",
    "import cv2\n",
    "import albumentations as A\n",
    "\n",
    "import time\n",
    "import os\n",
    "from tqdm.notebook import tqdm\n",
    "\n",
    "#!pip install -q segmentation-models-pytorch\n",
    "#!pip install -q torchsummary\n",
    "\n",
    "from torchsummary import summary\n",
    "import segmentation_models_pytorch as smp\n",
    "\n",
    "#print(os.getenv('PATH'))\n",
    "print(torch.cuda.is_available())\n",
    "\n",
    "os.environ[\"CUDA_VISIBLE_DEVICES\"] = \"0\"\n",
    "device = torch.device(\"cuda\" if torch.cuda.is_available() else \"cpu\")\n",
    "device"
   ]
  },
  {
   "cell_type": "code",
   "execution_count": 6,
   "metadata": {},
   "outputs": [
    {
     "name": "stdout",
     "output_type": "stream",
     "text": [
      "torch version: 2.1.1+cu118\n",
      "torchvision version: 0.16.1+cu118\n"
     ]
    }
   ],
   "source": [
    "try:\n",
    "    import torch\n",
    "    import torchvision\n",
    "    print(f\"torch version: {torch.__version__}\")\n",
    "    print(f\"torchvision version: {torchvision.__version__}\")\n",
    "except:\n",
    "    print(f\"[INFO] torch/torchvision not available.\")"
   ]
  },
  {
   "cell_type": "code",
   "execution_count": 7,
   "metadata": {},
   "outputs": [
    {
     "name": "stdout",
     "output_type": "stream",
     "text": [
      "True\n",
      "0\n",
      "NVIDIA GeForce RTX 3060\n"
     ]
    }
   ],
   "source": [
    "import torch\n",
    "print(torch.cuda.is_available())  # Should return True if CUDA is available\n",
    "print(torch.cuda.current_device())  # Should return the current GPU device\n",
    "print(torch.cuda.get_device_name(0))  # Should return the name of the GPU\n"
   ]
  },
  {
   "cell_type": "code",
   "execution_count": 8,
   "metadata": {},
   "outputs": [],
   "source": [
    "import os\n",
    "import pandas as pd\n",
    "\n",
    "# Define paths to the train, valid, and test image and mask folders\n",
    "# Example usage\n",
    "main_folder = r'D:\\ML_Seagrass\\SourceData\\BodegaBay\\BodegaBay'\n",
    "\n",
    "train_image_folder = os.path.join(main_folder, 'train', 'image')\n",
    "train_mask_folder = os.path.join(main_folder, 'train', 'index')\n",
    "val_image_folder = os.path.join(main_folder, 'valid', 'image')\n",
    "val_mask_folder = os.path.join(main_folder, 'valid', 'index')\n",
    "test_image_folder = os.path.join(main_folder, 'test', 'image')\n",
    "test_mask_folder = os.path.join(main_folder, 'test', 'index')\n",
    "    \n",
    "# Function to create dataframes from the given folder structure\n",
    "def create_dataframes_from_main_folder(main_folder):\n",
    "    \n",
    "\n",
    "    # Helper function to create a dataframe from image and mask folders\n",
    "    def create_dataframe_from_folders(image_folder, mask_folder):\n",
    "        image_names = [img.split('.')[0] for img in os.listdir(image_folder) if img.endswith(('.jpg', '.png', '.jpeg'))]\n",
    "        mask_names = [mask.split('.')[0] for mask in os.listdir(mask_folder) if mask.endswith(('.jpg', '.png', '.jpeg'))]\n",
    "\n",
    "        # Ensure that the image and mask file names match\n",
    "        assert set(image_names) == set(mask_names), \"Image and mask file names do not match!\"\n",
    "\n",
    "        return pd.DataFrame({'id': image_names})\n",
    "\n",
    "    # Create dataframes for train, valid, and test sets\n",
    "    df_train = create_dataframe_from_folders(train_image_folder, train_mask_folder)\n",
    "    df_val = create_dataframe_from_folders(val_image_folder, val_mask_folder)\n",
    "    df_test = create_dataframe_from_folders(test_image_folder, test_mask_folder)\n",
    "\n",
    "    # Return dataframes\n",
    "    return df_train, df_val, df_test\n",
    "\n",
    "  # Replace with the path to your main folder\n",
    "df_train, df_val, df_test = create_dataframes_from_main_folder(main_folder)\n",
    "\n",
    "# Assign X_train, X_val, and X_test\n",
    "X_train = df_train['id'].values\n",
    "X_val = df_val['id'].values\n",
    "X_test = df_test['id'].values\n"
   ]
  },
  {
   "cell_type": "code",
   "execution_count": 9,
   "metadata": {
    "colab": {
     "base_uri": "https://localhost:8080/",
     "height": 888
    },
    "id": "wf0e_7LGpggP",
    "outputId": "8856ad38-5d4e-4b10-a11c-8494b69b46df"
   },
   "outputs": [
    {
     "name": "stdout",
     "output_type": "stream",
     "text": [
      "Image Path: D:\\ML_Seagrass\\SourceData\\BodegaBay\\BodegaBay\\valid\\image\\BL_BB_19_row1_col6.png\n",
      "Mask Path: D:\\ML_Seagrass\\SourceData\\BodegaBay\\BodegaBay\\valid\\index\\BL_BB_19_row1_col6.png\n"
     ]
    },
    {
     "data": {
      "image/png": "[encoded data removed]",
      "text/plain": [
       "<Figure size 640x480 with 1 Axes>"
      ]
     },
     "metadata": {},
     "output_type": "display_data"
    },
    {
     "data": {
      "image/png": "[encoded data removed]",
      "text/plain": [
       "<Figure size 640x480 with 1 Axes>"
      ]
     },
     "metadata": {},
     "output_type": "display_data"
    },
    {
     "name": "stdout",
     "output_type": "stream",
     "text": [
      "(512, 512, 3)\n",
      "(512, 512)\n"
     ]
    }
   ],
   "source": [
    "for idx in X_val:\n",
    "    img_path = os.path.join(val_image_folder, idx + '.png')\n",
    "    mask_path = os.path.join(val_mask_folder, idx + '.png')\n",
    "\n",
    "    \n",
    "    # Print out the file paths for debugging\n",
    "    print(\"Image Path:\", img_path)\n",
    "    print(\"Mask Path:\", mask_path)\n",
    "    \n",
    "    img = Image.open(img_path)\n",
    "    mask = Image.open(mask_path)\n",
    "    plt.imshow(img)\n",
    "    plt.show()\n",
    "    plt.imshow(mask)\n",
    "    plt.show()\n",
    "    print(np.asarray(img).shape)\n",
    "    print(np.asarray(mask).shape)\n",
    "    break"
   ]
  },
  {
   "cell_type": "code",
   "execution_count": 13,
   "metadata": {},
   "outputs": [],
   "source": [
    "from pathlib import Path\n",
    "\n",
    "class Drone_data(Dataset):\n",
    "    def __init__(self, img_path, mask_path, X, mean, std, transform=None, patch=False):\n",
    "        self.img_path = Path(img_path)\n",
    "        self.mask_path = Path(mask_path)\n",
    "        self.X = X\n",
    "        self.mean = mean\n",
    "        self.std = std\n",
    "        self.transform = transform\n",
    "        self.patch = patch\n",
    "\n",
    "    def __len__(self):\n",
    "        return len(self.X)\n",
    "\n",
    "    def __getitem__(self, idx):\n",
    "        # Create image and mask paths using pathlib\n",
    "        img_path = self.img_path / f'{self.X[idx]}.png'\n",
    "        mask_path = self.mask_path / f'{self.X[idx]}.png'\n",
    "        \n",
    "        # Read and convert the image to RGB\n",
    "        img = cv2.imread(str(img_path))\n",
    "        img = cv2.cvtColor(img, cv2.COLOR_BGR2RGB)\n",
    "        \n",
    "        # Open and convert the mask to grayscale\n",
    "        mask = Image.open(mask_path)\n",
    "        mask = mask.convert(\"L\")\n",
    "        mask = np.array(mask)\n",
    "\n",
    "        # Map mask values: 255 -> 1\n",
    "        mask = np.where(mask == 255, 1, 0).astype(np.uint8)\n",
    "\n",
    "        if self.transform is not None:\n",
    "            aug = self.transform(image=img, mask=mask)\n",
    "            img = aug['image']\n",
    "            mask = aug['mask']\n",
    "\n",
    "        # Convert image to tensor and normalize\n",
    "        t = T.Compose([T.ToTensor(), T.Normalize(self.mean, self.std)])\n",
    "        img = t(img)\n",
    "        \n",
    "        # Convert mask to a tensor\n",
    "        mask = torch.from_numpy(mask).long()\n",
    "\n",
    "        if self.patch:\n",
    "            img, mask = self.tiles(img, mask)\n",
    "\n",
    "        return img, mask\n",
    "\n",
    "    def tiles(self, img, mask):\n",
    "        # Implementation of tile extraction if needed\n",
    "        pass"
   ]
  },
  {
   "cell_type": "code",
   "execution_count": 14,
   "metadata": {
    "id": "rRd3W4Ibpqv5"
   },
   "outputs": [],
   "source": [
    "mean=[0.485, 0.456, 0.406]\n",
    "std=[0.229, 0.224, 0.225]\n",
    "\n",
    "t_train = A.Compose([A.Resize(704, 1056, interpolation=cv2.INTER_NEAREST), A.HorizontalFlip(), A.VerticalFlip(),\n",
    "                     A.GridDistortion(p=0.2), A.RandomBrightnessContrast((0,0.5),(0,0.5)),\n",
    "                     A.GaussNoise()])\n",
    "\n",
    "t_val = A.Compose([A.Resize(704, 1056, interpolation=cv2.INTER_NEAREST), A.HorizontalFlip(),\n",
    "                   A.GridDistortion(p=0.2)])\n",
    "\n",
    "#datasets\n",
    "train_set = Drone_data(train_image_folder, train_mask_folder, X_train, mean, std, t_train, patch=False)\n",
    "val_set = Drone_data(val_image_folder, val_mask_folder, X_val, mean, std, t_val, patch=False)\n",
    "\n",
    "#dataloader\n",
    "batch_size= 8\n",
    "\n",
    "train_loader = DataLoader(train_set, batch_size=batch_size, shuffle=True)\n",
    "val_loader = DataLoader(val_set, batch_size=batch_size, shuffle=True)"
   ]
  },
  {
   "cell_type": "code",
   "execution_count": 15,
   "metadata": {
    "id": "Sbi4cet3pr4s"
   },
   "outputs": [],
   "source": [
    "model = smp.Unet('mobilenet_v2', encoder_weights='imagenet', classes=2, activation=None, encoder_depth=5, decoder_channels=[256, 128, 64, 32, 16])"
   ]
  },
  {
   "cell_type": "code",
   "execution_count": 16,
   "metadata": {
    "id": "J04RHDRDpug2"
   },
   "outputs": [],
   "source": [
    "def pixel_accuracy(output, mask):\n",
    "    with torch.no_grad():\n",
    "        output = torch.argmax(F.softmax(output, dim=1), dim=1)\n",
    "        correct = torch.eq(output, mask).int()\n",
    "        accuracy = float(correct.sum()) / float(correct.numel())\n",
    "    return accuracy"
   ]
  },
  {
   "cell_type": "code",
   "execution_count": 17,
   "metadata": {
    "id": "i7C0X7c8pv-e"
   },
   "outputs": [],
   "source": [
    "def mIoU(pred_mask, mask, smooth=1e-10, n_classes=23):\n",
    "    with torch.no_grad():\n",
    "        pred_mask = F.softmax(pred_mask, dim=1)\n",
    "        pred_mask = torch.argmax(pred_mask, dim=1)\n",
    "        pred_mask = pred_mask.contiguous().view(-1)\n",
    "        mask = mask.contiguous().view(-1)\n",
    "\n",
    "        iou_per_class = []\n",
    "        for clas in range(0, n_classes): #loop per pixel class\n",
    "            true_class = pred_mask == clas\n",
    "            true_label = mask == clas\n",
    "\n",
    "            if true_label.long().sum().item() == 0: #no exist label in this loop\n",
    "                iou_per_class.append(np.nan)\n",
    "            else:\n",
    "                intersect = torch.logical_and(true_class, true_label).sum().float().item()\n",
    "                union = torch.logical_or(true_class, true_label).sum().float().item()\n",
    "\n",
    "                iou = (intersect + smooth) / (union +smooth)\n",
    "                iou_per_class.append(iou)\n",
    "        return np.nanmean(iou_per_class)"
   ]
  },
  {
   "cell_type": "code",
   "execution_count": 18,
   "metadata": {
    "id": "XIT87qSWpxoz"
   },
   "outputs": [],
   "source": [
    "def get_lr(optimizer):\n",
    "    for param_group in optimizer.param_groups:\n",
    "        return param_group['lr']"
   ]
  },
  {
   "cell_type": "code",
   "execution_count": 19,
   "metadata": {
    "id": "3xV71lNyp0MB"
   },
   "outputs": [],
   "source": [
    "def fit(epochs, model, train_loader, val_loader, criterion, optimizer, scheduler, patch=False):\n",
    "    torch.cuda.empty_cache()\n",
    "    train_losses = []\n",
    "    test_losses = []\n",
    "    val_iou = []; val_acc = []\n",
    "    train_iou = []; train_acc = []\n",
    "    lrs = []\n",
    "    min_loss = np.inf\n",
    "    decrease = 1 ; not_improve=0\n",
    "\n",
    "    model.to(device)\n",
    "    fit_time = time.time()\n",
    "    for e in range(epochs):\n",
    "        since = time.time()\n",
    "        running_loss = 0\n",
    "        iou_score = 0\n",
    "        accuracy = 0\n",
    "        #training loop\n",
    "        model.train()\n",
    "        for i, data in enumerate(tqdm(train_loader)):\n",
    "            #training phase\n",
    "            image_tiles, mask_tiles = data\n",
    "            if patch:\n",
    "                bs, n_tiles, c, h, w = image_tiles.size()\n",
    "\n",
    "                image_tiles = image_tiles.view(-1,c, h, w)\n",
    "                mask_tiles = mask_tiles.view(-1, h, w)\n",
    "\n",
    "            image = image_tiles.to(device); mask = mask_tiles.to(device);\n",
    "            #forward\n",
    "            output = model(image)\n",
    "            #output = torch.argmax(output, dim=1)\n",
    "            loss = criterion(output, mask)\n",
    "            #evaluation metrics\n",
    "            iou_score += mIoU(output, mask)\n",
    "            accuracy += pixel_accuracy(output, mask)\n",
    "            #backward\n",
    "            loss.backward()\n",
    "            optimizer.step() #update weight\n",
    "            optimizer.zero_grad() #reset gradient\n",
    "\n",
    "            #step the learning rate\n",
    "            lrs.append(get_lr(optimizer))\n",
    "            scheduler.step()\n",
    "\n",
    "            running_loss += loss.item()\n",
    "\n",
    "        else:\n",
    "            model.eval()\n",
    "            test_loss = 0\n",
    "            test_accuracy = 0\n",
    "            val_iou_score = 0\n",
    "            #validation loop\n",
    "            with torch.no_grad():\n",
    "                for i, data in enumerate(tqdm(val_loader)):\n",
    "                    #reshape to 9 patches from single image, delete batch size\n",
    "                    image_tiles, mask_tiles = data\n",
    "\n",
    "                    if patch:\n",
    "                        bs, n_tiles, c, h, w = image_tiles.size()\n",
    "\n",
    "                        image_tiles = image_tiles.view(-1,c, h, w)\n",
    "                        mask_tiles = mask_tiles.view(-1, h, w)\n",
    "\n",
    "                    image = image_tiles.to(device); mask = mask_tiles.to(device);\n",
    "                    output = model(image)\n",
    "                    #evaluation metrics\n",
    "                    val_iou_score +=  mIoU(output, mask)\n",
    "                    test_accuracy += pixel_accuracy(output, mask)\n",
    "                    #loss\n",
    "                    loss = criterion(output, mask)\n",
    "                    test_loss += loss.item()\n",
    "\n",
    "            #calculatio mean for each batch\n",
    "            train_losses.append(running_loss/len(train_loader))\n",
    "            test_losses.append(test_loss/len(val_loader))\n",
    "\n",
    "\n",
    "            if min_loss > (test_loss/len(val_loader)):\n",
    "                print('Loss Decreasing.. {:.3f} >> {:.3f} '.format(min_loss, (test_loss/len(val_loader))))\n",
    "                min_loss = (test_loss/len(val_loader))\n",
    "                decrease += 1\n",
    "                if decrease % 5 == 0:\n",
    "                    print('saving model...')\n",
    "                    torch.save(model, 'Unet-Mobilenet_v2_mIoU-{:.3f}.pt'.format(val_iou_score/len(val_loader)))\n",
    "\n",
    "\n",
    "            if (test_loss/len(val_loader)) > min_loss:\n",
    "                not_improve += 1\n",
    "                min_loss = (test_loss/len(val_loader))\n",
    "                print(f'Loss Not Decrease for {not_improve} time')\n",
    "                if not_improve == 7:\n",
    "                    print('Loss not decrease for 7 times, Stop Training')\n",
    "                    break\n",
    "\n",
    "            #iou\n",
    "            val_iou.append(val_iou_score/len(val_loader))\n",
    "            train_iou.append(iou_score/len(train_loader))\n",
    "            train_acc.append(accuracy/len(train_loader))\n",
    "            val_acc.append(test_accuracy/ len(val_loader))\n",
    "            print(\"Epoch:{}/{}..\".format(e+1, epochs),\n",
    "                  \"Train Loss: {:.3f}..\".format(running_loss/len(train_loader)),\n",
    "                  \"Val Loss: {:.3f}..\".format(test_loss/len(val_loader)),\n",
    "                  \"Train mIoU:{:.3f}..\".format(iou_score/len(train_loader)),\n",
    "                  \"Val mIoU: {:.3f}..\".format(val_iou_score/len(val_loader)),\n",
    "                  \"Train Acc:{:.3f}..\".format(accuracy/len(train_loader)),\n",
    "                  \"Val Acc:{:.3f}..\".format(test_accuracy/len(val_loader)),\n",
    "                  \"Time: {:.2f}m\".format((time.time()-since)/60))\n",
    "\n",
    "    history = {'train_loss' : train_losses, 'val_loss': test_losses,\n",
    "               'train_miou' :train_iou, 'val_miou':val_iou,\n",
    "               'train_acc' :train_acc, 'val_acc':val_acc,\n",
    "               'lrs': lrs}\n",
    "    \n",
    "    total_time_minutes = (time.time() - fit_time) / 60\n",
    "\n",
    "    # Print the total time\n",
    "    print('Total time: {:.2f} m'.format(total_time_minutes))\n",
    "\n",
    "    #print('Total time: {:.2f} m' .format((time.time()- fit_time)/60))\n",
    "    return history"
   ]
  },
  {
   "cell_type": "code",
   "execution_count": 20,
   "metadata": {},
   "outputs": [],
   "source": [
    "torch.cuda.empty_cache()"
   ]
  },
  {
   "cell_type": "code",
   "execution_count": 21,
   "metadata": {},
   "outputs": [
    {
     "name": "stdout",
     "output_type": "stream",
     "text": [
      "Fri Oct 18 22:53:29 2024       \n",
      "+-----------------------------------------------------------------------------------------+\n",
      "| NVIDIA-SMI 556.12                 Driver Version: 556.12         CUDA Version: 12.5     |\n",
      "|-----------------------------------------+------------------------+----------------------+\n",
      "| GPU  Name                  Driver-Model | Bus-Id          Disp.A | Volatile Uncorr. ECC |\n",
      "| Fan  Temp   Perf          Pwr:Usage/Cap |           Memory-Usage | GPU-Util  Compute M. |\n",
      "|                                         |                        |               MIG M. |\n",
      "|=========================================+========================+======================|\n",
      "|   0  NVIDIA GeForce RTX 3060      WDDM  |   00000000:01:00.0  On |                  N/A |\n",
      "| 37%   38C    P8              8W /  170W |     542MiB /  12288MiB |      7%      Default |\n",
      "|                                         |                        |                  N/A |\n",
      "+-----------------------------------------+------------------------+----------------------+\n",
      "                                                                                         \n",
      "+-----------------------------------------------------------------------------------------+\n",
      "| Processes:                                                                              |\n",
      "|  GPU   GI   CI        PID   Type   Process name                              GPU Memory |\n",
      "|        ID   ID                                                               Usage      |\n",
      "|=========================================================================================|\n",
      "|    0   N/A  N/A      2336    C+G   ...siveControlPanel\\SystemSettings.exe      N/A      |\n",
      "|    0   N/A  N/A      3104    C+G   C:\\Windows\\explorer.exe                     N/A      |\n",
      "|    0   N/A  N/A      5512    C+G   ...ne\\Binaries\\Win64\\EpicWebHelper.exe      N/A      |\n",
      "|    0   N/A  N/A      7980    C+G   ...CBS_cw5n1h2txyewy\\TextInputHost.exe      N/A      |\n",
      "|    0   N/A  N/A      8000    C+G   ...5n1h2txyewy\\ShellExperienceHost.exe      N/A      |\n",
      "|    0   N/A  N/A      8888    C+G   ....Search_cw5n1h2txyewy\\SearchApp.exe      N/A      |\n",
      "|    0   N/A  N/A      9240    C+G   ...2txyewy\\StartMenuExperienceHost.exe      N/A      |\n",
      "|    0   N/A  N/A      9300    C+G   ...e Stream\\98.0.0.0\\GoogleDriveFS.exe      N/A      |\n",
      "|    0   N/A  N/A      9620    C+G   ....Search_cw5n1h2txyewy\\SearchApp.exe      N/A      |\n",
      "|    0   N/A  N/A     10364    C+G   ...1.0_x64__8wekyb3d8bbwe\\Video.UI.exe      N/A      |\n",
      "|    0   N/A  N/A     10716    C+G   ...Programs\\Microsoft VS Code\\Code.exe      N/A      |\n",
      "|    0   N/A  N/A     10984    C+G   ...oogle\\Chrome\\Application\\chrome.exe      N/A      |\n",
      "|    0   N/A  N/A     11708    C+G   ...inaries\\Win64\\EpicGamesLauncher.exe      N/A      |\n",
      "|    0   N/A  N/A     11748    C+G   ...05.0_x64__8wekyb3d8bbwe\\Cortana.exe      N/A      |\n",
      "|    0   N/A  N/A     11988    C+G   ...\\cef\\cef.win7x64\\steamwebhelper.exe      N/A      |\n",
      "|    0   N/A  N/A     13636    C+G   ...\\cef\\cef.win7x64\\steamwebhelper.exe      N/A      |\n",
      "|    0   N/A  N/A     16640    C+G   ...cal\\Microsoft\\OneDrive\\OneDrive.exe      N/A      |\n",
      "|    0   N/A  N/A     17568    C+G   C:\\Program Files\\RustDesk\\rustdesk.exe      N/A      |\n",
      "|    0   N/A  N/A     17788    C+G   ...oogle\\Chrome\\Application\\chrome.exe      N/A      |\n",
      "+-----------------------------------------------------------------------------------------+\n",
      "\n"
     ]
    }
   ],
   "source": [
    "import subprocess\n",
    "\n",
    "def check_gpu_memory():\n",
    "    result = subprocess.run(['nvidia-smi'], stdout=subprocess.PIPE)\n",
    "    print(result.stdout.decode('utf-8'))\n",
    "\n",
    "check_gpu_memory()"
   ]
  },
  {
   "cell_type": "code",
   "execution_count": 25,
   "metadata": {
    "colab": {
     "base_uri": "https://localhost:8080/",
     "height": 49,
     "referenced_widgets": [
      "7c1f12cb1ab847249bb4280c54b564cb",
      "19d6d94b89704a269debe53bb709576d",
      "d4f923059c214d2a8aa3fd74ef0b0b38",
      "be620ffd47314ef3b9e071b5f1eca94c",
      "163f38a04bda46ee92bb147e7d5faa80",
      "1a19a3eae622461585e820b2fb93316c",
      "66a3ea8eb4f24f50b8e82fb9f25e3bcd",
      "0d48ded90abf4b10b0ce4a023cedc338",
      "4907a67a924f4daea078544b5a929188",
      "110ee953de00408389437603ab9cbd15",
      "4fc823b122304890af9cb927f3f8afef"
     ]
    },
    "id": "58OHqNi0p2iv",
    "outputId": "21a4592b-8670-4713-e9b2-cd77b9969706"
   },
   "outputs": [
    {
     "data": {
      "application/vnd.jupyter.widget-view+json": {
       "model_id": "c756832b915d4238a73319b1823f8e81",
       "version_major": 2,
       "version_minor": 0
      },
      "text/plain": [
       "  0%|          | 0/138 [00:00<?, ?it/s]"
      ]
     },
     "metadata": {},
     "output_type": "display_data"
    },
    {
     "data": {
      "application/vnd.jupyter.widget-view+json": {
       "model_id": "d5f08b565dd7408a9d69030378d9119c",
       "version_major": 2,
       "version_minor": 0
      },
      "text/plain": [
       "  0%|          | 0/40 [00:00<?, ?it/s]"
      ]
     },
     "metadata": {},
     "output_type": "display_data"
    },
    {
     "name": "stdout",
     "output_type": "stream",
     "text": [
      "Loss Decreasing.. inf >> 0.642 \n",
      "Epoch:1/20.. Train Loss: 0.738.. Val Loss: 0.642.. Train mIoU:0.376.. Val mIoU: 0.453.. Train Acc:0.549.. Val Acc:0.630.. Time: 30.99m\n"
     ]
    },
    {
     "data": {
      "application/vnd.jupyter.widget-view+json": {
       "model_id": "9a835fda70124366b2137733dd0b6280",
       "version_major": 2,
       "version_minor": 0
      },
      "text/plain": [
       "  0%|          | 0/138 [00:00<?, ?it/s]"
      ]
     },
     "metadata": {},
     "output_type": "display_data"
    },
    {
     "data": {
      "application/vnd.jupyter.widget-view+json": {
       "model_id": "5721000034f3413fa8cb3bdd76efcd17",
       "version_major": 2,
       "version_minor": 0
      },
      "text/plain": [
       "  0%|          | 0/40 [00:00<?, ?it/s]"
      ]
     },
     "metadata": {},
     "output_type": "display_data"
    },
    {
     "name": "stdout",
     "output_type": "stream",
     "text": [
      "Loss Decreasing.. 0.642 >> 0.567 \n",
      "Epoch:2/20.. Train Loss: 0.613.. Val Loss: 0.567.. Train mIoU:0.481.. Val mIoU: 0.546.. Train Acc:0.651.. Val Acc:0.716.. Time: 28.43m\n"
     ]
    },
    {
     "data": {
      "application/vnd.jupyter.widget-view+json": {
       "model_id": "5d6dd3294fe34dcc9e4d5769b154bee6",
       "version_major": 2,
       "version_minor": 0
      },
      "text/plain": [
       "  0%|          | 0/138 [00:00<?, ?it/s]"
      ]
     },
     "metadata": {},
     "output_type": "display_data"
    },
    {
     "data": {
      "application/vnd.jupyter.widget-view+json": {
       "model_id": "e62b795bcca14656b33c040a33dcb675",
       "version_major": 2,
       "version_minor": 0
      },
      "text/plain": [
       "  0%|          | 0/40 [00:00<?, ?it/s]"
      ]
     },
     "metadata": {},
     "output_type": "display_data"
    },
    {
     "name": "stdout",
     "output_type": "stream",
     "text": [
      "Loss Decreasing.. 0.567 >> 0.519 \n",
      "Epoch:3/20.. Train Loss: 0.543.. Val Loss: 0.519.. Train mIoU:0.555.. Val mIoU: 0.581.. Train Acc:0.716.. Val Acc:0.750.. Time: 28.29m\n"
     ]
    },
    {
     "data": {
      "application/vnd.jupyter.widget-view+json": {
       "model_id": "62c06e7a33c14166a59df94fb6877bb6",
       "version_major": 2,
       "version_minor": 0
      },
      "text/plain": [
       "  0%|          | 0/138 [00:00<?, ?it/s]"
      ]
     },
     "metadata": {},
     "output_type": "display_data"
    },
    {
     "data": {
      "application/vnd.jupyter.widget-view+json": {
       "model_id": "5e6014c97280417592576100ae08d908",
       "version_major": 2,
       "version_minor": 0
      },
      "text/plain": [
       "  0%|          | 0/40 [00:00<?, ?it/s]"
      ]
     },
     "metadata": {},
     "output_type": "display_data"
    },
    {
     "name": "stdout",
     "output_type": "stream",
     "text": [
      "Loss Decreasing.. 0.519 >> 0.455 \n",
      "saving model...\n",
      "Epoch:4/20.. Train Loss: 0.514.. Val Loss: 0.455.. Train mIoU:0.583.. Val mIoU: 0.626.. Train Acc:0.739.. Val Acc:0.780.. Time: 29.45m\n"
     ]
    },
    {
     "data": {
      "application/vnd.jupyter.widget-view+json": {
       "model_id": "ae4798408abc418dafa62b2eb2e5dfa3",
       "version_major": 2,
       "version_minor": 0
      },
      "text/plain": [
       "  0%|          | 0/138 [00:00<?, ?it/s]"
      ]
     },
     "metadata": {},
     "output_type": "display_data"
    },
    {
     "data": {
      "application/vnd.jupyter.widget-view+json": {
       "model_id": "2e37165a8d8a4bf38f2e43547544cea8",
       "version_major": 2,
       "version_minor": 0
      },
      "text/plain": [
       "  0%|          | 0/40 [00:00<?, ?it/s]"
      ]
     },
     "metadata": {},
     "output_type": "display_data"
    },
    {
     "name": "stdout",
     "output_type": "stream",
     "text": [
      "Loss Decreasing.. 0.455 >> 0.431 \n",
      "Epoch:5/20.. Train Loss: 0.480.. Val Loss: 0.431.. Train mIoU:0.622.. Val mIoU: 0.646.. Train Acc:0.768.. Val Acc:0.791.. Time: 28.90m\n"
     ]
    },
    {
     "data": {
      "application/vnd.jupyter.widget-view+json": {
       "model_id": "13ea11a53a064b168d7ed9b1b18d6d78",
       "version_major": 2,
       "version_minor": 0
      },
      "text/plain": [
       "  0%|          | 0/138 [00:00<?, ?it/s]"
      ]
     },
     "metadata": {},
     "output_type": "display_data"
    },
    {
     "data": {
      "application/vnd.jupyter.widget-view+json": {
       "model_id": "b3aea5ff8fbe40eda03c6323c59d9a3f",
       "version_major": 2,
       "version_minor": 0
      },
      "text/plain": [
       "  0%|          | 0/40 [00:00<?, ?it/s]"
      ]
     },
     "metadata": {},
     "output_type": "display_data"
    },
    {
     "name": "stdout",
     "output_type": "stream",
     "text": [
      "Loss Not Decrease for 1 time\n",
      "Epoch:6/20.. Train Loss: 0.470.. Val Loss: 0.445.. Train mIoU:0.625.. Val mIoU: 0.623.. Train Acc:0.770.. Val Acc:0.783.. Time: 28.31m\n"
     ]
    },
    {
     "data": {
      "application/vnd.jupyter.widget-view+json": {
       "model_id": "6849fbef4146478b836f5b944787ac10",
       "version_major": 2,
       "version_minor": 0
      },
      "text/plain": [
       "  0%|          | 0/138 [00:00<?, ?it/s]"
      ]
     },
     "metadata": {},
     "output_type": "display_data"
    },
    {
     "data": {
      "application/vnd.jupyter.widget-view+json": {
       "model_id": "5ac1901adaf64c01961971e87884d833",
       "version_major": 2,
       "version_minor": 0
      },
      "text/plain": [
       "  0%|          | 0/40 [00:00<?, ?it/s]"
      ]
     },
     "metadata": {},
     "output_type": "display_data"
    },
    {
     "name": "stdout",
     "output_type": "stream",
     "text": [
      "Loss Decreasing.. 0.445 >> 0.423 \n",
      "Epoch:7/20.. Train Loss: 0.468.. Val Loss: 0.423.. Train mIoU:0.628.. Val mIoU: 0.641.. Train Acc:0.773.. Val Acc:0.793.. Time: 28.90m\n"
     ]
    },
    {
     "data": {
      "application/vnd.jupyter.widget-view+json": {
       "model_id": "94cc921721b74a91a038e9323a99b850",
       "version_major": 2,
       "version_minor": 0
      },
      "text/plain": [
       "  0%|          | 0/138 [00:00<?, ?it/s]"
      ]
     },
     "metadata": {},
     "output_type": "display_data"
    },
    {
     "data": {
      "application/vnd.jupyter.widget-view+json": {
       "model_id": "615314f1e573478096abe342d6576f99",
       "version_major": 2,
       "version_minor": 0
      },
      "text/plain": [
       "  0%|          | 0/40 [00:00<?, ?it/s]"
      ]
     },
     "metadata": {},
     "output_type": "display_data"
    },
    {
     "name": "stdout",
     "output_type": "stream",
     "text": [
      "Loss Not Decrease for 2 time\n",
      "Epoch:8/20.. Train Loss: 0.458.. Val Loss: 0.438.. Train mIoU:0.637.. Val mIoU: 0.648.. Train Acc:0.781.. Val Acc:0.793.. Time: 28.42m\n"
     ]
    },
    {
     "data": {
      "application/vnd.jupyter.widget-view+json": {
       "model_id": "bacfac1571cb49ba9ef687f233dda8ed",
       "version_major": 2,
       "version_minor": 0
      },
      "text/plain": [
       "  0%|          | 0/138 [00:00<?, ?it/s]"
      ]
     },
     "metadata": {},
     "output_type": "display_data"
    },
    {
     "data": {
      "application/vnd.jupyter.widget-view+json": {
       "model_id": "ee530cf4d4484174b5d626e764dce57c",
       "version_major": 2,
       "version_minor": 0
      },
      "text/plain": [
       "  0%|          | 0/40 [00:00<?, ?it/s]"
      ]
     },
     "metadata": {},
     "output_type": "display_data"
    },
    {
     "name": "stdout",
     "output_type": "stream",
     "text": [
      "Loss Decreasing.. 0.438 >> 0.412 \n",
      "Epoch:9/20.. Train Loss: 0.442.. Val Loss: 0.412.. Train mIoU:0.654.. Val mIoU: 0.676.. Train Acc:0.793.. Val Acc:0.814.. Time: 29.49m\n"
     ]
    },
    {
     "data": {
      "application/vnd.jupyter.widget-view+json": {
       "model_id": "daca4a38c3cb4812838af0ffba741e10",
       "version_major": 2,
       "version_minor": 0
      },
      "text/plain": [
       "  0%|          | 0/138 [00:00<?, ?it/s]"
      ]
     },
     "metadata": {},
     "output_type": "display_data"
    },
    {
     "data": {
      "application/vnd.jupyter.widget-view+json": {
       "model_id": "5c398185297e4d15a69c91b39cab78a8",
       "version_major": 2,
       "version_minor": 0
      },
      "text/plain": [
       "  0%|          | 0/40 [00:00<?, ?it/s]"
      ]
     },
     "metadata": {},
     "output_type": "display_data"
    },
    {
     "name": "stdout",
     "output_type": "stream",
     "text": [
      "Loss Decreasing.. 0.412 >> 0.383 \n",
      "Epoch:10/20.. Train Loss: 0.431.. Val Loss: 0.383.. Train mIoU:0.657.. Val mIoU: 0.698.. Train Acc:0.795.. Val Acc:0.827.. Time: 30.25m\n"
     ]
    },
    {
     "data": {
      "application/vnd.jupyter.widget-view+json": {
       "model_id": "2df72fb4debb4bffb0cce7bb5edc5828",
       "version_major": 2,
       "version_minor": 0
      },
      "text/plain": [
       "  0%|          | 0/138 [00:00<?, ?it/s]"
      ]
     },
     "metadata": {},
     "output_type": "display_data"
    },
    {
     "data": {
      "application/vnd.jupyter.widget-view+json": {
       "model_id": "7e6bd9d6fd084defaaeb08fe2e67915a",
       "version_major": 2,
       "version_minor": 0
      },
      "text/plain": [
       "  0%|          | 0/40 [00:00<?, ?it/s]"
      ]
     },
     "metadata": {},
     "output_type": "display_data"
    },
    {
     "name": "stdout",
     "output_type": "stream",
     "text": [
      "Loss Not Decrease for 3 time\n",
      "Epoch:11/20.. Train Loss: 0.423.. Val Loss: 0.399.. Train mIoU:0.667.. Val mIoU: 0.707.. Train Acc:0.802.. Val Acc:0.833.. Time: 29.79m\n"
     ]
    },
    {
     "data": {
      "application/vnd.jupyter.widget-view+json": {
       "model_id": "0584a3ac6f9549bd9eab7db70f0d224c",
       "version_major": 2,
       "version_minor": 0
      },
      "text/plain": [
       "  0%|          | 0/138 [00:00<?, ?it/s]"
      ]
     },
     "metadata": {},
     "output_type": "display_data"
    },
    {
     "data": {
      "application/vnd.jupyter.widget-view+json": {
       "model_id": "cbebf958d93e4c28a55713b8466e1c79",
       "version_major": 2,
       "version_minor": 0
      },
      "text/plain": [
       "  0%|          | 0/40 [00:00<?, ?it/s]"
      ]
     },
     "metadata": {},
     "output_type": "display_data"
    },
    {
     "name": "stdout",
     "output_type": "stream",
     "text": [
      "Loss Decreasing.. 0.399 >> 0.386 \n",
      "saving model...\n",
      "Epoch:12/20.. Train Loss: 0.417.. Val Loss: 0.386.. Train mIoU:0.676.. Val mIoU: 0.686.. Train Acc:0.808.. Val Acc:0.822.. Time: 28.97m\n"
     ]
    },
    {
     "data": {
      "application/vnd.jupyter.widget-view+json": {
       "model_id": "be560ce9dad6418ca35e2b59a3890b84",
       "version_major": 2,
       "version_minor": 0
      },
      "text/plain": [
       "  0%|          | 0/138 [00:00<?, ?it/s]"
      ]
     },
     "metadata": {},
     "output_type": "display_data"
    },
    {
     "data": {
      "application/vnd.jupyter.widget-view+json": {
       "model_id": "c5c6c3416ba4451aa08ce860486f21a8",
       "version_major": 2,
       "version_minor": 0
      },
      "text/plain": [
       "  0%|          | 0/40 [00:00<?, ?it/s]"
      ]
     },
     "metadata": {},
     "output_type": "display_data"
    },
    {
     "name": "stdout",
     "output_type": "stream",
     "text": [
      "Loss Decreasing.. 0.386 >> 0.359 \n",
      "Epoch:13/20.. Train Loss: 0.415.. Val Loss: 0.359.. Train mIoU:0.666.. Val mIoU: 0.722.. Train Acc:0.803.. Val Acc:0.844.. Time: 28.42m\n"
     ]
    },
    {
     "data": {
      "application/vnd.jupyter.widget-view+json": {
       "model_id": "7be483c7834b48e79bcac6612974e95c",
       "version_major": 2,
       "version_minor": 0
      },
      "text/plain": [
       "  0%|          | 0/138 [00:00<?, ?it/s]"
      ]
     },
     "metadata": {},
     "output_type": "display_data"
    },
    {
     "data": {
      "application/vnd.jupyter.widget-view+json": {
       "model_id": "1f20b060853843a7bb3cbeae1d445b8f",
       "version_major": 2,
       "version_minor": 0
      },
      "text/plain": [
       "  0%|          | 0/40 [00:00<?, ?it/s]"
      ]
     },
     "metadata": {},
     "output_type": "display_data"
    },
    {
     "name": "stdout",
     "output_type": "stream",
     "text": [
      "Loss Not Decrease for 4 time\n",
      "Epoch:14/20.. Train Loss: 0.400.. Val Loss: 0.387.. Train mIoU:0.683.. Val mIoU: 0.700.. Train Acc:0.814.. Val Acc:0.831.. Time: 28.78m\n"
     ]
    },
    {
     "data": {
      "application/vnd.jupyter.widget-view+json": {
       "model_id": "a70be13597aa40bc9b5943c0418056f8",
       "version_major": 2,
       "version_minor": 0
      },
      "text/plain": [
       "  0%|          | 0/138 [00:00<?, ?it/s]"
      ]
     },
     "metadata": {},
     "output_type": "display_data"
    },
    {
     "data": {
      "application/vnd.jupyter.widget-view+json": {
       "model_id": "9b703decf304404783a6c72aeeafe347",
       "version_major": 2,
       "version_minor": 0
      },
      "text/plain": [
       "  0%|          | 0/40 [00:00<?, ?it/s]"
      ]
     },
     "metadata": {},
     "output_type": "display_data"
    },
    {
     "name": "stdout",
     "output_type": "stream",
     "text": [
      "Loss Not Decrease for 5 time\n",
      "Epoch:15/20.. Train Loss: 0.405.. Val Loss: 0.388.. Train mIoU:0.678.. Val mIoU: 0.708.. Train Acc:0.810.. Val Acc:0.834.. Time: 28.50m\n"
     ]
    },
    {
     "data": {
      "application/vnd.jupyter.widget-view+json": {
       "model_id": "90ba8a3507694dedb5a095cec6a87c46",
       "version_major": 2,
       "version_minor": 0
      },
      "text/plain": [
       "  0%|          | 0/138 [00:00<?, ?it/s]"
      ]
     },
     "metadata": {},
     "output_type": "display_data"
    },
    {
     "data": {
      "application/vnd.jupyter.widget-view+json": {
       "model_id": "e2546518daf8436ba2872a1ffab38111",
       "version_major": 2,
       "version_minor": 0
      },
      "text/plain": [
       "  0%|          | 0/40 [00:00<?, ?it/s]"
      ]
     },
     "metadata": {},
     "output_type": "display_data"
    },
    {
     "name": "stdout",
     "output_type": "stream",
     "text": [
      "Loss Decreasing.. 0.388 >> 0.373 \n",
      "Epoch:16/20.. Train Loss: 0.391.. Val Loss: 0.373.. Train mIoU:0.689.. Val mIoU: 0.711.. Train Acc:0.819.. Val Acc:0.835.. Time: 28.25m\n"
     ]
    },
    {
     "data": {
      "application/vnd.jupyter.widget-view+json": {
       "model_id": "dda9fd7a54644b13aa6f3df636df0ae3",
       "version_major": 2,
       "version_minor": 0
      },
      "text/plain": [
       "  0%|          | 0/138 [00:00<?, ?it/s]"
      ]
     },
     "metadata": {},
     "output_type": "display_data"
    },
    {
     "data": {
      "application/vnd.jupyter.widget-view+json": {
       "model_id": "15c5184fa27b40f7b168c6d1820ce23b",
       "version_major": 2,
       "version_minor": 0
      },
      "text/plain": [
       "  0%|          | 0/40 [00:00<?, ?it/s]"
      ]
     },
     "metadata": {},
     "output_type": "display_data"
    },
    {
     "name": "stdout",
     "output_type": "stream",
     "text": [
      "Loss Decreasing.. 0.373 >> 0.364 \n",
      "Epoch:17/20.. Train Loss: 0.393.. Val Loss: 0.364.. Train mIoU:0.693.. Val mIoU: 0.719.. Train Acc:0.822.. Val Acc:0.842.. Time: 28.41m\n"
     ]
    },
    {
     "data": {
      "application/vnd.jupyter.widget-view+json": {
       "model_id": "43e7ee1356ba453c800ece4c5d227f90",
       "version_major": 2,
       "version_minor": 0
      },
      "text/plain": [
       "  0%|          | 0/138 [00:00<?, ?it/s]"
      ]
     },
     "metadata": {},
     "output_type": "display_data"
    },
    {
     "data": {
      "application/vnd.jupyter.widget-view+json": {
       "model_id": "75fbf5b504f04c81912833fcc0501a8c",
       "version_major": 2,
       "version_minor": 0
      },
      "text/plain": [
       "  0%|          | 0/40 [00:00<?, ?it/s]"
      ]
     },
     "metadata": {},
     "output_type": "display_data"
    },
    {
     "name": "stdout",
     "output_type": "stream",
     "text": [
      "Loss Decreasing.. 0.364 >> 0.358 \n",
      "Epoch:18/20.. Train Loss: 0.380.. Val Loss: 0.358.. Train mIoU:0.700.. Val mIoU: 0.728.. Train Acc:0.826.. Val Acc:0.846.. Time: 28.39m\n"
     ]
    },
    {
     "data": {
      "application/vnd.jupyter.widget-view+json": {
       "model_id": "cabc902a07704c099446c2c3bd575017",
       "version_major": 2,
       "version_minor": 0
      },
      "text/plain": [
       "  0%|          | 0/138 [00:00<?, ?it/s]"
      ]
     },
     "metadata": {},
     "output_type": "display_data"
    },
    {
     "data": {
      "application/vnd.jupyter.widget-view+json": {
       "model_id": "bd27d496d4ba4b27ab04115b39b1feb5",
       "version_major": 2,
       "version_minor": 0
      },
      "text/plain": [
       "  0%|          | 0/40 [00:00<?, ?it/s]"
      ]
     },
     "metadata": {},
     "output_type": "display_data"
    },
    {
     "name": "stdout",
     "output_type": "stream",
     "text": [
      "Loss Not Decrease for 6 time\n",
      "Epoch:19/20.. Train Loss: 0.385.. Val Loss: 0.366.. Train mIoU:0.693.. Val mIoU: 0.718.. Train Acc:0.823.. Val Acc:0.841.. Time: 28.58m\n"
     ]
    },
    {
     "data": {
      "application/vnd.jupyter.widget-view+json": {
       "model_id": "e9589a7337ab45c991ab14e9a802980a",
       "version_major": 2,
       "version_minor": 0
      },
      "text/plain": [
       "  0%|          | 0/138 [00:00<?, ?it/s]"
      ]
     },
     "metadata": {},
     "output_type": "display_data"
    },
    {
     "data": {
      "application/vnd.jupyter.widget-view+json": {
       "model_id": "36a0344c90f44e718d85b39af025b766",
       "version_major": 2,
       "version_minor": 0
      },
      "text/plain": [
       "  0%|          | 0/40 [00:00<?, ?it/s]"
      ]
     },
     "metadata": {},
     "output_type": "display_data"
    },
    {
     "name": "stdout",
     "output_type": "stream",
     "text": [
      "Loss Decreasing.. 0.366 >> 0.362 \n",
      "saving model...\n",
      "Epoch:20/20.. Train Loss: 0.384.. Val Loss: 0.362.. Train mIoU:0.697.. Val mIoU: 0.716.. Train Acc:0.824.. Val Acc:0.842.. Time: 28.35m\n",
      "Total time: 577.89 m\n"
     ]
    }
   ],
   "source": [
    "max_lr = 1e-4\n",
    "epoch = 20\n",
    "weight_decay = 1e-4\n",
    "\n",
    "criterion = nn.CrossEntropyLoss()\n",
    "optimizer = torch.optim.AdamW(model.parameters(), lr=max_lr, weight_decay=weight_decay)\n",
    "sched = torch.optim.lr_scheduler.OneCycleLR(optimizer, max_lr, epochs=epoch,\n",
    "                                            steps_per_epoch=len(train_loader))\n",
    "\n",
    "history = fit(epoch, model, train_loader, val_loader, criterion, optimizer, sched)\n",
    "\n",
    "torch.save(model, 'Unet-mobilenet2-batchsize8-BB_lr-4.pt')"
   ]
  },
  {
   "cell_type": "code",
   "execution_count": 26,
   "metadata": {},
   "outputs": [
    {
     "data": {
      "text/plain": [
       "Unet(\n",
       "  (encoder): MobileNetV2Encoder(\n",
       "    (features): Sequential(\n",
       "      (0): Conv2dNormActivation(\n",
       "        (0): Conv2d(3, 32, kernel_size=(3, 3), stride=(2, 2), padding=(1, 1), bias=False)\n",
       "        (1): BatchNorm2d(32, eps=1e-05, momentum=0.1, affine=True, track_running_stats=True)\n",
       "        (2): ReLU6(inplace=True)\n",
       "      )\n",
       "      (1): InvertedResidual(\n",
       "        (conv): Sequential(\n",
       "          (0): Conv2dNormActivation(\n",
       "            (0): Conv2d(32, 32, kernel_size=(3, 3), stride=(1, 1), padding=(1, 1), groups=32, bias=False)\n",
       "            (1): BatchNorm2d(32, eps=1e-05, momentum=0.1, affine=True, track_running_stats=True)\n",
       "            (2): ReLU6(inplace=True)\n",
       "          )\n",
       "          (1): Conv2d(32, 16, kernel_size=(1, 1), stride=(1, 1), bias=False)\n",
       "          (2): BatchNorm2d(16, eps=1e-05, momentum=0.1, affine=True, track_running_stats=True)\n",
       "        )\n",
       "      )\n",
       "      (2): InvertedResidual(\n",
       "        (conv): Sequential(\n",
       "          (0): Conv2dNormActivation(\n",
       "            (0): Conv2d(16, 96, kernel_size=(1, 1), stride=(1, 1), bias=False)\n",
       "            (1): BatchNorm2d(96, eps=1e-05, momentum=0.1, affine=True, track_running_stats=True)\n",
       "            (2): ReLU6(inplace=True)\n",
       "          )\n",
       "          (1): Conv2dNormActivation(\n",
       "            (0): Conv2d(96, 96, kernel_size=(3, 3), stride=(2, 2), padding=(1, 1), groups=96, bias=False)\n",
       "            (1): BatchNorm2d(96, eps=1e-05, momentum=0.1, affine=True, track_running_stats=True)\n",
       "            (2): ReLU6(inplace=True)\n",
       "          )\n",
       "          (2): Conv2d(96, 24, kernel_size=(1, 1), stride=(1, 1), bias=False)\n",
       "          (3): BatchNorm2d(24, eps=1e-05, momentum=0.1, affine=True, track_running_stats=True)\n",
       "        )\n",
       "      )\n",
       "      (3): InvertedResidual(\n",
       "        (conv): Sequential(\n",
       "          (0): Conv2dNormActivation(\n",
       "            (0): Conv2d(24, 144, kernel_size=(1, 1), stride=(1, 1), bias=False)\n",
       "            (1): BatchNorm2d(144, eps=1e-05, momentum=0.1, affine=True, track_running_stats=True)\n",
       "            (2): ReLU6(inplace=True)\n",
       "          )\n",
       "          (1): Conv2dNormActivation(\n",
       "            (0): Conv2d(144, 144, kernel_size=(3, 3), stride=(1, 1), padding=(1, 1), groups=144, bias=False)\n",
       "            (1): BatchNorm2d(144, eps=1e-05, momentum=0.1, affine=True, track_running_stats=True)\n",
       "            (2): ReLU6(inplace=True)\n",
       "          )\n",
       "          (2): Conv2d(144, 24, kernel_size=(1, 1), stride=(1, 1), bias=False)\n",
       "          (3): BatchNorm2d(24, eps=1e-05, momentum=0.1, affine=True, track_running_stats=True)\n",
       "        )\n",
       "      )\n",
       "      (4): InvertedResidual(\n",
       "        (conv): Sequential(\n",
       "          (0): Conv2dNormActivation(\n",
       "            (0): Conv2d(24, 144, kernel_size=(1, 1), stride=(1, 1), bias=False)\n",
       "            (1): BatchNorm2d(144, eps=1e-05, momentum=0.1, affine=True, track_running_stats=True)\n",
       "            (2): ReLU6(inplace=True)\n",
       "          )\n",
       "          (1): Conv2dNormActivation(\n",
       "            (0): Conv2d(144, 144, kernel_size=(3, 3), stride=(2, 2), padding=(1, 1), groups=144, bias=False)\n",
       "            (1): BatchNorm2d(144, eps=1e-05, momentum=0.1, affine=True, track_running_stats=True)\n",
       "            (2): ReLU6(inplace=True)\n",
       "          )\n",
       "          (2): Conv2d(144, 32, kernel_size=(1, 1), stride=(1, 1), bias=False)\n",
       "          (3): BatchNorm2d(32, eps=1e-05, momentum=0.1, affine=True, track_running_stats=True)\n",
       "        )\n",
       "      )\n",
       "      (5): InvertedResidual(\n",
       "        (conv): Sequential(\n",
       "          (0): Conv2dNormActivation(\n",
       "            (0): Conv2d(32, 192, kernel_size=(1, 1), stride=(1, 1), bias=False)\n",
       "            (1): BatchNorm2d(192, eps=1e-05, momentum=0.1, affine=True, track_running_stats=True)\n",
       "            (2): ReLU6(inplace=True)\n",
       "          )\n",
       "          (1): Conv2dNormActivation(\n",
       "            (0): Conv2d(192, 192, kernel_size=(3, 3), stride=(1, 1), padding=(1, 1), groups=192, bias=False)\n",
       "            (1): BatchNorm2d(192, eps=1e-05, momentum=0.1, affine=True, track_running_stats=True)\n",
       "            (2): ReLU6(inplace=True)\n",
       "          )\n",
       "          (2): Conv2d(192, 32, kernel_size=(1, 1), stride=(1, 1), bias=False)\n",
       "          (3): BatchNorm2d(32, eps=1e-05, momentum=0.1, affine=True, track_running_stats=True)\n",
       "        )\n",
       "      )\n",
       "      (6): InvertedResidual(\n",
       "        (conv): Sequential(\n",
       "          (0): Conv2dNormActivation(\n",
       "            (0): Conv2d(32, 192, kernel_size=(1, 1), stride=(1, 1), bias=False)\n",
       "            (1): BatchNorm2d(192, eps=1e-05, momentum=0.1, affine=True, track_running_stats=True)\n",
       "            (2): ReLU6(inplace=True)\n",
       "          )\n",
       "          (1): Conv2dNormActivation(\n",
       "            (0): Conv2d(192, 192, kernel_size=(3, 3), stride=(1, 1), padding=(1, 1), groups=192, bias=False)\n",
       "            (1): BatchNorm2d(192, eps=1e-05, momentum=0.1, affine=True, track_running_stats=True)\n",
       "            (2): ReLU6(inplace=True)\n",
       "          )\n",
       "          (2): Conv2d(192, 32, kernel_size=(1, 1), stride=(1, 1), bias=False)\n",
       "          (3): BatchNorm2d(32, eps=1e-05, momentum=0.1, affine=True, track_running_stats=True)\n",
       "        )\n",
       "      )\n",
       "      (7): InvertedResidual(\n",
       "        (conv): Sequential(\n",
       "          (0): Conv2dNormActivation(\n",
       "            (0): Conv2d(32, 192, kernel_size=(1, 1), stride=(1, 1), bias=False)\n",
       "            (1): BatchNorm2d(192, eps=1e-05, momentum=0.1, affine=True, track_running_stats=True)\n",
       "            (2): ReLU6(inplace=True)\n",
       "          )\n",
       "          (1): Conv2dNormActivation(\n",
       "            (0): Conv2d(192, 192, kernel_size=(3, 3), stride=(2, 2), padding=(1, 1), groups=192, bias=False)\n",
       "            (1): BatchNorm2d(192, eps=1e-05, momentum=0.1, affine=True, track_running_stats=True)\n",
       "            (2): ReLU6(inplace=True)\n",
       "          )\n",
       "          (2): Conv2d(192, 64, kernel_size=(1, 1), stride=(1, 1), bias=False)\n",
       "          (3): BatchNorm2d(64, eps=1e-05, momentum=0.1, affine=True, track_running_stats=True)\n",
       "        )\n",
       "      )\n",
       "      (8): InvertedResidual(\n",
       "        (conv): Sequential(\n",
       "          (0): Conv2dNormActivation(\n",
       "            (0): Conv2d(64, 384, kernel_size=(1, 1), stride=(1, 1), bias=False)\n",
       "            (1): BatchNorm2d(384, eps=1e-05, momentum=0.1, affine=True, track_running_stats=True)\n",
       "            (2): ReLU6(inplace=True)\n",
       "          )\n",
       "          (1): Conv2dNormActivation(\n",
       "            (0): Conv2d(384, 384, kernel_size=(3, 3), stride=(1, 1), padding=(1, 1), groups=384, bias=False)\n",
       "            (1): BatchNorm2d(384, eps=1e-05, momentum=0.1, affine=True, track_running_stats=True)\n",
       "            (2): ReLU6(inplace=True)\n",
       "          )\n",
       "          (2): Conv2d(384, 64, kernel_size=(1, 1), stride=(1, 1), bias=False)\n",
       "          (3): BatchNorm2d(64, eps=1e-05, momentum=0.1, affine=True, track_running_stats=True)\n",
       "        )\n",
       "      )\n",
       "      (9): InvertedResidual(\n",
       "        (conv): Sequential(\n",
       "          (0): Conv2dNormActivation(\n",
       "            (0): Conv2d(64, 384, kernel_size=(1, 1), stride=(1, 1), bias=False)\n",
       "            (1): BatchNorm2d(384, eps=1e-05, momentum=0.1, affine=True, track_running_stats=True)\n",
       "            (2): ReLU6(inplace=True)\n",
       "          )\n",
       "          (1): Conv2dNormActivation(\n",
       "            (0): Conv2d(384, 384, kernel_size=(3, 3), stride=(1, 1), padding=(1, 1), groups=384, bias=False)\n",
       "            (1): BatchNorm2d(384, eps=1e-05, momentum=0.1, affine=True, track_running_stats=True)\n",
       "            (2): ReLU6(inplace=True)\n",
       "          )\n",
       "          (2): Conv2d(384, 64, kernel_size=(1, 1), stride=(1, 1), bias=False)\n",
       "          (3): BatchNorm2d(64, eps=1e-05, momentum=0.1, affine=True, track_running_stats=True)\n",
       "        )\n",
       "      )\n",
       "      (10): InvertedResidual(\n",
       "        (conv): Sequential(\n",
       "          (0): Conv2dNormActivation(\n",
       "            (0): Conv2d(64, 384, kernel_size=(1, 1), stride=(1, 1), bias=False)\n",
       "            (1): BatchNorm2d(384, eps=1e-05, momentum=0.1, affine=True, track_running_stats=True)\n",
       "            (2): ReLU6(inplace=True)\n",
       "          )\n",
       "          (1): Conv2dNormActivation(\n",
       "            (0): Conv2d(384, 384, kernel_size=(3, 3), stride=(1, 1), padding=(1, 1), groups=384, bias=False)\n",
       "            (1): BatchNorm2d(384, eps=1e-05, momentum=0.1, affine=True, track_running_stats=True)\n",
       "            (2): ReLU6(inplace=True)\n",
       "          )\n",
       "          (2): Conv2d(384, 64, kernel_size=(1, 1), stride=(1, 1), bias=False)\n",
       "          (3): BatchNorm2d(64, eps=1e-05, momentum=0.1, affine=True, track_running_stats=True)\n",
       "        )\n",
       "      )\n",
       "      (11): InvertedResidual(\n",
       "        (conv): Sequential(\n",
       "          (0): Conv2dNormActivation(\n",
       "            (0): Conv2d(64, 384, kernel_size=(1, 1), stride=(1, 1), bias=False)\n",
       "            (1): BatchNorm2d(384, eps=1e-05, momentum=0.1, affine=True, track_running_stats=True)\n",
       "            (2): ReLU6(inplace=True)\n",
       "          )\n",
       "          (1): Conv2dNormActivation(\n",
       "            (0): Conv2d(384, 384, kernel_size=(3, 3), stride=(1, 1), padding=(1, 1), groups=384, bias=False)\n",
       "            (1): BatchNorm2d(384, eps=1e-05, momentum=0.1, affine=True, track_running_stats=True)\n",
       "            (2): ReLU6(inplace=True)\n",
       "          )\n",
       "          (2): Conv2d(384, 96, kernel_size=(1, 1), stride=(1, 1), bias=False)\n",
       "          (3): BatchNorm2d(96, eps=1e-05, momentum=0.1, affine=True, track_running_stats=True)\n",
       "        )\n",
       "      )\n",
       "      (12): InvertedResidual(\n",
       "        (conv): Sequential(\n",
       "          (0): Conv2dNormActivation(\n",
       "            (0): Conv2d(96, 576, kernel_size=(1, 1), stride=(1, 1), bias=False)\n",
       "            (1): BatchNorm2d(576, eps=1e-05, momentum=0.1, affine=True, track_running_stats=True)\n",
       "            (2): ReLU6(inplace=True)\n",
       "          )\n",
       "          (1): Conv2dNormActivation(\n",
       "            (0): Conv2d(576, 576, kernel_size=(3, 3), stride=(1, 1), padding=(1, 1), groups=576, bias=False)\n",
       "            (1): BatchNorm2d(576, eps=1e-05, momentum=0.1, affine=True, track_running_stats=True)\n",
       "            (2): ReLU6(inplace=True)\n",
       "          )\n",
       "          (2): Conv2d(576, 96, kernel_size=(1, 1), stride=(1, 1), bias=False)\n",
       "          (3): BatchNorm2d(96, eps=1e-05, momentum=0.1, affine=True, track_running_stats=True)\n",
       "        )\n",
       "      )\n",
       "      (13): InvertedResidual(\n",
       "        (conv): Sequential(\n",
       "          (0): Conv2dNormActivation(\n",
       "            (0): Conv2d(96, 576, kernel_size=(1, 1), stride=(1, 1), bias=False)\n",
       "            (1): BatchNorm2d(576, eps=1e-05, momentum=0.1, affine=True, track_running_stats=True)\n",
       "            (2): ReLU6(inplace=True)\n",
       "          )\n",
       "          (1): Conv2dNormActivation(\n",
       "            (0): Conv2d(576, 576, kernel_size=(3, 3), stride=(1, 1), padding=(1, 1), groups=576, bias=False)\n",
       "            (1): BatchNorm2d(576, eps=1e-05, momentum=0.1, affine=True, track_running_stats=True)\n",
       "            (2): ReLU6(inplace=True)\n",
       "          )\n",
       "          (2): Conv2d(576, 96, kernel_size=(1, 1), stride=(1, 1), bias=False)\n",
       "          (3): BatchNorm2d(96, eps=1e-05, momentum=0.1, affine=True, track_running_stats=True)\n",
       "        )\n",
       "      )\n",
       "      (14): InvertedResidual(\n",
       "        (conv): Sequential(\n",
       "          (0): Conv2dNormActivation(\n",
       "            (0): Conv2d(96, 576, kernel_size=(1, 1), stride=(1, 1), bias=False)\n",
       "            (1): BatchNorm2d(576, eps=1e-05, momentum=0.1, affine=True, track_running_stats=True)\n",
       "            (2): ReLU6(inplace=True)\n",
       "          )\n",
       "          (1): Conv2dNormActivation(\n",
       "            (0): Conv2d(576, 576, kernel_size=(3, 3), stride=(2, 2), padding=(1, 1), groups=576, bias=False)\n",
       "            (1): BatchNorm2d(576, eps=1e-05, momentum=0.1, affine=True, track_running_stats=True)\n",
       "            (2): ReLU6(inplace=True)\n",
       "          )\n",
       "          (2): Conv2d(576, 160, kernel_size=(1, 1), stride=(1, 1), bias=False)\n",
       "          (3): BatchNorm2d(160, eps=1e-05, momentum=0.1, affine=True, track_running_stats=True)\n",
       "        )\n",
       "      )\n",
       "      (15): InvertedResidual(\n",
       "        (conv): Sequential(\n",
       "          (0): Conv2dNormActivation(\n",
       "            (0): Conv2d(160, 960, kernel_size=(1, 1), stride=(1, 1), bias=False)\n",
       "            (1): BatchNorm2d(960, eps=1e-05, momentum=0.1, affine=True, track_running_stats=True)\n",
       "            (2): ReLU6(inplace=True)\n",
       "          )\n",
       "          (1): Conv2dNormActivation(\n",
       "            (0): Conv2d(960, 960, kernel_size=(3, 3), stride=(1, 1), padding=(1, 1), groups=960, bias=False)\n",
       "            (1): BatchNorm2d(960, eps=1e-05, momentum=0.1, affine=True, track_running_stats=True)\n",
       "            (2): ReLU6(inplace=True)\n",
       "          )\n",
       "          (2): Conv2d(960, 160, kernel_size=(1, 1), stride=(1, 1), bias=False)\n",
       "          (3): BatchNorm2d(160, eps=1e-05, momentum=0.1, affine=True, track_running_stats=True)\n",
       "        )\n",
       "      )\n",
       "      (16): InvertedResidual(\n",
       "        (conv): Sequential(\n",
       "          (0): Conv2dNormActivation(\n",
       "            (0): Conv2d(160, 960, kernel_size=(1, 1), stride=(1, 1), bias=False)\n",
       "            (1): BatchNorm2d(960, eps=1e-05, momentum=0.1, affine=True, track_running_stats=True)\n",
       "            (2): ReLU6(inplace=True)\n",
       "          )\n",
       "          (1): Conv2dNormActivation(\n",
       "            (0): Conv2d(960, 960, kernel_size=(3, 3), stride=(1, 1), padding=(1, 1), groups=960, bias=False)\n",
       "            (1): BatchNorm2d(960, eps=1e-05, momentum=0.1, affine=True, track_running_stats=True)\n",
       "            (2): ReLU6(inplace=True)\n",
       "          )\n",
       "          (2): Conv2d(960, 160, kernel_size=(1, 1), stride=(1, 1), bias=False)\n",
       "          (3): BatchNorm2d(160, eps=1e-05, momentum=0.1, affine=True, track_running_stats=True)\n",
       "        )\n",
       "      )\n",
       "      (17): InvertedResidual(\n",
       "        (conv): Sequential(\n",
       "          (0): Conv2dNormActivation(\n",
       "            (0): Conv2d(160, 960, kernel_size=(1, 1), stride=(1, 1), bias=False)\n",
       "            (1): BatchNorm2d(960, eps=1e-05, momentum=0.1, affine=True, track_running_stats=True)\n",
       "            (2): ReLU6(inplace=True)\n",
       "          )\n",
       "          (1): Conv2dNormActivation(\n",
       "            (0): Conv2d(960, 960, kernel_size=(3, 3), stride=(1, 1), padding=(1, 1), groups=960, bias=False)\n",
       "            (1): BatchNorm2d(960, eps=1e-05, momentum=0.1, affine=True, track_running_stats=True)\n",
       "            (2): ReLU6(inplace=True)\n",
       "          )\n",
       "          (2): Conv2d(960, 320, kernel_size=(1, 1), stride=(1, 1), bias=False)\n",
       "          (3): BatchNorm2d(320, eps=1e-05, momentum=0.1, affine=True, track_running_stats=True)\n",
       "        )\n",
       "      )\n",
       "      (18): Conv2dNormActivation(\n",
       "        (0): Conv2d(320, 1280, kernel_size=(1, 1), stride=(1, 1), bias=False)\n",
       "        (1): BatchNorm2d(1280, eps=1e-05, momentum=0.1, affine=True, track_running_stats=True)\n",
       "        (2): ReLU6(inplace=True)\n",
       "      )\n",
       "    )\n",
       "  )\n",
       "  (decoder): UnetDecoder(\n",
       "    (center): Identity()\n",
       "    (blocks): ModuleList(\n",
       "      (0): DecoderBlock(\n",
       "        (conv1): Conv2dReLU(\n",
       "          (0): Conv2d(1376, 256, kernel_size=(3, 3), stride=(1, 1), padding=(1, 1), bias=False)\n",
       "          (1): BatchNorm2d(256, eps=1e-05, momentum=0.1, affine=True, track_running_stats=True)\n",
       "          (2): ReLU(inplace=True)\n",
       "        )\n",
       "        (attention1): Attention(\n",
       "          (attention): Identity()\n",
       "        )\n",
       "        (conv2): Conv2dReLU(\n",
       "          (0): Conv2d(256, 256, kernel_size=(3, 3), stride=(1, 1), padding=(1, 1), bias=False)\n",
       "          (1): BatchNorm2d(256, eps=1e-05, momentum=0.1, affine=True, track_running_stats=True)\n",
       "          (2): ReLU(inplace=True)\n",
       "        )\n",
       "        (attention2): Attention(\n",
       "          (attention): Identity()\n",
       "        )\n",
       "      )\n",
       "      (1): DecoderBlock(\n",
       "        (conv1): Conv2dReLU(\n",
       "          (0): Conv2d(288, 128, kernel_size=(3, 3), stride=(1, 1), padding=(1, 1), bias=False)\n",
       "          (1): BatchNorm2d(128, eps=1e-05, momentum=0.1, affine=True, track_running_stats=True)\n",
       "          (2): ReLU(inplace=True)\n",
       "        )\n",
       "        (attention1): Attention(\n",
       "          (attention): Identity()\n",
       "        )\n",
       "        (conv2): Conv2dReLU(\n",
       "          (0): Conv2d(128, 128, kernel_size=(3, 3), stride=(1, 1), padding=(1, 1), bias=False)\n",
       "          (1): BatchNorm2d(128, eps=1e-05, momentum=0.1, affine=True, track_running_stats=True)\n",
       "          (2): ReLU(inplace=True)\n",
       "        )\n",
       "        (attention2): Attention(\n",
       "          (attention): Identity()\n",
       "        )\n",
       "      )\n",
       "      (2): DecoderBlock(\n",
       "        (conv1): Conv2dReLU(\n",
       "          (0): Conv2d(152, 64, kernel_size=(3, 3), stride=(1, 1), padding=(1, 1), bias=False)\n",
       "          (1): BatchNorm2d(64, eps=1e-05, momentum=0.1, affine=True, track_running_stats=True)\n",
       "          (2): ReLU(inplace=True)\n",
       "        )\n",
       "        (attention1): Attention(\n",
       "          (attention): Identity()\n",
       "        )\n",
       "        (conv2): Conv2dReLU(\n",
       "          (0): Conv2d(64, 64, kernel_size=(3, 3), stride=(1, 1), padding=(1, 1), bias=False)\n",
       "          (1): BatchNorm2d(64, eps=1e-05, momentum=0.1, affine=True, track_running_stats=True)\n",
       "          (2): ReLU(inplace=True)\n",
       "        )\n",
       "        (attention2): Attention(\n",
       "          (attention): Identity()\n",
       "        )\n",
       "      )\n",
       "      (3): DecoderBlock(\n",
       "        (conv1): Conv2dReLU(\n",
       "          (0): Conv2d(80, 32, kernel_size=(3, 3), stride=(1, 1), padding=(1, 1), bias=False)\n",
       "          (1): BatchNorm2d(32, eps=1e-05, momentum=0.1, affine=True, track_running_stats=True)\n",
       "          (2): ReLU(inplace=True)\n",
       "        )\n",
       "        (attention1): Attention(\n",
       "          (attention): Identity()\n",
       "        )\n",
       "        (conv2): Conv2dReLU(\n",
       "          (0): Conv2d(32, 32, kernel_size=(3, 3), stride=(1, 1), padding=(1, 1), bias=False)\n",
       "          (1): BatchNorm2d(32, eps=1e-05, momentum=0.1, affine=True, track_running_stats=True)\n",
       "          (2): ReLU(inplace=True)\n",
       "        )\n",
       "        (attention2): Attention(\n",
       "          (attention): Identity()\n",
       "        )\n",
       "      )\n",
       "      (4): DecoderBlock(\n",
       "        (conv1): Conv2dReLU(\n",
       "          (0): Conv2d(32, 16, kernel_size=(3, 3), stride=(1, 1), padding=(1, 1), bias=False)\n",
       "          (1): BatchNorm2d(16, eps=1e-05, momentum=0.1, affine=True, track_running_stats=True)\n",
       "          (2): ReLU(inplace=True)\n",
       "        )\n",
       "        (attention1): Attention(\n",
       "          (attention): Identity()\n",
       "        )\n",
       "        (conv2): Conv2dReLU(\n",
       "          (0): Conv2d(16, 16, kernel_size=(3, 3), stride=(1, 1), padding=(1, 1), bias=False)\n",
       "          (1): BatchNorm2d(16, eps=1e-05, momentum=0.1, affine=True, track_running_stats=True)\n",
       "          (2): ReLU(inplace=True)\n",
       "        )\n",
       "        (attention2): Attention(\n",
       "          (attention): Identity()\n",
       "        )\n",
       "      )\n",
       "    )\n",
       "  )\n",
       "  (segmentation_head): SegmentationHead(\n",
       "    (0): Conv2d(16, 2, kernel_size=(3, 3), stride=(1, 1), padding=(1, 1))\n",
       "    (1): Identity()\n",
       "    (2): Activation(\n",
       "      (activation): Identity()\n",
       "    )\n",
       "  )\n",
       ")"
      ]
     },
     "execution_count": 26,
     "metadata": {},
     "output_type": "execute_result"
    }
   ],
   "source": [
    "model_path = r'C:\\Users\\Yang_PC\\Documents\\Github\\ArcgisPro-Customized-Toolbox\\Notebook\\Unet-mobilenet2-batchsize8-BB_lr-4.pt'\n",
    "\n",
    "device = torch.device('cuda' if torch.cuda.is_available() else 'cpu')\n",
    "model = torch.load(model_path)\n",
    "model.to(device)\n",
    "\n",
    "\n"
   ]
  },
  {
   "cell_type": "code",
   "execution_count": 27,
   "metadata": {
    "id": "I0tS5lEOFR-o"
   },
   "outputs": [],
   "source": [
    "def plot_loss(history):\n",
    "    plt.plot(history['val_loss'], label='val', marker='o')\n",
    "    plt.plot( history['train_loss'], label='train', marker='o')\n",
    "    plt.title('Loss per epoch'); plt.ylabel('loss')\n",
    "    plt.xlabel('epoch')\n",
    "    plt.legend(), plt.grid()\n",
    "    plt.show()\n",
    "\n",
    "def plot_score(history):\n",
    "    plt.plot(history['train_miou'], label='train_mIoU', marker='*')\n",
    "    plt.plot(history['val_miou'], label='val_mIoU',  marker='*')\n",
    "    plt.title('Score per epoch'); plt.ylabel('mean IoU')\n",
    "    plt.xlabel('epoch')\n",
    "    plt.legend(), plt.grid()\n",
    "    plt.show()\n",
    "\n",
    "def plot_acc(history):\n",
    "    plt.plot(history['train_acc'], label='train_accuracy', marker='*')\n",
    "    plt.plot(history['val_acc'], label='val_accuracy',  marker='*')\n",
    "    plt.title('Accuracy per epoch'); plt.ylabel('Accuracy')\n",
    "    plt.xlabel('epoch')\n",
    "    plt.legend(), plt.grid()\n",
    "    plt.show()"
   ]
  },
  {
   "cell_type": "code",
   "execution_count": 28,
   "metadata": {
    "colab": {
     "base_uri": "https://localhost:8080/",
     "height": 1000
    },
    "id": "_trDOO9hFV8p",
    "outputId": "f8342968-3714-48f5-e510-976db45d5ee3"
   },
   "outputs": [
    {
     "data": {
      "image/png": "[encoded data removed]",
      "text/plain": [
       "<Figure size 640x480 with 1 Axes>"
      ]
     },
     "metadata": {},
     "output_type": "display_data"
    },
    {
     "data": {
      "image/png": "[encoded data removed]",
      "text/plain": [
       "<Figure size 640x480 with 1 Axes>"
      ]
     },
     "metadata": {},
     "output_type": "display_data"
    },
    {
     "data": {
      "image/png": "[encoded data removed]",
      "text/plain": [
       "<Figure size 640x480 with 1 Axes>"
      ]
     },
     "metadata": {},
     "output_type": "display_data"
    }
   ],
   "source": [
    "plot_loss(history)\n",
    "plot_score(history)\n",
    "plot_acc(history)"
   ]
  },
  {
   "cell_type": "code",
   "execution_count": 29,
   "metadata": {
    "id": "s7vAnGWxIcvF"
   },
   "outputs": [],
   "source": [
    "class DroneTestDataset(Dataset):\n",
    "    def __init__(self, img_path, mask_path, X, transform=None):\n",
    "        self.img_path = Path(img_path)\n",
    "        self.mask_path = Path(mask_path)\n",
    "        self.X = X\n",
    "        self.transform = transform\n",
    "\n",
    "    def __len__(self):\n",
    "        return len(self.X)\n",
    "\n",
    "    def __getitem__(self, idx):\n",
    "        # Create image and mask paths using pathlib\n",
    "        img_file_name = f'{self.X[idx]}.png'\n",
    "        img_path = self.img_path / img_file_name\n",
    "        mask_path = self.mask_path / img_file_name\n",
    "        \n",
    "        # Read and convert the image to RGB using OpenCV\n",
    "        img = cv2.imread(str(img_path))\n",
    "        img = cv2.cvtColor(img, cv2.COLOR_BGR2RGB)\n",
    "        \n",
    "        # Read the mask in grayscale directly using OpenCV\n",
    "        mask = cv2.imread(str(mask_path), cv2.IMREAD_GRAYSCALE)\n",
    "\n",
    "        if self.transform is not None:\n",
    "            # Convert image and mask to NumPy arrays for transformation\n",
    "            transformed = self.transform(image=img, mask=mask)\n",
    "            img = transformed['image']\n",
    "            mask = transformed['mask']\n",
    "        \n",
    "        # Convert the image to PIL Image (consistent with DroneTestDataset1)\n",
    "        img = Image.fromarray(img)\n",
    "\n",
    "        # Convert mask to a PyTorch tensor\n",
    "        mask = torch.from_numpy(mask).long()\n",
    "\n",
    "        # Return the image, mask, and file name\n",
    "        return img, mask, img_file_name\n",
    "\n",
    "t_test = A.Resize(768, 1152, interpolation=cv2.INTER_NEAREST)\n",
    "test_set = DroneTestDataset(test_image_folder, test_mask_folder, X_test, transform=t_test)"
   ]
  },
  {
   "cell_type": "code",
   "execution_count": 30,
   "metadata": {},
   "outputs": [],
   "source": [
    "import torch\n",
    "import torchvision.transforms as T\n",
    "import matplotlib.pyplot as plt\n",
    "import cv2\n",
    "import numpy as np\n",
    "\n",
    "\n",
    "# Updated function to perform inference and save the predicted mask with resizing\n",
    "def predict_image_mask_miou(model, image, mask, save_file, mean=[0.485, 0.456, 0.406], std=[0.229, 0.224, 0.225]):\n",
    "    model.eval()  # Set the model to evaluation mode\n",
    "    \n",
    "    # Store original image dimensions before transforming\n",
    "    original_height, original_width = 512, 512  # PIL Image size: (width, height)\n",
    "    \n",
    "    # Apply transformation to the image (e.g., normalization)\n",
    "    t = T.Compose([T.ToTensor(), T.Normalize(mean, std)])\n",
    "    image_tensor = t(image)  # Keep 'image' unchanged for later use\n",
    "    \n",
    "    # Move image and mask to the appropriate device\n",
    "    image_tensor = image_tensor.to(device)\n",
    "    mask = mask.to(device)\n",
    "    \n",
    "    with torch.no_grad():  # Disable gradient calculation for inference\n",
    "        image_tensor = image_tensor.unsqueeze(0)  # Add batch dimension for the model\n",
    "        mask = mask.unsqueeze(0)    # Add batch dimension\n",
    "\n",
    "        output = model(image_tensor)  # Run model inference\n",
    "        score = mIoU(output, mask)  # Compute mIoU score\n",
    "        \n",
    "        # Get the predicted mask by taking the argmax of the model's output\n",
    "        pred_mask = torch.argmax(output, dim=1)\n",
    "        pred_mask = pred_mask.cpu().squeeze(0)  # Move to CPU and remove batch dimension\n",
    "\n",
    "    # Resize the predicted mask to match the original image size\n",
    "    pred_mask_resized = cv2.resize(pred_mask.numpy(), (original_width, original_height), interpolation=cv2.INTER_NEAREST)\n",
    "    \n",
    "    # Save the resized predicted mask as a grayscale image\n",
    "    plt.imsave(save_file, pred_mask_resized, cmap='gray')  # Save mask as a grayscale image\n",
    "    \n",
    "    return pred_mask_resized, score\n",
    "\n",
    "\n",
    "\n",
    "def save_predicted_mask_overlay(pred_mask, img_file_name, image_folder, save_file, alpha=0.5):\n",
    "    \"\"\"\n",
    "    Overlays the predicted mask on the original image read from a specified folder, and saves the result.\n",
    "    \n",
    "    Parameters:\n",
    "    - pred_mask: The predicted mask (PyTorch tensor or NumPy array with values 0 and 1).\n",
    "    - img_file_name: The name of the image file (e.g., 'image_001.png').\n",
    "    - image_folder: The path to the folder where the original image is located.\n",
    "    - save_file: The path to save the overlaid image.\n",
    "    - alpha: The transparency factor for the overlay (default is 0.3 for higher transparency).\n",
    "    \"\"\"\n",
    "    # Build the full image path\n",
    "    img_path = os.path.join(image_folder, img_file_name)\n",
    "\n",
    "    # Read the original image from the specified folder\n",
    "    original_image = Image.open(img_path).convert('RGB')  # Use PIL to read the image\n",
    "    original_image = np.array(original_image)  # Convert to NumPy array\n",
    "\n",
    "    # Convert the predicted mask to a NumPy array if it's a PyTorch tensor\n",
    "    if isinstance(pred_mask, torch.Tensor):\n",
    "        pred_mask = pred_mask.cpu().numpy()\n",
    "\n",
    "    # Ensure the predicted mask has 2D shape (height, width)\n",
    "    if pred_mask.ndim != 2:\n",
    "        raise ValueError(f\"Expected 2D mask, but got shape {pred_mask.shape}\")\n",
    "\n",
    "    # Resize the predicted mask to match the original image size (assuming original image size is 512x512)\n",
    "    original_height, original_width = original_image.shape[:2]\n",
    "    pred_mask_resized = cv2.resize(pred_mask, (original_width, original_height), interpolation=cv2.INTER_NEAREST)\n",
    "\n",
    "    # Ensure the image is in the correct format (height, width, 3)\n",
    "    if original_image.ndim != 3 or original_image.shape[2] != 3:\n",
    "        raise ValueError(f\"Expected 3D RGB image, but got shape {original_image.shape}\")\n",
    "\n",
    "    # Create a copy of the original image to modify\n",
    "    overlay = original_image.copy()\n",
    "\n",
    "    # Broadcast the mask across the 3 RGB channels (set the mask area to light blue)\n",
    "    light_blue_color = [78,156,217]  # Light blue RGB\n",
    "    light_blue_mask = np.zeros_like(overlay)\n",
    "    light_blue_mask[pred_mask_resized == 1] = light_blue_color  # Light blue for class 1 (object)\n",
    "\n",
    "    # Blend the original image and the light blue mask, keeping the original image intensity intact\n",
    "    blended_image = cv2.addWeighted(light_blue_mask, alpha, original_image, 1, 0)\n",
    "\n",
    "    # Save the blended image\n",
    "    plt.imsave(save_file, blended_image)\n",
    "    print(f\"Saved overlay image: {save_file}\")\n"
   ]
  },
  {
   "cell_type": "code",
   "execution_count": 32,
   "metadata": {},
   "outputs": [
    {
     "name": "stderr",
     "output_type": "stream",
     "text": [
      "  1%|          | 1/157 [00:00<02:28,  1.05it/s]"
     ]
    },
    {
     "name": "stdout",
     "output_type": "stream",
     "text": [
      "Saved overlay image: D:\\ML_Seagrass\\SourceData\\BodegaBay\\BodegaBay\\test\\overlay\\BL_BB_19_row4_col6.png\n",
      "Saved predicted mask for BL_BB_19_row4_col6.png with mIoU score: 0.356\n"
     ]
    },
    {
     "name": "stderr",
     "output_type": "stream",
     "text": [
      "  1%|▏         | 2/157 [00:01<01:29,  1.73it/s]"
     ]
    },
    {
     "name": "stdout",
     "output_type": "stream",
     "text": [
      "Saved overlay image: D:\\ML_Seagrass\\SourceData\\BodegaBay\\BodegaBay\\test\\overlay\\BL_BB_19_row6_col8.png\n",
      "Saved predicted mask for BL_BB_19_row6_col8.png with mIoU score: 0.537\n"
     ]
    },
    {
     "name": "stderr",
     "output_type": "stream",
     "text": [
      "  2%|▏         | 3/157 [00:01<01:05,  2.34it/s]"
     ]
    },
    {
     "name": "stdout",
     "output_type": "stream",
     "text": [
      "Saved overlay image: D:\\ML_Seagrass\\SourceData\\BodegaBay\\BodegaBay\\test\\overlay\\BL_BB_20_row11_col15.png\n",
      "Saved predicted mask for BL_BB_20_row11_col15.png with mIoU score: 0.121\n"
     ]
    },
    {
     "name": "stderr",
     "output_type": "stream",
     "text": [
      "  3%|▎         | 4/157 [00:01<00:58,  2.61it/s]"
     ]
    },
    {
     "name": "stdout",
     "output_type": "stream",
     "text": [
      "Saved overlay image: D:\\ML_Seagrass\\SourceData\\BodegaBay\\BodegaBay\\test\\overlay\\BL_BB_20_row12_col11.png\n",
      "Saved predicted mask for BL_BB_20_row12_col11.png with mIoU score: 0.069\n"
     ]
    },
    {
     "name": "stderr",
     "output_type": "stream",
     "text": [
      "  4%|▍         | 6/157 [00:02<00:43,  3.43it/s]"
     ]
    },
    {
     "name": "stdout",
     "output_type": "stream",
     "text": [
      "Saved overlay image: D:\\ML_Seagrass\\SourceData\\BodegaBay\\BodegaBay\\test\\overlay\\BL_BB_20_row12_col5.png\n",
      "Saved predicted mask for BL_BB_20_row12_col5.png with mIoU score: 0.996\n",
      "Saved overlay image: D:\\ML_Seagrass\\SourceData\\BodegaBay\\BodegaBay\\test\\overlay\\BL_BB_20_row13_col18.png\n",
      "Saved predicted mask for BL_BB_20_row13_col18.png with mIoU score: 0.980\n"
     ]
    },
    {
     "name": "stderr",
     "output_type": "stream",
     "text": [
      "  4%|▍         | 7/157 [00:02<00:48,  3.09it/s]"
     ]
    },
    {
     "name": "stdout",
     "output_type": "stream",
     "text": [
      "Saved overlay image: D:\\ML_Seagrass\\SourceData\\BodegaBay\\BodegaBay\\test\\overlay\\BL_BB_20_row3_col7.png\n",
      "Saved predicted mask for BL_BB_20_row3_col7.png with mIoU score: 0.549\n"
     ]
    },
    {
     "name": "stderr",
     "output_type": "stream",
     "text": [
      "  5%|▌         | 8/157 [00:02<00:45,  3.27it/s]"
     ]
    },
    {
     "name": "stdout",
     "output_type": "stream",
     "text": [
      "Saved overlay image: D:\\ML_Seagrass\\SourceData\\BodegaBay\\BodegaBay\\test\\overlay\\BL_BB_20_row4_col4.png\n",
      "Saved predicted mask for BL_BB_20_row4_col4.png with mIoU score: 0.978\n"
     ]
    },
    {
     "name": "stderr",
     "output_type": "stream",
     "text": [
      "  6%|▌         | 9/157 [00:03<00:46,  3.16it/s]"
     ]
    },
    {
     "name": "stdout",
     "output_type": "stream",
     "text": [
      "Saved overlay image: D:\\ML_Seagrass\\SourceData\\BodegaBay\\BodegaBay\\test\\overlay\\BL_BB_20_row4_col7.png\n",
      "Saved predicted mask for BL_BB_20_row4_col7.png with mIoU score: 0.474\n"
     ]
    },
    {
     "name": "stderr",
     "output_type": "stream",
     "text": [
      "  6%|▋         | 10/157 [00:03<00:48,  3.05it/s]"
     ]
    },
    {
     "name": "stdout",
     "output_type": "stream",
     "text": [
      "Saved overlay image: D:\\ML_Seagrass\\SourceData\\BodegaBay\\BodegaBay\\test\\overlay\\BL_BB_20_row6_col8.png\n",
      "Saved predicted mask for BL_BB_20_row6_col8.png with mIoU score: 0.482\n"
     ]
    },
    {
     "name": "stderr",
     "output_type": "stream",
     "text": [
      "  7%|▋         | 11/157 [00:04<00:50,  2.89it/s]"
     ]
    },
    {
     "name": "stdout",
     "output_type": "stream",
     "text": [
      "Saved overlay image: D:\\ML_Seagrass\\SourceData\\BodegaBay\\BodegaBay\\test\\overlay\\BL_BB_20_row8_col8.png\n",
      "Saved predicted mask for BL_BB_20_row8_col8.png with mIoU score: 0.174\n"
     ]
    },
    {
     "name": "stderr",
     "output_type": "stream",
     "text": [
      "  8%|▊         | 12/157 [00:04<00:50,  2.88it/s]"
     ]
    },
    {
     "name": "stdout",
     "output_type": "stream",
     "text": [
      "Saved overlay image: D:\\ML_Seagrass\\SourceData\\BodegaBay\\BodegaBay\\test\\overlay\\BL_BB_20_row9_col13.png\n",
      "Saved predicted mask for BL_BB_20_row9_col13.png with mIoU score: 0.533\n"
     ]
    },
    {
     "name": "stderr",
     "output_type": "stream",
     "text": [
      "  8%|▊         | 13/157 [00:04<00:50,  2.86it/s]"
     ]
    },
    {
     "name": "stdout",
     "output_type": "stream",
     "text": [
      "Saved overlay image: D:\\ML_Seagrass\\SourceData\\BodegaBay\\BodegaBay\\test\\overlay\\BL_BB_21_row10_col12.png\n",
      "Saved predicted mask for BL_BB_21_row10_col12.png with mIoU score: 0.785\n"
     ]
    },
    {
     "name": "stderr",
     "output_type": "stream",
     "text": [
      "  9%|▉         | 14/157 [00:05<00:50,  2.84it/s]"
     ]
    },
    {
     "name": "stdout",
     "output_type": "stream",
     "text": [
      "Saved overlay image: D:\\ML_Seagrass\\SourceData\\BodegaBay\\BodegaBay\\test\\overlay\\BL_BB_21_row11_col10.png\n",
      "Saved predicted mask for BL_BB_21_row11_col10.png with mIoU score: 0.319\n"
     ]
    },
    {
     "name": "stderr",
     "output_type": "stream",
     "text": [
      " 10%|▉         | 15/157 [00:05<00:50,  2.79it/s]"
     ]
    },
    {
     "name": "stdout",
     "output_type": "stream",
     "text": [
      "Saved overlay image: D:\\ML_Seagrass\\SourceData\\BodegaBay\\BodegaBay\\test\\overlay\\BL_BB_21_row12_col9.png\n",
      "Saved predicted mask for BL_BB_21_row12_col9.png with mIoU score: 0.077\n"
     ]
    },
    {
     "name": "stderr",
     "output_type": "stream",
     "text": [
      " 10%|█         | 16/157 [00:05<00:49,  2.83it/s]"
     ]
    },
    {
     "name": "stdout",
     "output_type": "stream",
     "text": [
      "Saved overlay image: D:\\ML_Seagrass\\SourceData\\BodegaBay\\BodegaBay\\test\\overlay\\BL_BB_21_row13_col15.png\n",
      "Saved predicted mask for BL_BB_21_row13_col15.png with mIoU score: 0.934\n"
     ]
    },
    {
     "name": "stderr",
     "output_type": "stream",
     "text": [
      " 11%|█         | 17/157 [00:06<00:47,  2.94it/s]"
     ]
    },
    {
     "name": "stdout",
     "output_type": "stream",
     "text": [
      "Saved overlay image: D:\\ML_Seagrass\\SourceData\\BodegaBay\\BodegaBay\\test\\overlay\\BL_BB_21_row3_col6.png\n",
      "Saved predicted mask for BL_BB_21_row3_col6.png with mIoU score: 0.759\n"
     ]
    },
    {
     "name": "stderr",
     "output_type": "stream",
     "text": [
      " 11%|█▏        | 18/157 [00:06<00:46,  3.02it/s]"
     ]
    },
    {
     "name": "stdout",
     "output_type": "stream",
     "text": [
      "Saved overlay image: D:\\ML_Seagrass\\SourceData\\BodegaBay\\BodegaBay\\test\\overlay\\BL_BB_21_row5_col12.png\n",
      "Saved predicted mask for BL_BB_21_row5_col12.png with mIoU score: 0.750\n"
     ]
    },
    {
     "name": "stderr",
     "output_type": "stream",
     "text": [
      " 12%|█▏        | 19/157 [00:06<00:46,  2.98it/s]"
     ]
    },
    {
     "name": "stdout",
     "output_type": "stream",
     "text": [
      "Saved overlay image: D:\\ML_Seagrass\\SourceData\\BodegaBay\\BodegaBay\\test\\overlay\\BL_BB_21_row5_col7.png\n",
      "Saved predicted mask for BL_BB_21_row5_col7.png with mIoU score: 0.447\n"
     ]
    },
    {
     "name": "stderr",
     "output_type": "stream",
     "text": [
      " 13%|█▎        | 20/157 [00:07<00:46,  2.95it/s]"
     ]
    },
    {
     "name": "stdout",
     "output_type": "stream",
     "text": [
      "Saved overlay image: D:\\ML_Seagrass\\SourceData\\BodegaBay\\BodegaBay\\test\\overlay\\BL_BB_21_row5_col9.png\n",
      "Saved predicted mask for BL_BB_21_row5_col9.png with mIoU score: 0.919\n"
     ]
    },
    {
     "name": "stderr",
     "output_type": "stream",
     "text": [
      " 13%|█▎        | 21/157 [00:07<00:41,  3.31it/s]"
     ]
    },
    {
     "name": "stdout",
     "output_type": "stream",
     "text": [
      "Saved overlay image: D:\\ML_Seagrass\\SourceData\\BodegaBay\\BodegaBay\\test\\overlay\\BL_BB_21_row7_col1.png\n",
      "Saved predicted mask for BL_BB_21_row7_col1.png with mIoU score: 0.998\n"
     ]
    },
    {
     "name": "stderr",
     "output_type": "stream",
     "text": [
      " 14%|█▍        | 22/157 [00:07<00:42,  3.19it/s]"
     ]
    },
    {
     "name": "stdout",
     "output_type": "stream",
     "text": [
      "Saved overlay image: D:\\ML_Seagrass\\SourceData\\BodegaBay\\BodegaBay\\test\\overlay\\BL_BB_21_row8_col11.png\n",
      "Saved predicted mask for BL_BB_21_row8_col11.png with mIoU score: 0.797\n"
     ]
    },
    {
     "name": "stderr",
     "output_type": "stream",
     "text": [
      " 15%|█▍        | 23/157 [00:07<00:41,  3.21it/s]"
     ]
    },
    {
     "name": "stdout",
     "output_type": "stream",
     "text": [
      "Saved overlay image: D:\\ML_Seagrass\\SourceData\\BodegaBay\\BodegaBay\\test\\overlay\\BL_BB_21_row8_col14.png\n",
      "Saved predicted mask for BL_BB_21_row8_col14.png with mIoU score: 0.923\n"
     ]
    },
    {
     "name": "stderr",
     "output_type": "stream",
     "text": [
      " 15%|█▌        | 24/157 [00:08<00:41,  3.17it/s]"
     ]
    },
    {
     "name": "stdout",
     "output_type": "stream",
     "text": [
      "Saved overlay image: D:\\ML_Seagrass\\SourceData\\BodegaBay\\BodegaBay\\test\\overlay\\BL_BB_22_row11_col10.png\n",
      "Saved predicted mask for BL_BB_22_row11_col10.png with mIoU score: 0.619\n"
     ]
    },
    {
     "name": "stderr",
     "output_type": "stream",
     "text": [
      " 16%|█▌        | 25/157 [00:08<00:38,  3.44it/s]"
     ]
    },
    {
     "name": "stdout",
     "output_type": "stream",
     "text": [
      "Saved overlay image: D:\\ML_Seagrass\\SourceData\\BodegaBay\\BodegaBay\\test\\overlay\\BL_BB_22_row12_col7.png\n",
      "Saved predicted mask for BL_BB_22_row12_col7.png with mIoU score: 0.927\n"
     ]
    },
    {
     "name": "stderr",
     "output_type": "stream",
     "text": [
      " 17%|█▋        | 26/157 [00:08<00:37,  3.50it/s]"
     ]
    },
    {
     "name": "stdout",
     "output_type": "stream",
     "text": [
      "Saved overlay image: D:\\ML_Seagrass\\SourceData\\BodegaBay\\BodegaBay\\test\\overlay\\BL_BB_22_row2_col8.png\n",
      "Saved predicted mask for BL_BB_22_row2_col8.png with mIoU score: 0.939\n"
     ]
    },
    {
     "name": "stderr",
     "output_type": "stream",
     "text": [
      " 17%|█▋        | 27/157 [00:09<00:38,  3.37it/s]"
     ]
    },
    {
     "name": "stdout",
     "output_type": "stream",
     "text": [
      "Saved overlay image: D:\\ML_Seagrass\\SourceData\\BodegaBay\\BodegaBay\\test\\overlay\\BL_BB_22_row6_col2.png\n",
      "Saved predicted mask for BL_BB_22_row6_col2.png with mIoU score: 0.326\n"
     ]
    },
    {
     "name": "stderr",
     "output_type": "stream",
     "text": [
      " 18%|█▊        | 29/157 [00:09<00:35,  3.64it/s]"
     ]
    },
    {
     "name": "stdout",
     "output_type": "stream",
     "text": [
      "Saved overlay image: D:\\ML_Seagrass\\SourceData\\BodegaBay\\BodegaBay\\test\\overlay\\CC_BB_20_row10_col9.png\n",
      "Saved predicted mask for CC_BB_20_row10_col9.png with mIoU score: 0.008\n",
      "Saved overlay image: D:\\ML_Seagrass\\SourceData\\BodegaBay\\BodegaBay\\test\\overlay\\CC_BB_20_row11_col16.png\n",
      "Saved predicted mask for CC_BB_20_row11_col16.png with mIoU score: 0.999\n"
     ]
    },
    {
     "name": "stderr",
     "output_type": "stream",
     "text": [
      " 19%|█▉        | 30/157 [00:09<00:35,  3.59it/s]"
     ]
    },
    {
     "name": "stdout",
     "output_type": "stream",
     "text": [
      "Saved overlay image: D:\\ML_Seagrass\\SourceData\\BodegaBay\\BodegaBay\\test\\overlay\\CC_BB_20_row13_col12.png\n",
      "Saved predicted mask for CC_BB_20_row13_col12.png with mIoU score: 0.709\n"
     ]
    },
    {
     "name": "stderr",
     "output_type": "stream",
     "text": [
      " 20%|█▉        | 31/157 [00:10<00:38,  3.27it/s]"
     ]
    },
    {
     "name": "stdout",
     "output_type": "stream",
     "text": [
      "Saved overlay image: D:\\ML_Seagrass\\SourceData\\BodegaBay\\BodegaBay\\test\\overlay\\CC_BB_20_row7_col6.png\n",
      "Saved predicted mask for CC_BB_20_row7_col6.png with mIoU score: 0.933\n"
     ]
    },
    {
     "name": "stderr",
     "output_type": "stream",
     "text": [
      " 20%|██        | 32/157 [00:10<00:38,  3.23it/s]"
     ]
    },
    {
     "name": "stdout",
     "output_type": "stream",
     "text": [
      "Saved overlay image: D:\\ML_Seagrass\\SourceData\\BodegaBay\\BodegaBay\\test\\overlay\\CC_BB_20_row8_col14.png\n",
      "Saved predicted mask for CC_BB_20_row8_col14.png with mIoU score: 0.000\n"
     ]
    },
    {
     "name": "stderr",
     "output_type": "stream",
     "text": [
      " 21%|██        | 33/157 [00:11<00:44,  2.79it/s]"
     ]
    },
    {
     "name": "stdout",
     "output_type": "stream",
     "text": [
      "Saved overlay image: D:\\ML_Seagrass\\SourceData\\BodegaBay\\BodegaBay\\test\\overlay\\CC_BB_20_row9_col10.png\n",
      "Saved predicted mask for CC_BB_20_row9_col10.png with mIoU score: 0.183\n"
     ]
    },
    {
     "name": "stderr",
     "output_type": "stream",
     "text": [
      " 22%|██▏       | 34/157 [00:11<00:44,  2.76it/s]"
     ]
    },
    {
     "name": "stdout",
     "output_type": "stream",
     "text": [
      "Saved overlay image: D:\\ML_Seagrass\\SourceData\\BodegaBay\\BodegaBay\\test\\overlay\\CC_BB_20_row9_col11.png\n",
      "Saved predicted mask for CC_BB_20_row9_col11.png with mIoU score: 0.000\n"
     ]
    },
    {
     "name": "stderr",
     "output_type": "stream",
     "text": [
      " 22%|██▏       | 35/157 [00:11<00:45,  2.69it/s]"
     ]
    },
    {
     "name": "stdout",
     "output_type": "stream",
     "text": [
      "Saved overlay image: D:\\ML_Seagrass\\SourceData\\BodegaBay\\BodegaBay\\test\\overlay\\CC_BB_20_row9_col9.png\n",
      "Saved predicted mask for CC_BB_20_row9_col9.png with mIoU score: 0.414\n"
     ]
    },
    {
     "name": "stderr",
     "output_type": "stream",
     "text": [
      " 23%|██▎       | 36/157 [00:12<00:44,  2.75it/s]"
     ]
    },
    {
     "name": "stdout",
     "output_type": "stream",
     "text": [
      "Saved overlay image: D:\\ML_Seagrass\\SourceData\\BodegaBay\\BodegaBay\\test\\overlay\\CC_BB_21_row10_col1.png\n",
      "Saved predicted mask for CC_BB_21_row10_col1.png with mIoU score: 0.715\n"
     ]
    },
    {
     "name": "stderr",
     "output_type": "stream",
     "text": [
      " 24%|██▎       | 37/157 [00:12<00:43,  2.78it/s]"
     ]
    },
    {
     "name": "stdout",
     "output_type": "stream",
     "text": [
      "Saved overlay image: D:\\ML_Seagrass\\SourceData\\BodegaBay\\BodegaBay\\test\\overlay\\CC_BB_21_row11_col5.png\n",
      "Saved predicted mask for CC_BB_21_row11_col5.png with mIoU score: 0.636\n"
     ]
    },
    {
     "name": "stderr",
     "output_type": "stream",
     "text": [
      " 24%|██▍       | 38/157 [00:12<00:43,  2.73it/s]"
     ]
    },
    {
     "name": "stdout",
     "output_type": "stream",
     "text": [
      "Saved overlay image: D:\\ML_Seagrass\\SourceData\\BodegaBay\\BodegaBay\\test\\overlay\\CC_BB_21_row2_col8.png\n",
      "Saved predicted mask for CC_BB_21_row2_col8.png with mIoU score: 0.203\n"
     ]
    },
    {
     "name": "stderr",
     "output_type": "stream",
     "text": [
      " 25%|██▍       | 39/157 [00:13<00:42,  2.77it/s]"
     ]
    },
    {
     "name": "stdout",
     "output_type": "stream",
     "text": [
      "Saved overlay image: D:\\ML_Seagrass\\SourceData\\BodegaBay\\BodegaBay\\test\\overlay\\CC_BB_21_row4_col8.png\n",
      "Saved predicted mask for CC_BB_21_row4_col8.png with mIoU score: 0.343\n"
     ]
    },
    {
     "name": "stderr",
     "output_type": "stream",
     "text": [
      " 25%|██▌       | 40/157 [00:13<00:43,  2.71it/s]"
     ]
    },
    {
     "name": "stdout",
     "output_type": "stream",
     "text": [
      "Saved overlay image: D:\\ML_Seagrass\\SourceData\\BodegaBay\\BodegaBay\\test\\overlay\\CC_BB_21_row7_col12.png\n",
      "Saved predicted mask for CC_BB_21_row7_col12.png with mIoU score: 0.820\n"
     ]
    },
    {
     "name": "stderr",
     "output_type": "stream",
     "text": [
      " 26%|██▌       | 41/157 [00:13<00:39,  2.91it/s]"
     ]
    },
    {
     "name": "stdout",
     "output_type": "stream",
     "text": [
      "Saved overlay image: D:\\ML_Seagrass\\SourceData\\BodegaBay\\BodegaBay\\test\\overlay\\CC_BB_21_row7_col3.png\n",
      "Saved predicted mask for CC_BB_21_row7_col3.png with mIoU score: 0.867\n"
     ]
    },
    {
     "name": "stderr",
     "output_type": "stream",
     "text": [
      " 27%|██▋       | 42/157 [00:14<00:41,  2.79it/s]"
     ]
    },
    {
     "name": "stdout",
     "output_type": "stream",
     "text": [
      "Saved overlay image: D:\\ML_Seagrass\\SourceData\\BodegaBay\\BodegaBay\\test\\overlay\\CC_BB_21_row7_col7.png\n",
      "Saved predicted mask for CC_BB_21_row7_col7.png with mIoU score: 0.697\n"
     ]
    },
    {
     "name": "stderr",
     "output_type": "stream",
     "text": [
      " 27%|██▋       | 43/157 [00:14<00:40,  2.83it/s]"
     ]
    },
    {
     "name": "stdout",
     "output_type": "stream",
     "text": [
      "Saved overlay image: D:\\ML_Seagrass\\SourceData\\BodegaBay\\BodegaBay\\test\\overlay\\CC_BB_21_row8_col12.png\n",
      "Saved predicted mask for CC_BB_21_row8_col12.png with mIoU score: 0.686\n"
     ]
    },
    {
     "name": "stderr",
     "output_type": "stream",
     "text": [
      " 28%|██▊       | 44/157 [00:15<00:38,  2.90it/s]"
     ]
    },
    {
     "name": "stdout",
     "output_type": "stream",
     "text": [
      "Saved overlay image: D:\\ML_Seagrass\\SourceData\\BodegaBay\\BodegaBay\\test\\overlay\\CC_BB_21_row8_col7.png\n",
      "Saved predicted mask for CC_BB_21_row8_col7.png with mIoU score: 0.518\n"
     ]
    },
    {
     "name": "stderr",
     "output_type": "stream",
     "text": [
      " 29%|██▊       | 45/157 [00:15<00:39,  2.87it/s]"
     ]
    },
    {
     "name": "stdout",
     "output_type": "stream",
     "text": [
      "Saved overlay image: D:\\ML_Seagrass\\SourceData\\BodegaBay\\BodegaBay\\test\\overlay\\CC_BB_21_row8_col9.png\n",
      "Saved predicted mask for CC_BB_21_row8_col9.png with mIoU score: 0.728\n"
     ]
    },
    {
     "name": "stderr",
     "output_type": "stream",
     "text": [
      " 29%|██▉       | 46/157 [00:15<00:37,  2.93it/s]"
     ]
    },
    {
     "name": "stdout",
     "output_type": "stream",
     "text": [
      "Saved overlay image: D:\\ML_Seagrass\\SourceData\\BodegaBay\\BodegaBay\\test\\overlay\\CC_BB_21_row9_col10.png\n",
      "Saved predicted mask for CC_BB_21_row9_col10.png with mIoU score: 0.065\n"
     ]
    },
    {
     "name": "stderr",
     "output_type": "stream",
     "text": [
      " 30%|██▉       | 47/157 [00:16<00:37,  2.96it/s]"
     ]
    },
    {
     "name": "stdout",
     "output_type": "stream",
     "text": [
      "Saved overlay image: D:\\ML_Seagrass\\SourceData\\BodegaBay\\BodegaBay\\test\\overlay\\CC_BB_22_row3_col3.png\n",
      "Saved predicted mask for CC_BB_22_row3_col3.png with mIoU score: 0.624\n"
     ]
    },
    {
     "name": "stderr",
     "output_type": "stream",
     "text": [
      " 31%|███       | 48/157 [00:16<00:35,  3.03it/s]"
     ]
    },
    {
     "name": "stdout",
     "output_type": "stream",
     "text": [
      "Saved overlay image: D:\\ML_Seagrass\\SourceData\\BodegaBay\\BodegaBay\\test\\overlay\\CC_BB_22_row4_col5.png\n",
      "Saved predicted mask for CC_BB_22_row4_col5.png with mIoU score: 0.712\n"
     ]
    },
    {
     "name": "stderr",
     "output_type": "stream",
     "text": [
      " 31%|███       | 49/157 [00:16<00:34,  3.11it/s]"
     ]
    },
    {
     "name": "stdout",
     "output_type": "stream",
     "text": [
      "Saved overlay image: D:\\ML_Seagrass\\SourceData\\BodegaBay\\BodegaBay\\test\\overlay\\CC_BB_22_row5_col1.png\n",
      "Saved predicted mask for CC_BB_22_row5_col1.png with mIoU score: 0.756\n"
     ]
    },
    {
     "name": "stderr",
     "output_type": "stream",
     "text": [
      " 32%|███▏      | 50/157 [00:17<00:35,  3.02it/s]"
     ]
    },
    {
     "name": "stdout",
     "output_type": "stream",
     "text": [
      "Saved overlay image: D:\\ML_Seagrass\\SourceData\\BodegaBay\\BodegaBay\\test\\overlay\\CC_BB_22_row6_col2.png\n",
      "Saved predicted mask for CC_BB_22_row6_col2.png with mIoU score: 0.519\n"
     ]
    },
    {
     "name": "stderr",
     "output_type": "stream",
     "text": [
      " 32%|███▏      | 51/157 [00:17<00:35,  3.01it/s]"
     ]
    },
    {
     "name": "stdout",
     "output_type": "stream",
     "text": [
      "Saved overlay image: D:\\ML_Seagrass\\SourceData\\BodegaBay\\BodegaBay\\test\\overlay\\MM_BB_19_row11_col6.png\n",
      "Saved predicted mask for MM_BB_19_row11_col6.png with mIoU score: 0.656\n"
     ]
    },
    {
     "name": "stderr",
     "output_type": "stream",
     "text": [
      " 33%|███▎      | 52/157 [00:17<00:33,  3.15it/s]"
     ]
    },
    {
     "name": "stdout",
     "output_type": "stream",
     "text": [
      "Saved overlay image: D:\\ML_Seagrass\\SourceData\\BodegaBay\\BodegaBay\\test\\overlay\\MM_BB_19_row12_col13.png\n",
      "Saved predicted mask for MM_BB_19_row12_col13.png with mIoU score: 0.851\n"
     ]
    },
    {
     "name": "stderr",
     "output_type": "stream",
     "text": [
      " 34%|███▍      | 53/157 [00:17<00:33,  3.07it/s]"
     ]
    },
    {
     "name": "stdout",
     "output_type": "stream",
     "text": [
      "Saved overlay image: D:\\ML_Seagrass\\SourceData\\BodegaBay\\BodegaBay\\test\\overlay\\MM_BB_19_row13_col9.png\n",
      "Saved predicted mask for MM_BB_19_row13_col9.png with mIoU score: 0.700\n"
     ]
    },
    {
     "name": "stderr",
     "output_type": "stream",
     "text": [
      " 34%|███▍      | 54/157 [00:18<00:33,  3.08it/s]"
     ]
    },
    {
     "name": "stdout",
     "output_type": "stream",
     "text": [
      "Saved overlay image: D:\\ML_Seagrass\\SourceData\\BodegaBay\\BodegaBay\\test\\overlay\\MM_BB_19_row1_col9.png\n",
      "Saved predicted mask for MM_BB_19_row1_col9.png with mIoU score: 0.841\n"
     ]
    },
    {
     "name": "stderr",
     "output_type": "stream",
     "text": [
      " 35%|███▌      | 55/157 [00:18<00:34,  2.99it/s]"
     ]
    },
    {
     "name": "stdout",
     "output_type": "stream",
     "text": [
      "Saved overlay image: D:\\ML_Seagrass\\SourceData\\BodegaBay\\BodegaBay\\test\\overlay\\MM_BB_19_row2_col5.png\n",
      "Saved predicted mask for MM_BB_19_row2_col5.png with mIoU score: 0.678\n"
     ]
    },
    {
     "name": "stderr",
     "output_type": "stream",
     "text": [
      " 36%|███▌      | 56/157 [00:19<00:34,  2.96it/s]"
     ]
    },
    {
     "name": "stdout",
     "output_type": "stream",
     "text": [
      "Saved overlay image: D:\\ML_Seagrass\\SourceData\\BodegaBay\\BodegaBay\\test\\overlay\\MM_BB_19_row2_col6.png\n",
      "Saved predicted mask for MM_BB_19_row2_col6.png with mIoU score: 0.623\n"
     ]
    },
    {
     "name": "stderr",
     "output_type": "stream",
     "text": [
      " 36%|███▋      | 57/157 [00:19<00:34,  2.94it/s]"
     ]
    },
    {
     "name": "stdout",
     "output_type": "stream",
     "text": [
      "Saved overlay image: D:\\ML_Seagrass\\SourceData\\BodegaBay\\BodegaBay\\test\\overlay\\MM_BB_19_row3_col5.png\n",
      "Saved predicted mask for MM_BB_19_row3_col5.png with mIoU score: 0.691\n"
     ]
    },
    {
     "name": "stderr",
     "output_type": "stream",
     "text": [
      " 37%|███▋      | 58/157 [00:19<00:33,  2.93it/s]"
     ]
    },
    {
     "name": "stdout",
     "output_type": "stream",
     "text": [
      "Saved overlay image: D:\\ML_Seagrass\\SourceData\\BodegaBay\\BodegaBay\\test\\overlay\\MM_BB_19_row3_col7.png\n",
      "Saved predicted mask for MM_BB_19_row3_col7.png with mIoU score: 0.010\n"
     ]
    },
    {
     "name": "stderr",
     "output_type": "stream",
     "text": [
      " 38%|███▊      | 59/157 [00:20<00:36,  2.65it/s]"
     ]
    },
    {
     "name": "stdout",
     "output_type": "stream",
     "text": [
      "Saved overlay image: D:\\ML_Seagrass\\SourceData\\BodegaBay\\BodegaBay\\test\\overlay\\MM_BB_19_row4_col4.png\n",
      "Saved predicted mask for MM_BB_19_row4_col4.png with mIoU score: 0.913\n"
     ]
    },
    {
     "name": "stderr",
     "output_type": "stream",
     "text": [
      " 38%|███▊      | 60/157 [00:20<00:36,  2.67it/s]"
     ]
    },
    {
     "name": "stdout",
     "output_type": "stream",
     "text": [
      "Saved overlay image: D:\\ML_Seagrass\\SourceData\\BodegaBay\\BodegaBay\\test\\overlay\\MM_BB_19_row5_col9.png\n",
      "Saved predicted mask for MM_BB_19_row5_col9.png with mIoU score: 0.525\n"
     ]
    },
    {
     "name": "stderr",
     "output_type": "stream",
     "text": [
      " 39%|███▉      | 61/157 [00:20<00:35,  2.71it/s]"
     ]
    },
    {
     "name": "stdout",
     "output_type": "stream",
     "text": [
      "Saved overlay image: D:\\ML_Seagrass\\SourceData\\BodegaBay\\BodegaBay\\test\\overlay\\MM_BB_19_row6_col7.png\n",
      "Saved predicted mask for MM_BB_19_row6_col7.png with mIoU score: 0.227\n"
     ]
    },
    {
     "name": "stderr",
     "output_type": "stream",
     "text": [
      " 39%|███▉      | 62/157 [00:21<00:35,  2.69it/s]"
     ]
    },
    {
     "name": "stdout",
     "output_type": "stream",
     "text": [
      "Saved overlay image: D:\\ML_Seagrass\\SourceData\\BodegaBay\\BodegaBay\\test\\overlay\\MM_BB_20_row10_col11.png\n",
      "Saved predicted mask for MM_BB_20_row10_col11.png with mIoU score: 0.048\n"
     ]
    },
    {
     "name": "stderr",
     "output_type": "stream",
     "text": [
      " 40%|████      | 63/157 [00:21<00:34,  2.73it/s]"
     ]
    },
    {
     "name": "stdout",
     "output_type": "stream",
     "text": [
      "Saved overlay image: D:\\ML_Seagrass\\SourceData\\BodegaBay\\BodegaBay\\test\\overlay\\MM_BB_20_row12_col10.png\n",
      "Saved predicted mask for MM_BB_20_row12_col10.png with mIoU score: 0.798\n"
     ]
    },
    {
     "name": "stderr",
     "output_type": "stream",
     "text": [
      " 41%|████      | 64/157 [00:21<00:33,  2.78it/s]"
     ]
    },
    {
     "name": "stdout",
     "output_type": "stream",
     "text": [
      "Saved overlay image: D:\\ML_Seagrass\\SourceData\\BodegaBay\\BodegaBay\\test\\overlay\\MM_BB_20_row6_col5.png\n",
      "Saved predicted mask for MM_BB_20_row6_col5.png with mIoU score: 0.369\n"
     ]
    },
    {
     "name": "stderr",
     "output_type": "stream",
     "text": [
      " 41%|████▏     | 65/157 [00:22<00:33,  2.77it/s]"
     ]
    },
    {
     "name": "stdout",
     "output_type": "stream",
     "text": [
      "Saved overlay image: D:\\ML_Seagrass\\SourceData\\BodegaBay\\BodegaBay\\test\\overlay\\MM_BB_20_row7_col10.png\n",
      "Saved predicted mask for MM_BB_20_row7_col10.png with mIoU score: 0.167\n"
     ]
    },
    {
     "name": "stderr",
     "output_type": "stream",
     "text": [
      " 42%|████▏     | 66/157 [00:22<00:33,  2.75it/s]"
     ]
    },
    {
     "name": "stdout",
     "output_type": "stream",
     "text": [
      "Saved overlay image: D:\\ML_Seagrass\\SourceData\\BodegaBay\\BodegaBay\\test\\overlay\\MM_BB_21_row10_col6.png\n",
      "Saved predicted mask for MM_BB_21_row10_col6.png with mIoU score: 0.391\n"
     ]
    },
    {
     "name": "stderr",
     "output_type": "stream",
     "text": [
      " 43%|████▎     | 67/157 [00:22<00:28,  3.14it/s]"
     ]
    },
    {
     "name": "stdout",
     "output_type": "stream",
     "text": [
      "Saved overlay image: D:\\ML_Seagrass\\SourceData\\BodegaBay\\BodegaBay\\test\\overlay\\MM_BB_21_row15_col10.png\n",
      "Saved predicted mask for MM_BB_21_row15_col10.png with mIoU score: 0.993\n"
     ]
    },
    {
     "name": "stderr",
     "output_type": "stream",
     "text": [
      " 43%|████▎     | 68/157 [00:23<00:28,  3.07it/s]"
     ]
    },
    {
     "name": "stdout",
     "output_type": "stream",
     "text": [
      "Saved overlay image: D:\\ML_Seagrass\\SourceData\\BodegaBay\\BodegaBay\\test\\overlay\\MM_BB_21_row1_col9.png\n",
      "Saved predicted mask for MM_BB_21_row1_col9.png with mIoU score: 0.918\n"
     ]
    },
    {
     "name": "stderr",
     "output_type": "stream",
     "text": [
      " 44%|████▍     | 69/157 [00:23<00:29,  3.03it/s]"
     ]
    },
    {
     "name": "stdout",
     "output_type": "stream",
     "text": [
      "Saved overlay image: D:\\ML_Seagrass\\SourceData\\BodegaBay\\BodegaBay\\test\\overlay\\MM_BB_21_row3_col7.png\n",
      "Saved predicted mask for MM_BB_21_row3_col7.png with mIoU score: 0.806\n"
     ]
    },
    {
     "name": "stderr",
     "output_type": "stream",
     "text": [
      " 45%|████▍     | 70/157 [00:23<00:29,  2.98it/s]"
     ]
    },
    {
     "name": "stdout",
     "output_type": "stream",
     "text": [
      "Saved overlay image: D:\\ML_Seagrass\\SourceData\\BodegaBay\\BodegaBay\\test\\overlay\\MM_BB_21_row9_col10.png\n",
      "Saved predicted mask for MM_BB_21_row9_col10.png with mIoU score: 0.158\n"
     ]
    },
    {
     "name": "stderr",
     "output_type": "stream",
     "text": [
      " 45%|████▌     | 71/157 [00:24<00:28,  3.01it/s]"
     ]
    },
    {
     "name": "stdout",
     "output_type": "stream",
     "text": [
      "Saved overlay image: D:\\ML_Seagrass\\SourceData\\BodegaBay\\BodegaBay\\test\\overlay\\MM_BB_22_row1_col4.png\n",
      "Saved predicted mask for MM_BB_22_row1_col4.png with mIoU score: 0.901\n"
     ]
    },
    {
     "name": "stderr",
     "output_type": "stream",
     "text": [
      " 46%|████▌     | 72/157 [00:24<00:29,  2.85it/s]"
     ]
    },
    {
     "name": "stdout",
     "output_type": "stream",
     "text": [
      "Saved overlay image: D:\\ML_Seagrass\\SourceData\\BodegaBay\\BodegaBay\\test\\overlay\\MM_BB_22_row2_col2.png\n",
      "Saved predicted mask for MM_BB_22_row2_col2.png with mIoU score: 0.643\n"
     ]
    },
    {
     "name": "stderr",
     "output_type": "stream",
     "text": [
      " 46%|████▋     | 73/157 [00:25<00:30,  2.72it/s]"
     ]
    },
    {
     "name": "stdout",
     "output_type": "stream",
     "text": [
      "Saved overlay image: D:\\ML_Seagrass\\SourceData\\BodegaBay\\BodegaBay\\test\\overlay\\MM_BB_22_row2_col3.png\n",
      "Saved predicted mask for MM_BB_22_row2_col3.png with mIoU score: 0.167\n"
     ]
    },
    {
     "name": "stderr",
     "output_type": "stream",
     "text": [
      " 47%|████▋     | 74/157 [00:25<00:36,  2.27it/s]"
     ]
    },
    {
     "name": "stdout",
     "output_type": "stream",
     "text": [
      "Saved overlay image: D:\\ML_Seagrass\\SourceData\\BodegaBay\\BodegaBay\\test\\overlay\\MM_BB_22_row3_col3.png\n",
      "Saved predicted mask for MM_BB_22_row3_col3.png with mIoU score: 0.056\n"
     ]
    },
    {
     "name": "stderr",
     "output_type": "stream",
     "text": [
      " 48%|████▊     | 75/157 [00:26<00:35,  2.31it/s]"
     ]
    },
    {
     "name": "stdout",
     "output_type": "stream",
     "text": [
      "Saved overlay image: D:\\ML_Seagrass\\SourceData\\BodegaBay\\BodegaBay\\test\\overlay\\MM_BB_22_row5_col7.png\n",
      "Saved predicted mask for MM_BB_22_row5_col7.png with mIoU score: 0.180\n"
     ]
    },
    {
     "name": "stderr",
     "output_type": "stream",
     "text": [
      " 48%|████▊     | 76/157 [00:26<00:34,  2.35it/s]"
     ]
    },
    {
     "name": "stdout",
     "output_type": "stream",
     "text": [
      "Saved overlay image: D:\\ML_Seagrass\\SourceData\\BodegaBay\\BodegaBay\\test\\overlay\\MM_BB_22_row8_col4.png\n",
      "Saved predicted mask for MM_BB_22_row8_col4.png with mIoU score: 0.286\n"
     ]
    },
    {
     "name": "stderr",
     "output_type": "stream",
     "text": [
      " 49%|████▉     | 77/157 [00:26<00:34,  2.32it/s]"
     ]
    },
    {
     "name": "stdout",
     "output_type": "stream",
     "text": [
      "Saved overlay image: D:\\ML_Seagrass\\SourceData\\BodegaBay\\BodegaBay\\test\\overlay\\MM_BB_22_row8_col6.png\n",
      "Saved predicted mask for MM_BB_22_row8_col6.png with mIoU score: 0.036\n"
     ]
    },
    {
     "name": "stderr",
     "output_type": "stream",
     "text": [
      " 50%|████▉     | 78/157 [00:27<00:33,  2.39it/s]"
     ]
    },
    {
     "name": "stdout",
     "output_type": "stream",
     "text": [
      "Saved overlay image: D:\\ML_Seagrass\\SourceData\\BodegaBay\\BodegaBay\\test\\overlay\\MM_BB_22_row8_col7.png\n",
      "Saved predicted mask for MM_BB_22_row8_col7.png with mIoU score: 0.489\n"
     ]
    },
    {
     "name": "stderr",
     "output_type": "stream",
     "text": [
      " 50%|█████     | 79/157 [00:27<00:32,  2.40it/s]"
     ]
    },
    {
     "name": "stdout",
     "output_type": "stream",
     "text": [
      "Saved overlay image: D:\\ML_Seagrass\\SourceData\\BodegaBay\\BodegaBay\\test\\overlay\\MM_BB_22_row9_col3.png\n",
      "Saved predicted mask for MM_BB_22_row9_col3.png with mIoU score: 0.730\n"
     ]
    },
    {
     "name": "stderr",
     "output_type": "stream",
     "text": [
      " 51%|█████     | 80/157 [00:28<00:29,  2.60it/s]"
     ]
    },
    {
     "name": "stdout",
     "output_type": "stream",
     "text": [
      "Saved overlay image: D:\\ML_Seagrass\\SourceData\\BodegaBay\\BodegaBay\\test\\overlay\\MT_BB_19_row10_col8.png\n",
      "Saved predicted mask for MT_BB_19_row10_col8.png with mIoU score: 0.901\n"
     ]
    },
    {
     "name": "stderr",
     "output_type": "stream",
     "text": [
      " 52%|█████▏    | 81/157 [00:28<00:28,  2.64it/s]"
     ]
    },
    {
     "name": "stdout",
     "output_type": "stream",
     "text": [
      "Saved overlay image: D:\\ML_Seagrass\\SourceData\\BodegaBay\\BodegaBay\\test\\overlay\\MT_BB_19_row4_col5.png\n",
      "Saved predicted mask for MT_BB_19_row4_col5.png with mIoU score: 0.031\n"
     ]
    },
    {
     "name": "stderr",
     "output_type": "stream",
     "text": [
      " 52%|█████▏    | 82/157 [00:28<00:32,  2.34it/s]"
     ]
    },
    {
     "name": "stdout",
     "output_type": "stream",
     "text": [
      "Saved overlay image: D:\\ML_Seagrass\\SourceData\\BodegaBay\\BodegaBay\\test\\overlay\\MT_BB_19_row5_col12.png\n",
      "Saved predicted mask for MT_BB_19_row5_col12.png with mIoU score: 0.008\n"
     ]
    },
    {
     "name": "stderr",
     "output_type": "stream",
     "text": [
      " 53%|█████▎    | 83/157 [00:29<00:30,  2.41it/s]"
     ]
    },
    {
     "name": "stdout",
     "output_type": "stream",
     "text": [
      "Saved overlay image: D:\\ML_Seagrass\\SourceData\\BodegaBay\\BodegaBay\\test\\overlay\\MT_BB_19_row5_col3.png\n",
      "Saved predicted mask for MT_BB_19_row5_col3.png with mIoU score: 0.000\n"
     ]
    },
    {
     "name": "stderr",
     "output_type": "stream",
     "text": [
      " 54%|█████▎    | 84/157 [00:29<00:27,  2.64it/s]"
     ]
    },
    {
     "name": "stdout",
     "output_type": "stream",
     "text": [
      "Saved overlay image: D:\\ML_Seagrass\\SourceData\\BodegaBay\\BodegaBay\\test\\overlay\\MT_BB_19_row9_col12.png\n",
      "Saved predicted mask for MT_BB_19_row9_col12.png with mIoU score: 0.577\n"
     ]
    },
    {
     "name": "stderr",
     "output_type": "stream",
     "text": [
      " 54%|█████▍    | 85/157 [00:29<00:26,  2.73it/s]"
     ]
    },
    {
     "name": "stdout",
     "output_type": "stream",
     "text": [
      "Saved overlay image: D:\\ML_Seagrass\\SourceData\\BodegaBay\\BodegaBay\\test\\overlay\\MT_BB_20_row10_col14.png\n",
      "Saved predicted mask for MT_BB_20_row10_col14.png with mIoU score: 0.164\n"
     ]
    },
    {
     "name": "stderr",
     "output_type": "stream",
     "text": [
      " 55%|█████▍    | 86/157 [00:30<00:23,  3.02it/s]"
     ]
    },
    {
     "name": "stdout",
     "output_type": "stream",
     "text": [
      "Saved overlay image: D:\\ML_Seagrass\\SourceData\\BodegaBay\\BodegaBay\\test\\overlay\\MT_BB_20_row10_col15.png\n",
      "Saved predicted mask for MT_BB_20_row10_col15.png with mIoU score: 0.760\n"
     ]
    },
    {
     "name": "stderr",
     "output_type": "stream",
     "text": [
      " 55%|█████▌    | 87/157 [00:30<00:24,  2.84it/s]"
     ]
    },
    {
     "name": "stdout",
     "output_type": "stream",
     "text": [
      "Saved overlay image: D:\\ML_Seagrass\\SourceData\\BodegaBay\\BodegaBay\\test\\overlay\\MT_BB_20_row12_col11.png\n",
      "Saved predicted mask for MT_BB_20_row12_col11.png with mIoU score: 0.986\n"
     ]
    },
    {
     "name": "stderr",
     "output_type": "stream",
     "text": [
      " 56%|█████▌    | 88/157 [00:31<00:25,  2.71it/s]"
     ]
    },
    {
     "name": "stdout",
     "output_type": "stream",
     "text": [
      "Saved overlay image: D:\\ML_Seagrass\\SourceData\\BodegaBay\\BodegaBay\\test\\overlay\\MT_BB_20_row5_col9.png\n",
      "Saved predicted mask for MT_BB_20_row5_col9.png with mIoU score: 0.674\n"
     ]
    },
    {
     "name": "stderr",
     "output_type": "stream",
     "text": [
      " 57%|█████▋    | 89/157 [00:31<00:22,  3.03it/s]"
     ]
    },
    {
     "name": "stdout",
     "output_type": "stream",
     "text": [
      "Saved overlay image: D:\\ML_Seagrass\\SourceData\\BodegaBay\\BodegaBay\\test\\overlay\\MT_BB_20_row6_col2.png\n",
      "Saved predicted mask for MT_BB_20_row6_col2.png with mIoU score: 0.956\n"
     ]
    },
    {
     "name": "stderr",
     "output_type": "stream",
     "text": [
      " 57%|█████▋    | 90/157 [00:31<00:23,  2.91it/s]"
     ]
    },
    {
     "name": "stdout",
     "output_type": "stream",
     "text": [
      "Saved overlay image: D:\\ML_Seagrass\\SourceData\\BodegaBay\\BodegaBay\\test\\overlay\\MT_BB_20_row7_col14.png\n",
      "Saved predicted mask for MT_BB_20_row7_col14.png with mIoU score: 0.565\n"
     ]
    },
    {
     "name": "stderr",
     "output_type": "stream",
     "text": [
      " 58%|█████▊    | 91/157 [00:31<00:22,  2.89it/s]"
     ]
    },
    {
     "name": "stdout",
     "output_type": "stream",
     "text": [
      "Saved overlay image: D:\\ML_Seagrass\\SourceData\\BodegaBay\\BodegaBay\\test\\overlay\\MT_BB_20_row7_col15.png\n",
      "Saved predicted mask for MT_BB_20_row7_col15.png with mIoU score: 0.728\n"
     ]
    },
    {
     "name": "stderr",
     "output_type": "stream",
     "text": [
      " 59%|█████▊    | 92/157 [00:32<00:22,  2.90it/s]"
     ]
    },
    {
     "name": "stdout",
     "output_type": "stream",
     "text": [
      "Saved overlay image: D:\\ML_Seagrass\\SourceData\\BodegaBay\\BodegaBay\\test\\overlay\\MT_BB_20_row7_col7.png\n",
      "Saved predicted mask for MT_BB_20_row7_col7.png with mIoU score: 0.566\n"
     ]
    },
    {
     "name": "stderr",
     "output_type": "stream",
     "text": [
      " 59%|█████▉    | 93/157 [00:32<00:22,  2.87it/s]"
     ]
    },
    {
     "name": "stdout",
     "output_type": "stream",
     "text": [
      "Saved overlay image: D:\\ML_Seagrass\\SourceData\\BodegaBay\\BodegaBay\\test\\overlay\\MT_BB_20_row8_col7.png\n",
      "Saved predicted mask for MT_BB_20_row8_col7.png with mIoU score: 0.889\n"
     ]
    },
    {
     "name": "stderr",
     "output_type": "stream",
     "text": [
      " 60%|█████▉    | 94/157 [00:33<00:21,  2.88it/s]"
     ]
    },
    {
     "name": "stdout",
     "output_type": "stream",
     "text": [
      "Saved overlay image: D:\\ML_Seagrass\\SourceData\\BodegaBay\\BodegaBay\\test\\overlay\\MT_BB_21_row5_col3.png\n",
      "Saved predicted mask for MT_BB_21_row5_col3.png with mIoU score: 0.339\n"
     ]
    },
    {
     "name": "stderr",
     "output_type": "stream",
     "text": [
      " 61%|██████    | 95/157 [00:33<00:21,  2.93it/s]"
     ]
    },
    {
     "name": "stdout",
     "output_type": "stream",
     "text": [
      "Saved overlay image: D:\\ML_Seagrass\\SourceData\\BodegaBay\\BodegaBay\\test\\overlay\\MT_BB_21_row6_col16.png\n",
      "Saved predicted mask for MT_BB_21_row6_col16.png with mIoU score: 0.586\n"
     ]
    },
    {
     "name": "stderr",
     "output_type": "stream",
     "text": [
      " 61%|██████    | 96/157 [00:33<00:21,  2.84it/s]"
     ]
    },
    {
     "name": "stdout",
     "output_type": "stream",
     "text": [
      "Saved overlay image: D:\\ML_Seagrass\\SourceData\\BodegaBay\\BodegaBay\\test\\overlay\\MT_BB_21_row7_col12.png\n",
      "Saved predicted mask for MT_BB_21_row7_col12.png with mIoU score: 0.217\n"
     ]
    },
    {
     "name": "stderr",
     "output_type": "stream",
     "text": [
      " 62%|██████▏   | 98/157 [00:34<00:18,  3.24it/s]"
     ]
    },
    {
     "name": "stdout",
     "output_type": "stream",
     "text": [
      "Saved overlay image: D:\\ML_Seagrass\\SourceData\\BodegaBay\\BodegaBay\\test\\overlay\\MT_BB_21_row8_col11.png\n",
      "Saved predicted mask for MT_BB_21_row8_col11.png with mIoU score: 0.276\n",
      "Saved overlay image: D:\\ML_Seagrass\\SourceData\\BodegaBay\\BodegaBay\\test\\overlay\\MT_BB_22_row7_col10.png\n",
      "Saved predicted mask for MT_BB_22_row7_col10.png with mIoU score: 0.998\n"
     ]
    },
    {
     "name": "stderr",
     "output_type": "stream",
     "text": [
      " 63%|██████▎   | 99/157 [00:34<00:18,  3.10it/s]"
     ]
    },
    {
     "name": "stdout",
     "output_type": "stream",
     "text": [
      "Saved overlay image: D:\\ML_Seagrass\\SourceData\\BodegaBay\\BodegaBay\\test\\overlay\\MT_BB_22_row8_col8.png\n",
      "Saved predicted mask for MT_BB_22_row8_col8.png with mIoU score: 0.948\n"
     ]
    },
    {
     "name": "stderr",
     "output_type": "stream",
     "text": [
      " 64%|██████▍   | 101/157 [00:35<00:15,  3.69it/s]"
     ]
    },
    {
     "name": "stdout",
     "output_type": "stream",
     "text": [
      "Saved overlay image: D:\\ML_Seagrass\\SourceData\\BodegaBay\\BodegaBay\\test\\overlay\\NC_BB_19_row1_col4.png\n",
      "Saved predicted mask for NC_BB_19_row1_col4.png with mIoU score: 0.806\n",
      "Saved overlay image: D:\\ML_Seagrass\\SourceData\\BodegaBay\\BodegaBay\\test\\overlay\\NC_BB_19_row1_col9.png\n",
      "Saved predicted mask for NC_BB_19_row1_col9.png with mIoU score: 0.999\n"
     ]
    },
    {
     "name": "stderr",
     "output_type": "stream",
     "text": [
      " 65%|██████▍   | 102/157 [00:35<00:16,  3.38it/s]"
     ]
    },
    {
     "name": "stdout",
     "output_type": "stream",
     "text": [
      "Saved overlay image: D:\\ML_Seagrass\\SourceData\\BodegaBay\\BodegaBay\\test\\overlay\\NC_BB_19_row3_col3.png\n",
      "Saved predicted mask for NC_BB_19_row3_col3.png with mIoU score: 0.313\n"
     ]
    },
    {
     "name": "stderr",
     "output_type": "stream",
     "text": [
      " 66%|██████▌   | 103/157 [00:35<00:17,  3.15it/s]"
     ]
    },
    {
     "name": "stdout",
     "output_type": "stream",
     "text": [
      "Saved overlay image: D:\\ML_Seagrass\\SourceData\\BodegaBay\\BodegaBay\\test\\overlay\\NC_BB_19_row5_col4.png\n",
      "Saved predicted mask for NC_BB_19_row5_col4.png with mIoU score: 0.191\n"
     ]
    },
    {
     "name": "stderr",
     "output_type": "stream",
     "text": [
      " 66%|██████▌   | 104/157 [00:36<00:16,  3.17it/s]"
     ]
    },
    {
     "name": "stdout",
     "output_type": "stream",
     "text": [
      "Saved overlay image: D:\\ML_Seagrass\\SourceData\\BodegaBay\\BodegaBay\\test\\overlay\\NC_BB_19_row6_col13.png\n",
      "Saved predicted mask for NC_BB_19_row6_col13.png with mIoU score: 0.996\n"
     ]
    },
    {
     "name": "stderr",
     "output_type": "stream",
     "text": [
      " 67%|██████▋   | 105/157 [00:36<00:16,  3.13it/s]"
     ]
    },
    {
     "name": "stdout",
     "output_type": "stream",
     "text": [
      "Saved overlay image: D:\\ML_Seagrass\\SourceData\\BodegaBay\\BodegaBay\\test\\overlay\\NC_BB_19_row7_col3.png\n",
      "Saved predicted mask for NC_BB_19_row7_col3.png with mIoU score: 0.657\n"
     ]
    },
    {
     "name": "stderr",
     "output_type": "stream",
     "text": [
      " 68%|██████▊   | 107/157 [00:37<00:18,  2.76it/s]"
     ]
    },
    {
     "name": "stdout",
     "output_type": "stream",
     "text": [
      "Saved overlay image: D:\\ML_Seagrass\\SourceData\\BodegaBay\\BodegaBay\\test\\overlay\\NC_BB_19_row8_col7.png\n",
      "Saved predicted mask for NC_BB_19_row8_col7.png with mIoU score: 0.998\n",
      "Saved overlay image: D:\\ML_Seagrass\\SourceData\\BodegaBay\\BodegaBay\\test\\overlay\\NC_BB_20_row11_col11.png\n",
      "Saved predicted mask for NC_BB_20_row11_col11.png with mIoU score: 0.999\n"
     ]
    },
    {
     "name": "stderr",
     "output_type": "stream",
     "text": [
      " 69%|██████▉   | 108/157 [00:37<00:16,  3.04it/s]"
     ]
    },
    {
     "name": "stdout",
     "output_type": "stream",
     "text": [
      "Saved overlay image: D:\\ML_Seagrass\\SourceData\\BodegaBay\\BodegaBay\\test\\overlay\\NC_BB_20_row2_col15.png\n",
      "Saved predicted mask for NC_BB_20_row2_col15.png with mIoU score: 0.998\n"
     ]
    },
    {
     "name": "stderr",
     "output_type": "stream",
     "text": [
      " 69%|██████▉   | 109/157 [00:37<00:15,  3.12it/s]"
     ]
    },
    {
     "name": "stdout",
     "output_type": "stream",
     "text": [
      "Saved overlay image: D:\\ML_Seagrass\\SourceData\\BodegaBay\\BodegaBay\\test\\overlay\\NC_BB_20_row7_col17.png\n",
      "Saved predicted mask for NC_BB_20_row7_col17.png with mIoU score: 0.640\n"
     ]
    },
    {
     "name": "stderr",
     "output_type": "stream",
     "text": [
      " 70%|███████   | 110/157 [00:38<00:15,  3.06it/s]"
     ]
    },
    {
     "name": "stdout",
     "output_type": "stream",
     "text": [
      "Saved overlay image: D:\\ML_Seagrass\\SourceData\\BodegaBay\\BodegaBay\\test\\overlay\\NC_BB_20_row7_col7.png\n",
      "Saved predicted mask for NC_BB_20_row7_col7.png with mIoU score: 0.574\n"
     ]
    },
    {
     "name": "stderr",
     "output_type": "stream",
     "text": [
      " 71%|███████   | 111/157 [00:38<00:14,  3.10it/s]"
     ]
    },
    {
     "name": "stdout",
     "output_type": "stream",
     "text": [
      "Saved overlay image: D:\\ML_Seagrass\\SourceData\\BodegaBay\\BodegaBay\\test\\overlay\\NC_BB_20_row9_col2.png\n",
      "Saved predicted mask for NC_BB_20_row9_col2.png with mIoU score: 0.860\n"
     ]
    },
    {
     "name": "stderr",
     "output_type": "stream",
     "text": [
      " 71%|███████▏  | 112/157 [00:38<00:14,  3.07it/s]"
     ]
    },
    {
     "name": "stdout",
     "output_type": "stream",
     "text": [
      "Saved overlay image: D:\\ML_Seagrass\\SourceData\\BodegaBay\\BodegaBay\\test\\overlay\\NC_BB_20_row9_col7.png\n",
      "Saved predicted mask for NC_BB_20_row9_col7.png with mIoU score: 0.000\n"
     ]
    },
    {
     "name": "stderr",
     "output_type": "stream",
     "text": [
      " 72%|███████▏  | 113/157 [00:39<00:13,  3.15it/s]"
     ]
    },
    {
     "name": "stdout",
     "output_type": "stream",
     "text": [
      "Saved overlay image: D:\\ML_Seagrass\\SourceData\\BodegaBay\\BodegaBay\\test\\overlay\\NC_BB_21_row10_col8.png\n",
      "Saved predicted mask for NC_BB_21_row10_col8.png with mIoU score: 0.827\n"
     ]
    },
    {
     "name": "stderr",
     "output_type": "stream",
     "text": [
      " 73%|███████▎  | 114/157 [00:39<00:13,  3.19it/s]"
     ]
    },
    {
     "name": "stdout",
     "output_type": "stream",
     "text": [
      "Saved overlay image: D:\\ML_Seagrass\\SourceData\\BodegaBay\\BodegaBay\\test\\overlay\\NC_BB_21_row10_col9.png\n",
      "Saved predicted mask for NC_BB_21_row10_col9.png with mIoU score: 0.726\n"
     ]
    },
    {
     "name": "stderr",
     "output_type": "stream",
     "text": [
      " 73%|███████▎  | 115/157 [00:39<00:12,  3.30it/s]"
     ]
    },
    {
     "name": "stdout",
     "output_type": "stream",
     "text": [
      "Saved overlay image: D:\\ML_Seagrass\\SourceData\\BodegaBay\\BodegaBay\\test\\overlay\\NC_BB_21_row1_col2.png\n",
      "Saved predicted mask for NC_BB_21_row1_col2.png with mIoU score: 0.877\n"
     ]
    },
    {
     "name": "stderr",
     "output_type": "stream",
     "text": [
      " 75%|███████▍  | 117/157 [00:40<00:10,  3.87it/s]"
     ]
    },
    {
     "name": "stdout",
     "output_type": "stream",
     "text": [
      "Saved overlay image: D:\\ML_Seagrass\\SourceData\\BodegaBay\\BodegaBay\\test\\overlay\\NC_BB_21_row1_col6.png\n",
      "Saved predicted mask for NC_BB_21_row1_col6.png with mIoU score: 0.892\n",
      "Saved overlay image: D:\\ML_Seagrass\\SourceData\\BodegaBay\\BodegaBay\\test\\overlay\\NC_BB_21_row2_col17.png\n",
      "Saved predicted mask for NC_BB_21_row2_col17.png with mIoU score: 0.991\n"
     ]
    },
    {
     "name": "stderr",
     "output_type": "stream",
     "text": [
      " 75%|███████▌  | 118/157 [00:40<00:10,  3.55it/s]"
     ]
    },
    {
     "name": "stdout",
     "output_type": "stream",
     "text": [
      "Saved overlay image: D:\\ML_Seagrass\\SourceData\\BodegaBay\\BodegaBay\\test\\overlay\\NC_BB_21_row4_col14.png\n",
      "Saved predicted mask for NC_BB_21_row4_col14.png with mIoU score: 0.000\n"
     ]
    },
    {
     "name": "stderr",
     "output_type": "stream",
     "text": [
      " 76%|███████▌  | 119/157 [00:40<00:11,  3.28it/s]"
     ]
    },
    {
     "name": "stdout",
     "output_type": "stream",
     "text": [
      "Saved overlay image: D:\\ML_Seagrass\\SourceData\\BodegaBay\\BodegaBay\\test\\overlay\\NC_BB_21_row5_col8.png\n",
      "Saved predicted mask for NC_BB_21_row5_col8.png with mIoU score: 0.000\n"
     ]
    },
    {
     "name": "stderr",
     "output_type": "stream",
     "text": [
      " 76%|███████▋  | 120/157 [00:41<00:11,  3.10it/s]"
     ]
    },
    {
     "name": "stdout",
     "output_type": "stream",
     "text": [
      "Saved overlay image: D:\\ML_Seagrass\\SourceData\\BodegaBay\\BodegaBay\\test\\overlay\\NC_BB_21_row6_col11.png\n",
      "Saved predicted mask for NC_BB_21_row6_col11.png with mIoU score: 0.000\n"
     ]
    },
    {
     "name": "stderr",
     "output_type": "stream",
     "text": [
      " 77%|███████▋  | 121/157 [00:41<00:11,  3.02it/s]"
     ]
    },
    {
     "name": "stdout",
     "output_type": "stream",
     "text": [
      "Saved overlay image: D:\\ML_Seagrass\\SourceData\\BodegaBay\\BodegaBay\\test\\overlay\\NC_BB_21_row7_col13.png\n",
      "Saved predicted mask for NC_BB_21_row7_col13.png with mIoU score: 0.000\n"
     ]
    },
    {
     "name": "stderr",
     "output_type": "stream",
     "text": [
      " 78%|███████▊  | 122/157 [00:41<00:11,  2.95it/s]"
     ]
    },
    {
     "name": "stdout",
     "output_type": "stream",
     "text": [
      "Saved overlay image: D:\\ML_Seagrass\\SourceData\\BodegaBay\\BodegaBay\\test\\overlay\\NC_BB_21_row7_col14.png\n",
      "Saved predicted mask for NC_BB_21_row7_col14.png with mIoU score: 0.000\n"
     ]
    },
    {
     "name": "stderr",
     "output_type": "stream",
     "text": [
      " 78%|███████▊  | 123/157 [00:42<00:12,  2.75it/s]"
     ]
    },
    {
     "name": "stdout",
     "output_type": "stream",
     "text": [
      "Saved overlay image: D:\\ML_Seagrass\\SourceData\\BodegaBay\\BodegaBay\\test\\overlay\\NC_BB_21_row8_col10.png\n",
      "Saved predicted mask for NC_BB_21_row8_col10.png with mIoU score: 0.000\n"
     ]
    },
    {
     "name": "stderr",
     "output_type": "stream",
     "text": [
      " 79%|███████▉  | 124/157 [00:42<00:11,  2.82it/s]"
     ]
    },
    {
     "name": "stdout",
     "output_type": "stream",
     "text": [
      "Saved overlay image: D:\\ML_Seagrass\\SourceData\\BodegaBay\\BodegaBay\\test\\overlay\\NC_BB_21_row8_col11.png\n",
      "Saved predicted mask for NC_BB_21_row8_col11.png with mIoU score: 0.000\n"
     ]
    },
    {
     "name": "stderr",
     "output_type": "stream",
     "text": [
      " 80%|███████▉  | 125/157 [00:43<00:11,  2.89it/s]"
     ]
    },
    {
     "name": "stdout",
     "output_type": "stream",
     "text": [
      "Saved overlay image: D:\\ML_Seagrass\\SourceData\\BodegaBay\\BodegaBay\\test\\overlay\\NC_BB_21_row8_col7.png\n",
      "Saved predicted mask for NC_BB_21_row8_col7.png with mIoU score: 0.000\n"
     ]
    },
    {
     "name": "stderr",
     "output_type": "stream",
     "text": [
      " 80%|████████  | 126/157 [00:43<00:10,  2.91it/s]"
     ]
    },
    {
     "name": "stdout",
     "output_type": "stream",
     "text": [
      "Saved overlay image: D:\\ML_Seagrass\\SourceData\\BodegaBay\\BodegaBay\\test\\overlay\\NC_BB_21_row9_col7.png\n",
      "Saved predicted mask for NC_BB_21_row9_col7.png with mIoU score: 0.000\n"
     ]
    },
    {
     "name": "stderr",
     "output_type": "stream",
     "text": [
      " 81%|████████  | 127/157 [00:43<00:09,  3.18it/s]"
     ]
    },
    {
     "name": "stdout",
     "output_type": "stream",
     "text": [
      "Saved overlay image: D:\\ML_Seagrass\\SourceData\\BodegaBay\\BodegaBay\\test\\overlay\\NC_BB_22_row1_col2.png\n",
      "Saved predicted mask for NC_BB_22_row1_col2.png with mIoU score: 0.899\n"
     ]
    },
    {
     "name": "stderr",
     "output_type": "stream",
     "text": [
      " 82%|████████▏ | 128/157 [00:44<00:09,  2.97it/s]"
     ]
    },
    {
     "name": "stdout",
     "output_type": "stream",
     "text": [
      "Saved overlay image: D:\\ML_Seagrass\\SourceData\\BodegaBay\\BodegaBay\\test\\overlay\\NC_BB_22_row2_col6.png\n",
      "Saved predicted mask for NC_BB_22_row2_col6.png with mIoU score: 0.557\n"
     ]
    },
    {
     "name": "stderr",
     "output_type": "stream",
     "text": [
      " 82%|████████▏ | 129/157 [00:44<00:09,  3.10it/s]"
     ]
    },
    {
     "name": "stdout",
     "output_type": "stream",
     "text": [
      "Saved overlay image: D:\\ML_Seagrass\\SourceData\\BodegaBay\\BodegaBay\\test\\overlay\\NC_BB_22_row4_col1.png\n",
      "Saved predicted mask for NC_BB_22_row4_col1.png with mIoU score: 0.948\n"
     ]
    },
    {
     "name": "stderr",
     "output_type": "stream",
     "text": [
      " 83%|████████▎ | 130/157 [00:44<00:09,  2.99it/s]"
     ]
    },
    {
     "name": "stdout",
     "output_type": "stream",
     "text": [
      "Saved overlay image: D:\\ML_Seagrass\\SourceData\\BodegaBay\\BodegaBay\\test\\overlay\\NC_BB_22_row6_col8.png\n",
      "Saved predicted mask for NC_BB_22_row6_col8.png with mIoU score: 0.000\n"
     ]
    },
    {
     "name": "stderr",
     "output_type": "stream",
     "text": [
      " 83%|████████▎ | 131/157 [00:45<00:09,  2.78it/s]"
     ]
    },
    {
     "name": "stdout",
     "output_type": "stream",
     "text": [
      "Saved overlay image: D:\\ML_Seagrass\\SourceData\\BodegaBay\\BodegaBay\\test\\overlay\\NC_BB_22_row9_col10.png\n",
      "Saved predicted mask for NC_BB_22_row9_col10.png with mIoU score: 0.911\n"
     ]
    },
    {
     "name": "stderr",
     "output_type": "stream",
     "text": [
      " 84%|████████▍ | 132/157 [00:45<00:08,  2.84it/s]"
     ]
    },
    {
     "name": "stdout",
     "output_type": "stream",
     "text": [
      "Saved overlay image: D:\\ML_Seagrass\\SourceData\\BodegaBay\\BodegaBay\\test\\overlay\\WE_BB_19_row10_col4.png\n",
      "Saved predicted mask for WE_BB_19_row10_col4.png with mIoU score: 0.805\n"
     ]
    },
    {
     "name": "stderr",
     "output_type": "stream",
     "text": [
      " 85%|████████▍ | 133/157 [00:45<00:07,  3.08it/s]"
     ]
    },
    {
     "name": "stdout",
     "output_type": "stream",
     "text": [
      "Saved overlay image: D:\\ML_Seagrass\\SourceData\\BodegaBay\\BodegaBay\\test\\overlay\\WE_BB_19_row11_col11.png\n",
      "Saved predicted mask for WE_BB_19_row11_col11.png with mIoU score: 0.795\n"
     ]
    },
    {
     "name": "stderr",
     "output_type": "stream",
     "text": [
      " 85%|████████▌ | 134/157 [00:46<00:07,  3.10it/s]"
     ]
    },
    {
     "name": "stdout",
     "output_type": "stream",
     "text": [
      "Saved overlay image: D:\\ML_Seagrass\\SourceData\\BodegaBay\\BodegaBay\\test\\overlay\\WE_BB_19_row11_col7.png\n",
      "Saved predicted mask for WE_BB_19_row11_col7.png with mIoU score: 0.000\n"
     ]
    },
    {
     "name": "stderr",
     "output_type": "stream",
     "text": [
      " 86%|████████▌ | 135/157 [00:46<00:07,  3.03it/s]"
     ]
    },
    {
     "name": "stdout",
     "output_type": "stream",
     "text": [
      "Saved overlay image: D:\\ML_Seagrass\\SourceData\\BodegaBay\\BodegaBay\\test\\overlay\\WE_BB_19_row12_col5.png\n",
      "Saved predicted mask for WE_BB_19_row12_col5.png with mIoU score: 0.000\n"
     ]
    },
    {
     "name": "stderr",
     "output_type": "stream",
     "text": [
      " 87%|████████▋ | 136/157 [00:46<00:06,  3.07it/s]"
     ]
    },
    {
     "name": "stdout",
     "output_type": "stream",
     "text": [
      "Saved overlay image: D:\\ML_Seagrass\\SourceData\\BodegaBay\\BodegaBay\\test\\overlay\\WE_BB_19_row1_col6.png\n",
      "Saved predicted mask for WE_BB_19_row1_col6.png with mIoU score: 0.712\n"
     ]
    },
    {
     "name": "stderr",
     "output_type": "stream",
     "text": [
      " 87%|████████▋ | 137/157 [00:46<00:06,  3.32it/s]"
     ]
    },
    {
     "name": "stdout",
     "output_type": "stream",
     "text": [
      "Saved overlay image: D:\\ML_Seagrass\\SourceData\\BodegaBay\\BodegaBay\\test\\overlay\\WE_BB_19_row2_col3.png\n",
      "Saved predicted mask for WE_BB_19_row2_col3.png with mIoU score: 0.912\n"
     ]
    },
    {
     "name": "stderr",
     "output_type": "stream",
     "text": [
      " 88%|████████▊ | 138/157 [00:47<00:06,  3.03it/s]"
     ]
    },
    {
     "name": "stdout",
     "output_type": "stream",
     "text": [
      "Saved overlay image: D:\\ML_Seagrass\\SourceData\\BodegaBay\\BodegaBay\\test\\overlay\\WE_BB_19_row4_col4.png\n",
      "Saved predicted mask for WE_BB_19_row4_col4.png with mIoU score: 0.730\n"
     ]
    },
    {
     "name": "stderr",
     "output_type": "stream",
     "text": [
      " 89%|████████▊ | 139/157 [00:47<00:05,  3.04it/s]"
     ]
    },
    {
     "name": "stdout",
     "output_type": "stream",
     "text": [
      "Saved overlay image: D:\\ML_Seagrass\\SourceData\\BodegaBay\\BodegaBay\\test\\overlay\\WE_BB_19_row4_col5.png\n",
      "Saved predicted mask for WE_BB_19_row4_col5.png with mIoU score: 0.944\n"
     ]
    },
    {
     "name": "stderr",
     "output_type": "stream",
     "text": [
      " 90%|████████▉ | 141/157 [00:48<00:04,  3.46it/s]"
     ]
    },
    {
     "name": "stdout",
     "output_type": "stream",
     "text": [
      "Saved overlay image: D:\\ML_Seagrass\\SourceData\\BodegaBay\\BodegaBay\\test\\overlay\\WE_BB_19_row5_col5.png\n",
      "Saved predicted mask for WE_BB_19_row5_col5.png with mIoU score: 0.900\n",
      "Saved overlay image: D:\\ML_Seagrass\\SourceData\\BodegaBay\\BodegaBay\\test\\overlay\\WE_BB_20_row11_col11.png\n",
      "Saved predicted mask for WE_BB_20_row11_col11.png with mIoU score: 0.990\n"
     ]
    },
    {
     "name": "stderr",
     "output_type": "stream",
     "text": [
      " 90%|█████████ | 142/157 [00:48<00:04,  3.30it/s]"
     ]
    },
    {
     "name": "stdout",
     "output_type": "stream",
     "text": [
      "Saved overlay image: D:\\ML_Seagrass\\SourceData\\BodegaBay\\BodegaBay\\test\\overlay\\WE_BB_20_row8_col6.png\n",
      "Saved predicted mask for WE_BB_20_row8_col6.png with mIoU score: 0.174\n"
     ]
    },
    {
     "name": "stderr",
     "output_type": "stream",
     "text": [
      " 91%|█████████ | 143/157 [00:48<00:04,  3.15it/s]"
     ]
    },
    {
     "name": "stdout",
     "output_type": "stream",
     "text": [
      "Saved overlay image: D:\\ML_Seagrass\\SourceData\\BodegaBay\\BodegaBay\\test\\overlay\\WE_BB_21_row11_col10.png\n",
      "Saved predicted mask for WE_BB_21_row11_col10.png with mIoU score: 0.051\n"
     ]
    },
    {
     "name": "stderr",
     "output_type": "stream",
     "text": [
      " 92%|█████████▏| 145/157 [00:49<00:03,  3.43it/s]"
     ]
    },
    {
     "name": "stdout",
     "output_type": "stream",
     "text": [
      "Saved overlay image: D:\\ML_Seagrass\\SourceData\\BodegaBay\\BodegaBay\\test\\overlay\\WE_BB_21_row12_col7.png\n",
      "Saved predicted mask for WE_BB_21_row12_col7.png with mIoU score: 0.162\n",
      "Saved overlay image: D:\\ML_Seagrass\\SourceData\\BodegaBay\\BodegaBay\\test\\overlay\\WE_BB_21_row13_col10.png\n",
      "Saved predicted mask for WE_BB_21_row13_col10.png with mIoU score: 0.962\n"
     ]
    },
    {
     "name": "stderr",
     "output_type": "stream",
     "text": [
      " 93%|█████████▎| 146/157 [00:49<00:02,  3.83it/s]"
     ]
    },
    {
     "name": "stdout",
     "output_type": "stream",
     "text": [
      "Saved overlay image: D:\\ML_Seagrass\\SourceData\\BodegaBay\\BodegaBay\\test\\overlay\\WE_BB_21_row13_col5.png\n",
      "Saved predicted mask for WE_BB_21_row13_col5.png with mIoU score: 0.993\n"
     ]
    },
    {
     "name": "stderr",
     "output_type": "stream",
     "text": [
      " 94%|█████████▎| 147/157 [00:49<00:02,  3.53it/s]"
     ]
    },
    {
     "name": "stdout",
     "output_type": "stream",
     "text": [
      "Saved overlay image: D:\\ML_Seagrass\\SourceData\\BodegaBay\\BodegaBay\\test\\overlay\\WE_BB_21_row1_col5.png\n",
      "Saved predicted mask for WE_BB_21_row1_col5.png with mIoU score: 0.888\n"
     ]
    },
    {
     "name": "stderr",
     "output_type": "stream",
     "text": [
      " 94%|█████████▍| 148/157 [00:50<00:02,  3.31it/s]"
     ]
    },
    {
     "name": "stdout",
     "output_type": "stream",
     "text": [
      "Saved overlay image: D:\\ML_Seagrass\\SourceData\\BodegaBay\\BodegaBay\\test\\overlay\\WE_BB_21_row3_col5.png\n",
      "Saved predicted mask for WE_BB_21_row3_col5.png with mIoU score: 0.842\n"
     ]
    },
    {
     "name": "stderr",
     "output_type": "stream",
     "text": [
      " 95%|█████████▍| 149/157 [00:50<00:02,  2.73it/s]"
     ]
    },
    {
     "name": "stdout",
     "output_type": "stream",
     "text": [
      "Saved overlay image: D:\\ML_Seagrass\\SourceData\\BodegaBay\\BodegaBay\\test\\overlay\\WE_BB_21_row5_col6.png\n",
      "Saved predicted mask for WE_BB_21_row5_col6.png with mIoU score: 0.868\n"
     ]
    },
    {
     "name": "stderr",
     "output_type": "stream",
     "text": [
      " 96%|█████████▌| 150/157 [00:51<00:02,  2.68it/s]"
     ]
    },
    {
     "name": "stdout",
     "output_type": "stream",
     "text": [
      "Saved overlay image: D:\\ML_Seagrass\\SourceData\\BodegaBay\\BodegaBay\\test\\overlay\\WE_BB_21_row6_col5.png\n",
      "Saved predicted mask for WE_BB_21_row6_col5.png with mIoU score: 0.920\n"
     ]
    },
    {
     "name": "stderr",
     "output_type": "stream",
     "text": [
      " 96%|█████████▌| 151/157 [00:51<00:02,  2.81it/s]"
     ]
    },
    {
     "name": "stdout",
     "output_type": "stream",
     "text": [
      "Saved overlay image: D:\\ML_Seagrass\\SourceData\\BodegaBay\\BodegaBay\\test\\overlay\\WE_BB_21_row7_col2.png\n",
      "Saved predicted mask for WE_BB_21_row7_col2.png with mIoU score: 0.847\n"
     ]
    },
    {
     "name": "stderr",
     "output_type": "stream",
     "text": [
      " 97%|█████████▋| 152/157 [00:51<00:01,  2.83it/s]"
     ]
    },
    {
     "name": "stdout",
     "output_type": "stream",
     "text": [
      "Saved overlay image: D:\\ML_Seagrass\\SourceData\\BodegaBay\\BodegaBay\\test\\overlay\\WE_BB_21_row7_col6.png\n",
      "Saved predicted mask for WE_BB_21_row7_col6.png with mIoU score: 0.845\n"
     ]
    },
    {
     "name": "stderr",
     "output_type": "stream",
     "text": [
      " 97%|█████████▋| 153/157 [00:52<00:01,  2.77it/s]"
     ]
    },
    {
     "name": "stdout",
     "output_type": "stream",
     "text": [
      "Saved overlay image: D:\\ML_Seagrass\\SourceData\\BodegaBay\\BodegaBay\\test\\overlay\\WE_BB_21_row7_col7.png\n",
      "Saved predicted mask for WE_BB_21_row7_col7.png with mIoU score: 0.356\n"
     ]
    },
    {
     "name": "stderr",
     "output_type": "stream",
     "text": [
      " 98%|█████████▊| 154/157 [00:52<00:01,  2.71it/s]"
     ]
    },
    {
     "name": "stdout",
     "output_type": "stream",
     "text": [
      "Saved overlay image: D:\\ML_Seagrass\\SourceData\\BodegaBay\\BodegaBay\\test\\overlay\\WE_BB_21_row8_col3.png\n",
      "Saved predicted mask for WE_BB_21_row8_col3.png with mIoU score: 0.814\n"
     ]
    },
    {
     "name": "stderr",
     "output_type": "stream",
     "text": [
      " 99%|█████████▊| 155/157 [00:53<00:00,  2.33it/s]"
     ]
    },
    {
     "name": "stdout",
     "output_type": "stream",
     "text": [
      "Saved overlay image: D:\\ML_Seagrass\\SourceData\\BodegaBay\\BodegaBay\\test\\overlay\\WE_BB_21_row8_col8.png\n",
      "Saved predicted mask for WE_BB_21_row8_col8.png with mIoU score: 0.464\n"
     ]
    },
    {
     "name": "stderr",
     "output_type": "stream",
     "text": [
      " 99%|█████████▉| 156/157 [00:53<00:00,  2.61it/s]"
     ]
    },
    {
     "name": "stdout",
     "output_type": "stream",
     "text": [
      "Saved overlay image: D:\\ML_Seagrass\\SourceData\\BodegaBay\\BodegaBay\\test\\overlay\\WE_BB_21_row9_col11.png\n",
      "Saved predicted mask for WE_BB_21_row9_col11.png with mIoU score: 0.979\n"
     ]
    },
    {
     "name": "stderr",
     "output_type": "stream",
     "text": [
      "100%|██████████| 157/157 [00:53<00:00,  2.92it/s]"
     ]
    },
    {
     "name": "stdout",
     "output_type": "stream",
     "text": [
      "Saved overlay image: D:\\ML_Seagrass\\SourceData\\BodegaBay\\BodegaBay\\test\\overlay\\WE_BB_21_row9_col3.png\n",
      "Saved predicted mask for WE_BB_21_row9_col3.png with mIoU score: 0.944\n"
     ]
    },
    {
     "name": "stderr",
     "output_type": "stream",
     "text": [
      "\n"
     ]
    }
   ],
   "source": [
    "import os\n",
    "from tqdm import tqdm\n",
    "\n",
    "# Define the save path for the predicted masks and the folder for original images\n",
    "original_image_folder = r'D:\\ML_Seagrass\\SourceData\\BodegaBay\\BodegaBay\\test\\image'  # Folder with original images\n",
    "save_path = r'D:\\ML_Seagrass\\SourceData\\BodegaBay\\BodegaBay\\test\\overlay'\n",
    "Pred_mask_path = r'D:\\ML_Seagrass\\SourceData\\BodegaBay\\BodegaBay\\test\\predicted'\n",
    "\n",
    "# Ensure the directories exist\n",
    "os.makedirs(save_path, exist_ok=True)\n",
    "os.makedirs(Pred_mask_path, exist_ok=True)\n",
    "\n",
    "# Loop through all images in the test set\n",
    "for idx in tqdm(range(len(test_set))):\n",
    "    image, mask, img_file_name = test_set[idx]  # Get mask and filename from test_set\n",
    "    \n",
    "    # Define the save path for the current predicted mask\n",
    "    save_overlay_file = os.path.join(save_path, f'{img_file_name}')  # Save with filename\n",
    "    save_predicted_file = os.path.join(Pred_mask_path, f'{img_file_name}')\n",
    "     \n",
    "    # Run inference to get the predicted mask\n",
    "    pred_mask, score = predict_image_mask_miou(model, image, mask, save_predicted_file)\n",
    "    \n",
    "    # Save the overlay of the predicted mask on the original image read from `original_image_folder`\n",
    "    save_predicted_mask_overlay(pred_mask, img_file_name, original_image_folder, save_overlay_file)\n",
    "    \n",
    "    # Optionally, log the progress or save additional data\n",
    "    print(f\"Saved predicted mask for {img_file_name} with mIoU score: {score:.3f}\")\n"
   ]
  }
 ],
 "metadata": {
  "accelerator": "GPU",
  "colab": {
   "gpuType": "T4",
   "provenance": []
  },
  "kernelspec": {
   "display_name": "Python 3 (ipykernel)",
   "language": "python",
   "name": "python3"
  },
  "language_info": {
   "codemirror_mode": {
    "name": "ipython",
    "version": 3
   },
   "file_extension": ".py",
   "mimetype": "text/x-python",
   "name": "python",
   "nbconvert_exporter": "python",
   "pygments_lexer": "ipython3",
   "version": "3.10.14"
  },
  "widgets": {
   "application/vnd.jupyter.widget-state+json": {
    "03a2141fad814fa39632b87e7ef8a134": {
     "model_module": "@jupyter-widgets/base",
     "model_module_version": "1.2.0",
     "model_name": "LayoutModel",
     "state": {
      "_model_module": "@jupyter-widgets/base",
      "_model_module_version": "1.2.0",
      "_model_name": "LayoutModel",
      "_view_count": null,
      "_view_module": "@jupyter-widgets/base",
      "_view_module_version": "1.2.0",
      "_view_name": "LayoutView",
      "align_content": null,
      "align_items": null,
      "align_self": null,
      "border": null,
      "bottom": null,
      "display": null,
      "flex": null,
      "flex_flow": null,
      "grid_area": null,
      "grid_auto_columns": null,
      "grid_auto_flow": null,
      "grid_auto_rows": null,
      "grid_column": null,
      "grid_gap": null,
      "grid_row": null,
      "grid_template_areas": null,
      "grid_template_columns": null,
      "grid_template_rows": null,
      "height": null,
      "justify_content": null,
      "justify_items": null,
      "left": null,
      "margin": null,
      "max_height": null,
      "max_width": null,
      "min_height": null,
      "min_width": null,
      "object_fit": null,
      "object_position": null,
      "order": null,
      "overflow": null,
      "overflow_x": null,
      "overflow_y": null,
      "padding": null,
      "right": null,
      "top": null,
      "visibility": null,
      "width": null
     }
    },
    "0c6a036444b043ef9df7cc7e854a2a17": {
     "model_module": "@jupyter-widgets/controls",
     "model_module_version": "1.5.0",
     "model_name": "DescriptionStyleModel",
     "state": {
      "_model_module": "@jupyter-widgets/controls",
      "_model_module_version": "1.5.0",
      "_model_name": "DescriptionStyleModel",
      "_view_count": null,
      "_view_module": "@jupyter-widgets/base",
      "_view_module_version": "1.2.0",
      "_view_name": "StyleView",
      "description_width": ""
     }
    },
    "0d48ded90abf4b10b0ce4a023cedc338": {
     "model_module": "@jupyter-widgets/base",
     "model_module_version": "1.2.0",
     "model_name": "LayoutModel",
     "state": {
      "_model_module": "@jupyter-widgets/base",
      "_model_module_version": "1.2.0",
      "_model_name": "LayoutModel",
      "_view_count": null,
      "_view_module": "@jupyter-widgets/base",
      "_view_module_version": "1.2.0",
      "_view_name": "LayoutView",
      "align_content": null,
      "align_items": null,
      "align_self": null,
      "border": null,
      "bottom": null,
      "display": null,
      "flex": null,
      "flex_flow": null,
      "grid_area": null,
      "grid_auto_columns": null,
      "grid_auto_flow": null,
      "grid_auto_rows": null,
      "grid_column": null,
      "grid_gap": null,
      "grid_row": null,
      "grid_template_areas": null,
      "grid_template_columns": null,
      "grid_template_rows": null,
      "height": null,
      "justify_content": null,
      "justify_items": null,
      "left": null,
      "margin": null,
      "max_height": null,
      "max_width": null,
      "min_height": null,
      "min_width": null,
      "object_fit": null,
      "object_position": null,
      "order": null,
      "overflow": null,
      "overflow_x": null,
      "overflow_y": null,
      "padding": null,
      "right": null,
      "top": null,
      "visibility": null,
      "width": null
     }
    },
    "0da6636154224e239e0acf128251552d": {
     "model_module": "@jupyter-widgets/controls",
     "model_module_version": "1.5.0",
     "model_name": "HTMLModel",
     "state": {
      "_dom_classes": [],
      "_model_module": "@jupyter-widgets/controls",
      "_model_module_version": "1.5.0",
      "_model_name": "HTMLModel",
      "_view_count": null,
      "_view_module": "@jupyter-widgets/controls",
      "_view_module_version": "1.5.0",
      "_view_name": "HTMLView",
      "description": "",
      "description_tooltip": null,
      "layout": "IPY_MODEL_bfea514454064155841bb153d837b5b3",
      "placeholder": "​",
      "style": "IPY_MODEL_7b58b04187ad4246919324f5fa3d9a44",
      "value": "100%"
     }
    },
    "110ee953de00408389437603ab9cbd15": {
     "model_module": "@jupyter-widgets/base",
     "model_module_version": "1.2.0",
     "model_name": "LayoutModel",
     "state": {
      "_model_module": "@jupyter-widgets/base",
      "_model_module_version": "1.2.0",
      "_model_name": "LayoutModel",
      "_view_count": null,
      "_view_module": "@jupyter-widgets/base",
      "_view_module_version": "1.2.0",
      "_view_name": "LayoutView",
      "align_content": null,
      "align_items": null,
      "align_self": null,
      "border": null,
      "bottom": null,
      "display": null,
      "flex": null,
      "flex_flow": null,
      "grid_area": null,
      "grid_auto_columns": null,
      "grid_auto_flow": null,
      "grid_auto_rows": null,
      "grid_column": null,
      "grid_gap": null,
      "grid_row": null,
      "grid_template_areas": null,
      "grid_template_columns": null,
      "grid_template_rows": null,
      "height": null,
      "justify_content": null,
      "justify_items": null,
      "left": null,
      "margin": null,
      "max_height": null,
      "max_width": null,
      "min_height": null,
      "min_width": null,
      "object_fit": null,
      "object_position": null,
      "order": null,
      "overflow": null,
      "overflow_x": null,
      "overflow_y": null,
      "padding": null,
      "right": null,
      "top": null,
      "visibility": null,
      "width": null
     }
    },
    "163f38a04bda46ee92bb147e7d5faa80": {
     "model_module": "@jupyter-widgets/base",
     "model_module_version": "1.2.0",
     "model_name": "LayoutModel",
     "state": {
      "_model_module": "@jupyter-widgets/base",
      "_model_module_version": "1.2.0",
      "_model_name": "LayoutModel",
      "_view_count": null,
      "_view_module": "@jupyter-widgets/base",
      "_view_module_version": "1.2.0",
      "_view_name": "LayoutView",
      "align_content": null,
      "align_items": null,
      "align_self": null,
      "border": null,
      "bottom": null,
      "display": null,
      "flex": null,
      "flex_flow": null,
      "grid_area": null,
      "grid_auto_columns": null,
      "grid_auto_flow": null,
      "grid_auto_rows": null,
      "grid_column": null,
      "grid_gap": null,
      "grid_row": null,
      "grid_template_areas": null,
      "grid_template_columns": null,
      "grid_template_rows": null,
      "height": null,
      "justify_content": null,
      "justify_items": null,
      "left": null,
      "margin": null,
      "max_height": null,
      "max_width": null,
      "min_height": null,
      "min_width": null,
      "object_fit": null,
      "object_position": null,
      "order": null,
      "overflow": null,
      "overflow_x": null,
      "overflow_y": null,
      "padding": null,
      "right": null,
      "top": null,
      "visibility": null,
      "width": null
     }
    },
    "19d6d94b89704a269debe53bb709576d": {
     "model_module": "@jupyter-widgets/controls",
     "model_module_version": "1.5.0",
     "model_name": "HTMLModel",
     "state": {
      "_dom_classes": [],
      "_model_module": "@jupyter-widgets/controls",
      "_model_module_version": "1.5.0",
      "_model_name": "HTMLModel",
      "_view_count": null,
      "_view_module": "@jupyter-widgets/controls",
      "_view_module_version": "1.5.0",
      "_view_name": "HTMLView",
      "description": "",
      "description_tooltip": null,
      "layout": "IPY_MODEL_1a19a3eae622461585e820b2fb93316c",
      "placeholder": "​",
      "style": "IPY_MODEL_66a3ea8eb4f24f50b8e82fb9f25e3bcd",
      "value": "  0%"
     }
    },
    "1a19a3eae622461585e820b2fb93316c": {
     "model_module": "@jupyter-widgets/base",
     "model_module_version": "1.2.0",
     "model_name": "LayoutModel",
     "state": {
      "_model_module": "@jupyter-widgets/base",
      "_model_module_version": "1.2.0",
      "_model_name": "LayoutModel",
      "_view_count": null,
      "_view_module": "@jupyter-widgets/base",
      "_view_module_version": "1.2.0",
      "_view_name": "LayoutView",
      "align_content": null,
      "align_items": null,
      "align_self": null,
      "border": null,
      "bottom": null,
      "display": null,
      "flex": null,
      "flex_flow": null,
      "grid_area": null,
      "grid_auto_columns": null,
      "grid_auto_flow": null,
      "grid_auto_rows": null,
      "grid_column": null,
      "grid_gap": null,
      "grid_row": null,
      "grid_template_areas": null,
      "grid_template_columns": null,
      "grid_template_rows": null,
      "height": null,
      "justify_content": null,
      "justify_items": null,
      "left": null,
      "margin": null,
      "max_height": null,
      "max_width": null,
      "min_height": null,
      "min_width": null,
      "object_fit": null,
      "object_position": null,
      "order": null,
      "overflow": null,
      "overflow_x": null,
      "overflow_y": null,
      "padding": null,
      "right": null,
      "top": null,
      "visibility": null,
      "width": null
     }
    },
    "1c7b25ad1e4b43c79785da22f7abb982": {
     "model_module": "@jupyter-widgets/base",
     "model_module_version": "1.2.0",
     "model_name": "LayoutModel",
     "state": {
      "_model_module": "@jupyter-widgets/base",
      "_model_module_version": "1.2.0",
      "_model_name": "LayoutModel",
      "_view_count": null,
      "_view_module": "@jupyter-widgets/base",
      "_view_module_version": "1.2.0",
      "_view_name": "LayoutView",
      "align_content": null,
      "align_items": null,
      "align_self": null,
      "border": null,
      "bottom": null,
      "display": null,
      "flex": null,
      "flex_flow": null,
      "grid_area": null,
      "grid_auto_columns": null,
      "grid_auto_flow": null,
      "grid_auto_rows": null,
      "grid_column": null,
      "grid_gap": null,
      "grid_row": null,
      "grid_template_areas": null,
      "grid_template_columns": null,
      "grid_template_rows": null,
      "height": null,
      "justify_content": null,
      "justify_items": null,
      "left": null,
      "margin": null,
      "max_height": null,
      "max_width": null,
      "min_height": null,
      "min_width": null,
      "object_fit": null,
      "object_position": null,
      "order": null,
      "overflow": null,
      "overflow_x": null,
      "overflow_y": null,
      "padding": null,
      "right": null,
      "top": null,
      "visibility": null,
      "width": null
     }
    },
    "4907a67a924f4daea078544b5a929188": {
     "model_module": "@jupyter-widgets/controls",
     "model_module_version": "1.5.0",
     "model_name": "ProgressStyleModel",
     "state": {
      "_model_module": "@jupyter-widgets/controls",
      "_model_module_version": "1.5.0",
      "_model_name": "ProgressStyleModel",
      "_view_count": null,
      "_view_module": "@jupyter-widgets/base",
      "_view_module_version": "1.2.0",
      "_view_name": "StyleView",
      "bar_color": null,
      "description_width": ""
     }
    },
    "4a1b1fc61367429491b12299dc5d1ec9": {
     "model_module": "@jupyter-widgets/controls",
     "model_module_version": "1.5.0",
     "model_name": "DescriptionStyleModel",
     "state": {
      "_model_module": "@jupyter-widgets/controls",
      "_model_module_version": "1.5.0",
      "_model_name": "DescriptionStyleModel",
      "_view_count": null,
      "_view_module": "@jupyter-widgets/base",
      "_view_module_version": "1.2.0",
      "_view_name": "StyleView",
      "description_width": ""
     }
    },
    "4a3d1a2536ca421ba23300b348c7372d": {
     "model_module": "@jupyter-widgets/controls",
     "model_module_version": "1.5.0",
     "model_name": "HBoxModel",
     "state": {
      "_dom_classes": [],
      "_model_module": "@jupyter-widgets/controls",
      "_model_module_version": "1.5.0",
      "_model_name": "HBoxModel",
      "_view_count": null,
      "_view_module": "@jupyter-widgets/controls",
      "_view_module_version": "1.5.0",
      "_view_name": "HBoxView",
      "box_style": "",
      "children": [
       "IPY_MODEL_0da6636154224e239e0acf128251552d",
       "IPY_MODEL_f2885ad7a0d946168987cd0860ce2a13",
       "IPY_MODEL_edf110fd6b7f48caa90967a684a7d784"
      ],
      "layout": "IPY_MODEL_1c7b25ad1e4b43c79785da22f7abb982"
     }
    },
    "4c552b1eb28649ec8c49645da3c72bc9": {
     "model_module": "@jupyter-widgets/base",
     "model_module_version": "1.2.0",
     "model_name": "LayoutModel",
     "state": {
      "_model_module": "@jupyter-widgets/base",
      "_model_module_version": "1.2.0",
      "_model_name": "LayoutModel",
      "_view_count": null,
      "_view_module": "@jupyter-widgets/base",
      "_view_module_version": "1.2.0",
      "_view_name": "LayoutView",
      "align_content": null,
      "align_items": null,
      "align_self": null,
      "border": null,
      "bottom": null,
      "display": null,
      "flex": null,
      "flex_flow": null,
      "grid_area": null,
      "grid_auto_columns": null,
      "grid_auto_flow": null,
      "grid_auto_rows": null,
      "grid_column": null,
      "grid_gap": null,
      "grid_row": null,
      "grid_template_areas": null,
      "grid_template_columns": null,
      "grid_template_rows": null,
      "height": null,
      "justify_content": null,
      "justify_items": null,
      "left": null,
      "margin": null,
      "max_height": null,
      "max_width": null,
      "min_height": null,
      "min_width": null,
      "object_fit": null,
      "object_position": null,
      "order": null,
      "overflow": null,
      "overflow_x": null,
      "overflow_y": null,
      "padding": null,
      "right": null,
      "top": null,
      "visibility": null,
      "width": null
     }
    },
    "4e5b4dbac61640bc9dc8286cfee93f13": {
     "model_module": "@jupyter-widgets/controls",
     "model_module_version": "1.5.0",
     "model_name": "HTMLModel",
     "state": {
      "_dom_classes": [],
      "_model_module": "@jupyter-widgets/controls",
      "_model_module_version": "1.5.0",
      "_model_name": "HTMLModel",
      "_view_count": null,
      "_view_module": "@jupyter-widgets/controls",
      "_view_module_version": "1.5.0",
      "_view_name": "HTMLView",
      "description": "",
      "description_tooltip": null,
      "layout": "IPY_MODEL_03a2141fad814fa39632b87e7ef8a134",
      "placeholder": "​",
      "style": "IPY_MODEL_c99b9ceff61144ca937598af9d150c8b",
      "value": "100%"
     }
    },
    "4fc823b122304890af9cb927f3f8afef": {
     "model_module": "@jupyter-widgets/controls",
     "model_module_version": "1.5.0",
     "model_name": "DescriptionStyleModel",
     "state": {
      "_model_module": "@jupyter-widgets/controls",
      "_model_module_version": "1.5.0",
      "_model_name": "DescriptionStyleModel",
      "_view_count": null,
      "_view_module": "@jupyter-widgets/base",
      "_view_module_version": "1.2.0",
      "_view_name": "StyleView",
      "description_width": ""
     }
    },
    "66a3ea8eb4f24f50b8e82fb9f25e3bcd": {
     "model_module": "@jupyter-widgets/controls",
     "model_module_version": "1.5.0",
     "model_name": "DescriptionStyleModel",
     "state": {
      "_model_module": "@jupyter-widgets/controls",
      "_model_module_version": "1.5.0",
      "_model_name": "DescriptionStyleModel",
      "_view_count": null,
      "_view_module": "@jupyter-widgets/base",
      "_view_module_version": "1.2.0",
      "_view_name": "StyleView",
      "description_width": ""
     }
    },
    "68dcb9ff28f54dd387d3e816473cd13f": {
     "model_module": "@jupyter-widgets/base",
     "model_module_version": "1.2.0",
     "model_name": "LayoutModel",
     "state": {
      "_model_module": "@jupyter-widgets/base",
      "_model_module_version": "1.2.0",
      "_model_name": "LayoutModel",
      "_view_count": null,
      "_view_module": "@jupyter-widgets/base",
      "_view_module_version": "1.2.0",
      "_view_name": "LayoutView",
      "align_content": null,
      "align_items": null,
      "align_self": null,
      "border": null,
      "bottom": null,
      "display": null,
      "flex": null,
      "flex_flow": null,
      "grid_area": null,
      "grid_auto_columns": null,
      "grid_auto_flow": null,
      "grid_auto_rows": null,
      "grid_column": null,
      "grid_gap": null,
      "grid_row": null,
      "grid_template_areas": null,
      "grid_template_columns": null,
      "grid_template_rows": null,
      "height": null,
      "justify_content": null,
      "justify_items": null,
      "left": null,
      "margin": null,
      "max_height": null,
      "max_width": null,
      "min_height": null,
      "min_width": null,
      "object_fit": null,
      "object_position": null,
      "order": null,
      "overflow": null,
      "overflow_x": null,
      "overflow_y": null,
      "padding": null,
      "right": null,
      "top": null,
      "visibility": null,
      "width": null
     }
    },
    "7b58b04187ad4246919324f5fa3d9a44": {
     "model_module": "@jupyter-widgets/controls",
     "model_module_version": "1.5.0",
     "model_name": "DescriptionStyleModel",
     "state": {
      "_model_module": "@jupyter-widgets/controls",
      "_model_module_version": "1.5.0",
      "_model_name": "DescriptionStyleModel",
      "_view_count": null,
      "_view_module": "@jupyter-widgets/base",
      "_view_module_version": "1.2.0",
      "_view_name": "StyleView",
      "description_width": ""
     }
    },
    "7c1f12cb1ab847249bb4280c54b564cb": {
     "model_module": "@jupyter-widgets/controls",
     "model_module_version": "1.5.0",
     "model_name": "HBoxModel",
     "state": {
      "_dom_classes": [],
      "_model_module": "@jupyter-widgets/controls",
      "_model_module_version": "1.5.0",
      "_model_name": "HBoxModel",
      "_view_count": null,
      "_view_module": "@jupyter-widgets/controls",
      "_view_module_version": "1.5.0",
      "_view_name": "HBoxView",
      "box_style": "",
      "children": [
       "IPY_MODEL_19d6d94b89704a269debe53bb709576d",
       "IPY_MODEL_d4f923059c214d2a8aa3fd74ef0b0b38",
       "IPY_MODEL_be620ffd47314ef3b9e071b5f1eca94c"
      ],
      "layout": "IPY_MODEL_163f38a04bda46ee92bb147e7d5faa80"
     }
    },
    "84657db6d3dc46d5bd0fa25898ee14f2": {
     "model_module": "@jupyter-widgets/controls",
     "model_module_version": "1.5.0",
     "model_name": "FloatProgressModel",
     "state": {
      "_dom_classes": [],
      "_model_module": "@jupyter-widgets/controls",
      "_model_module_version": "1.5.0",
      "_model_name": "FloatProgressModel",
      "_view_count": null,
      "_view_module": "@jupyter-widgets/controls",
      "_view_module_version": "1.5.0",
      "_view_name": "ProgressView",
      "bar_style": "success",
      "description": "",
      "description_tooltip": null,
      "layout": "IPY_MODEL_8ee2363c68e54d908f2dfb0b698549d3",
      "max": 9,
      "min": 0,
      "orientation": "horizontal",
      "style": "IPY_MODEL_f05c6fe1e5c04ebdae94c909041712ac",
      "value": 9
     }
    },
    "8834a7b9229842e78082e64a5157a0ce": {
     "model_module": "@jupyter-widgets/base",
     "model_module_version": "1.2.0",
     "model_name": "LayoutModel",
     "state": {
      "_model_module": "@jupyter-widgets/base",
      "_model_module_version": "1.2.0",
      "_model_name": "LayoutModel",
      "_view_count": null,
      "_view_module": "@jupyter-widgets/base",
      "_view_module_version": "1.2.0",
      "_view_name": "LayoutView",
      "align_content": null,
      "align_items": null,
      "align_self": null,
      "border": null,
      "bottom": null,
      "display": null,
      "flex": null,
      "flex_flow": null,
      "grid_area": null,
      "grid_auto_columns": null,
      "grid_auto_flow": null,
      "grid_auto_rows": null,
      "grid_column": null,
      "grid_gap": null,
      "grid_row": null,
      "grid_template_areas": null,
      "grid_template_columns": null,
      "grid_template_rows": null,
      "height": null,
      "justify_content": null,
      "justify_items": null,
      "left": null,
      "margin": null,
      "max_height": null,
      "max_width": null,
      "min_height": null,
      "min_width": null,
      "object_fit": null,
      "object_position": null,
      "order": null,
      "overflow": null,
      "overflow_x": null,
      "overflow_y": null,
      "padding": null,
      "right": null,
      "top": null,
      "visibility": null,
      "width": null
     }
    },
    "8ee2363c68e54d908f2dfb0b698549d3": {
     "model_module": "@jupyter-widgets/base",
     "model_module_version": "1.2.0",
     "model_name": "LayoutModel",
     "state": {
      "_model_module": "@jupyter-widgets/base",
      "_model_module_version": "1.2.0",
      "_model_name": "LayoutModel",
      "_view_count": null,
      "_view_module": "@jupyter-widgets/base",
      "_view_module_version": "1.2.0",
      "_view_name": "LayoutView",
      "align_content": null,
      "align_items": null,
      "align_self": null,
      "border": null,
      "bottom": null,
      "display": null,
      "flex": null,
      "flex_flow": null,
      "grid_area": null,
      "grid_auto_columns": null,
      "grid_auto_flow": null,
      "grid_auto_rows": null,
      "grid_column": null,
      "grid_gap": null,
      "grid_row": null,
      "grid_template_areas": null,
      "grid_template_columns": null,
      "grid_template_rows": null,
      "height": null,
      "justify_content": null,
      "justify_items": null,
      "left": null,
      "margin": null,
      "max_height": null,
      "max_width": null,
      "min_height": null,
      "min_width": null,
      "object_fit": null,
      "object_position": null,
      "order": null,
      "overflow": null,
      "overflow_x": null,
      "overflow_y": null,
      "padding": null,
      "right": null,
      "top": null,
      "visibility": null,
      "width": null
     }
    },
    "9075c9929447407ea9e9c5288583dadb": {
     "model_module": "@jupyter-widgets/controls",
     "model_module_version": "1.5.0",
     "model_name": "ProgressStyleModel",
     "state": {
      "_model_module": "@jupyter-widgets/controls",
      "_model_module_version": "1.5.0",
      "_model_name": "ProgressStyleModel",
      "_view_count": null,
      "_view_module": "@jupyter-widgets/base",
      "_view_module_version": "1.2.0",
      "_view_name": "StyleView",
      "bar_color": null,
      "description_width": ""
     }
    },
    "92b88d70c83248279bf530ea2041bfe8": {
     "model_module": "@jupyter-widgets/controls",
     "model_module_version": "1.5.0",
     "model_name": "HTMLModel",
     "state": {
      "_dom_classes": [],
      "_model_module": "@jupyter-widgets/controls",
      "_model_module_version": "1.5.0",
      "_model_name": "HTMLModel",
      "_view_count": null,
      "_view_module": "@jupyter-widgets/controls",
      "_view_module_version": "1.5.0",
      "_view_name": "HTMLView",
      "description": "",
      "description_tooltip": null,
      "layout": "IPY_MODEL_8834a7b9229842e78082e64a5157a0ce",
      "placeholder": "​",
      "style": "IPY_MODEL_0c6a036444b043ef9df7cc7e854a2a17",
      "value": " 9/9 [00:23&lt;00:00,  2.84s/it]"
     }
    },
    "a24b9d4c1e524a1c9c105e6e5740bde1": {
     "model_module": "@jupyter-widgets/controls",
     "model_module_version": "1.5.0",
     "model_name": "HBoxModel",
     "state": {
      "_dom_classes": [],
      "_model_module": "@jupyter-widgets/controls",
      "_model_module_version": "1.5.0",
      "_model_name": "HBoxModel",
      "_view_count": null,
      "_view_module": "@jupyter-widgets/controls",
      "_view_module_version": "1.5.0",
      "_view_name": "HBoxView",
      "box_style": "",
      "children": [
       "IPY_MODEL_4e5b4dbac61640bc9dc8286cfee93f13",
       "IPY_MODEL_84657db6d3dc46d5bd0fa25898ee14f2",
       "IPY_MODEL_92b88d70c83248279bf530ea2041bfe8"
      ],
      "layout": "IPY_MODEL_f7a8233fab1e4dff8bb2403538b49da1"
     }
    },
    "be620ffd47314ef3b9e071b5f1eca94c": {
     "model_module": "@jupyter-widgets/controls",
     "model_module_version": "1.5.0",
     "model_name": "HTMLModel",
     "state": {
      "_dom_classes": [],
      "_model_module": "@jupyter-widgets/controls",
      "_model_module_version": "1.5.0",
      "_model_name": "HTMLModel",
      "_view_count": null,
      "_view_module": "@jupyter-widgets/controls",
      "_view_module_version": "1.5.0",
      "_view_name": "HTMLView",
      "description": "",
      "description_tooltip": null,
      "layout": "IPY_MODEL_110ee953de00408389437603ab9cbd15",
      "placeholder": "​",
      "style": "IPY_MODEL_4fc823b122304890af9cb927f3f8afef",
      "value": " 0/11 [00:00&lt;?, ?it/s]"
     }
    },
    "bfea514454064155841bb153d837b5b3": {
     "model_module": "@jupyter-widgets/base",
     "model_module_version": "1.2.0",
     "model_name": "LayoutModel",
     "state": {
      "_model_module": "@jupyter-widgets/base",
      "_model_module_version": "1.2.0",
      "_model_name": "LayoutModel",
      "_view_count": null,
      "_view_module": "@jupyter-widgets/base",
      "_view_module_version": "1.2.0",
      "_view_name": "LayoutView",
      "align_content": null,
      "align_items": null,
      "align_self": null,
      "border": null,
      "bottom": null,
      "display": null,
      "flex": null,
      "flex_flow": null,
      "grid_area": null,
      "grid_auto_columns": null,
      "grid_auto_flow": null,
      "grid_auto_rows": null,
      "grid_column": null,
      "grid_gap": null,
      "grid_row": null,
      "grid_template_areas": null,
      "grid_template_columns": null,
      "grid_template_rows": null,
      "height": null,
      "justify_content": null,
      "justify_items": null,
      "left": null,
      "margin": null,
      "max_height": null,
      "max_width": null,
      "min_height": null,
      "min_width": null,
      "object_fit": null,
      "object_position": null,
      "order": null,
      "overflow": null,
      "overflow_x": null,
      "overflow_y": null,
      "padding": null,
      "right": null,
      "top": null,
      "visibility": null,
      "width": null
     }
    },
    "c99b9ceff61144ca937598af9d150c8b": {
     "model_module": "@jupyter-widgets/controls",
     "model_module_version": "1.5.0",
     "model_name": "DescriptionStyleModel",
     "state": {
      "_model_module": "@jupyter-widgets/controls",
      "_model_module_version": "1.5.0",
      "_model_name": "DescriptionStyleModel",
      "_view_count": null,
      "_view_module": "@jupyter-widgets/base",
      "_view_module_version": "1.2.0",
      "_view_name": "StyleView",
      "description_width": ""
     }
    },
    "d4f923059c214d2a8aa3fd74ef0b0b38": {
     "model_module": "@jupyter-widgets/controls",
     "model_module_version": "1.5.0",
     "model_name": "FloatProgressModel",
     "state": {
      "_dom_classes": [],
      "_model_module": "@jupyter-widgets/controls",
      "_model_module_version": "1.5.0",
      "_model_name": "FloatProgressModel",
      "_view_count": null,
      "_view_module": "@jupyter-widgets/controls",
      "_view_module_version": "1.5.0",
      "_view_name": "ProgressView",
      "bar_style": "",
      "description": "",
      "description_tooltip": null,
      "layout": "IPY_MODEL_0d48ded90abf4b10b0ce4a023cedc338",
      "max": 11,
      "min": 0,
      "orientation": "horizontal",
      "style": "IPY_MODEL_4907a67a924f4daea078544b5a929188",
      "value": 0
     }
    },
    "edf110fd6b7f48caa90967a684a7d784": {
     "model_module": "@jupyter-widgets/controls",
     "model_module_version": "1.5.0",
     "model_name": "HTMLModel",
     "state": {
      "_dom_classes": [],
      "_model_module": "@jupyter-widgets/controls",
      "_model_module_version": "1.5.0",
      "_model_name": "HTMLModel",
      "_view_count": null,
      "_view_module": "@jupyter-widgets/controls",
      "_view_module_version": "1.5.0",
      "_view_name": "HTMLView",
      "description": "",
      "description_tooltip": null,
      "layout": "IPY_MODEL_4c552b1eb28649ec8c49645da3c72bc9",
      "placeholder": "​",
      "style": "IPY_MODEL_4a1b1fc61367429491b12299dc5d1ec9",
      "value": " 9/9 [00:01&lt;00:00,  6.16it/s]"
     }
    },
    "f05c6fe1e5c04ebdae94c909041712ac": {
     "model_module": "@jupyter-widgets/controls",
     "model_module_version": "1.5.0",
     "model_name": "ProgressStyleModel",
     "state": {
      "_model_module": "@jupyter-widgets/controls",
      "_model_module_version": "1.5.0",
      "_model_name": "ProgressStyleModel",
      "_view_count": null,
      "_view_module": "@jupyter-widgets/base",
      "_view_module_version": "1.2.0",
      "_view_name": "StyleView",
      "bar_color": null,
      "description_width": ""
     }
    },
    "f2885ad7a0d946168987cd0860ce2a13": {
     "model_module": "@jupyter-widgets/controls",
     "model_module_version": "1.5.0",
     "model_name": "FloatProgressModel",
     "state": {
      "_dom_classes": [],
      "_model_module": "@jupyter-widgets/controls",
      "_model_module_version": "1.5.0",
      "_model_name": "FloatProgressModel",
      "_view_count": null,
      "_view_module": "@jupyter-widgets/controls",
      "_view_module_version": "1.5.0",
      "_view_name": "ProgressView",
      "bar_style": "success",
      "description": "",
      "description_tooltip": null,
      "layout": "IPY_MODEL_68dcb9ff28f54dd387d3e816473cd13f",
      "max": 9,
      "min": 0,
      "orientation": "horizontal",
      "style": "IPY_MODEL_9075c9929447407ea9e9c5288583dadb",
      "value": 9
     }
    },
    "f7a8233fab1e4dff8bb2403538b49da1": {
     "model_module": "@jupyter-widgets/base",
     "model_module_version": "1.2.0",
     "model_name": "LayoutModel",
     "state": {
      "_model_module": "@jupyter-widgets/base",
      "_model_module_version": "1.2.0",
      "_model_name": "LayoutModel",
      "_view_count": null,
      "_view_module": "@jupyter-widgets/base",
      "_view_module_version": "1.2.0",
      "_view_name": "LayoutView",
      "align_content": null,
      "align_items": null,
      "align_self": null,
      "border": null,
      "bottom": null,
      "display": null,
      "flex": null,
      "flex_flow": null,
      "grid_area": null,
      "grid_auto_columns": null,
      "grid_auto_flow": null,
      "grid_auto_rows": null,
      "grid_column": null,
      "grid_gap": null,
      "grid_row": null,
      "grid_template_areas": null,
      "grid_template_columns": null,
      "grid_template_rows": null,
      "height": null,
      "justify_content": null,
      "justify_items": null,
      "left": null,
      "margin": null,
      "max_height": null,
      "max_width": null,
      "min_height": null,
      "min_width": null,
      "object_fit": null,
      "object_position": null,
      "order": null,
      "overflow": null,
      "overflow_x": null,
      "overflow_y": null,
      "padding": null,
      "right": null,
      "top": null,
      "visibility": null,
      "width": null
     }
    }
   }
  }
 },
 "nbformat": 4,
 "nbformat_minor": 4
}
