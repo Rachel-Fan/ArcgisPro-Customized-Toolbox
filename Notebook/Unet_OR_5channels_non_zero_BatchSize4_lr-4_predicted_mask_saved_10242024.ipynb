{
 "cells": [
  {
   "cell_type": "code",
   "execution_count": 1,
   "metadata": {},
   "outputs": [
    {
     "name": "stdout",
     "output_type": "stream",
     "text": [
      "Requirement already satisfied: albumentations in c:\\users\\yang_pc\\anaconda3\\envs\\py310cuda118\\lib\\site-packages (1.4.14)\n",
      "Requirement already satisfied: numpy>=1.24.4 in c:\\users\\yang_pc\\anaconda3\\envs\\py310cuda118\\lib\\site-packages (from albumentations) (1.26.4)\n",
      "Requirement already satisfied: scipy>=1.10.0 in c:\\users\\yang_pc\\anaconda3\\envs\\py310cuda118\\lib\\site-packages (from albumentations) (1.13.0)\n",
      "Requirement already satisfied: scikit-image>=0.21.0 in c:\\users\\yang_pc\\anaconda3\\envs\\py310cuda118\\lib\\site-packages (from albumentations) (0.24.0)\n",
      "Requirement already satisfied: PyYAML in c:\\users\\yang_pc\\anaconda3\\envs\\py310cuda118\\lib\\site-packages (from albumentations) (6.0.1)\n",
      "Requirement already satisfied: typing-extensions>=4.9.0 in c:\\users\\yang_pc\\anaconda3\\envs\\py310cuda118\\lib\\site-packages (from albumentations) (4.11.0)\n",
      "Requirement already satisfied: pydantic>=2.7.0 in c:\\users\\yang_pc\\anaconda3\\envs\\py310cuda118\\lib\\site-packages (from albumentations) (2.8.2)\n",
      "Requirement already satisfied: albucore>=0.0.13 in c:\\users\\yang_pc\\anaconda3\\envs\\py310cuda118\\lib\\site-packages (from albumentations) (0.0.13)\n",
      "Requirement already satisfied: eval-type-backport in c:\\users\\yang_pc\\anaconda3\\envs\\py310cuda118\\lib\\site-packages (from albumentations) (0.2.0)\n",
      "Requirement already satisfied: opencv-python-headless>=4.9.0.80 in c:\\users\\yang_pc\\anaconda3\\envs\\py310cuda118\\lib\\site-packages (from albumentations) (4.9.0.80)\n",
      "Requirement already satisfied: tomli>=2.0.1 in c:\\users\\yang_pc\\anaconda3\\envs\\py310cuda118\\lib\\site-packages (from albucore>=0.0.13->albumentations) (2.0.1)\n",
      "Requirement already satisfied: annotated-types>=0.4.0 in c:\\users\\yang_pc\\anaconda3\\envs\\py310cuda118\\lib\\site-packages (from pydantic>=2.7.0->albumentations) (0.7.0)\n",
      "Requirement already satisfied: pydantic-core==2.20.1 in c:\\users\\yang_pc\\anaconda3\\envs\\py310cuda118\\lib\\site-packages (from pydantic>=2.7.0->albumentations) (2.20.1)\n",
      "Requirement already satisfied: networkx>=2.8 in c:\\users\\yang_pc\\anaconda3\\envs\\py310cuda118\\lib\\site-packages (from scikit-image>=0.21.0->albumentations) (3.2.1)\n",
      "Requirement already satisfied: pillow>=9.1 in c:\\users\\yang_pc\\anaconda3\\envs\\py310cuda118\\lib\\site-packages (from scikit-image>=0.21.0->albumentations) (10.3.0)\n",
      "Requirement already satisfied: imageio>=2.33 in c:\\users\\yang_pc\\anaconda3\\envs\\py310cuda118\\lib\\site-packages (from scikit-image>=0.21.0->albumentations) (2.34.1)\n",
      "Requirement already satisfied: tifffile>=2022.8.12 in c:\\users\\yang_pc\\anaconda3\\envs\\py310cuda118\\lib\\site-packages (from scikit-image>=0.21.0->albumentations) (2024.8.28)\n",
      "Requirement already satisfied: packaging>=21 in c:\\users\\yang_pc\\anaconda3\\envs\\py310cuda118\\lib\\site-packages (from scikit-image>=0.21.0->albumentations) (24.0)\n",
      "Requirement already satisfied: lazy-loader>=0.4 in c:\\users\\yang_pc\\anaconda3\\envs\\py310cuda118\\lib\\site-packages (from scikit-image>=0.21.0->albumentations) (0.4)\n"
     ]
    }
   ],
   "source": [
    "!pip install albumentations\n",
    "!pip install -q segmentation-models-pytorch\n",
    "!pip install -q torchsummary"
   ]
  },
  {
   "cell_type": "code",
   "execution_count": 2,
   "metadata": {},
   "outputs": [
    {
     "name": "stdout",
     "output_type": "stream",
     "text": [
      "Requirement already satisfied: segmentation-models-pytorch in c:\\users\\yang_pc\\anaconda3\\envs\\py310cuda118\\lib\\site-packages (0.3.4)\n",
      "Requirement already satisfied: efficientnet-pytorch==0.7.1 in c:\\users\\yang_pc\\anaconda3\\envs\\py310cuda118\\lib\\site-packages (from segmentation-models-pytorch) (0.7.1)\n",
      "Requirement already satisfied: huggingface-hub>=0.24.6 in c:\\users\\yang_pc\\anaconda3\\envs\\py310cuda118\\lib\\site-packages (from segmentation-models-pytorch) (0.26.0)\n",
      "Requirement already satisfied: pillow in c:\\users\\yang_pc\\anaconda3\\envs\\py310cuda118\\lib\\site-packages (from segmentation-models-pytorch) (10.3.0)\n",
      "Requirement already satisfied: pretrainedmodels==0.7.4 in c:\\users\\yang_pc\\anaconda3\\envs\\py310cuda118\\lib\\site-packages (from segmentation-models-pytorch) (0.7.4)\n",
      "Requirement already satisfied: six in c:\\users\\yang_pc\\anaconda3\\envs\\py310cuda118\\lib\\site-packages (from segmentation-models-pytorch) (1.16.0)\n",
      "Requirement already satisfied: timm==0.9.7 in c:\\users\\yang_pc\\anaconda3\\envs\\py310cuda118\\lib\\site-packages (from segmentation-models-pytorch) (0.9.7)\n",
      "Requirement already satisfied: torchvision>=0.5.0 in c:\\users\\yang_pc\\anaconda3\\envs\\py310cuda118\\lib\\site-packages (from segmentation-models-pytorch) (0.16.1+cu118)\n",
      "Requirement already satisfied: tqdm in c:\\users\\yang_pc\\anaconda3\\envs\\py310cuda118\\lib\\site-packages (from segmentation-models-pytorch) (4.66.5)\n",
      "Requirement already satisfied: torch in c:\\users\\yang_pc\\anaconda3\\envs\\py310cuda118\\lib\\site-packages (from efficientnet-pytorch==0.7.1->segmentation-models-pytorch) (2.1.1+cu118)\n",
      "Requirement already satisfied: munch in c:\\users\\yang_pc\\anaconda3\\envs\\py310cuda118\\lib\\site-packages (from pretrainedmodels==0.7.4->segmentation-models-pytorch) (4.0.0)\n",
      "Requirement already satisfied: pyyaml in c:\\users\\yang_pc\\anaconda3\\envs\\py310cuda118\\lib\\site-packages (from timm==0.9.7->segmentation-models-pytorch) (6.0.1)\n",
      "Requirement already satisfied: safetensors in c:\\users\\yang_pc\\anaconda3\\envs\\py310cuda118\\lib\\site-packages (from timm==0.9.7->segmentation-models-pytorch) (0.4.4)\n",
      "Requirement already satisfied: filelock in c:\\users\\yang_pc\\anaconda3\\envs\\py310cuda118\\lib\\site-packages (from huggingface-hub>=0.24.6->segmentation-models-pytorch) (3.9.0)\n",
      "Requirement already satisfied: fsspec>=2023.5.0 in c:\\users\\yang_pc\\anaconda3\\envs\\py310cuda118\\lib\\site-packages (from huggingface-hub>=0.24.6->segmentation-models-pytorch) (2024.3.1)\n",
      "Requirement already satisfied: packaging>=20.9 in c:\\users\\yang_pc\\anaconda3\\envs\\py310cuda118\\lib\\site-packages (from huggingface-hub>=0.24.6->segmentation-models-pytorch) (24.0)\n",
      "Requirement already satisfied: requests in c:\\users\\yang_pc\\anaconda3\\envs\\py310cuda118\\lib\\site-packages (from huggingface-hub>=0.24.6->segmentation-models-pytorch) (2.32.3)\n",
      "Requirement already satisfied: typing-extensions>=3.7.4.3 in c:\\users\\yang_pc\\anaconda3\\envs\\py310cuda118\\lib\\site-packages (from huggingface-hub>=0.24.6->segmentation-models-pytorch) (4.11.0)\n",
      "Requirement already satisfied: numpy in c:\\users\\yang_pc\\anaconda3\\envs\\py310cuda118\\lib\\site-packages (from torchvision>=0.5.0->segmentation-models-pytorch) (1.26.4)\n",
      "Requirement already satisfied: sympy in c:\\users\\yang_pc\\anaconda3\\envs\\py310cuda118\\lib\\site-packages (from torch->efficientnet-pytorch==0.7.1->segmentation-models-pytorch) (1.12)\n",
      "Requirement already satisfied: networkx in c:\\users\\yang_pc\\anaconda3\\envs\\py310cuda118\\lib\\site-packages (from torch->efficientnet-pytorch==0.7.1->segmentation-models-pytorch) (3.2.1)\n",
      "Requirement already satisfied: jinja2 in c:\\users\\yang_pc\\anaconda3\\envs\\py310cuda118\\lib\\site-packages (from torch->efficientnet-pytorch==0.7.1->segmentation-models-pytorch) (3.1.2)\n",
      "Requirement already satisfied: colorama in c:\\users\\yang_pc\\anaconda3\\envs\\py310cuda118\\lib\\site-packages (from tqdm->segmentation-models-pytorch) (0.4.6)\n",
      "Requirement already satisfied: charset-normalizer<4,>=2 in c:\\users\\yang_pc\\anaconda3\\envs\\py310cuda118\\lib\\site-packages (from requests->huggingface-hub>=0.24.6->segmentation-models-pytorch) (2.1.1)\n",
      "Requirement already satisfied: idna<4,>=2.5 in c:\\users\\yang_pc\\anaconda3\\envs\\py310cuda118\\lib\\site-packages (from requests->huggingface-hub>=0.24.6->segmentation-models-pytorch) (3.4)\n",
      "Requirement already satisfied: urllib3<3,>=1.21.1 in c:\\users\\yang_pc\\anaconda3\\envs\\py310cuda118\\lib\\site-packages (from requests->huggingface-hub>=0.24.6->segmentation-models-pytorch) (1.26.13)\n",
      "Requirement already satisfied: certifi>=2017.4.17 in c:\\users\\yang_pc\\anaconda3\\envs\\py310cuda118\\lib\\site-packages (from requests->huggingface-hub>=0.24.6->segmentation-models-pytorch) (2024.2.2)\n",
      "Requirement already satisfied: MarkupSafe>=2.0 in c:\\users\\yang_pc\\anaconda3\\envs\\py310cuda118\\lib\\site-packages (from jinja2->torch->efficientnet-pytorch==0.7.1->segmentation-models-pytorch) (2.1.3)\n",
      "Requirement already satisfied: mpmath>=0.19 in c:\\users\\yang_pc\\anaconda3\\envs\\py310cuda118\\lib\\site-packages (from sympy->torch->efficientnet-pytorch==0.7.1->segmentation-models-pytorch) (1.3.0)\n",
      "Requirement already satisfied: torchsummary in c:\\users\\yang_pc\\anaconda3\\envs\\py310cuda118\\lib\\site-packages (1.5.1)\n"
     ]
    }
   ],
   "source": [
    "!pip install segmentation-models-pytorch\n",
    "!pip install torchsummary\n"
   ]
  },
  {
   "cell_type": "code",
   "execution_count": 3,
   "metadata": {},
   "outputs": [
    {
     "name": "stdout",
     "output_type": "stream",
     "text": [
      "Collecting huggingface-hub==0.16.4\n",
      "  Using cached huggingface_hub-0.16.4-py3-none-any.whl.metadata (12 kB)\n",
      "Requirement already satisfied: filelock in c:\\users\\yang_pc\\anaconda3\\envs\\py310cuda118\\lib\\site-packages (from huggingface-hub==0.16.4) (3.9.0)\n",
      "Requirement already satisfied: fsspec in c:\\users\\yang_pc\\anaconda3\\envs\\py310cuda118\\lib\\site-packages (from huggingface-hub==0.16.4) (2024.3.1)\n",
      "Requirement already satisfied: requests in c:\\users\\yang_pc\\anaconda3\\envs\\py310cuda118\\lib\\site-packages (from huggingface-hub==0.16.4) (2.32.3)\n",
      "Requirement already satisfied: tqdm>=4.42.1 in c:\\users\\yang_pc\\anaconda3\\envs\\py310cuda118\\lib\\site-packages (from huggingface-hub==0.16.4) (4.66.5)\n",
      "Requirement already satisfied: pyyaml>=5.1 in c:\\users\\yang_pc\\anaconda3\\envs\\py310cuda118\\lib\\site-packages (from huggingface-hub==0.16.4) (6.0.1)\n",
      "Requirement already satisfied: typing-extensions>=3.7.4.3 in c:\\users\\yang_pc\\anaconda3\\envs\\py310cuda118\\lib\\site-packages (from huggingface-hub==0.16.4) (4.11.0)\n",
      "Requirement already satisfied: packaging>=20.9 in c:\\users\\yang_pc\\anaconda3\\envs\\py310cuda118\\lib\\site-packages (from huggingface-hub==0.16.4) (24.0)\n",
      "Requirement already satisfied: colorama in c:\\users\\yang_pc\\anaconda3\\envs\\py310cuda118\\lib\\site-packages (from tqdm>=4.42.1->huggingface-hub==0.16.4) (0.4.6)\n",
      "Requirement already satisfied: charset-normalizer<4,>=2 in c:\\users\\yang_pc\\anaconda3\\envs\\py310cuda118\\lib\\site-packages (from requests->huggingface-hub==0.16.4) (2.1.1)\n",
      "Requirement already satisfied: idna<4,>=2.5 in c:\\users\\yang_pc\\anaconda3\\envs\\py310cuda118\\lib\\site-packages (from requests->huggingface-hub==0.16.4) (3.4)\n",
      "Requirement already satisfied: urllib3<3,>=1.21.1 in c:\\users\\yang_pc\\anaconda3\\envs\\py310cuda118\\lib\\site-packages (from requests->huggingface-hub==0.16.4) (1.26.13)\n",
      "Requirement already satisfied: certifi>=2017.4.17 in c:\\users\\yang_pc\\anaconda3\\envs\\py310cuda118\\lib\\site-packages (from requests->huggingface-hub==0.16.4) (2024.2.2)\n",
      "Using cached huggingface_hub-0.16.4-py3-none-any.whl (268 kB)\n",
      "Installing collected packages: huggingface-hub\n",
      "  Attempting uninstall: huggingface-hub\n",
      "    Found existing installation: huggingface-hub 0.26.0\n",
      "    Uninstalling huggingface-hub-0.26.0:\n",
      "      Successfully uninstalled huggingface-hub-0.26.0\n",
      "Successfully installed huggingface-hub-0.16.4\n"
     ]
    },
    {
     "name": "stderr",
     "output_type": "stream",
     "text": [
      "ERROR: pip's dependency resolver does not currently take into account all the packages that are installed. This behaviour is the source of the following dependency conflicts.\n",
      "datasets 2.21.0 requires huggingface-hub>=0.21.2, but you have huggingface-hub 0.16.4 which is incompatible.\n",
      "segmentation-models-pytorch 0.3.4 requires huggingface-hub>=0.24.6, but you have huggingface-hub 0.16.4 which is incompatible.\n",
      "transformers 4.44.2 requires huggingface-hub<1.0,>=0.23.2, but you have huggingface-hub 0.16.4 which is incompatible.\n"
     ]
    }
   ],
   "source": [
    "!pip install huggingface-hub==0.16.4\n"
   ]
  },
  {
   "cell_type": "code",
   "execution_count": 4,
   "metadata": {},
   "outputs": [],
   "source": [
    "import segmentation_models_pytorch as smp\n",
    "from torchsummary import summary\n"
   ]
  },
  {
   "cell_type": "code",
   "execution_count": 5,
   "metadata": {
    "colab": {
     "base_uri": "https://localhost:8080/"
    },
    "id": "48rFWt8_m5_a",
    "outputId": "08e112e4-7040-431b-eafa-a6149257af37"
   },
   "outputs": [
    {
     "name": "stdout",
     "output_type": "stream",
     "text": [
      "True\n"
     ]
    },
    {
     "name": "stderr",
     "output_type": "stream",
     "text": [
      "c:\\Users\\Yang_PC\\anaconda3\\envs\\py310cuda118\\lib\\site-packages\\albumentations\\__init__.py:13: UserWarning: A new version of Albumentations is available: 1.4.18 (you have 1.4.14). Upgrade using: pip install -U albumentations. To disable automatic update checks, set the environment variable NO_ALBUMENTATIONS_UPDATE to 1.\n",
      "  check_for_updates()\n"
     ]
    },
    {
     "data": {
      "text/plain": [
       "device(type='cuda')"
      ]
     },
     "execution_count": 5,
     "metadata": {},
     "output_type": "execute_result"
    }
   ],
   "source": [
    "import numpy as np\n",
    "import pandas as pd\n",
    "import matplotlib.pyplot as plt\n",
    "\n",
    "from sklearn.model_selection import train_test_split\n",
    "\n",
    "import torch\n",
    "import torch.nn as nn\n",
    "from torch.utils.data import Dataset, DataLoader\n",
    "from torchvision import transforms as T\n",
    "import torchvision\n",
    "import torch.nn.functional as F\n",
    "from torch.autograd import Variable\n",
    "\n",
    "from PIL import Image\n",
    "import cv2\n",
    "import albumentations as A\n",
    "\n",
    "import time\n",
    "import os\n",
    "from tqdm.notebook import tqdm\n",
    "\n",
    "#!pip install -q segmentation-models-pytorch\n",
    "#!pip install -q torchsummary\n",
    "\n",
    "from torchsummary import summary\n",
    "import segmentation_models_pytorch as smp\n",
    "\n",
    "#print(os.getenv('PATH'))\n",
    "print(torch.cuda.is_available())\n",
    "\n",
    "os.environ[\"CUDA_VISIBLE_DEVICES\"] = \"0\"\n",
    "device = torch.device(\"cuda\" if torch.cuda.is_available() else \"cpu\")\n",
    "device"
   ]
  },
  {
   "cell_type": "code",
   "execution_count": 6,
   "metadata": {},
   "outputs": [
    {
     "name": "stdout",
     "output_type": "stream",
     "text": [
      "torch version: 2.1.1+cu118\n",
      "torchvision version: 0.16.1+cu118\n"
     ]
    }
   ],
   "source": [
    "try:\n",
    "    import torch\n",
    "    import torchvision\n",
    "    print(f\"torch version: {torch.__version__}\")\n",
    "    print(f\"torchvision version: {torchvision.__version__}\")\n",
    "except:\n",
    "    print(f\"[INFO] torch/torchvision not available.\")"
   ]
  },
  {
   "cell_type": "code",
   "execution_count": 7,
   "metadata": {},
   "outputs": [
    {
     "name": "stdout",
     "output_type": "stream",
     "text": [
      "True\n",
      "0\n",
      "NVIDIA GeForce RTX 3060\n"
     ]
    }
   ],
   "source": [
    "import torch\n",
    "print(torch.cuda.is_available())  # Should return True if CUDA is available\n",
    "print(torch.cuda.current_device())  # Should return the current GPU device\n",
    "print(torch.cuda.get_device_name(0))  # Should return the name of the GPU\n"
   ]
  },
  {
   "cell_type": "code",
   "execution_count": 8,
   "metadata": {},
   "outputs": [],
   "source": [
    "import os\n",
    "import pandas as pd\n",
    "\n",
    "# Define paths to the train, valid, and test image and mask folders\n",
    "# Example usage\n",
    "main_folder = r'D:\\ML_Seagrass\\SourceData\\Oregon\\Oregon'\n",
    "\n",
    "train_image_folder = os.path.join(main_folder, 'train', 'image')\n",
    "train_mask_folder = os.path.join(main_folder, 'train', 'index')\n",
    "val_image_folder = os.path.join(main_folder, 'valid', 'image')\n",
    "val_mask_folder = os.path.join(main_folder, 'valid', 'index')\n",
    "test_image_folder = os.path.join(main_folder, 'test', 'image')\n",
    "test_mask_folder = os.path.join(main_folder, 'test', 'index')\n",
    "    \n",
    "# Function to create dataframes from the given folder structure\n",
    "def create_dataframes_from_main_folder(main_folder):\n",
    "    \n",
    "\n",
    "    # Helper function to create a dataframe from image and mask folders\n",
    "    def create_dataframe_from_folders(image_folder, mask_folder):\n",
    "        image_names = [img.split('.')[0] for img in os.listdir(image_folder) if img.endswith(('.jpg', '.png', '.jpeg'))]\n",
    "        mask_names = [mask.split('.')[0] for mask in os.listdir(mask_folder) if mask.endswith(('.jpg', '.png', '.jpeg'))]\n",
    "\n",
    "        # Ensure that the image and mask file names match\n",
    "        assert set(image_names) == set(mask_names), \"Image and mask file names do not match!\"\n",
    "\n",
    "        return pd.DataFrame({'id': image_names})\n",
    "\n",
    "    # Create dataframes for train, valid, and test sets\n",
    "    df_train = create_dataframe_from_folders(train_image_folder, train_mask_folder)\n",
    "    df_val = create_dataframe_from_folders(val_image_folder, val_mask_folder)\n",
    "    df_test = create_dataframe_from_folders(test_image_folder, test_mask_folder)\n",
    "\n",
    "    # Return dataframes\n",
    "    return df_train, df_val, df_test\n",
    "\n",
    "  # Replace with the path to your main folder\n",
    "df_train, df_val, df_test = create_dataframes_from_main_folder(main_folder)\n",
    "\n",
    "# Assign X_train, X_val, and X_test\n",
    "X_train = df_train['id'].values\n",
    "X_val = df_val['id'].values\n",
    "X_test = df_test['id'].values\n"
   ]
  },
  {
   "cell_type": "code",
   "execution_count": 9,
   "metadata": {
    "colab": {
     "base_uri": "https://localhost:8080/",
     "height": 888
    },
    "id": "wf0e_7LGpggP",
    "outputId": "8856ad38-5d4e-4b10-a11c-8494b69b46df"
   },
   "outputs": [
    {
     "name": "stdout",
     "output_type": "stream",
     "text": [
      "Image Path: D:\\ML_Seagrass\\SourceData\\Oregon\\Oregon\\valid\\image\\BA_OR_19_row10_col3.png\n",
      "Mask Path: D:\\ML_Seagrass\\SourceData\\Oregon\\Oregon\\valid\\index\\BA_OR_19_row10_col3.png\n"
     ]
    },
    {
     "data": {
      "image/png": "[encoded data removed]",
      "text/plain": [
       "<Figure size 640x480 with 1 Axes>"
      ]
     },
     "metadata": {},
     "output_type": "display_data"
    },
    {
     "data": {
      "image/png": "[encoded data removed]",
      "text/plain": [
       "<Figure size 640x480 with 1 Axes>"
      ]
     },
     "metadata": {},
     "output_type": "display_data"
    },
    {
     "name": "stdout",
     "output_type": "stream",
     "text": [
      "(512, 512, 3)\n",
      "(512, 512)\n"
     ]
    }
   ],
   "source": [
    "for idx in X_val:\n",
    "    img_path = os.path.join(val_image_folder, idx + '.png')\n",
    "    mask_path = os.path.join(val_mask_folder, idx + '.png')\n",
    "\n",
    "    \n",
    "    # Print out the file paths for debugging\n",
    "    print(\"Image Path:\", img_path)\n",
    "    print(\"Mask Path:\", mask_path)\n",
    "    \n",
    "    img = Image.open(img_path)\n",
    "    mask = Image.open(mask_path)\n",
    "    plt.imshow(img)\n",
    "    plt.show()\n",
    "    plt.imshow(mask)\n",
    "    plt.show()\n",
    "    print(np.asarray(img).shape)\n",
    "    print(np.asarray(mask).shape)\n",
    "    break"
   ]
  },
  {
   "cell_type": "code",
   "execution_count": 10,
   "metadata": {},
   "outputs": [],
   "source": [
    "from pathlib import Path\n",
    "\n",
    "class Drone_data(Dataset):\n",
    "    def __init__(self, img_path, mask_path, X, mean, std, transform=None, patch=False):\n",
    "        self.img_path = Path(img_path)\n",
    "        self.mask_path = Path(mask_path)\n",
    "        self.X = X\n",
    "        self.mean = mean\n",
    "        self.std = std\n",
    "        self.transform = transform\n",
    "        self.patch = patch\n",
    "\n",
    "    def __len__(self):\n",
    "        return len(self.X)\n",
    "\n",
    "    def __getitem__(self, idx):\n",
    "        # Create image and mask paths using pathlib\n",
    "        img_path = self.img_path / f'{self.X[idx]}.png'\n",
    "        mask_path = self.mask_path / f'{self.X[idx]}.png'\n",
    "        \n",
    "        # Read and convert the image to RGB\n",
    "        img = cv2.imread(str(img_path))\n",
    "        img = cv2.cvtColor(img, cv2.COLOR_BGR2RGB)\n",
    "        \n",
    "        # Open and convert the mask to grayscale\n",
    "        mask = Image.open(mask_path)\n",
    "        mask = mask.convert(\"L\")\n",
    "        mask = np.array(mask)\n",
    "\n",
    "        # Map mask values: 255 -> 1\n",
    "        mask = np.where(mask == 255, 1, 0).astype(np.uint8)\n",
    "\n",
    "        if self.transform is not None:\n",
    "            aug = self.transform(image=img, mask=mask)\n",
    "            img = aug['image']\n",
    "            mask = aug['mask']\n",
    "\n",
    "        # Convert image to tensor and normalize\n",
    "        t = T.Compose([T.ToTensor(), T.Normalize(self.mean, self.std)])\n",
    "        img = t(img)\n",
    "        \n",
    "        # Convert mask to a tensor\n",
    "        mask = torch.from_numpy(mask).long()\n",
    "\n",
    "        if self.patch:\n",
    "            img, mask = self.tiles(img, mask)\n",
    "\n",
    "        return img, mask\n",
    "\n",
    "    def tiles(self, img, mask):\n",
    "        # Implementation of tile extraction if needed\n",
    "        pass"
   ]
  },
  {
   "cell_type": "code",
   "execution_count": 11,
   "metadata": {
    "id": "rRd3W4Ibpqv5"
   },
   "outputs": [],
   "source": [
    "mean=[0.485, 0.456, 0.406]\n",
    "std=[0.229, 0.224, 0.225]\n",
    "\n",
    "t_train = A.Compose([A.Resize(704, 1056, interpolation=cv2.INTER_NEAREST), A.HorizontalFlip(), A.VerticalFlip(),\n",
    "                     A.GridDistortion(p=0.2), A.RandomBrightnessContrast((0,0.5),(0,0.5)),\n",
    "                     A.GaussNoise()])\n",
    "\n",
    "t_val = A.Compose([A.Resize(704, 1056, interpolation=cv2.INTER_NEAREST), A.HorizontalFlip(),\n",
    "                   A.GridDistortion(p=0.2)])\n",
    "\n",
    "#datasets\n",
    "train_set = Drone_data(train_image_folder, train_mask_folder, X_train, mean, std, t_train, patch=False)\n",
    "val_set = Drone_data(val_image_folder, val_mask_folder, X_val, mean, std, t_val, patch=False)\n",
    "\n",
    "#dataloader\n",
    "batch_size= 4\n",
    "\n",
    "train_loader = DataLoader(train_set, batch_size=batch_size, shuffle=True)\n",
    "val_loader = DataLoader(val_set, batch_size=batch_size, shuffle=True)"
   ]
  },
  {
   "cell_type": "code",
   "execution_count": 12,
   "metadata": {
    "id": "Sbi4cet3pr4s"
   },
   "outputs": [],
   "source": [
    "model = smp.Unet('mobilenet_v2', encoder_weights='imagenet', classes=2, activation=None, encoder_depth=5, decoder_channels=[256, 128, 64, 32, 16])"
   ]
  },
  {
   "cell_type": "code",
   "execution_count": 13,
   "metadata": {
    "id": "J04RHDRDpug2"
   },
   "outputs": [],
   "source": [
    "def pixel_accuracy(output, mask):\n",
    "    with torch.no_grad():\n",
    "        output = torch.argmax(F.softmax(output, dim=1), dim=1)\n",
    "        correct = torch.eq(output, mask).int()\n",
    "        accuracy = float(correct.sum()) / float(correct.numel())\n",
    "    return accuracy"
   ]
  },
  {
   "cell_type": "code",
   "execution_count": 14,
   "metadata": {
    "id": "i7C0X7c8pv-e"
   },
   "outputs": [],
   "source": [
    "def mIoU(pred_mask, mask, smooth=1e-10, n_classes=23):\n",
    "    with torch.no_grad():\n",
    "        pred_mask = F.softmax(pred_mask, dim=1)\n",
    "        pred_mask = torch.argmax(pred_mask, dim=1)\n",
    "        pred_mask = pred_mask.contiguous().view(-1)\n",
    "        mask = mask.contiguous().view(-1)\n",
    "\n",
    "        iou_per_class = []\n",
    "        for clas in range(0, n_classes): #loop per pixel class\n",
    "            true_class = pred_mask == clas\n",
    "            true_label = mask == clas\n",
    "\n",
    "            if true_label.long().sum().item() == 0: #no exist label in this loop\n",
    "                iou_per_class.append(np.nan)\n",
    "            else:\n",
    "                intersect = torch.logical_and(true_class, true_label).sum().float().item()\n",
    "                union = torch.logical_or(true_class, true_label).sum().float().item()\n",
    "\n",
    "                iou = (intersect + smooth) / (union +smooth)\n",
    "                iou_per_class.append(iou)\n",
    "        return np.nanmean(iou_per_class)"
   ]
  },
  {
   "cell_type": "code",
   "execution_count": 15,
   "metadata": {
    "id": "XIT87qSWpxoz"
   },
   "outputs": [],
   "source": [
    "def get_lr(optimizer):\n",
    "    for param_group in optimizer.param_groups:\n",
    "        return param_group['lr']"
   ]
  },
  {
   "cell_type": "code",
   "execution_count": 16,
   "metadata": {
    "id": "3xV71lNyp0MB"
   },
   "outputs": [],
   "source": [
    "def fit(epochs, model, train_loader, val_loader, criterion, optimizer, scheduler, patch=False):\n",
    "    torch.cuda.empty_cache()\n",
    "    train_losses = []\n",
    "    test_losses = []\n",
    "    val_iou = []; val_acc = []\n",
    "    train_iou = []; train_acc = []\n",
    "    lrs = []\n",
    "    min_loss = np.inf\n",
    "    decrease = 1 ; not_improve=0\n",
    "\n",
    "    model.to(device)\n",
    "    fit_time = time.time()\n",
    "    for e in range(epochs):\n",
    "        since = time.time()\n",
    "        running_loss = 0\n",
    "        iou_score = 0\n",
    "        accuracy = 0\n",
    "        #training loop\n",
    "        model.train()\n",
    "        for i, data in enumerate(tqdm(train_loader)):\n",
    "            #training phase\n",
    "            image_tiles, mask_tiles = data\n",
    "            if patch:\n",
    "                bs, n_tiles, c, h, w = image_tiles.size()\n",
    "\n",
    "                image_tiles = image_tiles.view(-1,c, h, w)\n",
    "                mask_tiles = mask_tiles.view(-1, h, w)\n",
    "\n",
    "            image = image_tiles.to(device); mask = mask_tiles.to(device);\n",
    "            #forward\n",
    "            output = model(image)\n",
    "            #output = torch.argmax(output, dim=1)\n",
    "            loss = criterion(output, mask)\n",
    "            #evaluation metrics\n",
    "            iou_score += mIoU(output, mask)\n",
    "            accuracy += pixel_accuracy(output, mask)\n",
    "            #backward\n",
    "            loss.backward()\n",
    "            optimizer.step() #update weight\n",
    "            optimizer.zero_grad() #reset gradient\n",
    "\n",
    "            #step the learning rate\n",
    "            lrs.append(get_lr(optimizer))\n",
    "            scheduler.step()\n",
    "\n",
    "            running_loss += loss.item()\n",
    "\n",
    "        else:\n",
    "            model.eval()\n",
    "            test_loss = 0\n",
    "            test_accuracy = 0\n",
    "            val_iou_score = 0\n",
    "            #validation loop\n",
    "            with torch.no_grad():\n",
    "                for i, data in enumerate(tqdm(val_loader)):\n",
    "                    #reshape to 9 patches from single image, delete batch size\n",
    "                    image_tiles, mask_tiles = data\n",
    "\n",
    "                    if patch:\n",
    "                        bs, n_tiles, c, h, w = image_tiles.size()\n",
    "\n",
    "                        image_tiles = image_tiles.view(-1,c, h, w)\n",
    "                        mask_tiles = mask_tiles.view(-1, h, w)\n",
    "\n",
    "                    image = image_tiles.to(device); mask = mask_tiles.to(device);\n",
    "                    output = model(image)\n",
    "                    #evaluation metrics\n",
    "                    val_iou_score +=  mIoU(output, mask)\n",
    "                    test_accuracy += pixel_accuracy(output, mask)\n",
    "                    #loss\n",
    "                    loss = criterion(output, mask)\n",
    "                    test_loss += loss.item()\n",
    "\n",
    "            #calculatio mean for each batch\n",
    "            train_losses.append(running_loss/len(train_loader))\n",
    "            test_losses.append(test_loss/len(val_loader))\n",
    "\n",
    "\n",
    "            if min_loss > (test_loss/len(val_loader)):\n",
    "                print('Loss Decreasing.. {:.3f} >> {:.3f} '.format(min_loss, (test_loss/len(val_loader))))\n",
    "                min_loss = (test_loss/len(val_loader))\n",
    "                decrease += 1\n",
    "                if decrease % 5 == 0:\n",
    "                    print('saving model...')\n",
    "                    torch.save(model, 'Unet-Mobilenet_v2_mIoU-{:.3f}.pt'.format(val_iou_score/len(val_loader)))\n",
    "\n",
    "\n",
    "            if (test_loss/len(val_loader)) > min_loss:\n",
    "                not_improve += 1\n",
    "                min_loss = (test_loss/len(val_loader))\n",
    "                print(f'Loss Not Decrease for {not_improve} time')\n",
    "                if not_improve == 7:\n",
    "                    print('Loss not decrease for 7 times, Stop Training')\n",
    "                    break\n",
    "\n",
    "            #iou\n",
    "            val_iou.append(val_iou_score/len(val_loader))\n",
    "            train_iou.append(iou_score/len(train_loader))\n",
    "            train_acc.append(accuracy/len(train_loader))\n",
    "            val_acc.append(test_accuracy/ len(val_loader))\n",
    "            print(\"Epoch:{}/{}..\".format(e+1, epochs),\n",
    "                  \"Train Loss: {:.3f}..\".format(running_loss/len(train_loader)),\n",
    "                  \"Val Loss: {:.3f}..\".format(test_loss/len(val_loader)),\n",
    "                  \"Train mIoU:{:.3f}..\".format(iou_score/len(train_loader)),\n",
    "                  \"Val mIoU: {:.3f}..\".format(val_iou_score/len(val_loader)),\n",
    "                  \"Train Acc:{:.3f}..\".format(accuracy/len(train_loader)),\n",
    "                  \"Val Acc:{:.3f}..\".format(test_accuracy/len(val_loader)),\n",
    "                  \"Time: {:.2f}m\".format((time.time()-since)/60))\n",
    "\n",
    "    history = {'train_loss' : train_losses, 'val_loss': test_losses,\n",
    "               'train_miou' :train_iou, 'val_miou':val_iou,\n",
    "               'train_acc' :train_acc, 'val_acc':val_acc,\n",
    "               'lrs': lrs}\n",
    "    \n",
    "    total_time_minutes = (time.time() - fit_time) / 60\n",
    "\n",
    "    # Print the total time\n",
    "    print('Total time: {:.2f} m'.format(total_time_minutes))\n",
    "\n",
    "    #print('Total time: {:.2f} m' .format((time.time()- fit_time)/60))\n",
    "    return history"
   ]
  },
  {
   "cell_type": "code",
   "execution_count": 17,
   "metadata": {},
   "outputs": [],
   "source": [
    "torch.cuda.empty_cache()"
   ]
  },
  {
   "cell_type": "code",
   "execution_count": 18,
   "metadata": {},
   "outputs": [
    {
     "name": "stdout",
     "output_type": "stream",
     "text": [
      "Sun Oct 20 11:54:06 2024       \n",
      "+-----------------------------------------------------------------------------------------+\n",
      "| NVIDIA-SMI 556.12                 Driver Version: 556.12         CUDA Version: 12.5     |\n",
      "|-----------------------------------------+------------------------+----------------------+\n",
      "| GPU  Name                  Driver-Model | Bus-Id          Disp.A | Volatile Uncorr. ECC |\n",
      "| Fan  Temp   Perf          Pwr:Usage/Cap |           Memory-Usage | GPU-Util  Compute M. |\n",
      "|                                         |                        |               MIG M. |\n",
      "|=========================================+========================+======================|\n",
      "|   0  NVIDIA GeForce RTX 3060      WDDM  |   00000000:01:00.0  On |                  N/A |\n",
      "| 37%   36C    P8             11W /  170W |     575MiB /  12288MiB |     17%      Default |\n",
      "|                                         |                        |                  N/A |\n",
      "+-----------------------------------------+------------------------+----------------------+\n",
      "                                                                                         \n",
      "+-----------------------------------------------------------------------------------------+\n",
      "| Processes:                                                                              |\n",
      "|  GPU   GI   CI        PID   Type   Process name                              GPU Memory |\n",
      "|        ID   ID                                                               Usage      |\n",
      "|=========================================================================================|\n",
      "|    0   N/A  N/A      2336    C+G   ...siveControlPanel\\SystemSettings.exe      N/A      |\n",
      "|    0   N/A  N/A      3104    C+G   C:\\Windows\\explorer.exe                     N/A      |\n",
      "|    0   N/A  N/A      5512    C+G   ...ne\\Binaries\\Win64\\EpicWebHelper.exe      N/A      |\n",
      "|    0   N/A  N/A      7980    C+G   ...CBS_cw5n1h2txyewy\\TextInputHost.exe      N/A      |\n",
      "|    0   N/A  N/A      8000    C+G   ...5n1h2txyewy\\ShellExperienceHost.exe      N/A      |\n",
      "|    0   N/A  N/A      8888    C+G   ....Search_cw5n1h2txyewy\\SearchApp.exe      N/A      |\n",
      "|    0   N/A  N/A      9240    C+G   ...2txyewy\\StartMenuExperienceHost.exe      N/A      |\n",
      "|    0   N/A  N/A      9300    C+G   ...e Stream\\98.0.0.0\\GoogleDriveFS.exe      N/A      |\n",
      "|    0   N/A  N/A      9620    C+G   ....Search_cw5n1h2txyewy\\SearchApp.exe      N/A      |\n",
      "|    0   N/A  N/A     10364    C+G   ...1.0_x64__8wekyb3d8bbwe\\Video.UI.exe      N/A      |\n",
      "|    0   N/A  N/A     10716    C+G   ...Programs\\Microsoft VS Code\\Code.exe      N/A      |\n",
      "|    0   N/A  N/A     10984    C+G   ...oogle\\Chrome\\Application\\chrome.exe      N/A      |\n",
      "|    0   N/A  N/A     11708    C+G   ...inaries\\Win64\\EpicGamesLauncher.exe      N/A      |\n",
      "|    0   N/A  N/A     11748    C+G   ...05.0_x64__8wekyb3d8bbwe\\Cortana.exe      N/A      |\n",
      "|    0   N/A  N/A     11988    C+G   ...\\cef\\cef.win7x64\\steamwebhelper.exe      N/A      |\n",
      "|    0   N/A  N/A     13636    C+G   ...\\cef\\cef.win7x64\\steamwebhelper.exe      N/A      |\n",
      "|    0   N/A  N/A     15784    C+G   C:\\Program Files\\RustDesk\\rustdesk.exe      N/A      |\n",
      "|    0   N/A  N/A     17788    C+G   ...oogle\\Chrome\\Application\\chrome.exe      N/A      |\n",
      "|    0   N/A  N/A     19192    C+G   ...cal\\Microsoft\\OneDrive\\OneDrive.exe      N/A      |\n",
      "+-----------------------------------------------------------------------------------------+\n",
      "\n"
     ]
    }
   ],
   "source": [
    "import subprocess\n",
    "\n",
    "def check_gpu_memory():\n",
    "    result = subprocess.run(['nvidia-smi'], stdout=subprocess.PIPE)\n",
    "    print(result.stdout.decode('utf-8'))\n",
    "\n",
    "check_gpu_memory()"
   ]
  },
  {
   "cell_type": "code",
   "execution_count": 19,
   "metadata": {
    "colab": {
     "base_uri": "https://localhost:8080/",
     "height": 49,
     "referenced_widgets": [
      "7c1f12cb1ab847249bb4280c54b564cb",
      "19d6d94b89704a269debe53bb709576d",
      "d4f923059c214d2a8aa3fd74ef0b0b38",
      "be620ffd47314ef3b9e071b5f1eca94c",
      "163f38a04bda46ee92bb147e7d5faa80",
      "1a19a3eae622461585e820b2fb93316c",
      "66a3ea8eb4f24f50b8e82fb9f25e3bcd",
      "0d48ded90abf4b10b0ce4a023cedc338",
      "4907a67a924f4daea078544b5a929188",
      "110ee953de00408389437603ab9cbd15",
      "4fc823b122304890af9cb927f3f8afef"
     ]
    },
    "id": "58OHqNi0p2iv",
    "outputId": "21a4592b-8670-4713-e9b2-cd77b9969706"
   },
   "outputs": [
    {
     "data": {
      "application/vnd.jupyter.widget-view+json": {
       "model_id": "f7db855a454e4b4d9b94bdc60d10b29d",
       "version_major": 2,
       "version_minor": 0
      },
      "text/plain": [
       "  0%|          | 0/517 [00:00<?, ?it/s]"
      ]
     },
     "metadata": {},
     "output_type": "display_data"
    },
    {
     "data": {
      "application/vnd.jupyter.widget-view+json": {
       "model_id": "ad517543a020460a989a9f5bccf110f9",
       "version_major": 2,
       "version_minor": 0
      },
      "text/plain": [
       "  0%|          | 0/148 [00:00<?, ?it/s]"
      ]
     },
     "metadata": {},
     "output_type": "display_data"
    },
    {
     "name": "stdout",
     "output_type": "stream",
     "text": [
      "Loss Decreasing.. inf >> 0.846 \n",
      "Epoch:1/20.. Train Loss: 0.713.. Val Loss: 0.846.. Train mIoU:0.429.. Val mIoU: 0.459.. Train Acc:0.605.. Val Acc:0.647.. Time: 8.38m\n"
     ]
    },
    {
     "data": {
      "application/vnd.jupyter.widget-view+json": {
       "model_id": "ee199c2982f246698e9c7d423f205020",
       "version_major": 2,
       "version_minor": 0
      },
      "text/plain": [
       "  0%|          | 0/517 [00:00<?, ?it/s]"
      ]
     },
     "metadata": {},
     "output_type": "display_data"
    },
    {
     "data": {
      "application/vnd.jupyter.widget-view+json": {
       "model_id": "e1f31da66b4e45178a4a3ef1469a8b0c",
       "version_major": 2,
       "version_minor": 0
      },
      "text/plain": [
       "  0%|          | 0/148 [00:00<?, ?it/s]"
      ]
     },
     "metadata": {},
     "output_type": "display_data"
    },
    {
     "name": "stdout",
     "output_type": "stream",
     "text": [
      "Loss Decreasing.. 0.846 >> 0.646 \n",
      "Epoch:2/20.. Train Loss: 0.603.. Val Loss: 0.646.. Train mIoU:0.506.. Val mIoU: 0.490.. Train Acc:0.677.. Val Acc:0.676.. Time: 6.86m\n"
     ]
    },
    {
     "data": {
      "application/vnd.jupyter.widget-view+json": {
       "model_id": "9074c72409fa42d2aba0514907dd1d30",
       "version_major": 2,
       "version_minor": 0
      },
      "text/plain": [
       "  0%|          | 0/517 [00:00<?, ?it/s]"
      ]
     },
     "metadata": {},
     "output_type": "display_data"
    },
    {
     "data": {
      "application/vnd.jupyter.widget-view+json": {
       "model_id": "6fda097075974ad4ac1c3d020dfcbfe2",
       "version_major": 2,
       "version_minor": 0
      },
      "text/plain": [
       "  0%|          | 0/148 [00:00<?, ?it/s]"
      ]
     },
     "metadata": {},
     "output_type": "display_data"
    },
    {
     "name": "stdout",
     "output_type": "stream",
     "text": [
      "Loss Decreasing.. 0.646 >> 0.627 \n",
      "Epoch:3/20.. Train Loss: 0.560.. Val Loss: 0.627.. Train mIoU:0.552.. Val mIoU: 0.524.. Train Acc:0.713.. Val Acc:0.707.. Time: 6.88m\n"
     ]
    },
    {
     "data": {
      "application/vnd.jupyter.widget-view+json": {
       "model_id": "86bb22230067484eafaff9dd8aecb5e8",
       "version_major": 2,
       "version_minor": 0
      },
      "text/plain": [
       "  0%|          | 0/517 [00:00<?, ?it/s]"
      ]
     },
     "metadata": {},
     "output_type": "display_data"
    },
    {
     "data": {
      "application/vnd.jupyter.widget-view+json": {
       "model_id": "9dd907feb10e4c069449256977828324",
       "version_major": 2,
       "version_minor": 0
      },
      "text/plain": [
       "  0%|          | 0/148 [00:00<?, ?it/s]"
      ]
     },
     "metadata": {},
     "output_type": "display_data"
    },
    {
     "name": "stdout",
     "output_type": "stream",
     "text": [
      "Loss Decreasing.. 0.627 >> 0.503 \n",
      "saving model...\n",
      "Epoch:4/20.. Train Loss: 0.536.. Val Loss: 0.503.. Train mIoU:0.576.. Val mIoU: 0.594.. Train Acc:0.733.. Val Acc:0.762.. Time: 6.90m\n"
     ]
    },
    {
     "data": {
      "application/vnd.jupyter.widget-view+json": {
       "model_id": "a0b98de93f0341ff97d2c0f1eda734d3",
       "version_major": 2,
       "version_minor": 0
      },
      "text/plain": [
       "  0%|          | 0/517 [00:00<?, ?it/s]"
      ]
     },
     "metadata": {},
     "output_type": "display_data"
    },
    {
     "data": {
      "application/vnd.jupyter.widget-view+json": {
       "model_id": "3a6c225ab13d4efb8b7ef52e3e035212",
       "version_major": 2,
       "version_minor": 0
      },
      "text/plain": [
       "  0%|          | 0/148 [00:00<?, ?it/s]"
      ]
     },
     "metadata": {},
     "output_type": "display_data"
    },
    {
     "name": "stdout",
     "output_type": "stream",
     "text": [
      "Loss Decreasing.. 0.503 >> 0.477 \n",
      "Epoch:5/20.. Train Loss: 0.523.. Val Loss: 0.477.. Train mIoU:0.586.. Val mIoU: 0.608.. Train Acc:0.741.. Val Acc:0.776.. Time: 7.05m\n"
     ]
    },
    {
     "data": {
      "application/vnd.jupyter.widget-view+json": {
       "model_id": "1535d61bc6704895aa64fe7e5093c5e7",
       "version_major": 2,
       "version_minor": 0
      },
      "text/plain": [
       "  0%|          | 0/517 [00:00<?, ?it/s]"
      ]
     },
     "metadata": {},
     "output_type": "display_data"
    },
    {
     "data": {
      "application/vnd.jupyter.widget-view+json": {
       "model_id": "2b99cf9c3df64d0f85b09364d8ada1fe",
       "version_major": 2,
       "version_minor": 0
      },
      "text/plain": [
       "  0%|          | 0/148 [00:00<?, ?it/s]"
      ]
     },
     "metadata": {},
     "output_type": "display_data"
    },
    {
     "name": "stdout",
     "output_type": "stream",
     "text": [
      "Loss Decreasing.. 0.477 >> 0.474 \n",
      "Epoch:6/20.. Train Loss: 0.515.. Val Loss: 0.474.. Train mIoU:0.594.. Val mIoU: 0.614.. Train Acc:0.748.. Val Acc:0.778.. Time: 7.00m\n"
     ]
    },
    {
     "data": {
      "application/vnd.jupyter.widget-view+json": {
       "model_id": "a4d63bd224184bd8ad7eafa688fc2169",
       "version_major": 2,
       "version_minor": 0
      },
      "text/plain": [
       "  0%|          | 0/517 [00:00<?, ?it/s]"
      ]
     },
     "metadata": {},
     "output_type": "display_data"
    },
    {
     "data": {
      "application/vnd.jupyter.widget-view+json": {
       "model_id": "538ceee688434a148d30db3a6965d783",
       "version_major": 2,
       "version_minor": 0
      },
      "text/plain": [
       "  0%|          | 0/148 [00:00<?, ?it/s]"
      ]
     },
     "metadata": {},
     "output_type": "display_data"
    },
    {
     "name": "stdout",
     "output_type": "stream",
     "text": [
      "Loss Not Decrease for 1 time\n",
      "Epoch:7/20.. Train Loss: 0.499.. Val Loss: 0.511.. Train mIoU:0.611.. Val mIoU: 0.574.. Train Acc:0.761.. Val Acc:0.753.. Time: 6.98m\n"
     ]
    },
    {
     "data": {
      "application/vnd.jupyter.widget-view+json": {
       "model_id": "b6274c1656ed4099a9f1b71e82678196",
       "version_major": 2,
       "version_minor": 0
      },
      "text/plain": [
       "  0%|          | 0/517 [00:00<?, ?it/s]"
      ]
     },
     "metadata": {},
     "output_type": "display_data"
    },
    {
     "data": {
      "application/vnd.jupyter.widget-view+json": {
       "model_id": "c915ecd062e14d05889728845c4ae02b",
       "version_major": 2,
       "version_minor": 0
      },
      "text/plain": [
       "  0%|          | 0/148 [00:00<?, ?it/s]"
      ]
     },
     "metadata": {},
     "output_type": "display_data"
    },
    {
     "name": "stdout",
     "output_type": "stream",
     "text": [
      "Loss Decreasing.. 0.511 >> 0.474 \n",
      "Epoch:8/20.. Train Loss: 0.495.. Val Loss: 0.474.. Train mIoU:0.612.. Val mIoU: 0.628.. Train Acc:0.762.. Val Acc:0.792.. Time: 6.98m\n"
     ]
    },
    {
     "data": {
      "application/vnd.jupyter.widget-view+json": {
       "model_id": "c511845781ed4ce29adf716d7b04ea60",
       "version_major": 2,
       "version_minor": 0
      },
      "text/plain": [
       "  0%|          | 0/517 [00:00<?, ?it/s]"
      ]
     },
     "metadata": {},
     "output_type": "display_data"
    },
    {
     "data": {
      "application/vnd.jupyter.widget-view+json": {
       "model_id": "997da27d0df54260a58c9d11d85979af",
       "version_major": 2,
       "version_minor": 0
      },
      "text/plain": [
       "  0%|          | 0/148 [00:00<?, ?it/s]"
      ]
     },
     "metadata": {},
     "output_type": "display_data"
    },
    {
     "name": "stdout",
     "output_type": "stream",
     "text": [
      "Loss Not Decrease for 2 time\n",
      "Epoch:9/20.. Train Loss: 0.480.. Val Loss: 0.499.. Train mIoU:0.623.. Val mIoU: 0.580.. Train Acc:0.773.. Val Acc:0.745.. Time: 6.97m\n"
     ]
    },
    {
     "data": {
      "application/vnd.jupyter.widget-view+json": {
       "model_id": "9ba5e207600e42dda2f05876cb04d26f",
       "version_major": 2,
       "version_minor": 0
      },
      "text/plain": [
       "  0%|          | 0/517 [00:00<?, ?it/s]"
      ]
     },
     "metadata": {},
     "output_type": "display_data"
    },
    {
     "data": {
      "application/vnd.jupyter.widget-view+json": {
       "model_id": "093d5d7b96c54f89ab717f20f3a154c9",
       "version_major": 2,
       "version_minor": 0
      },
      "text/plain": [
       "  0%|          | 0/148 [00:00<?, ?it/s]"
      ]
     },
     "metadata": {},
     "output_type": "display_data"
    },
    {
     "name": "stdout",
     "output_type": "stream",
     "text": [
      "Loss Decreasing.. 0.499 >> 0.478 \n",
      "Epoch:10/20.. Train Loss: 0.480.. Val Loss: 0.478.. Train mIoU:0.618.. Val mIoU: 0.629.. Train Acc:0.769.. Val Acc:0.784.. Time: 6.99m\n"
     ]
    },
    {
     "data": {
      "application/vnd.jupyter.widget-view+json": {
       "model_id": "7dff3adfaea146b5a0a4c8b87f65f9b6",
       "version_major": 2,
       "version_minor": 0
      },
      "text/plain": [
       "  0%|          | 0/517 [00:00<?, ?it/s]"
      ]
     },
     "metadata": {},
     "output_type": "display_data"
    },
    {
     "data": {
      "application/vnd.jupyter.widget-view+json": {
       "model_id": "4cc08e711ad54681a63a16ce838dd019",
       "version_major": 2,
       "version_minor": 0
      },
      "text/plain": [
       "  0%|          | 0/148 [00:00<?, ?it/s]"
      ]
     },
     "metadata": {},
     "output_type": "display_data"
    },
    {
     "name": "stdout",
     "output_type": "stream",
     "text": [
      "Loss Not Decrease for 3 time\n",
      "Epoch:11/20.. Train Loss: 0.468.. Val Loss: 0.505.. Train mIoU:0.630.. Val mIoU: 0.630.. Train Acc:0.779.. Val Acc:0.789.. Time: 7.09m\n"
     ]
    },
    {
     "data": {
      "application/vnd.jupyter.widget-view+json": {
       "model_id": "dc2ce7c0e66344d0bd4e6057e32f45d2",
       "version_major": 2,
       "version_minor": 0
      },
      "text/plain": [
       "  0%|          | 0/517 [00:00<?, ?it/s]"
      ]
     },
     "metadata": {},
     "output_type": "display_data"
    },
    {
     "data": {
      "application/vnd.jupyter.widget-view+json": {
       "model_id": "972cd959362046d097dd4e1c998e0b2e",
       "version_major": 2,
       "version_minor": 0
      },
      "text/plain": [
       "  0%|          | 0/148 [00:00<?, ?it/s]"
      ]
     },
     "metadata": {},
     "output_type": "display_data"
    },
    {
     "name": "stdout",
     "output_type": "stream",
     "text": [
      "Loss Decreasing.. 0.505 >> 0.457 \n",
      "saving model...\n",
      "Epoch:12/20.. Train Loss: 0.463.. Val Loss: 0.457.. Train mIoU:0.635.. Val mIoU: 0.641.. Train Acc:0.784.. Val Acc:0.801.. Time: 7.04m\n"
     ]
    },
    {
     "data": {
      "application/vnd.jupyter.widget-view+json": {
       "model_id": "3bfd3b7606e34a49a1eab8afe8357c1f",
       "version_major": 2,
       "version_minor": 0
      },
      "text/plain": [
       "  0%|          | 0/517 [00:00<?, ?it/s]"
      ]
     },
     "metadata": {},
     "output_type": "display_data"
    },
    {
     "data": {
      "application/vnd.jupyter.widget-view+json": {
       "model_id": "6a39a66fb7434d38942975ee81582f6e",
       "version_major": 2,
       "version_minor": 0
      },
      "text/plain": [
       "  0%|          | 0/148 [00:00<?, ?it/s]"
      ]
     },
     "metadata": {},
     "output_type": "display_data"
    },
    {
     "name": "stdout",
     "output_type": "stream",
     "text": [
      "Loss Not Decrease for 4 time\n",
      "Epoch:13/20.. Train Loss: 0.453.. Val Loss: 0.486.. Train mIoU:0.640.. Val mIoU: 0.635.. Train Acc:0.788.. Val Acc:0.794.. Time: 7.02m\n"
     ]
    },
    {
     "data": {
      "application/vnd.jupyter.widget-view+json": {
       "model_id": "71ad69e0b3b0465fb50f38ab22fd98bd",
       "version_major": 2,
       "version_minor": 0
      },
      "text/plain": [
       "  0%|          | 0/517 [00:00<?, ?it/s]"
      ]
     },
     "metadata": {},
     "output_type": "display_data"
    },
    {
     "data": {
      "application/vnd.jupyter.widget-view+json": {
       "model_id": "2c386c194536484793addf4b67484afa",
       "version_major": 2,
       "version_minor": 0
      },
      "text/plain": [
       "  0%|          | 0/148 [00:00<?, ?it/s]"
      ]
     },
     "metadata": {},
     "output_type": "display_data"
    },
    {
     "name": "stdout",
     "output_type": "stream",
     "text": [
      "Loss Decreasing.. 0.486 >> 0.437 \n",
      "Epoch:14/20.. Train Loss: 0.448.. Val Loss: 0.437.. Train mIoU:0.641.. Val mIoU: 0.639.. Train Acc:0.789.. Val Acc:0.803.. Time: 7.02m\n"
     ]
    },
    {
     "data": {
      "application/vnd.jupyter.widget-view+json": {
       "model_id": "728d3312a69b4212a9013cb164a74533",
       "version_major": 2,
       "version_minor": 0
      },
      "text/plain": [
       "  0%|          | 0/517 [00:00<?, ?it/s]"
      ]
     },
     "metadata": {},
     "output_type": "display_data"
    },
    {
     "data": {
      "application/vnd.jupyter.widget-view+json": {
       "model_id": "9da14e0227924e23a02909e3e4255574",
       "version_major": 2,
       "version_minor": 0
      },
      "text/plain": [
       "  0%|          | 0/148 [00:00<?, ?it/s]"
      ]
     },
     "metadata": {},
     "output_type": "display_data"
    },
    {
     "name": "stdout",
     "output_type": "stream",
     "text": [
      "Loss Not Decrease for 5 time\n",
      "Epoch:15/20.. Train Loss: 0.443.. Val Loss: 0.441.. Train mIoU:0.650.. Val mIoU: 0.649.. Train Acc:0.794.. Val Acc:0.806.. Time: 7.03m\n"
     ]
    },
    {
     "data": {
      "application/vnd.jupyter.widget-view+json": {
       "model_id": "8385853383de43e1b560ed0526c771c3",
       "version_major": 2,
       "version_minor": 0
      },
      "text/plain": [
       "  0%|          | 0/517 [00:00<?, ?it/s]"
      ]
     },
     "metadata": {},
     "output_type": "display_data"
    },
    {
     "data": {
      "application/vnd.jupyter.widget-view+json": {
       "model_id": "d6cff793a09e4e9a960c4d77f4663c08",
       "version_major": 2,
       "version_minor": 0
      },
      "text/plain": [
       "  0%|          | 0/148 [00:00<?, ?it/s]"
      ]
     },
     "metadata": {},
     "output_type": "display_data"
    },
    {
     "name": "stdout",
     "output_type": "stream",
     "text": [
      "Loss Not Decrease for 6 time\n",
      "Epoch:16/20.. Train Loss: 0.439.. Val Loss: 0.441.. Train mIoU:0.649.. Val mIoU: 0.645.. Train Acc:0.797.. Val Acc:0.806.. Time: 7.06m\n"
     ]
    },
    {
     "data": {
      "application/vnd.jupyter.widget-view+json": {
       "model_id": "47370b73d2e640879fb95b5baadf0a60",
       "version_major": 2,
       "version_minor": 0
      },
      "text/plain": [
       "  0%|          | 0/517 [00:00<?, ?it/s]"
      ]
     },
     "metadata": {},
     "output_type": "display_data"
    },
    {
     "data": {
      "application/vnd.jupyter.widget-view+json": {
       "model_id": "914e6aeb6a734d5aa0f5cbd83f61b33b",
       "version_major": 2,
       "version_minor": 0
      },
      "text/plain": [
       "  0%|          | 0/148 [00:00<?, ?it/s]"
      ]
     },
     "metadata": {},
     "output_type": "display_data"
    },
    {
     "name": "stdout",
     "output_type": "stream",
     "text": [
      "Loss Decreasing.. 0.441 >> 0.438 \n",
      "Epoch:17/20.. Train Loss: 0.435.. Val Loss: 0.438.. Train mIoU:0.654.. Val mIoU: 0.648.. Train Acc:0.799.. Val Acc:0.807.. Time: 7.00m\n"
     ]
    },
    {
     "data": {
      "application/vnd.jupyter.widget-view+json": {
       "model_id": "ea4df9f80d8d42169fe50d6564bcf4a8",
       "version_major": 2,
       "version_minor": 0
      },
      "text/plain": [
       "  0%|          | 0/517 [00:00<?, ?it/s]"
      ]
     },
     "metadata": {},
     "output_type": "display_data"
    },
    {
     "data": {
      "application/vnd.jupyter.widget-view+json": {
       "model_id": "850bd9a63fb24bf185c6e3ae5c384bf1",
       "version_major": 2,
       "version_minor": 0
      },
      "text/plain": [
       "  0%|          | 0/148 [00:00<?, ?it/s]"
      ]
     },
     "metadata": {},
     "output_type": "display_data"
    },
    {
     "name": "stdout",
     "output_type": "stream",
     "text": [
      "Loss Decreasing.. 0.438 >> 0.430 \n",
      "Epoch:18/20.. Train Loss: 0.431.. Val Loss: 0.430.. Train mIoU:0.655.. Val mIoU: 0.656.. Train Acc:0.801.. Val Acc:0.807.. Time: 6.99m\n"
     ]
    },
    {
     "data": {
      "application/vnd.jupyter.widget-view+json": {
       "model_id": "fd7557b8c570406cbf845e6ce8c92c96",
       "version_major": 2,
       "version_minor": 0
      },
      "text/plain": [
       "  0%|          | 0/517 [00:00<?, ?it/s]"
      ]
     },
     "metadata": {},
     "output_type": "display_data"
    },
    {
     "data": {
      "application/vnd.jupyter.widget-view+json": {
       "model_id": "95600fe91e5d4da8a3967a3a529ee792",
       "version_major": 2,
       "version_minor": 0
      },
      "text/plain": [
       "  0%|          | 0/148 [00:00<?, ?it/s]"
      ]
     },
     "metadata": {},
     "output_type": "display_data"
    },
    {
     "name": "stdout",
     "output_type": "stream",
     "text": [
      "Loss Not Decrease for 7 time\n",
      "Loss not decrease for 7 times, Stop Training\n",
      "Total time: 134.29 m\n"
     ]
    }
   ],
   "source": [
    "max_lr = 1e-4\n",
    "epoch = 20\n",
    "weight_decay = 1e-4\n",
    "\n",
    "criterion = nn.CrossEntropyLoss()\n",
    "optimizer = torch.optim.AdamW(model.parameters(), lr=max_lr, weight_decay=weight_decay)\n",
    "sched = torch.optim.lr_scheduler.OneCycleLR(optimizer, max_lr, epochs=epoch,\n",
    "                                            steps_per_epoch=len(train_loader))\n",
    "\n",
    "history = fit(epoch, model, train_loader, val_loader, criterion, optimizer, sched)\n",
    "\n",
    "torch.save(model, 'Unet-mobilenet2-batchsize4-OR_lr-4.pt')"
   ]
  },
  {
   "cell_type": "code",
   "execution_count": 20,
   "metadata": {},
   "outputs": [
    {
     "data": {
      "text/plain": [
       "Unet(\n",
       "  (encoder): MobileNetV2Encoder(\n",
       "    (features): Sequential(\n",
       "      (0): Conv2dNormActivation(\n",
       "        (0): Conv2d(3, 32, kernel_size=(3, 3), stride=(2, 2), padding=(1, 1), bias=False)\n",
       "        (1): BatchNorm2d(32, eps=1e-05, momentum=0.1, affine=True, track_running_stats=True)\n",
       "        (2): ReLU6(inplace=True)\n",
       "      )\n",
       "      (1): InvertedResidual(\n",
       "        (conv): Sequential(\n",
       "          (0): Conv2dNormActivation(\n",
       "            (0): Conv2d(32, 32, kernel_size=(3, 3), stride=(1, 1), padding=(1, 1), groups=32, bias=False)\n",
       "            (1): BatchNorm2d(32, eps=1e-05, momentum=0.1, affine=True, track_running_stats=True)\n",
       "            (2): ReLU6(inplace=True)\n",
       "          )\n",
       "          (1): Conv2d(32, 16, kernel_size=(1, 1), stride=(1, 1), bias=False)\n",
       "          (2): BatchNorm2d(16, eps=1e-05, momentum=0.1, affine=True, track_running_stats=True)\n",
       "        )\n",
       "      )\n",
       "      (2): InvertedResidual(\n",
       "        (conv): Sequential(\n",
       "          (0): Conv2dNormActivation(\n",
       "            (0): Conv2d(16, 96, kernel_size=(1, 1), stride=(1, 1), bias=False)\n",
       "            (1): BatchNorm2d(96, eps=1e-05, momentum=0.1, affine=True, track_running_stats=True)\n",
       "            (2): ReLU6(inplace=True)\n",
       "          )\n",
       "          (1): Conv2dNormActivation(\n",
       "            (0): Conv2d(96, 96, kernel_size=(3, 3), stride=(2, 2), padding=(1, 1), groups=96, bias=False)\n",
       "            (1): BatchNorm2d(96, eps=1e-05, momentum=0.1, affine=True, track_running_stats=True)\n",
       "            (2): ReLU6(inplace=True)\n",
       "          )\n",
       "          (2): Conv2d(96, 24, kernel_size=(1, 1), stride=(1, 1), bias=False)\n",
       "          (3): BatchNorm2d(24, eps=1e-05, momentum=0.1, affine=True, track_running_stats=True)\n",
       "        )\n",
       "      )\n",
       "      (3): InvertedResidual(\n",
       "        (conv): Sequential(\n",
       "          (0): Conv2dNormActivation(\n",
       "            (0): Conv2d(24, 144, kernel_size=(1, 1), stride=(1, 1), bias=False)\n",
       "            (1): BatchNorm2d(144, eps=1e-05, momentum=0.1, affine=True, track_running_stats=True)\n",
       "            (2): ReLU6(inplace=True)\n",
       "          )\n",
       "          (1): Conv2dNormActivation(\n",
       "            (0): Conv2d(144, 144, kernel_size=(3, 3), stride=(1, 1), padding=(1, 1), groups=144, bias=False)\n",
       "            (1): BatchNorm2d(144, eps=1e-05, momentum=0.1, affine=True, track_running_stats=True)\n",
       "            (2): ReLU6(inplace=True)\n",
       "          )\n",
       "          (2): Conv2d(144, 24, kernel_size=(1, 1), stride=(1, 1), bias=False)\n",
       "          (3): BatchNorm2d(24, eps=1e-05, momentum=0.1, affine=True, track_running_stats=True)\n",
       "        )\n",
       "      )\n",
       "      (4): InvertedResidual(\n",
       "        (conv): Sequential(\n",
       "          (0): Conv2dNormActivation(\n",
       "            (0): Conv2d(24, 144, kernel_size=(1, 1), stride=(1, 1), bias=False)\n",
       "            (1): BatchNorm2d(144, eps=1e-05, momentum=0.1, affine=True, track_running_stats=True)\n",
       "            (2): ReLU6(inplace=True)\n",
       "          )\n",
       "          (1): Conv2dNormActivation(\n",
       "            (0): Conv2d(144, 144, kernel_size=(3, 3), stride=(2, 2), padding=(1, 1), groups=144, bias=False)\n",
       "            (1): BatchNorm2d(144, eps=1e-05, momentum=0.1, affine=True, track_running_stats=True)\n",
       "            (2): ReLU6(inplace=True)\n",
       "          )\n",
       "          (2): Conv2d(144, 32, kernel_size=(1, 1), stride=(1, 1), bias=False)\n",
       "          (3): BatchNorm2d(32, eps=1e-05, momentum=0.1, affine=True, track_running_stats=True)\n",
       "        )\n",
       "      )\n",
       "      (5): InvertedResidual(\n",
       "        (conv): Sequential(\n",
       "          (0): Conv2dNormActivation(\n",
       "            (0): Conv2d(32, 192, kernel_size=(1, 1), stride=(1, 1), bias=False)\n",
       "            (1): BatchNorm2d(192, eps=1e-05, momentum=0.1, affine=True, track_running_stats=True)\n",
       "            (2): ReLU6(inplace=True)\n",
       "          )\n",
       "          (1): Conv2dNormActivation(\n",
       "            (0): Conv2d(192, 192, kernel_size=(3, 3), stride=(1, 1), padding=(1, 1), groups=192, bias=False)\n",
       "            (1): BatchNorm2d(192, eps=1e-05, momentum=0.1, affine=True, track_running_stats=True)\n",
       "            (2): ReLU6(inplace=True)\n",
       "          )\n",
       "          (2): Conv2d(192, 32, kernel_size=(1, 1), stride=(1, 1), bias=False)\n",
       "          (3): BatchNorm2d(32, eps=1e-05, momentum=0.1, affine=True, track_running_stats=True)\n",
       "        )\n",
       "      )\n",
       "      (6): InvertedResidual(\n",
       "        (conv): Sequential(\n",
       "          (0): Conv2dNormActivation(\n",
       "            (0): Conv2d(32, 192, kernel_size=(1, 1), stride=(1, 1), bias=False)\n",
       "            (1): BatchNorm2d(192, eps=1e-05, momentum=0.1, affine=True, track_running_stats=True)\n",
       "            (2): ReLU6(inplace=True)\n",
       "          )\n",
       "          (1): Conv2dNormActivation(\n",
       "            (0): Conv2d(192, 192, kernel_size=(3, 3), stride=(1, 1), padding=(1, 1), groups=192, bias=False)\n",
       "            (1): BatchNorm2d(192, eps=1e-05, momentum=0.1, affine=True, track_running_stats=True)\n",
       "            (2): ReLU6(inplace=True)\n",
       "          )\n",
       "          (2): Conv2d(192, 32, kernel_size=(1, 1), stride=(1, 1), bias=False)\n",
       "          (3): BatchNorm2d(32, eps=1e-05, momentum=0.1, affine=True, track_running_stats=True)\n",
       "        )\n",
       "      )\n",
       "      (7): InvertedResidual(\n",
       "        (conv): Sequential(\n",
       "          (0): Conv2dNormActivation(\n",
       "            (0): Conv2d(32, 192, kernel_size=(1, 1), stride=(1, 1), bias=False)\n",
       "            (1): BatchNorm2d(192, eps=1e-05, momentum=0.1, affine=True, track_running_stats=True)\n",
       "            (2): ReLU6(inplace=True)\n",
       "          )\n",
       "          (1): Conv2dNormActivation(\n",
       "            (0): Conv2d(192, 192, kernel_size=(3, 3), stride=(2, 2), padding=(1, 1), groups=192, bias=False)\n",
       "            (1): BatchNorm2d(192, eps=1e-05, momentum=0.1, affine=True, track_running_stats=True)\n",
       "            (2): ReLU6(inplace=True)\n",
       "          )\n",
       "          (2): Conv2d(192, 64, kernel_size=(1, 1), stride=(1, 1), bias=False)\n",
       "          (3): BatchNorm2d(64, eps=1e-05, momentum=0.1, affine=True, track_running_stats=True)\n",
       "        )\n",
       "      )\n",
       "      (8): InvertedResidual(\n",
       "        (conv): Sequential(\n",
       "          (0): Conv2dNormActivation(\n",
       "            (0): Conv2d(64, 384, kernel_size=(1, 1), stride=(1, 1), bias=False)\n",
       "            (1): BatchNorm2d(384, eps=1e-05, momentum=0.1, affine=True, track_running_stats=True)\n",
       "            (2): ReLU6(inplace=True)\n",
       "          )\n",
       "          (1): Conv2dNormActivation(\n",
       "            (0): Conv2d(384, 384, kernel_size=(3, 3), stride=(1, 1), padding=(1, 1), groups=384, bias=False)\n",
       "            (1): BatchNorm2d(384, eps=1e-05, momentum=0.1, affine=True, track_running_stats=True)\n",
       "            (2): ReLU6(inplace=True)\n",
       "          )\n",
       "          (2): Conv2d(384, 64, kernel_size=(1, 1), stride=(1, 1), bias=False)\n",
       "          (3): BatchNorm2d(64, eps=1e-05, momentum=0.1, affine=True, track_running_stats=True)\n",
       "        )\n",
       "      )\n",
       "      (9): InvertedResidual(\n",
       "        (conv): Sequential(\n",
       "          (0): Conv2dNormActivation(\n",
       "            (0): Conv2d(64, 384, kernel_size=(1, 1), stride=(1, 1), bias=False)\n",
       "            (1): BatchNorm2d(384, eps=1e-05, momentum=0.1, affine=True, track_running_stats=True)\n",
       "            (2): ReLU6(inplace=True)\n",
       "          )\n",
       "          (1): Conv2dNormActivation(\n",
       "            (0): Conv2d(384, 384, kernel_size=(3, 3), stride=(1, 1), padding=(1, 1), groups=384, bias=False)\n",
       "            (1): BatchNorm2d(384, eps=1e-05, momentum=0.1, affine=True, track_running_stats=True)\n",
       "            (2): ReLU6(inplace=True)\n",
       "          )\n",
       "          (2): Conv2d(384, 64, kernel_size=(1, 1), stride=(1, 1), bias=False)\n",
       "          (3): BatchNorm2d(64, eps=1e-05, momentum=0.1, affine=True, track_running_stats=True)\n",
       "        )\n",
       "      )\n",
       "      (10): InvertedResidual(\n",
       "        (conv): Sequential(\n",
       "          (0): Conv2dNormActivation(\n",
       "            (0): Conv2d(64, 384, kernel_size=(1, 1), stride=(1, 1), bias=False)\n",
       "            (1): BatchNorm2d(384, eps=1e-05, momentum=0.1, affine=True, track_running_stats=True)\n",
       "            (2): ReLU6(inplace=True)\n",
       "          )\n",
       "          (1): Conv2dNormActivation(\n",
       "            (0): Conv2d(384, 384, kernel_size=(3, 3), stride=(1, 1), padding=(1, 1), groups=384, bias=False)\n",
       "            (1): BatchNorm2d(384, eps=1e-05, momentum=0.1, affine=True, track_running_stats=True)\n",
       "            (2): ReLU6(inplace=True)\n",
       "          )\n",
       "          (2): Conv2d(384, 64, kernel_size=(1, 1), stride=(1, 1), bias=False)\n",
       "          (3): BatchNorm2d(64, eps=1e-05, momentum=0.1, affine=True, track_running_stats=True)\n",
       "        )\n",
       "      )\n",
       "      (11): InvertedResidual(\n",
       "        (conv): Sequential(\n",
       "          (0): Conv2dNormActivation(\n",
       "            (0): Conv2d(64, 384, kernel_size=(1, 1), stride=(1, 1), bias=False)\n",
       "            (1): BatchNorm2d(384, eps=1e-05, momentum=0.1, affine=True, track_running_stats=True)\n",
       "            (2): ReLU6(inplace=True)\n",
       "          )\n",
       "          (1): Conv2dNormActivation(\n",
       "            (0): Conv2d(384, 384, kernel_size=(3, 3), stride=(1, 1), padding=(1, 1), groups=384, bias=False)\n",
       "            (1): BatchNorm2d(384, eps=1e-05, momentum=0.1, affine=True, track_running_stats=True)\n",
       "            (2): ReLU6(inplace=True)\n",
       "          )\n",
       "          (2): Conv2d(384, 96, kernel_size=(1, 1), stride=(1, 1), bias=False)\n",
       "          (3): BatchNorm2d(96, eps=1e-05, momentum=0.1, affine=True, track_running_stats=True)\n",
       "        )\n",
       "      )\n",
       "      (12): InvertedResidual(\n",
       "        (conv): Sequential(\n",
       "          (0): Conv2dNormActivation(\n",
       "            (0): Conv2d(96, 576, kernel_size=(1, 1), stride=(1, 1), bias=False)\n",
       "            (1): BatchNorm2d(576, eps=1e-05, momentum=0.1, affine=True, track_running_stats=True)\n",
       "            (2): ReLU6(inplace=True)\n",
       "          )\n",
       "          (1): Conv2dNormActivation(\n",
       "            (0): Conv2d(576, 576, kernel_size=(3, 3), stride=(1, 1), padding=(1, 1), groups=576, bias=False)\n",
       "            (1): BatchNorm2d(576, eps=1e-05, momentum=0.1, affine=True, track_running_stats=True)\n",
       "            (2): ReLU6(inplace=True)\n",
       "          )\n",
       "          (2): Conv2d(576, 96, kernel_size=(1, 1), stride=(1, 1), bias=False)\n",
       "          (3): BatchNorm2d(96, eps=1e-05, momentum=0.1, affine=True, track_running_stats=True)\n",
       "        )\n",
       "      )\n",
       "      (13): InvertedResidual(\n",
       "        (conv): Sequential(\n",
       "          (0): Conv2dNormActivation(\n",
       "            (0): Conv2d(96, 576, kernel_size=(1, 1), stride=(1, 1), bias=False)\n",
       "            (1): BatchNorm2d(576, eps=1e-05, momentum=0.1, affine=True, track_running_stats=True)\n",
       "            (2): ReLU6(inplace=True)\n",
       "          )\n",
       "          (1): Conv2dNormActivation(\n",
       "            (0): Conv2d(576, 576, kernel_size=(3, 3), stride=(1, 1), padding=(1, 1), groups=576, bias=False)\n",
       "            (1): BatchNorm2d(576, eps=1e-05, momentum=0.1, affine=True, track_running_stats=True)\n",
       "            (2): ReLU6(inplace=True)\n",
       "          )\n",
       "          (2): Conv2d(576, 96, kernel_size=(1, 1), stride=(1, 1), bias=False)\n",
       "          (3): BatchNorm2d(96, eps=1e-05, momentum=0.1, affine=True, track_running_stats=True)\n",
       "        )\n",
       "      )\n",
       "      (14): InvertedResidual(\n",
       "        (conv): Sequential(\n",
       "          (0): Conv2dNormActivation(\n",
       "            (0): Conv2d(96, 576, kernel_size=(1, 1), stride=(1, 1), bias=False)\n",
       "            (1): BatchNorm2d(576, eps=1e-05, momentum=0.1, affine=True, track_running_stats=True)\n",
       "            (2): ReLU6(inplace=True)\n",
       "          )\n",
       "          (1): Conv2dNormActivation(\n",
       "            (0): Conv2d(576, 576, kernel_size=(3, 3), stride=(2, 2), padding=(1, 1), groups=576, bias=False)\n",
       "            (1): BatchNorm2d(576, eps=1e-05, momentum=0.1, affine=True, track_running_stats=True)\n",
       "            (2): ReLU6(inplace=True)\n",
       "          )\n",
       "          (2): Conv2d(576, 160, kernel_size=(1, 1), stride=(1, 1), bias=False)\n",
       "          (3): BatchNorm2d(160, eps=1e-05, momentum=0.1, affine=True, track_running_stats=True)\n",
       "        )\n",
       "      )\n",
       "      (15): InvertedResidual(\n",
       "        (conv): Sequential(\n",
       "          (0): Conv2dNormActivation(\n",
       "            (0): Conv2d(160, 960, kernel_size=(1, 1), stride=(1, 1), bias=False)\n",
       "            (1): BatchNorm2d(960, eps=1e-05, momentum=0.1, affine=True, track_running_stats=True)\n",
       "            (2): ReLU6(inplace=True)\n",
       "          )\n",
       "          (1): Conv2dNormActivation(\n",
       "            (0): Conv2d(960, 960, kernel_size=(3, 3), stride=(1, 1), padding=(1, 1), groups=960, bias=False)\n",
       "            (1): BatchNorm2d(960, eps=1e-05, momentum=0.1, affine=True, track_running_stats=True)\n",
       "            (2): ReLU6(inplace=True)\n",
       "          )\n",
       "          (2): Conv2d(960, 160, kernel_size=(1, 1), stride=(1, 1), bias=False)\n",
       "          (3): BatchNorm2d(160, eps=1e-05, momentum=0.1, affine=True, track_running_stats=True)\n",
       "        )\n",
       "      )\n",
       "      (16): InvertedResidual(\n",
       "        (conv): Sequential(\n",
       "          (0): Conv2dNormActivation(\n",
       "            (0): Conv2d(160, 960, kernel_size=(1, 1), stride=(1, 1), bias=False)\n",
       "            (1): BatchNorm2d(960, eps=1e-05, momentum=0.1, affine=True, track_running_stats=True)\n",
       "            (2): ReLU6(inplace=True)\n",
       "          )\n",
       "          (1): Conv2dNormActivation(\n",
       "            (0): Conv2d(960, 960, kernel_size=(3, 3), stride=(1, 1), padding=(1, 1), groups=960, bias=False)\n",
       "            (1): BatchNorm2d(960, eps=1e-05, momentum=0.1, affine=True, track_running_stats=True)\n",
       "            (2): ReLU6(inplace=True)\n",
       "          )\n",
       "          (2): Conv2d(960, 160, kernel_size=(1, 1), stride=(1, 1), bias=False)\n",
       "          (3): BatchNorm2d(160, eps=1e-05, momentum=0.1, affine=True, track_running_stats=True)\n",
       "        )\n",
       "      )\n",
       "      (17): InvertedResidual(\n",
       "        (conv): Sequential(\n",
       "          (0): Conv2dNormActivation(\n",
       "            (0): Conv2d(160, 960, kernel_size=(1, 1), stride=(1, 1), bias=False)\n",
       "            (1): BatchNorm2d(960, eps=1e-05, momentum=0.1, affine=True, track_running_stats=True)\n",
       "            (2): ReLU6(inplace=True)\n",
       "          )\n",
       "          (1): Conv2dNormActivation(\n",
       "            (0): Conv2d(960, 960, kernel_size=(3, 3), stride=(1, 1), padding=(1, 1), groups=960, bias=False)\n",
       "            (1): BatchNorm2d(960, eps=1e-05, momentum=0.1, affine=True, track_running_stats=True)\n",
       "            (2): ReLU6(inplace=True)\n",
       "          )\n",
       "          (2): Conv2d(960, 320, kernel_size=(1, 1), stride=(1, 1), bias=False)\n",
       "          (3): BatchNorm2d(320, eps=1e-05, momentum=0.1, affine=True, track_running_stats=True)\n",
       "        )\n",
       "      )\n",
       "      (18): Conv2dNormActivation(\n",
       "        (0): Conv2d(320, 1280, kernel_size=(1, 1), stride=(1, 1), bias=False)\n",
       "        (1): BatchNorm2d(1280, eps=1e-05, momentum=0.1, affine=True, track_running_stats=True)\n",
       "        (2): ReLU6(inplace=True)\n",
       "      )\n",
       "    )\n",
       "  )\n",
       "  (decoder): UnetDecoder(\n",
       "    (center): Identity()\n",
       "    (blocks): ModuleList(\n",
       "      (0): DecoderBlock(\n",
       "        (conv1): Conv2dReLU(\n",
       "          (0): Conv2d(1376, 256, kernel_size=(3, 3), stride=(1, 1), padding=(1, 1), bias=False)\n",
       "          (1): BatchNorm2d(256, eps=1e-05, momentum=0.1, affine=True, track_running_stats=True)\n",
       "          (2): ReLU(inplace=True)\n",
       "        )\n",
       "        (attention1): Attention(\n",
       "          (attention): Identity()\n",
       "        )\n",
       "        (conv2): Conv2dReLU(\n",
       "          (0): Conv2d(256, 256, kernel_size=(3, 3), stride=(1, 1), padding=(1, 1), bias=False)\n",
       "          (1): BatchNorm2d(256, eps=1e-05, momentum=0.1, affine=True, track_running_stats=True)\n",
       "          (2): ReLU(inplace=True)\n",
       "        )\n",
       "        (attention2): Attention(\n",
       "          (attention): Identity()\n",
       "        )\n",
       "      )\n",
       "      (1): DecoderBlock(\n",
       "        (conv1): Conv2dReLU(\n",
       "          (0): Conv2d(288, 128, kernel_size=(3, 3), stride=(1, 1), padding=(1, 1), bias=False)\n",
       "          (1): BatchNorm2d(128, eps=1e-05, momentum=0.1, affine=True, track_running_stats=True)\n",
       "          (2): ReLU(inplace=True)\n",
       "        )\n",
       "        (attention1): Attention(\n",
       "          (attention): Identity()\n",
       "        )\n",
       "        (conv2): Conv2dReLU(\n",
       "          (0): Conv2d(128, 128, kernel_size=(3, 3), stride=(1, 1), padding=(1, 1), bias=False)\n",
       "          (1): BatchNorm2d(128, eps=1e-05, momentum=0.1, affine=True, track_running_stats=True)\n",
       "          (2): ReLU(inplace=True)\n",
       "        )\n",
       "        (attention2): Attention(\n",
       "          (attention): Identity()\n",
       "        )\n",
       "      )\n",
       "      (2): DecoderBlock(\n",
       "        (conv1): Conv2dReLU(\n",
       "          (0): Conv2d(152, 64, kernel_size=(3, 3), stride=(1, 1), padding=(1, 1), bias=False)\n",
       "          (1): BatchNorm2d(64, eps=1e-05, momentum=0.1, affine=True, track_running_stats=True)\n",
       "          (2): ReLU(inplace=True)\n",
       "        )\n",
       "        (attention1): Attention(\n",
       "          (attention): Identity()\n",
       "        )\n",
       "        (conv2): Conv2dReLU(\n",
       "          (0): Conv2d(64, 64, kernel_size=(3, 3), stride=(1, 1), padding=(1, 1), bias=False)\n",
       "          (1): BatchNorm2d(64, eps=1e-05, momentum=0.1, affine=True, track_running_stats=True)\n",
       "          (2): ReLU(inplace=True)\n",
       "        )\n",
       "        (attention2): Attention(\n",
       "          (attention): Identity()\n",
       "        )\n",
       "      )\n",
       "      (3): DecoderBlock(\n",
       "        (conv1): Conv2dReLU(\n",
       "          (0): Conv2d(80, 32, kernel_size=(3, 3), stride=(1, 1), padding=(1, 1), bias=False)\n",
       "          (1): BatchNorm2d(32, eps=1e-05, momentum=0.1, affine=True, track_running_stats=True)\n",
       "          (2): ReLU(inplace=True)\n",
       "        )\n",
       "        (attention1): Attention(\n",
       "          (attention): Identity()\n",
       "        )\n",
       "        (conv2): Conv2dReLU(\n",
       "          (0): Conv2d(32, 32, kernel_size=(3, 3), stride=(1, 1), padding=(1, 1), bias=False)\n",
       "          (1): BatchNorm2d(32, eps=1e-05, momentum=0.1, affine=True, track_running_stats=True)\n",
       "          (2): ReLU(inplace=True)\n",
       "        )\n",
       "        (attention2): Attention(\n",
       "          (attention): Identity()\n",
       "        )\n",
       "      )\n",
       "      (4): DecoderBlock(\n",
       "        (conv1): Conv2dReLU(\n",
       "          (0): Conv2d(32, 16, kernel_size=(3, 3), stride=(1, 1), padding=(1, 1), bias=False)\n",
       "          (1): BatchNorm2d(16, eps=1e-05, momentum=0.1, affine=True, track_running_stats=True)\n",
       "          (2): ReLU(inplace=True)\n",
       "        )\n",
       "        (attention1): Attention(\n",
       "          (attention): Identity()\n",
       "        )\n",
       "        (conv2): Conv2dReLU(\n",
       "          (0): Conv2d(16, 16, kernel_size=(3, 3), stride=(1, 1), padding=(1, 1), bias=False)\n",
       "          (1): BatchNorm2d(16, eps=1e-05, momentum=0.1, affine=True, track_running_stats=True)\n",
       "          (2): ReLU(inplace=True)\n",
       "        )\n",
       "        (attention2): Attention(\n",
       "          (attention): Identity()\n",
       "        )\n",
       "      )\n",
       "    )\n",
       "  )\n",
       "  (segmentation_head): SegmentationHead(\n",
       "    (0): Conv2d(16, 2, kernel_size=(3, 3), stride=(1, 1), padding=(1, 1))\n",
       "    (1): Identity()\n",
       "    (2): Activation(\n",
       "      (activation): Identity()\n",
       "    )\n",
       "  )\n",
       ")"
      ]
     },
     "execution_count": 20,
     "metadata": {},
     "output_type": "execute_result"
    }
   ],
   "source": [
    "model_path = r'C:\\Users\\Yang_PC\\Documents\\Github\\ArcgisPro-Customized-Toolbox\\Notebook\\Unet-mobilenet2-batchsize4-OR_lr-4.pt'\n",
    "\n",
    "device = torch.device('cuda' if torch.cuda.is_available() else 'cpu')\n",
    "model = torch.load(model_path)\n",
    "model.to(device)\n",
    "\n",
    "\n"
   ]
  },
  {
   "cell_type": "code",
   "execution_count": 21,
   "metadata": {
    "id": "I0tS5lEOFR-o"
   },
   "outputs": [],
   "source": [
    "def plot_loss(history):\n",
    "    plt.plot(history['val_loss'], label='val', marker='o')\n",
    "    plt.plot( history['train_loss'], label='train', marker='o')\n",
    "    plt.title('Loss per epoch'); plt.ylabel('loss')\n",
    "    plt.xlabel('epoch')\n",
    "    plt.legend(), plt.grid()\n",
    "    plt.show()\n",
    "\n",
    "def plot_score(history):\n",
    "    plt.plot(history['train_miou'], label='train_mIoU', marker='*')\n",
    "    plt.plot(history['val_miou'], label='val_mIoU',  marker='*')\n",
    "    plt.title('Score per epoch'); plt.ylabel('mean IoU')\n",
    "    plt.xlabel('epoch')\n",
    "    plt.legend(), plt.grid()\n",
    "    plt.show()\n",
    "\n",
    "def plot_acc(history):\n",
    "    plt.plot(history['train_acc'], label='train_accuracy', marker='*')\n",
    "    plt.plot(history['val_acc'], label='val_accuracy',  marker='*')\n",
    "    plt.title('Accuracy per epoch'); plt.ylabel('Accuracy')\n",
    "    plt.xlabel('epoch')\n",
    "    plt.legend(), plt.grid()\n",
    "    plt.show()"
   ]
  },
  {
   "cell_type": "code",
   "execution_count": 28,
   "metadata": {
    "colab": {
     "base_uri": "https://localhost:8080/",
     "height": 1000
    },
    "id": "_trDOO9hFV8p",
    "outputId": "f8342968-3714-48f5-e510-976db45d5ee3"
   },
   "outputs": [
    {
     "data": {
      "image/png": "[encoded data removed]",
      "text/plain": [
       "<Figure size 640x480 with 1 Axes>"
      ]
     },
     "metadata": {},
     "output_type": "display_data"
    },
    {
     "data": {
      "image/png": "[encoded data removed]",
      "text/plain": [
       "<Figure size 640x480 with 1 Axes>"
      ]
     },
     "metadata": {},
     "output_type": "display_data"
    },
    {
     "data": {
      "image/png": "[encoded data removed]",
      "text/plain": [
       "<Figure size 640x480 with 1 Axes>"
      ]
     },
     "metadata": {},
     "output_type": "display_data"
    }
   ],
   "source": [
    "plot_loss(history)\n",
    "plot_score(history)\n",
    "plot_acc(history)"
   ]
  },
  {
   "cell_type": "code",
   "execution_count": 22,
   "metadata": {
    "id": "s7vAnGWxIcvF"
   },
   "outputs": [],
   "source": [
    "class DroneTestDataset(Dataset):\n",
    "    def __init__(self, img_path, mask_path, X, transform=None):\n",
    "        self.img_path = Path(img_path)\n",
    "        self.mask_path = Path(mask_path)\n",
    "        self.X = X\n",
    "        self.transform = transform\n",
    "\n",
    "    def __len__(self):\n",
    "        return len(self.X)\n",
    "\n",
    "    def __getitem__(self, idx):\n",
    "        # Create image and mask paths using pathlib\n",
    "        img_file_name = f'{self.X[idx]}.png'\n",
    "        img_path = self.img_path / img_file_name\n",
    "        mask_path = self.mask_path / img_file_name\n",
    "        \n",
    "        # Read and convert the image to RGB using OpenCV\n",
    "        img = cv2.imread(str(img_path))\n",
    "        img = cv2.cvtColor(img, cv2.COLOR_BGR2RGB)\n",
    "        \n",
    "        # Read the mask in grayscale directly using OpenCV\n",
    "        mask = cv2.imread(str(mask_path), cv2.IMREAD_GRAYSCALE)\n",
    "\n",
    "        if self.transform is not None:\n",
    "            # Convert image and mask to NumPy arrays for transformation\n",
    "            transformed = self.transform(image=img, mask=mask)\n",
    "            img = transformed['image']\n",
    "            mask = transformed['mask']\n",
    "        \n",
    "        # Convert the image to PIL Image (consistent with DroneTestDataset1)\n",
    "        img = Image.fromarray(img)\n",
    "\n",
    "        # Convert mask to a PyTorch tensor\n",
    "        mask = torch.from_numpy(mask).long()\n",
    "\n",
    "        # Return the image, mask, and file name\n",
    "        return img, mask, img_file_name\n",
    "\n",
    "t_test = A.Resize(768, 1152, interpolation=cv2.INTER_NEAREST)\n",
    "test_set = DroneTestDataset(test_image_folder, test_mask_folder, X_test, transform=t_test)"
   ]
  },
  {
   "cell_type": "code",
   "execution_count": 23,
   "metadata": {},
   "outputs": [],
   "source": [
    "import torch\n",
    "import torchvision.transforms as T\n",
    "import matplotlib.pyplot as plt\n",
    "import cv2\n",
    "import numpy as np\n",
    "\n",
    "\n",
    "# Updated function to perform inference and save the predicted mask with resizing\n",
    "def predict_image_mask_miou(model, image, mask, save_file, mean=[0.485, 0.456, 0.406], std=[0.229, 0.224, 0.225]):\n",
    "    model.eval()  # Set the model to evaluation mode\n",
    "    \n",
    "    # Store original image dimensions before transforming\n",
    "    original_height, original_width = 512, 512  # PIL Image size: (width, height)\n",
    "    \n",
    "    # Apply transformation to the image (e.g., normalization)\n",
    "    t = T.Compose([T.ToTensor(), T.Normalize(mean, std)])\n",
    "    image_tensor = t(image)  # Keep 'image' unchanged for later use\n",
    "    \n",
    "    # Move image and mask to the appropriate device\n",
    "    image_tensor = image_tensor.to(device)\n",
    "    mask = mask.to(device)\n",
    "    \n",
    "    with torch.no_grad():  # Disable gradient calculation for inference\n",
    "        image_tensor = image_tensor.unsqueeze(0)  # Add batch dimension for the model\n",
    "        mask = mask.unsqueeze(0)    # Add batch dimension\n",
    "\n",
    "        output = model(image_tensor)  # Run model inference\n",
    "        score = mIoU(output, mask)  # Compute mIoU score\n",
    "        \n",
    "        # Get the predicted mask by taking the argmax of the model's output\n",
    "        pred_mask = torch.argmax(output, dim=1)\n",
    "        pred_mask = pred_mask.cpu().squeeze(0)  # Move to CPU and remove batch dimension\n",
    "\n",
    "    # Resize the predicted mask to match the original image size\n",
    "    pred_mask_resized = cv2.resize(pred_mask.numpy(), (original_width, original_height), interpolation=cv2.INTER_NEAREST)\n",
    "    \n",
    "    # Save the resized predicted mask as a grayscale image\n",
    "    plt.imsave(save_file, pred_mask_resized, cmap='gray')  # Save mask as a grayscale image\n",
    "    \n",
    "    return pred_mask_resized, score\n",
    "\n",
    "\n",
    "\n",
    "def save_predicted_mask_overlay(pred_mask, img_file_name, image_folder, save_file, alpha=0.5):\n",
    "    \"\"\"\n",
    "    Overlays the predicted mask on the original image read from a specified folder, and saves the result.\n",
    "    \n",
    "    Parameters:\n",
    "    - pred_mask: The predicted mask (PyTorch tensor or NumPy array with values 0 and 1).\n",
    "    - img_file_name: The name of the image file (e.g., 'image_001.png').\n",
    "    - image_folder: The path to the folder where the original image is located.\n",
    "    - save_file: The path to save the overlaid image.\n",
    "    - alpha: The transparency factor for the overlay (default is 0.3 for higher transparency).\n",
    "    \"\"\"\n",
    "    # Build the full image path\n",
    "    img_path = os.path.join(image_folder, img_file_name)\n",
    "\n",
    "    # Read the original image from the specified folder\n",
    "    original_image = Image.open(img_path).convert('RGB')  # Use PIL to read the image\n",
    "    original_image = np.array(original_image)  # Convert to NumPy array\n",
    "\n",
    "    # Convert the predicted mask to a NumPy array if it's a PyTorch tensor\n",
    "    if isinstance(pred_mask, torch.Tensor):\n",
    "        pred_mask = pred_mask.cpu().numpy()\n",
    "\n",
    "    # Ensure the predicted mask has 2D shape (height, width)\n",
    "    if pred_mask.ndim != 2:\n",
    "        raise ValueError(f\"Expected 2D mask, but got shape {pred_mask.shape}\")\n",
    "\n",
    "    # Resize the predicted mask to match the original image size (assuming original image size is 512x512)\n",
    "    original_height, original_width = original_image.shape[:2]\n",
    "    pred_mask_resized = cv2.resize(pred_mask, (original_width, original_height), interpolation=cv2.INTER_NEAREST)\n",
    "\n",
    "    # Ensure the image is in the correct format (height, width, 3)\n",
    "    if original_image.ndim != 3 or original_image.shape[2] != 3:\n",
    "        raise ValueError(f\"Expected 3D RGB image, but got shape {original_image.shape}\")\n",
    "\n",
    "    # Create a copy of the original image to modify\n",
    "    overlay = original_image.copy()\n",
    "\n",
    "    # Broadcast the mask across the 3 RGB channels (set the mask area to light blue)\n",
    "    light_blue_color = [78,156,217]  # Light blue RGB\n",
    "    light_blue_mask = np.zeros_like(overlay)\n",
    "    light_blue_mask[pred_mask_resized == 1] = light_blue_color  # Light blue for class 1 (object)\n",
    "\n",
    "    # Blend the original image and the light blue mask, keeping the original image intensity intact\n",
    "    blended_image = cv2.addWeighted(light_blue_mask, alpha, original_image, 1, 0)\n",
    "\n",
    "    # Save the blended image\n",
    "    plt.imsave(save_file, blended_image)\n",
    "    print(f\"Saved overlay image: {save_file}\")\n"
   ]
  },
  {
   "cell_type": "code",
   "execution_count": 24,
   "metadata": {},
   "outputs": [
    {
     "name": "stderr",
     "output_type": "stream",
     "text": [
      "  0%|          | 1/296 [00:00<03:00,  1.64it/s]"
     ]
    },
    {
     "name": "stdout",
     "output_type": "stream",
     "text": [
      "Saved overlay image: D:\\ML_Seagrass\\SourceData\\Oregon\\Oregon\\test\\overlay\\BA_OR_19_row10_col4.png\n",
      "Saved predicted mask for BA_OR_19_row10_col4.png with mIoU score: 0.794\n"
     ]
    },
    {
     "name": "stderr",
     "output_type": "stream",
     "text": [
      "  1%|          | 2/296 [00:00<02:06,  2.33it/s]"
     ]
    },
    {
     "name": "stdout",
     "output_type": "stream",
     "text": [
      "Saved overlay image: D:\\ML_Seagrass\\SourceData\\Oregon\\Oregon\\test\\overlay\\BA_OR_19_row12_col11.png\n",
      "Saved predicted mask for BA_OR_19_row12_col11.png with mIoU score: 0.008\n"
     ]
    },
    {
     "name": "stderr",
     "output_type": "stream",
     "text": [
      "  1%|          | 3/296 [00:01<01:50,  2.66it/s]"
     ]
    },
    {
     "name": "stdout",
     "output_type": "stream",
     "text": [
      "Saved overlay image: D:\\ML_Seagrass\\SourceData\\Oregon\\Oregon\\test\\overlay\\BA_OR_19_row13_col10.png\n",
      "Saved predicted mask for BA_OR_19_row13_col10.png with mIoU score: 0.005\n"
     ]
    },
    {
     "name": "stderr",
     "output_type": "stream",
     "text": [
      "  1%|▏         | 4/296 [00:01<01:42,  2.86it/s]"
     ]
    },
    {
     "name": "stdout",
     "output_type": "stream",
     "text": [
      "Saved overlay image: D:\\ML_Seagrass\\SourceData\\Oregon\\Oregon\\test\\overlay\\BA_OR_19_row14_col11.png\n",
      "Saved predicted mask for BA_OR_19_row14_col11.png with mIoU score: 0.049\n"
     ]
    },
    {
     "name": "stderr",
     "output_type": "stream",
     "text": [
      "  2%|▏         | 6/296 [00:02<01:27,  3.31it/s]"
     ]
    },
    {
     "name": "stdout",
     "output_type": "stream",
     "text": [
      "Saved overlay image: D:\\ML_Seagrass\\SourceData\\Oregon\\Oregon\\test\\overlay\\BA_OR_19_row14_col14.png\n",
      "Saved predicted mask for BA_OR_19_row14_col14.png with mIoU score: 0.178\n",
      "Saved overlay image: D:\\ML_Seagrass\\SourceData\\Oregon\\Oregon\\test\\overlay\\BA_OR_19_row17_col10.png\n",
      "Saved predicted mask for BA_OR_19_row17_col10.png with mIoU score: 0.758\n"
     ]
    },
    {
     "name": "stderr",
     "output_type": "stream",
     "text": [
      "  2%|▏         | 7/296 [00:02<01:31,  3.15it/s]"
     ]
    },
    {
     "name": "stdout",
     "output_type": "stream",
     "text": [
      "Saved overlay image: D:\\ML_Seagrass\\SourceData\\Oregon\\Oregon\\test\\overlay\\BA_OR_19_row4_col11.png\n",
      "Saved predicted mask for BA_OR_19_row4_col11.png with mIoU score: 0.056\n"
     ]
    },
    {
     "name": "stderr",
     "output_type": "stream",
     "text": [
      "  3%|▎         | 8/296 [00:02<01:33,  3.10it/s]"
     ]
    },
    {
     "name": "stdout",
     "output_type": "stream",
     "text": [
      "Saved overlay image: D:\\ML_Seagrass\\SourceData\\Oregon\\Oregon\\test\\overlay\\BA_OR_19_row7_col9.png\n",
      "Saved predicted mask for BA_OR_19_row7_col9.png with mIoU score: 0.213\n"
     ]
    },
    {
     "name": "stderr",
     "output_type": "stream",
     "text": [
      "  3%|▎         | 9/296 [00:03<01:33,  3.08it/s]"
     ]
    },
    {
     "name": "stdout",
     "output_type": "stream",
     "text": [
      "Saved overlay image: D:\\ML_Seagrass\\SourceData\\Oregon\\Oregon\\test\\overlay\\BA_OR_19_row9_col16.png\n",
      "Saved predicted mask for BA_OR_19_row9_col16.png with mIoU score: 0.703\n"
     ]
    },
    {
     "name": "stderr",
     "output_type": "stream",
     "text": [
      "  3%|▎         | 10/296 [00:03<01:37,  2.93it/s]"
     ]
    },
    {
     "name": "stdout",
     "output_type": "stream",
     "text": [
      "Saved overlay image: D:\\ML_Seagrass\\SourceData\\Oregon\\Oregon\\test\\overlay\\BA_OR_21_row10_col24.png\n",
      "Saved predicted mask for BA_OR_21_row10_col24.png with mIoU score: 0.598\n"
     ]
    },
    {
     "name": "stderr",
     "output_type": "stream",
     "text": [
      "  4%|▎         | 11/296 [00:03<01:39,  2.87it/s]"
     ]
    },
    {
     "name": "stdout",
     "output_type": "stream",
     "text": [
      "Saved overlay image: D:\\ML_Seagrass\\SourceData\\Oregon\\Oregon\\test\\overlay\\BA_OR_21_row10_col8.png\n",
      "Saved predicted mask for BA_OR_21_row10_col8.png with mIoU score: 0.431\n"
     ]
    },
    {
     "name": "stderr",
     "output_type": "stream",
     "text": [
      "  4%|▍         | 12/296 [00:04<01:42,  2.78it/s]"
     ]
    },
    {
     "name": "stdout",
     "output_type": "stream",
     "text": [
      "Saved overlay image: D:\\ML_Seagrass\\SourceData\\Oregon\\Oregon\\test\\overlay\\BA_OR_21_row11_col8.png\n",
      "Saved predicted mask for BA_OR_21_row11_col8.png with mIoU score: 0.678\n"
     ]
    },
    {
     "name": "stderr",
     "output_type": "stream",
     "text": [
      "  4%|▍         | 13/296 [00:04<01:45,  2.69it/s]"
     ]
    },
    {
     "name": "stdout",
     "output_type": "stream",
     "text": [
      "Saved overlay image: D:\\ML_Seagrass\\SourceData\\Oregon\\Oregon\\test\\overlay\\BA_OR_21_row12_col21.png\n",
      "Saved predicted mask for BA_OR_21_row12_col21.png with mIoU score: 0.948\n"
     ]
    },
    {
     "name": "stderr",
     "output_type": "stream",
     "text": [
      "  5%|▍         | 14/296 [00:04<01:42,  2.75it/s]"
     ]
    },
    {
     "name": "stdout",
     "output_type": "stream",
     "text": [
      "Saved overlay image: D:\\ML_Seagrass\\SourceData\\Oregon\\Oregon\\test\\overlay\\BA_OR_21_row12_col23.png\n",
      "Saved predicted mask for BA_OR_21_row12_col23.png with mIoU score: 0.889\n"
     ]
    },
    {
     "name": "stderr",
     "output_type": "stream",
     "text": [
      "  5%|▌         | 15/296 [00:05<01:42,  2.75it/s]"
     ]
    },
    {
     "name": "stdout",
     "output_type": "stream",
     "text": [
      "Saved overlay image: D:\\ML_Seagrass\\SourceData\\Oregon\\Oregon\\test\\overlay\\BA_OR_21_row12_col24.png\n",
      "Saved predicted mask for BA_OR_21_row12_col24.png with mIoU score: 0.707\n"
     ]
    },
    {
     "name": "stderr",
     "output_type": "stream",
     "text": [
      "  5%|▌         | 16/296 [00:05<01:42,  2.72it/s]"
     ]
    },
    {
     "name": "stdout",
     "output_type": "stream",
     "text": [
      "Saved overlay image: D:\\ML_Seagrass\\SourceData\\Oregon\\Oregon\\test\\overlay\\BA_OR_21_row15_col12.png\n",
      "Saved predicted mask for BA_OR_21_row15_col12.png with mIoU score: 0.034\n"
     ]
    },
    {
     "name": "stderr",
     "output_type": "stream",
     "text": [
      "  6%|▌         | 17/296 [00:06<01:43,  2.70it/s]"
     ]
    },
    {
     "name": "stdout",
     "output_type": "stream",
     "text": [
      "Saved overlay image: D:\\ML_Seagrass\\SourceData\\Oregon\\Oregon\\test\\overlay\\BA_OR_21_row15_col23.png\n",
      "Saved predicted mask for BA_OR_21_row15_col23.png with mIoU score: 0.552\n"
     ]
    },
    {
     "name": "stderr",
     "output_type": "stream",
     "text": [
      "  6%|▌         | 18/296 [00:06<01:42,  2.73it/s]"
     ]
    },
    {
     "name": "stdout",
     "output_type": "stream",
     "text": [
      "Saved overlay image: D:\\ML_Seagrass\\SourceData\\Oregon\\Oregon\\test\\overlay\\BA_OR_21_row15_col28.png\n",
      "Saved predicted mask for BA_OR_21_row15_col28.png with mIoU score: 0.766\n"
     ]
    },
    {
     "name": "stderr",
     "output_type": "stream",
     "text": [
      "  6%|▋         | 19/296 [00:06<01:43,  2.68it/s]"
     ]
    },
    {
     "name": "stdout",
     "output_type": "stream",
     "text": [
      "Saved overlay image: D:\\ML_Seagrass\\SourceData\\Oregon\\Oregon\\test\\overlay\\BA_OR_21_row16_col26.png\n",
      "Saved predicted mask for BA_OR_21_row16_col26.png with mIoU score: 0.387\n"
     ]
    },
    {
     "name": "stderr",
     "output_type": "stream",
     "text": [
      "  7%|▋         | 20/296 [00:07<01:49,  2.53it/s]"
     ]
    },
    {
     "name": "stdout",
     "output_type": "stream",
     "text": [
      "Saved overlay image: D:\\ML_Seagrass\\SourceData\\Oregon\\Oregon\\test\\overlay\\BA_OR_21_row17_col25.png\n",
      "Saved predicted mask for BA_OR_21_row17_col25.png with mIoU score: 0.567\n"
     ]
    },
    {
     "name": "stderr",
     "output_type": "stream",
     "text": [
      "  7%|▋         | 21/296 [00:07<01:50,  2.49it/s]"
     ]
    },
    {
     "name": "stdout",
     "output_type": "stream",
     "text": [
      "Saved overlay image: D:\\ML_Seagrass\\SourceData\\Oregon\\Oregon\\test\\overlay\\BA_OR_21_row18_col14.png\n",
      "Saved predicted mask for BA_OR_21_row18_col14.png with mIoU score: 0.757\n"
     ]
    },
    {
     "name": "stderr",
     "output_type": "stream",
     "text": [
      "  7%|▋         | 22/296 [00:08<01:47,  2.56it/s]"
     ]
    },
    {
     "name": "stdout",
     "output_type": "stream",
     "text": [
      "Saved overlay image: D:\\ML_Seagrass\\SourceData\\Oregon\\Oregon\\test\\overlay\\BA_OR_21_row18_col26.png\n",
      "Saved predicted mask for BA_OR_21_row18_col26.png with mIoU score: 0.900\n"
     ]
    },
    {
     "name": "stderr",
     "output_type": "stream",
     "text": [
      "  8%|▊         | 23/296 [00:08<01:44,  2.61it/s]"
     ]
    },
    {
     "name": "stdout",
     "output_type": "stream",
     "text": [
      "Saved overlay image: D:\\ML_Seagrass\\SourceData\\Oregon\\Oregon\\test\\overlay\\BA_OR_21_row18_col4.png\n",
      "Saved predicted mask for BA_OR_21_row18_col4.png with mIoU score: 0.369\n"
     ]
    },
    {
     "name": "stderr",
     "output_type": "stream",
     "text": [
      "  8%|▊         | 24/296 [00:08<01:43,  2.63it/s]"
     ]
    },
    {
     "name": "stdout",
     "output_type": "stream",
     "text": [
      "Saved overlay image: D:\\ML_Seagrass\\SourceData\\Oregon\\Oregon\\test\\overlay\\BA_OR_21_row18_col5.png\n",
      "Saved predicted mask for BA_OR_21_row18_col5.png with mIoU score: 0.552\n"
     ]
    },
    {
     "name": "stderr",
     "output_type": "stream",
     "text": [
      "  8%|▊         | 25/296 [00:09<01:46,  2.54it/s]"
     ]
    },
    {
     "name": "stdout",
     "output_type": "stream",
     "text": [
      "Saved overlay image: D:\\ML_Seagrass\\SourceData\\Oregon\\Oregon\\test\\overlay\\BA_OR_21_row19_col14.png\n",
      "Saved predicted mask for BA_OR_21_row19_col14.png with mIoU score: 0.940\n"
     ]
    },
    {
     "name": "stderr",
     "output_type": "stream",
     "text": [
      "  9%|▉         | 26/296 [00:09<01:50,  2.45it/s]"
     ]
    },
    {
     "name": "stdout",
     "output_type": "stream",
     "text": [
      "Saved overlay image: D:\\ML_Seagrass\\SourceData\\Oregon\\Oregon\\test\\overlay\\BA_OR_21_row19_col6.png\n",
      "Saved predicted mask for BA_OR_21_row19_col6.png with mIoU score: 0.114\n"
     ]
    },
    {
     "name": "stderr",
     "output_type": "stream",
     "text": [
      "  9%|▉         | 27/296 [00:10<01:46,  2.52it/s]"
     ]
    },
    {
     "name": "stdout",
     "output_type": "stream",
     "text": [
      "Saved overlay image: D:\\ML_Seagrass\\SourceData\\Oregon\\Oregon\\test\\overlay\\BA_OR_21_row20_col13.png\n",
      "Saved predicted mask for BA_OR_21_row20_col13.png with mIoU score: 0.903\n"
     ]
    },
    {
     "name": "stderr",
     "output_type": "stream",
     "text": [
      "  9%|▉         | 28/296 [00:10<01:45,  2.55it/s]"
     ]
    },
    {
     "name": "stdout",
     "output_type": "stream",
     "text": [
      "Saved overlay image: D:\\ML_Seagrass\\SourceData\\Oregon\\Oregon\\test\\overlay\\BA_OR_21_row20_col25.png\n",
      "Saved predicted mask for BA_OR_21_row20_col25.png with mIoU score: 0.679\n"
     ]
    },
    {
     "name": "stderr",
     "output_type": "stream",
     "text": [
      " 10%|▉         | 29/296 [00:10<01:43,  2.58it/s]"
     ]
    },
    {
     "name": "stdout",
     "output_type": "stream",
     "text": [
      "Saved overlay image: D:\\ML_Seagrass\\SourceData\\Oregon\\Oregon\\test\\overlay\\BA_OR_21_row21_col10.png\n",
      "Saved predicted mask for BA_OR_21_row21_col10.png with mIoU score: 0.965\n"
     ]
    },
    {
     "name": "stderr",
     "output_type": "stream",
     "text": [
      " 10%|█         | 30/296 [00:11<01:43,  2.58it/s]"
     ]
    },
    {
     "name": "stdout",
     "output_type": "stream",
     "text": [
      "Saved overlay image: D:\\ML_Seagrass\\SourceData\\Oregon\\Oregon\\test\\overlay\\BA_OR_21_row21_col18.png\n",
      "Saved predicted mask for BA_OR_21_row21_col18.png with mIoU score: 0.813\n"
     ]
    },
    {
     "name": "stderr",
     "output_type": "stream",
     "text": [
      " 10%|█         | 31/296 [00:11<01:41,  2.61it/s]"
     ]
    },
    {
     "name": "stdout",
     "output_type": "stream",
     "text": [
      "Saved overlay image: D:\\ML_Seagrass\\SourceData\\Oregon\\Oregon\\test\\overlay\\BA_OR_21_row21_col19.png\n",
      "Saved predicted mask for BA_OR_21_row21_col19.png with mIoU score: 0.848\n"
     ]
    },
    {
     "name": "stderr",
     "output_type": "stream",
     "text": [
      " 11%|█         | 32/296 [00:11<01:41,  2.60it/s]"
     ]
    },
    {
     "name": "stdout",
     "output_type": "stream",
     "text": [
      "Saved overlay image: D:\\ML_Seagrass\\SourceData\\Oregon\\Oregon\\test\\overlay\\BA_OR_21_row21_col25.png\n",
      "Saved predicted mask for BA_OR_21_row21_col25.png with mIoU score: 0.870\n"
     ]
    },
    {
     "name": "stderr",
     "output_type": "stream",
     "text": [
      " 11%|█         | 33/296 [00:12<01:41,  2.60it/s]"
     ]
    },
    {
     "name": "stdout",
     "output_type": "stream",
     "text": [
      "Saved overlay image: D:\\ML_Seagrass\\SourceData\\Oregon\\Oregon\\test\\overlay\\BA_OR_21_row21_col5.png\n",
      "Saved predicted mask for BA_OR_21_row21_col5.png with mIoU score: 0.448\n"
     ]
    },
    {
     "name": "stderr",
     "output_type": "stream",
     "text": [
      " 11%|█▏        | 34/296 [00:12<01:39,  2.63it/s]"
     ]
    },
    {
     "name": "stdout",
     "output_type": "stream",
     "text": [
      "Saved overlay image: D:\\ML_Seagrass\\SourceData\\Oregon\\Oregon\\test\\overlay\\BA_OR_21_row22_col24.png\n",
      "Saved predicted mask for BA_OR_21_row22_col24.png with mIoU score: 0.709\n"
     ]
    },
    {
     "name": "stderr",
     "output_type": "stream",
     "text": [
      " 12%|█▏        | 35/296 [00:13<01:38,  2.64it/s]"
     ]
    },
    {
     "name": "stdout",
     "output_type": "stream",
     "text": [
      "Saved overlay image: D:\\ML_Seagrass\\SourceData\\Oregon\\Oregon\\test\\overlay\\BA_OR_21_row23_col18.png\n",
      "Saved predicted mask for BA_OR_21_row23_col18.png with mIoU score: 0.590\n"
     ]
    },
    {
     "name": "stderr",
     "output_type": "stream",
     "text": [
      " 12%|█▏        | 36/296 [00:13<01:45,  2.46it/s]"
     ]
    },
    {
     "name": "stdout",
     "output_type": "stream",
     "text": [
      "Saved overlay image: D:\\ML_Seagrass\\SourceData\\Oregon\\Oregon\\test\\overlay\\BA_OR_21_row23_col22.png\n",
      "Saved predicted mask for BA_OR_21_row23_col22.png with mIoU score: 0.441\n"
     ]
    },
    {
     "name": "stderr",
     "output_type": "stream",
     "text": [
      " 12%|█▎        | 37/296 [00:13<01:43,  2.49it/s]"
     ]
    },
    {
     "name": "stdout",
     "output_type": "stream",
     "text": [
      "Saved overlay image: D:\\ML_Seagrass\\SourceData\\Oregon\\Oregon\\test\\overlay\\BA_OR_21_row25_col12.png\n",
      "Saved predicted mask for BA_OR_21_row25_col12.png with mIoU score: 0.844\n"
     ]
    },
    {
     "name": "stderr",
     "output_type": "stream",
     "text": [
      " 13%|█▎        | 38/296 [00:14<02:05,  2.05it/s]"
     ]
    },
    {
     "name": "stdout",
     "output_type": "stream",
     "text": [
      "Saved overlay image: D:\\ML_Seagrass\\SourceData\\Oregon\\Oregon\\test\\overlay\\BA_OR_21_row25_col18.png\n",
      "Saved predicted mask for BA_OR_21_row25_col18.png with mIoU score: 0.690\n"
     ]
    },
    {
     "name": "stderr",
     "output_type": "stream",
     "text": [
      " 13%|█▎        | 39/296 [00:14<01:54,  2.24it/s]"
     ]
    },
    {
     "name": "stdout",
     "output_type": "stream",
     "text": [
      "Saved overlay image: D:\\ML_Seagrass\\SourceData\\Oregon\\Oregon\\test\\overlay\\BA_OR_21_row27_col15.png\n",
      "Saved predicted mask for BA_OR_21_row27_col15.png with mIoU score: 0.803\n"
     ]
    },
    {
     "name": "stderr",
     "output_type": "stream",
     "text": [
      " 14%|█▎        | 40/296 [00:15<01:38,  2.61it/s]"
     ]
    },
    {
     "name": "stdout",
     "output_type": "stream",
     "text": [
      "Saved overlay image: D:\\ML_Seagrass\\SourceData\\Oregon\\Oregon\\test\\overlay\\BA_OR_21_row28_col16.png\n",
      "Saved predicted mask for BA_OR_21_row28_col16.png with mIoU score: 0.972\n"
     ]
    },
    {
     "name": "stderr",
     "output_type": "stream",
     "text": [
      " 14%|█▍        | 41/296 [00:15<01:39,  2.56it/s]"
     ]
    },
    {
     "name": "stdout",
     "output_type": "stream",
     "text": [
      "Saved overlay image: D:\\ML_Seagrass\\SourceData\\Oregon\\Oregon\\test\\overlay\\BA_OR_21_row28_col19.png\n",
      "Saved predicted mask for BA_OR_21_row28_col19.png with mIoU score: 0.595\n"
     ]
    },
    {
     "name": "stderr",
     "output_type": "stream",
     "text": [
      " 14%|█▍        | 42/296 [00:16<01:39,  2.55it/s]"
     ]
    },
    {
     "name": "stdout",
     "output_type": "stream",
     "text": [
      "Saved overlay image: D:\\ML_Seagrass\\SourceData\\Oregon\\Oregon\\test\\overlay\\BA_OR_21_row28_col20.png\n",
      "Saved predicted mask for BA_OR_21_row28_col20.png with mIoU score: 0.491\n"
     ]
    },
    {
     "name": "stderr",
     "output_type": "stream",
     "text": [
      " 15%|█▍        | 43/296 [00:16<01:34,  2.68it/s]"
     ]
    },
    {
     "name": "stdout",
     "output_type": "stream",
     "text": [
      "Saved overlay image: D:\\ML_Seagrass\\SourceData\\Oregon\\Oregon\\test\\overlay\\BA_OR_21_row29_col19.png\n",
      "Saved predicted mask for BA_OR_21_row29_col19.png with mIoU score: 0.843\n"
     ]
    },
    {
     "name": "stderr",
     "output_type": "stream",
     "text": [
      " 15%|█▍        | 44/296 [00:16<01:36,  2.60it/s]"
     ]
    },
    {
     "name": "stdout",
     "output_type": "stream",
     "text": [
      "Saved overlay image: D:\\ML_Seagrass\\SourceData\\Oregon\\Oregon\\test\\overlay\\BA_OR_21_row4_col18.png\n",
      "Saved predicted mask for BA_OR_21_row4_col18.png with mIoU score: 0.520\n"
     ]
    },
    {
     "name": "stderr",
     "output_type": "stream",
     "text": [
      " 15%|█▌        | 45/296 [00:17<01:34,  2.66it/s]"
     ]
    },
    {
     "name": "stdout",
     "output_type": "stream",
     "text": [
      "Saved overlay image: D:\\ML_Seagrass\\SourceData\\Oregon\\Oregon\\test\\overlay\\BA_OR_21_row4_col19.png\n",
      "Saved predicted mask for BA_OR_21_row4_col19.png with mIoU score: 0.521\n"
     ]
    },
    {
     "name": "stderr",
     "output_type": "stream",
     "text": [
      " 16%|█▌        | 46/296 [00:17<01:36,  2.60it/s]"
     ]
    },
    {
     "name": "stdout",
     "output_type": "stream",
     "text": [
      "Saved overlay image: D:\\ML_Seagrass\\SourceData\\Oregon\\Oregon\\test\\overlay\\BA_OR_21_row5_col13.png\n",
      "Saved predicted mask for BA_OR_21_row5_col13.png with mIoU score: 0.429\n"
     ]
    },
    {
     "name": "stderr",
     "output_type": "stream",
     "text": [
      " 16%|█▌        | 47/296 [00:17<01:35,  2.60it/s]"
     ]
    },
    {
     "name": "stdout",
     "output_type": "stream",
     "text": [
      "Saved overlay image: D:\\ML_Seagrass\\SourceData\\Oregon\\Oregon\\test\\overlay\\BA_OR_21_row5_col15.png\n",
      "Saved predicted mask for BA_OR_21_row5_col15.png with mIoU score: 0.160\n"
     ]
    },
    {
     "name": "stderr",
     "output_type": "stream",
     "text": [
      " 16%|█▌        | 48/296 [00:18<01:36,  2.58it/s]"
     ]
    },
    {
     "name": "stdout",
     "output_type": "stream",
     "text": [
      "Saved overlay image: D:\\ML_Seagrass\\SourceData\\Oregon\\Oregon\\test\\overlay\\BA_OR_21_row6_col14.png\n",
      "Saved predicted mask for BA_OR_21_row6_col14.png with mIoU score: 0.255\n"
     ]
    },
    {
     "name": "stderr",
     "output_type": "stream",
     "text": [
      " 17%|█▋        | 49/296 [00:18<01:35,  2.57it/s]"
     ]
    },
    {
     "name": "stdout",
     "output_type": "stream",
     "text": [
      "Saved overlay image: D:\\ML_Seagrass\\SourceData\\Oregon\\Oregon\\test\\overlay\\BA_OR_21_row6_col21.png\n",
      "Saved predicted mask for BA_OR_21_row6_col21.png with mIoU score: 0.002\n"
     ]
    },
    {
     "name": "stderr",
     "output_type": "stream",
     "text": [
      " 17%|█▋        | 50/296 [00:19<01:30,  2.71it/s]"
     ]
    },
    {
     "name": "stdout",
     "output_type": "stream",
     "text": [
      "Saved overlay image: D:\\ML_Seagrass\\SourceData\\Oregon\\Oregon\\test\\overlay\\BA_OR_21_row6_col23.png\n",
      "Saved predicted mask for BA_OR_21_row6_col23.png with mIoU score: 0.995\n"
     ]
    },
    {
     "name": "stderr",
     "output_type": "stream",
     "text": [
      " 17%|█▋        | 51/296 [00:19<01:35,  2.56it/s]"
     ]
    },
    {
     "name": "stdout",
     "output_type": "stream",
     "text": [
      "Saved overlay image: D:\\ML_Seagrass\\SourceData\\Oregon\\Oregon\\test\\overlay\\BA_OR_21_row8_col25.png\n",
      "Saved predicted mask for BA_OR_21_row8_col25.png with mIoU score: 0.051\n"
     ]
    },
    {
     "name": "stderr",
     "output_type": "stream",
     "text": [
      " 18%|█▊        | 52/296 [00:19<01:30,  2.70it/s]"
     ]
    },
    {
     "name": "stdout",
     "output_type": "stream",
     "text": [
      "Saved overlay image: D:\\ML_Seagrass\\SourceData\\Oregon\\Oregon\\test\\overlay\\BA_OR_21_row9_col28.png\n",
      "Saved predicted mask for BA_OR_21_row9_col28.png with mIoU score: 0.960\n"
     ]
    },
    {
     "name": "stderr",
     "output_type": "stream",
     "text": [
      " 18%|█▊        | 53/296 [00:20<01:20,  3.04it/s]"
     ]
    },
    {
     "name": "stdout",
     "output_type": "stream",
     "text": [
      "Saved overlay image: D:\\ML_Seagrass\\SourceData\\Oregon\\Oregon\\test\\overlay\\BA_OR_22_row1_col1.png\n",
      "Saved predicted mask for BA_OR_22_row1_col1.png with mIoU score: 0.987\n"
     ]
    },
    {
     "name": "stderr",
     "output_type": "stream",
     "text": [
      " 18%|█▊        | 54/296 [00:20<01:26,  2.81it/s]"
     ]
    },
    {
     "name": "stdout",
     "output_type": "stream",
     "text": [
      "Saved overlay image: D:\\ML_Seagrass\\SourceData\\Oregon\\Oregon\\test\\overlay\\FO_OR_19_row10_col1.png\n",
      "Saved predicted mask for FO_OR_19_row10_col1.png with mIoU score: 0.443\n"
     ]
    },
    {
     "name": "stderr",
     "output_type": "stream",
     "text": [
      " 19%|█▊        | 55/296 [00:20<01:30,  2.66it/s]"
     ]
    },
    {
     "name": "stdout",
     "output_type": "stream",
     "text": [
      "Saved overlay image: D:\\ML_Seagrass\\SourceData\\Oregon\\Oregon\\test\\overlay\\FO_OR_19_row10_col11.png\n",
      "Saved predicted mask for FO_OR_19_row10_col11.png with mIoU score: 0.533\n"
     ]
    },
    {
     "name": "stderr",
     "output_type": "stream",
     "text": [
      " 19%|█▉        | 56/296 [00:21<01:29,  2.67it/s]"
     ]
    },
    {
     "name": "stdout",
     "output_type": "stream",
     "text": [
      "Saved overlay image: D:\\ML_Seagrass\\SourceData\\Oregon\\Oregon\\test\\overlay\\FO_OR_19_row11_col13.png\n",
      "Saved predicted mask for FO_OR_19_row11_col13.png with mIoU score: 0.580\n"
     ]
    },
    {
     "name": "stderr",
     "output_type": "stream",
     "text": [
      " 19%|█▉        | 57/296 [00:21<01:28,  2.71it/s]"
     ]
    },
    {
     "name": "stdout",
     "output_type": "stream",
     "text": [
      "Saved overlay image: D:\\ML_Seagrass\\SourceData\\Oregon\\Oregon\\test\\overlay\\FO_OR_19_row13_col12.png\n",
      "Saved predicted mask for FO_OR_19_row13_col12.png with mIoU score: 0.416\n"
     ]
    },
    {
     "name": "stderr",
     "output_type": "stream",
     "text": [
      " 20%|█▉        | 58/296 [00:21<01:28,  2.70it/s]"
     ]
    },
    {
     "name": "stdout",
     "output_type": "stream",
     "text": [
      "Saved overlay image: D:\\ML_Seagrass\\SourceData\\Oregon\\Oregon\\test\\overlay\\FO_OR_19_row14_col2.png\n",
      "Saved predicted mask for FO_OR_19_row14_col2.png with mIoU score: 0.782\n"
     ]
    },
    {
     "name": "stderr",
     "output_type": "stream",
     "text": [
      " 20%|█▉        | 59/296 [00:22<01:46,  2.23it/s]"
     ]
    },
    {
     "name": "stdout",
     "output_type": "stream",
     "text": [
      "Saved overlay image: D:\\ML_Seagrass\\SourceData\\Oregon\\Oregon\\test\\overlay\\FO_OR_19_row14_col6.png\n",
      "Saved predicted mask for FO_OR_19_row14_col6.png with mIoU score: 0.460\n"
     ]
    },
    {
     "name": "stderr",
     "output_type": "stream",
     "text": [
      " 20%|██        | 60/296 [00:22<01:42,  2.30it/s]"
     ]
    },
    {
     "name": "stdout",
     "output_type": "stream",
     "text": [
      "Saved overlay image: D:\\ML_Seagrass\\SourceData\\Oregon\\Oregon\\test\\overlay\\FO_OR_19_row15_col5.png\n",
      "Saved predicted mask for FO_OR_19_row15_col5.png with mIoU score: 0.928\n"
     ]
    },
    {
     "name": "stderr",
     "output_type": "stream",
     "text": [
      " 21%|██        | 61/296 [00:23<01:36,  2.42it/s]"
     ]
    },
    {
     "name": "stdout",
     "output_type": "stream",
     "text": [
      "Saved overlay image: D:\\ML_Seagrass\\SourceData\\Oregon\\Oregon\\test\\overlay\\FO_OR_19_row16_col8.png\n",
      "Saved predicted mask for FO_OR_19_row16_col8.png with mIoU score: 0.345\n"
     ]
    },
    {
     "name": "stderr",
     "output_type": "stream",
     "text": [
      " 21%|██        | 62/296 [00:23<01:35,  2.44it/s]"
     ]
    },
    {
     "name": "stdout",
     "output_type": "stream",
     "text": [
      "Saved overlay image: D:\\ML_Seagrass\\SourceData\\Oregon\\Oregon\\test\\overlay\\FO_OR_19_row18_col6.png\n",
      "Saved predicted mask for FO_OR_19_row18_col6.png with mIoU score: 0.422\n"
     ]
    },
    {
     "name": "stderr",
     "output_type": "stream",
     "text": [
      " 21%|██▏       | 63/296 [00:24<01:32,  2.52it/s]"
     ]
    },
    {
     "name": "stdout",
     "output_type": "stream",
     "text": [
      "Saved overlay image: D:\\ML_Seagrass\\SourceData\\Oregon\\Oregon\\test\\overlay\\FO_OR_19_row19_col10.png\n",
      "Saved predicted mask for FO_OR_19_row19_col10.png with mIoU score: 0.667\n"
     ]
    },
    {
     "name": "stderr",
     "output_type": "stream",
     "text": [
      " 22%|██▏       | 64/296 [00:24<01:30,  2.56it/s]"
     ]
    },
    {
     "name": "stdout",
     "output_type": "stream",
     "text": [
      "Saved overlay image: D:\\ML_Seagrass\\SourceData\\Oregon\\Oregon\\test\\overlay\\FO_OR_19_row19_col13.png\n",
      "Saved predicted mask for FO_OR_19_row19_col13.png with mIoU score: 0.761\n"
     ]
    },
    {
     "name": "stderr",
     "output_type": "stream",
     "text": [
      " 22%|██▏       | 65/296 [00:24<01:23,  2.76it/s]"
     ]
    },
    {
     "name": "stdout",
     "output_type": "stream",
     "text": [
      "Saved overlay image: D:\\ML_Seagrass\\SourceData\\Oregon\\Oregon\\test\\overlay\\FO_OR_19_row1_col10.png\n",
      "Saved predicted mask for FO_OR_19_row1_col10.png with mIoU score: 0.985\n"
     ]
    },
    {
     "name": "stderr",
     "output_type": "stream",
     "text": [
      " 22%|██▏       | 66/296 [00:25<01:27,  2.64it/s]"
     ]
    },
    {
     "name": "stdout",
     "output_type": "stream",
     "text": [
      "Saved overlay image: D:\\ML_Seagrass\\SourceData\\Oregon\\Oregon\\test\\overlay\\FO_OR_19_row22_col2.png\n",
      "Saved predicted mask for FO_OR_19_row22_col2.png with mIoU score: 0.849\n"
     ]
    },
    {
     "name": "stderr",
     "output_type": "stream",
     "text": [
      " 23%|██▎       | 67/296 [00:25<01:15,  3.04it/s]"
     ]
    },
    {
     "name": "stdout",
     "output_type": "stream",
     "text": [
      "Saved overlay image: D:\\ML_Seagrass\\SourceData\\Oregon\\Oregon\\test\\overlay\\FO_OR_19_row2_col14.png\n",
      "Saved predicted mask for FO_OR_19_row2_col14.png with mIoU score: 0.985\n"
     ]
    },
    {
     "name": "stderr",
     "output_type": "stream",
     "text": [
      " 23%|██▎       | 68/296 [00:25<01:16,  2.99it/s]"
     ]
    },
    {
     "name": "stdout",
     "output_type": "stream",
     "text": [
      "Saved overlay image: D:\\ML_Seagrass\\SourceData\\Oregon\\Oregon\\test\\overlay\\FO_OR_19_row4_col13.png\n",
      "Saved predicted mask for FO_OR_19_row4_col13.png with mIoU score: 0.093\n"
     ]
    },
    {
     "name": "stderr",
     "output_type": "stream",
     "text": [
      " 23%|██▎       | 69/296 [00:26<01:17,  2.92it/s]"
     ]
    },
    {
     "name": "stdout",
     "output_type": "stream",
     "text": [
      "Saved overlay image: D:\\ML_Seagrass\\SourceData\\Oregon\\Oregon\\test\\overlay\\FO_OR_19_row6_col12.png\n",
      "Saved predicted mask for FO_OR_19_row6_col12.png with mIoU score: 0.407\n"
     ]
    },
    {
     "name": "stderr",
     "output_type": "stream",
     "text": [
      " 24%|██▎       | 70/296 [00:26<01:14,  3.05it/s]"
     ]
    },
    {
     "name": "stdout",
     "output_type": "stream",
     "text": [
      "Saved overlay image: D:\\ML_Seagrass\\SourceData\\Oregon\\Oregon\\test\\overlay\\FO_OR_19_row6_col14.png\n",
      "Saved predicted mask for FO_OR_19_row6_col14.png with mIoU score: 0.886\n"
     ]
    },
    {
     "name": "stderr",
     "output_type": "stream",
     "text": [
      " 24%|██▍       | 71/296 [00:26<01:15,  2.98it/s]"
     ]
    },
    {
     "name": "stdout",
     "output_type": "stream",
     "text": [
      "Saved overlay image: D:\\ML_Seagrass\\SourceData\\Oregon\\Oregon\\test\\overlay\\FO_OR_19_row8_col6.png\n",
      "Saved predicted mask for FO_OR_19_row8_col6.png with mIoU score: 0.150\n"
     ]
    },
    {
     "name": "stderr",
     "output_type": "stream",
     "text": [
      " 24%|██▍       | 72/296 [00:27<01:17,  2.88it/s]"
     ]
    },
    {
     "name": "stdout",
     "output_type": "stream",
     "text": [
      "Saved overlay image: D:\\ML_Seagrass\\SourceData\\Oregon\\Oregon\\test\\overlay\\FO_OR_21_row10_col19.png\n",
      "Saved predicted mask for FO_OR_21_row10_col19.png with mIoU score: 0.812\n"
     ]
    },
    {
     "name": "stderr",
     "output_type": "stream",
     "text": [
      " 25%|██▍       | 73/296 [00:27<01:18,  2.85it/s]"
     ]
    },
    {
     "name": "stdout",
     "output_type": "stream",
     "text": [
      "Saved overlay image: D:\\ML_Seagrass\\SourceData\\Oregon\\Oregon\\test\\overlay\\FO_OR_21_row10_col22.png\n",
      "Saved predicted mask for FO_OR_21_row10_col22.png with mIoU score: 0.658\n"
     ]
    },
    {
     "name": "stderr",
     "output_type": "stream",
     "text": [
      " 25%|██▌       | 74/296 [00:27<01:20,  2.76it/s]"
     ]
    },
    {
     "name": "stdout",
     "output_type": "stream",
     "text": [
      "Saved overlay image: D:\\ML_Seagrass\\SourceData\\Oregon\\Oregon\\test\\overlay\\FO_OR_21_row11_col17.png\n",
      "Saved predicted mask for FO_OR_21_row11_col17.png with mIoU score: 0.924\n"
     ]
    },
    {
     "name": "stderr",
     "output_type": "stream",
     "text": [
      " 25%|██▌       | 75/296 [00:28<01:20,  2.73it/s]"
     ]
    },
    {
     "name": "stdout",
     "output_type": "stream",
     "text": [
      "Saved overlay image: D:\\ML_Seagrass\\SourceData\\Oregon\\Oregon\\test\\overlay\\FO_OR_21_row11_col19.png\n",
      "Saved predicted mask for FO_OR_21_row11_col19.png with mIoU score: 0.744\n"
     ]
    },
    {
     "name": "stderr",
     "output_type": "stream",
     "text": [
      " 26%|██▌       | 76/296 [00:28<01:19,  2.75it/s]"
     ]
    },
    {
     "name": "stdout",
     "output_type": "stream",
     "text": [
      "Saved overlay image: D:\\ML_Seagrass\\SourceData\\Oregon\\Oregon\\test\\overlay\\FO_OR_21_row11_col6.png\n",
      "Saved predicted mask for FO_OR_21_row11_col6.png with mIoU score: 0.899\n"
     ]
    },
    {
     "name": "stderr",
     "output_type": "stream",
     "text": [
      " 26%|██▌       | 77/296 [00:29<01:23,  2.63it/s]"
     ]
    },
    {
     "name": "stdout",
     "output_type": "stream",
     "text": [
      "Saved overlay image: D:\\ML_Seagrass\\SourceData\\Oregon\\Oregon\\test\\overlay\\FO_OR_21_row14_col18.png\n",
      "Saved predicted mask for FO_OR_21_row14_col18.png with mIoU score: 0.399\n"
     ]
    },
    {
     "name": "stderr",
     "output_type": "stream",
     "text": [
      " 26%|██▋       | 78/296 [00:29<01:41,  2.14it/s]"
     ]
    },
    {
     "name": "stdout",
     "output_type": "stream",
     "text": [
      "Saved overlay image: D:\\ML_Seagrass\\SourceData\\Oregon\\Oregon\\test\\overlay\\FO_OR_21_row17_col16.png\n",
      "Saved predicted mask for FO_OR_21_row17_col16.png with mIoU score: 0.347\n"
     ]
    },
    {
     "name": "stderr",
     "output_type": "stream",
     "text": [
      " 27%|██▋       | 79/296 [00:30<01:36,  2.26it/s]"
     ]
    },
    {
     "name": "stdout",
     "output_type": "stream",
     "text": [
      "Saved overlay image: D:\\ML_Seagrass\\SourceData\\Oregon\\Oregon\\test\\overlay\\FO_OR_21_row19_col14.png\n",
      "Saved predicted mask for FO_OR_21_row19_col14.png with mIoU score: 0.443\n"
     ]
    },
    {
     "name": "stderr",
     "output_type": "stream",
     "text": [
      " 27%|██▋       | 80/296 [00:30<01:30,  2.40it/s]"
     ]
    },
    {
     "name": "stdout",
     "output_type": "stream",
     "text": [
      "Saved overlay image: D:\\ML_Seagrass\\SourceData\\Oregon\\Oregon\\test\\overlay\\FO_OR_21_row21_col16.png\n",
      "Saved predicted mask for FO_OR_21_row21_col16.png with mIoU score: 0.894\n"
     ]
    },
    {
     "name": "stderr",
     "output_type": "stream",
     "text": [
      " 27%|██▋       | 81/296 [00:30<01:27,  2.46it/s]"
     ]
    },
    {
     "name": "stdout",
     "output_type": "stream",
     "text": [
      "Saved overlay image: D:\\ML_Seagrass\\SourceData\\Oregon\\Oregon\\test\\overlay\\FO_OR_21_row21_col8.png\n",
      "Saved predicted mask for FO_OR_21_row21_col8.png with mIoU score: 0.943\n"
     ]
    },
    {
     "name": "stderr",
     "output_type": "stream",
     "text": [
      " 28%|██▊       | 82/296 [00:31<01:25,  2.50it/s]"
     ]
    },
    {
     "name": "stdout",
     "output_type": "stream",
     "text": [
      "Saved overlay image: D:\\ML_Seagrass\\SourceData\\Oregon\\Oregon\\test\\overlay\\FO_OR_21_row22_col13.png\n",
      "Saved predicted mask for FO_OR_21_row22_col13.png with mIoU score: 0.810\n"
     ]
    },
    {
     "name": "stderr",
     "output_type": "stream",
     "text": [
      " 28%|██▊       | 83/296 [00:31<01:24,  2.52it/s]"
     ]
    },
    {
     "name": "stdout",
     "output_type": "stream",
     "text": [
      "Saved overlay image: D:\\ML_Seagrass\\SourceData\\Oregon\\Oregon\\test\\overlay\\FO_OR_21_row23_col9.png\n",
      "Saved predicted mask for FO_OR_21_row23_col9.png with mIoU score: 0.387\n"
     ]
    },
    {
     "name": "stderr",
     "output_type": "stream",
     "text": [
      " 28%|██▊       | 84/296 [00:32<01:25,  2.49it/s]"
     ]
    },
    {
     "name": "stdout",
     "output_type": "stream",
     "text": [
      "Saved overlay image: D:\\ML_Seagrass\\SourceData\\Oregon\\Oregon\\test\\overlay\\FO_OR_21_row24_col19.png\n",
      "Saved predicted mask for FO_OR_21_row24_col19.png with mIoU score: 0.888\n"
     ]
    },
    {
     "name": "stderr",
     "output_type": "stream",
     "text": [
      " 29%|██▊       | 85/296 [00:32<01:23,  2.54it/s]"
     ]
    },
    {
     "name": "stdout",
     "output_type": "stream",
     "text": [
      "Saved overlay image: D:\\ML_Seagrass\\SourceData\\Oregon\\Oregon\\test\\overlay\\FO_OR_21_row26_col10.png\n",
      "Saved predicted mask for FO_OR_21_row26_col10.png with mIoU score: 0.455\n"
     ]
    },
    {
     "name": "stderr",
     "output_type": "stream",
     "text": [
      " 29%|██▉       | 86/296 [00:32<01:20,  2.61it/s]"
     ]
    },
    {
     "name": "stdout",
     "output_type": "stream",
     "text": [
      "Saved overlay image: D:\\ML_Seagrass\\SourceData\\Oregon\\Oregon\\test\\overlay\\FO_OR_21_row26_col2.png\n",
      "Saved predicted mask for FO_OR_21_row26_col2.png with mIoU score: 0.927\n"
     ]
    },
    {
     "name": "stderr",
     "output_type": "stream",
     "text": [
      " 29%|██▉       | 87/296 [00:33<01:22,  2.55it/s]"
     ]
    },
    {
     "name": "stdout",
     "output_type": "stream",
     "text": [
      "Saved overlay image: D:\\ML_Seagrass\\SourceData\\Oregon\\Oregon\\test\\overlay\\FO_OR_21_row26_col22.png\n",
      "Saved predicted mask for FO_OR_21_row26_col22.png with mIoU score: 0.867\n"
     ]
    },
    {
     "name": "stderr",
     "output_type": "stream",
     "text": [
      " 30%|██▉       | 88/296 [00:33<01:19,  2.61it/s]"
     ]
    },
    {
     "name": "stdout",
     "output_type": "stream",
     "text": [
      "Saved overlay image: D:\\ML_Seagrass\\SourceData\\Oregon\\Oregon\\test\\overlay\\FO_OR_21_row26_col25.png\n",
      "Saved predicted mask for FO_OR_21_row26_col25.png with mIoU score: 0.652\n"
     ]
    },
    {
     "name": "stderr",
     "output_type": "stream",
     "text": [
      " 30%|███       | 89/296 [00:33<01:20,  2.56it/s]"
     ]
    },
    {
     "name": "stdout",
     "output_type": "stream",
     "text": [
      "Saved overlay image: D:\\ML_Seagrass\\SourceData\\Oregon\\Oregon\\test\\overlay\\FO_OR_21_row26_col6.png\n",
      "Saved predicted mask for FO_OR_21_row26_col6.png with mIoU score: 0.804\n"
     ]
    },
    {
     "name": "stderr",
     "output_type": "stream",
     "text": [
      " 30%|███       | 90/296 [00:34<01:19,  2.60it/s]"
     ]
    },
    {
     "name": "stdout",
     "output_type": "stream",
     "text": [
      "Saved overlay image: D:\\ML_Seagrass\\SourceData\\Oregon\\Oregon\\test\\overlay\\FO_OR_21_row26_col8.png\n",
      "Saved predicted mask for FO_OR_21_row26_col8.png with mIoU score: 0.405\n"
     ]
    },
    {
     "name": "stderr",
     "output_type": "stream",
     "text": [
      " 31%|███       | 91/296 [00:34<01:18,  2.61it/s]"
     ]
    },
    {
     "name": "stdout",
     "output_type": "stream",
     "text": [
      "Saved overlay image: D:\\ML_Seagrass\\SourceData\\Oregon\\Oregon\\test\\overlay\\FO_OR_21_row27_col15.png\n",
      "Saved predicted mask for FO_OR_21_row27_col15.png with mIoU score: 0.561\n"
     ]
    },
    {
     "name": "stderr",
     "output_type": "stream",
     "text": [
      " 31%|███       | 92/296 [00:35<01:20,  2.53it/s]"
     ]
    },
    {
     "name": "stdout",
     "output_type": "stream",
     "text": [
      "Saved overlay image: D:\\ML_Seagrass\\SourceData\\Oregon\\Oregon\\test\\overlay\\FO_OR_21_row27_col8.png\n",
      "Saved predicted mask for FO_OR_21_row27_col8.png with mIoU score: 0.353\n"
     ]
    },
    {
     "name": "stderr",
     "output_type": "stream",
     "text": [
      " 31%|███▏      | 93/296 [00:35<01:20,  2.53it/s]"
     ]
    },
    {
     "name": "stdout",
     "output_type": "stream",
     "text": [
      "Saved overlay image: D:\\ML_Seagrass\\SourceData\\Oregon\\Oregon\\test\\overlay\\FO_OR_21_row28_col10.png\n",
      "Saved predicted mask for FO_OR_21_row28_col10.png with mIoU score: 0.501\n"
     ]
    },
    {
     "name": "stderr",
     "output_type": "stream",
     "text": [
      " 32%|███▏      | 94/296 [00:35<01:20,  2.50it/s]"
     ]
    },
    {
     "name": "stdout",
     "output_type": "stream",
     "text": [
      "Saved overlay image: D:\\ML_Seagrass\\SourceData\\Oregon\\Oregon\\test\\overlay\\FO_OR_21_row28_col12.png\n",
      "Saved predicted mask for FO_OR_21_row28_col12.png with mIoU score: 0.945\n"
     ]
    },
    {
     "name": "stderr",
     "output_type": "stream",
     "text": [
      " 32%|███▏      | 95/296 [00:36<01:21,  2.47it/s]"
     ]
    },
    {
     "name": "stdout",
     "output_type": "stream",
     "text": [
      "Saved overlay image: D:\\ML_Seagrass\\SourceData\\Oregon\\Oregon\\test\\overlay\\FO_OR_21_row28_col16.png\n",
      "Saved predicted mask for FO_OR_21_row28_col16.png with mIoU score: 0.922\n"
     ]
    },
    {
     "name": "stderr",
     "output_type": "stream",
     "text": [
      " 32%|███▏      | 96/296 [00:36<01:20,  2.48it/s]"
     ]
    },
    {
     "name": "stdout",
     "output_type": "stream",
     "text": [
      "Saved overlay image: D:\\ML_Seagrass\\SourceData\\Oregon\\Oregon\\test\\overlay\\FO_OR_21_row28_col9.png\n",
      "Saved predicted mask for FO_OR_21_row28_col9.png with mIoU score: 0.497\n"
     ]
    },
    {
     "name": "stderr",
     "output_type": "stream",
     "text": [
      " 33%|███▎      | 97/296 [00:37<01:19,  2.49it/s]"
     ]
    },
    {
     "name": "stdout",
     "output_type": "stream",
     "text": [
      "Saved overlay image: D:\\ML_Seagrass\\SourceData\\Oregon\\Oregon\\test\\overlay\\FO_OR_21_row29_col16.png\n",
      "Saved predicted mask for FO_OR_21_row29_col16.png with mIoU score: 0.713\n"
     ]
    },
    {
     "name": "stderr",
     "output_type": "stream",
     "text": [
      " 33%|███▎      | 98/296 [00:37<01:19,  2.50it/s]"
     ]
    },
    {
     "name": "stdout",
     "output_type": "stream",
     "text": [
      "Saved overlay image: D:\\ML_Seagrass\\SourceData\\Oregon\\Oregon\\test\\overlay\\FO_OR_21_row2_col14.png\n",
      "Saved predicted mask for FO_OR_21_row2_col14.png with mIoU score: 0.650\n"
     ]
    },
    {
     "name": "stderr",
     "output_type": "stream",
     "text": [
      " 33%|███▎      | 99/296 [00:37<01:18,  2.51it/s]"
     ]
    },
    {
     "name": "stdout",
     "output_type": "stream",
     "text": [
      "Saved overlay image: D:\\ML_Seagrass\\SourceData\\Oregon\\Oregon\\test\\overlay\\FO_OR_21_row2_col18.png\n",
      "Saved predicted mask for FO_OR_21_row2_col18.png with mIoU score: 0.430\n"
     ]
    },
    {
     "name": "stderr",
     "output_type": "stream",
     "text": [
      " 34%|███▍      | 100/296 [00:38<01:17,  2.54it/s]"
     ]
    },
    {
     "name": "stdout",
     "output_type": "stream",
     "text": [
      "Saved overlay image: D:\\ML_Seagrass\\SourceData\\Oregon\\Oregon\\test\\overlay\\FO_OR_21_row2_col19.png\n",
      "Saved predicted mask for FO_OR_21_row2_col19.png with mIoU score: 0.343\n"
     ]
    },
    {
     "name": "stderr",
     "output_type": "stream",
     "text": [
      " 34%|███▍      | 101/296 [00:38<01:16,  2.53it/s]"
     ]
    },
    {
     "name": "stdout",
     "output_type": "stream",
     "text": [
      "Saved overlay image: D:\\ML_Seagrass\\SourceData\\Oregon\\Oregon\\test\\overlay\\FO_OR_21_row2_col23.png\n",
      "Saved predicted mask for FO_OR_21_row2_col23.png with mIoU score: 0.726\n"
     ]
    },
    {
     "name": "stderr",
     "output_type": "stream",
     "text": [
      " 34%|███▍      | 102/296 [00:39<01:19,  2.43it/s]"
     ]
    },
    {
     "name": "stdout",
     "output_type": "stream",
     "text": [
      "Saved overlay image: D:\\ML_Seagrass\\SourceData\\Oregon\\Oregon\\test\\overlay\\FO_OR_21_row30_col19.png\n",
      "Saved predicted mask for FO_OR_21_row30_col19.png with mIoU score: 0.414\n"
     ]
    },
    {
     "name": "stderr",
     "output_type": "stream",
     "text": [
      " 35%|███▍      | 103/296 [00:39<01:16,  2.52it/s]"
     ]
    },
    {
     "name": "stdout",
     "output_type": "stream",
     "text": [
      "Saved overlay image: D:\\ML_Seagrass\\SourceData\\Oregon\\Oregon\\test\\overlay\\FO_OR_21_row30_col20.png\n",
      "Saved predicted mask for FO_OR_21_row30_col20.png with mIoU score: 0.609\n"
     ]
    },
    {
     "name": "stderr",
     "output_type": "stream",
     "text": [
      " 35%|███▌      | 104/296 [00:39<01:15,  2.55it/s]"
     ]
    },
    {
     "name": "stdout",
     "output_type": "stream",
     "text": [
      "Saved overlay image: D:\\ML_Seagrass\\SourceData\\Oregon\\Oregon\\test\\overlay\\FO_OR_21_row31_col17.png\n",
      "Saved predicted mask for FO_OR_21_row31_col17.png with mIoU score: 0.597\n"
     ]
    },
    {
     "name": "stderr",
     "output_type": "stream",
     "text": [
      " 35%|███▌      | 105/296 [00:40<01:29,  2.14it/s]"
     ]
    },
    {
     "name": "stdout",
     "output_type": "stream",
     "text": [
      "Saved overlay image: D:\\ML_Seagrass\\SourceData\\Oregon\\Oregon\\test\\overlay\\FO_OR_21_row31_col22.png\n",
      "Saved predicted mask for FO_OR_21_row31_col22.png with mIoU score: 0.935\n"
     ]
    },
    {
     "name": "stderr",
     "output_type": "stream",
     "text": [
      " 36%|███▌      | 106/296 [00:40<01:21,  2.34it/s]"
     ]
    },
    {
     "name": "stdout",
     "output_type": "stream",
     "text": [
      "Saved overlay image: D:\\ML_Seagrass\\SourceData\\Oregon\\Oregon\\test\\overlay\\FO_OR_21_row31_col5.png\n",
      "Saved predicted mask for FO_OR_21_row31_col5.png with mIoU score: 0.735\n"
     ]
    },
    {
     "name": "stderr",
     "output_type": "stream",
     "text": [
      " 36%|███▌      | 107/296 [00:41<01:19,  2.39it/s]"
     ]
    },
    {
     "name": "stdout",
     "output_type": "stream",
     "text": [
      "Saved overlay image: D:\\ML_Seagrass\\SourceData\\Oregon\\Oregon\\test\\overlay\\FO_OR_21_row32_col15.png\n",
      "Saved predicted mask for FO_OR_21_row32_col15.png with mIoU score: 0.902\n"
     ]
    },
    {
     "name": "stderr",
     "output_type": "stream",
     "text": [
      " 36%|███▋      | 108/296 [00:41<01:16,  2.46it/s]"
     ]
    },
    {
     "name": "stdout",
     "output_type": "stream",
     "text": [
      "Saved overlay image: D:\\ML_Seagrass\\SourceData\\Oregon\\Oregon\\test\\overlay\\FO_OR_21_row32_col3.png\n",
      "Saved predicted mask for FO_OR_21_row32_col3.png with mIoU score: 0.806\n"
     ]
    },
    {
     "name": "stderr",
     "output_type": "stream",
     "text": [
      " 37%|███▋      | 109/296 [00:42<01:13,  2.55it/s]"
     ]
    },
    {
     "name": "stdout",
     "output_type": "stream",
     "text": [
      "Saved overlay image: D:\\ML_Seagrass\\SourceData\\Oregon\\Oregon\\test\\overlay\\FO_OR_21_row33_col12.png\n",
      "Saved predicted mask for FO_OR_21_row33_col12.png with mIoU score: 0.912\n"
     ]
    },
    {
     "name": "stderr",
     "output_type": "stream",
     "text": [
      " 37%|███▋      | 110/296 [00:42<01:11,  2.59it/s]"
     ]
    },
    {
     "name": "stdout",
     "output_type": "stream",
     "text": [
      "Saved overlay image: D:\\ML_Seagrass\\SourceData\\Oregon\\Oregon\\test\\overlay\\FO_OR_21_row33_col13.png\n",
      "Saved predicted mask for FO_OR_21_row33_col13.png with mIoU score: 0.929\n"
     ]
    },
    {
     "name": "stderr",
     "output_type": "stream",
     "text": [
      " 38%|███▊      | 111/296 [00:42<01:10,  2.61it/s]"
     ]
    },
    {
     "name": "stdout",
     "output_type": "stream",
     "text": [
      "Saved overlay image: D:\\ML_Seagrass\\SourceData\\Oregon\\Oregon\\test\\overlay\\FO_OR_21_row33_col2.png\n",
      "Saved predicted mask for FO_OR_21_row33_col2.png with mIoU score: 0.620\n"
     ]
    },
    {
     "name": "stderr",
     "output_type": "stream",
     "text": [
      " 38%|███▊      | 112/296 [00:43<01:10,  2.62it/s]"
     ]
    },
    {
     "name": "stdout",
     "output_type": "stream",
     "text": [
      "Saved overlay image: D:\\ML_Seagrass\\SourceData\\Oregon\\Oregon\\test\\overlay\\FO_OR_21_row33_col6.png\n",
      "Saved predicted mask for FO_OR_21_row33_col6.png with mIoU score: 0.805\n"
     ]
    },
    {
     "name": "stderr",
     "output_type": "stream",
     "text": [
      " 38%|███▊      | 113/296 [00:43<01:08,  2.69it/s]"
     ]
    },
    {
     "name": "stdout",
     "output_type": "stream",
     "text": [
      "Saved overlay image: D:\\ML_Seagrass\\SourceData\\Oregon\\Oregon\\test\\overlay\\FO_OR_21_row34_col10.png\n",
      "Saved predicted mask for FO_OR_21_row34_col10.png with mIoU score: 0.906\n"
     ]
    },
    {
     "name": "stderr",
     "output_type": "stream",
     "text": [
      " 39%|███▊      | 114/296 [00:43<01:06,  2.74it/s]"
     ]
    },
    {
     "name": "stdout",
     "output_type": "stream",
     "text": [
      "Saved overlay image: D:\\ML_Seagrass\\SourceData\\Oregon\\Oregon\\test\\overlay\\FO_OR_21_row34_col17.png\n",
      "Saved predicted mask for FO_OR_21_row34_col17.png with mIoU score: 0.634\n"
     ]
    },
    {
     "name": "stderr",
     "output_type": "stream",
     "text": [
      " 39%|███▉      | 115/296 [00:44<01:07,  2.70it/s]"
     ]
    },
    {
     "name": "stdout",
     "output_type": "stream",
     "text": [
      "Saved overlay image: D:\\ML_Seagrass\\SourceData\\Oregon\\Oregon\\test\\overlay\\FO_OR_21_row34_col22.png\n",
      "Saved predicted mask for FO_OR_21_row34_col22.png with mIoU score: 0.630\n"
     ]
    },
    {
     "name": "stderr",
     "output_type": "stream",
     "text": [
      " 39%|███▉      | 116/296 [00:44<01:06,  2.70it/s]"
     ]
    },
    {
     "name": "stdout",
     "output_type": "stream",
     "text": [
      "Saved overlay image: D:\\ML_Seagrass\\SourceData\\Oregon\\Oregon\\test\\overlay\\FO_OR_21_row36_col8.png\n",
      "Saved predicted mask for FO_OR_21_row36_col8.png with mIoU score: 0.841\n"
     ]
    },
    {
     "name": "stderr",
     "output_type": "stream",
     "text": [
      " 40%|███▉      | 117/296 [00:44<01:06,  2.71it/s]"
     ]
    },
    {
     "name": "stdout",
     "output_type": "stream",
     "text": [
      "Saved overlay image: D:\\ML_Seagrass\\SourceData\\Oregon\\Oregon\\test\\overlay\\FO_OR_21_row37_col1.png\n",
      "Saved predicted mask for FO_OR_21_row37_col1.png with mIoU score: 0.835\n"
     ]
    },
    {
     "name": "stderr",
     "output_type": "stream",
     "text": [
      " 40%|███▉      | 118/296 [00:45<01:07,  2.64it/s]"
     ]
    },
    {
     "name": "stdout",
     "output_type": "stream",
     "text": [
      "Saved overlay image: D:\\ML_Seagrass\\SourceData\\Oregon\\Oregon\\test\\overlay\\FO_OR_21_row37_col14.png\n",
      "Saved predicted mask for FO_OR_21_row37_col14.png with mIoU score: 0.429\n"
     ]
    },
    {
     "name": "stderr",
     "output_type": "stream",
     "text": [
      " 40%|████      | 119/296 [00:46<01:20,  2.20it/s]"
     ]
    },
    {
     "name": "stdout",
     "output_type": "stream",
     "text": [
      "Saved overlay image: D:\\ML_Seagrass\\SourceData\\Oregon\\Oregon\\test\\overlay\\FO_OR_21_row37_col15.png\n",
      "Saved predicted mask for FO_OR_21_row37_col15.png with mIoU score: 0.946\n"
     ]
    },
    {
     "name": "stderr",
     "output_type": "stream",
     "text": [
      " 41%|████      | 120/296 [00:46<01:16,  2.30it/s]"
     ]
    },
    {
     "name": "stdout",
     "output_type": "stream",
     "text": [
      "Saved overlay image: D:\\ML_Seagrass\\SourceData\\Oregon\\Oregon\\test\\overlay\\FO_OR_21_row37_col16.png\n",
      "Saved predicted mask for FO_OR_21_row37_col16.png with mIoU score: 0.801\n"
     ]
    },
    {
     "name": "stderr",
     "output_type": "stream",
     "text": [
      " 41%|████      | 121/296 [00:46<01:15,  2.31it/s]"
     ]
    },
    {
     "name": "stdout",
     "output_type": "stream",
     "text": [
      "Saved overlay image: D:\\ML_Seagrass\\SourceData\\Oregon\\Oregon\\test\\overlay\\FO_OR_21_row37_col17.png\n",
      "Saved predicted mask for FO_OR_21_row37_col17.png with mIoU score: 0.950\n"
     ]
    },
    {
     "name": "stderr",
     "output_type": "stream",
     "text": [
      " 41%|████      | 122/296 [00:47<01:12,  2.41it/s]"
     ]
    },
    {
     "name": "stdout",
     "output_type": "stream",
     "text": [
      "Saved overlay image: D:\\ML_Seagrass\\SourceData\\Oregon\\Oregon\\test\\overlay\\FO_OR_21_row37_col23.png\n",
      "Saved predicted mask for FO_OR_21_row37_col23.png with mIoU score: 0.537\n"
     ]
    },
    {
     "name": "stderr",
     "output_type": "stream",
     "text": [
      " 42%|████▏     | 123/296 [00:47<01:08,  2.53it/s]"
     ]
    },
    {
     "name": "stdout",
     "output_type": "stream",
     "text": [
      "Saved overlay image: D:\\ML_Seagrass\\SourceData\\Oregon\\Oregon\\test\\overlay\\FO_OR_21_row37_col24.png\n",
      "Saved predicted mask for FO_OR_21_row37_col24.png with mIoU score: 0.943\n"
     ]
    },
    {
     "name": "stderr",
     "output_type": "stream",
     "text": [
      " 42%|████▏     | 124/296 [00:47<01:08,  2.51it/s]"
     ]
    },
    {
     "name": "stdout",
     "output_type": "stream",
     "text": [
      "Saved overlay image: D:\\ML_Seagrass\\SourceData\\Oregon\\Oregon\\test\\overlay\\FO_OR_21_row37_col3.png\n",
      "Saved predicted mask for FO_OR_21_row37_col3.png with mIoU score: 0.667\n"
     ]
    },
    {
     "name": "stderr",
     "output_type": "stream",
     "text": [
      " 42%|████▏     | 125/296 [00:48<01:13,  2.34it/s]"
     ]
    },
    {
     "name": "stdout",
     "output_type": "stream",
     "text": [
      "Saved overlay image: D:\\ML_Seagrass\\SourceData\\Oregon\\Oregon\\test\\overlay\\FO_OR_21_row38_col12.png\n",
      "Saved predicted mask for FO_OR_21_row38_col12.png with mIoU score: 0.568\n"
     ]
    },
    {
     "name": "stderr",
     "output_type": "stream",
     "text": [
      " 43%|████▎     | 126/296 [00:48<01:12,  2.35it/s]"
     ]
    },
    {
     "name": "stdout",
     "output_type": "stream",
     "text": [
      "Saved overlay image: D:\\ML_Seagrass\\SourceData\\Oregon\\Oregon\\test\\overlay\\FO_OR_21_row38_col9.png\n",
      "Saved predicted mask for FO_OR_21_row38_col9.png with mIoU score: 0.881\n"
     ]
    },
    {
     "name": "stderr",
     "output_type": "stream",
     "text": [
      " 43%|████▎     | 127/296 [00:49<01:07,  2.52it/s]"
     ]
    },
    {
     "name": "stdout",
     "output_type": "stream",
     "text": [
      "Saved overlay image: D:\\ML_Seagrass\\SourceData\\Oregon\\Oregon\\test\\overlay\\FO_OR_21_row39_col23.png\n",
      "Saved predicted mask for FO_OR_21_row39_col23.png with mIoU score: 0.641\n"
     ]
    },
    {
     "name": "stderr",
     "output_type": "stream",
     "text": [
      " 43%|████▎     | 128/296 [00:49<01:03,  2.63it/s]"
     ]
    },
    {
     "name": "stdout",
     "output_type": "stream",
     "text": [
      "Saved overlay image: D:\\ML_Seagrass\\SourceData\\Oregon\\Oregon\\test\\overlay\\FO_OR_21_row39_col24.png\n",
      "Saved predicted mask for FO_OR_21_row39_col24.png with mIoU score: 0.830\n"
     ]
    },
    {
     "name": "stderr",
     "output_type": "stream",
     "text": [
      " 44%|████▎     | 129/296 [00:49<01:03,  2.63it/s]"
     ]
    },
    {
     "name": "stdout",
     "output_type": "stream",
     "text": [
      "Saved overlay image: D:\\ML_Seagrass\\SourceData\\Oregon\\Oregon\\test\\overlay\\FO_OR_21_row39_col26.png\n",
      "Saved predicted mask for FO_OR_21_row39_col26.png with mIoU score: 0.872\n"
     ]
    },
    {
     "name": "stderr",
     "output_type": "stream",
     "text": [
      " 44%|████▍     | 130/296 [00:50<01:01,  2.68it/s]"
     ]
    },
    {
     "name": "stdout",
     "output_type": "stream",
     "text": [
      "Saved overlay image: D:\\ML_Seagrass\\SourceData\\Oregon\\Oregon\\test\\overlay\\FO_OR_21_row41_col14.png\n",
      "Saved predicted mask for FO_OR_21_row41_col14.png with mIoU score: 0.329\n"
     ]
    },
    {
     "name": "stderr",
     "output_type": "stream",
     "text": [
      " 44%|████▍     | 131/296 [00:50<01:02,  2.66it/s]"
     ]
    },
    {
     "name": "stdout",
     "output_type": "stream",
     "text": [
      "Saved overlay image: D:\\ML_Seagrass\\SourceData\\Oregon\\Oregon\\test\\overlay\\FO_OR_21_row4_col15.png\n",
      "Saved predicted mask for FO_OR_21_row4_col15.png with mIoU score: 0.314\n"
     ]
    },
    {
     "name": "stderr",
     "output_type": "stream",
     "text": [
      " 45%|████▍     | 132/296 [00:51<01:01,  2.65it/s]"
     ]
    },
    {
     "name": "stdout",
     "output_type": "stream",
     "text": [
      "Saved overlay image: D:\\ML_Seagrass\\SourceData\\Oregon\\Oregon\\test\\overlay\\FO_OR_21_row4_col17.png\n",
      "Saved predicted mask for FO_OR_21_row4_col17.png with mIoU score: 0.642\n"
     ]
    },
    {
     "name": "stderr",
     "output_type": "stream",
     "text": [
      " 45%|████▍     | 133/296 [00:51<01:03,  2.58it/s]"
     ]
    },
    {
     "name": "stdout",
     "output_type": "stream",
     "text": [
      "Saved overlay image: D:\\ML_Seagrass\\SourceData\\Oregon\\Oregon\\test\\overlay\\FO_OR_21_row6_col18.png\n",
      "Saved predicted mask for FO_OR_21_row6_col18.png with mIoU score: 0.825\n"
     ]
    },
    {
     "name": "stderr",
     "output_type": "stream",
     "text": [
      " 45%|████▌     | 134/296 [00:51<01:03,  2.54it/s]"
     ]
    },
    {
     "name": "stdout",
     "output_type": "stream",
     "text": [
      "Saved overlay image: D:\\ML_Seagrass\\SourceData\\Oregon\\Oregon\\test\\overlay\\FO_OR_22_row10_col13.png\n",
      "Saved predicted mask for FO_OR_22_row10_col13.png with mIoU score: 0.243\n"
     ]
    },
    {
     "name": "stderr",
     "output_type": "stream",
     "text": [
      " 46%|████▌     | 135/296 [00:52<01:03,  2.52it/s]"
     ]
    },
    {
     "name": "stdout",
     "output_type": "stream",
     "text": [
      "Saved overlay image: D:\\ML_Seagrass\\SourceData\\Oregon\\Oregon\\test\\overlay\\FO_OR_22_row12_col14.png\n",
      "Saved predicted mask for FO_OR_22_row12_col14.png with mIoU score: 0.103\n"
     ]
    },
    {
     "name": "stderr",
     "output_type": "stream",
     "text": [
      " 46%|████▌     | 136/296 [00:52<01:02,  2.57it/s]"
     ]
    },
    {
     "name": "stdout",
     "output_type": "stream",
     "text": [
      "Saved overlay image: D:\\ML_Seagrass\\SourceData\\Oregon\\Oregon\\test\\overlay\\FO_OR_22_row14_col15.png\n",
      "Saved predicted mask for FO_OR_22_row14_col15.png with mIoU score: 0.882\n"
     ]
    },
    {
     "name": "stderr",
     "output_type": "stream",
     "text": [
      " 46%|████▋     | 137/296 [00:53<01:04,  2.45it/s]"
     ]
    },
    {
     "name": "stdout",
     "output_type": "stream",
     "text": [
      "Saved overlay image: D:\\ML_Seagrass\\SourceData\\Oregon\\Oregon\\test\\overlay\\FO_OR_22_row14_col8.png\n",
      "Saved predicted mask for FO_OR_22_row14_col8.png with mIoU score: 0.486\n"
     ]
    },
    {
     "name": "stderr",
     "output_type": "stream",
     "text": [
      " 47%|████▋     | 138/296 [00:53<01:06,  2.39it/s]"
     ]
    },
    {
     "name": "stdout",
     "output_type": "stream",
     "text": [
      "Saved overlay image: D:\\ML_Seagrass\\SourceData\\Oregon\\Oregon\\test\\overlay\\FO_OR_22_row18_col7.png\n",
      "Saved predicted mask for FO_OR_22_row18_col7.png with mIoU score: 0.417\n"
     ]
    },
    {
     "name": "stderr",
     "output_type": "stream",
     "text": [
      " 47%|████▋     | 139/296 [00:53<01:05,  2.41it/s]"
     ]
    },
    {
     "name": "stdout",
     "output_type": "stream",
     "text": [
      "Saved overlay image: D:\\ML_Seagrass\\SourceData\\Oregon\\Oregon\\test\\overlay\\FO_OR_22_row18_col8.png\n",
      "Saved predicted mask for FO_OR_22_row18_col8.png with mIoU score: 0.131\n"
     ]
    },
    {
     "name": "stderr",
     "output_type": "stream",
     "text": [
      " 47%|████▋     | 140/296 [00:54<00:59,  2.61it/s]"
     ]
    },
    {
     "name": "stdout",
     "output_type": "stream",
     "text": [
      "Saved overlay image: D:\\ML_Seagrass\\SourceData\\Oregon\\Oregon\\test\\overlay\\FO_OR_22_row22_col6.png\n",
      "Saved predicted mask for FO_OR_22_row22_col6.png with mIoU score: 0.870\n"
     ]
    },
    {
     "name": "stderr",
     "output_type": "stream",
     "text": [
      " 48%|████▊     | 141/296 [00:54<01:01,  2.53it/s]"
     ]
    },
    {
     "name": "stdout",
     "output_type": "stream",
     "text": [
      "Saved overlay image: D:\\ML_Seagrass\\SourceData\\Oregon\\Oregon\\test\\overlay\\FO_OR_22_row6_col7.png\n",
      "Saved predicted mask for FO_OR_22_row6_col7.png with mIoU score: 0.303\n"
     ]
    },
    {
     "name": "stderr",
     "output_type": "stream",
     "text": [
      " 48%|████▊     | 142/296 [00:55<01:14,  2.06it/s]"
     ]
    },
    {
     "name": "stdout",
     "output_type": "stream",
     "text": [
      "Saved overlay image: D:\\ML_Seagrass\\SourceData\\Oregon\\Oregon\\test\\overlay\\FO_OR_22_row7_col13.png\n",
      "Saved predicted mask for FO_OR_22_row7_col13.png with mIoU score: 0.314\n"
     ]
    },
    {
     "name": "stderr",
     "output_type": "stream",
     "text": [
      " 48%|████▊     | 143/296 [00:55<01:14,  2.06it/s]"
     ]
    },
    {
     "name": "stdout",
     "output_type": "stream",
     "text": [
      "Saved overlay image: D:\\ML_Seagrass\\SourceData\\Oregon\\Oregon\\test\\overlay\\FO_OR_22_row8_col11.png\n",
      "Saved predicted mask for FO_OR_22_row8_col11.png with mIoU score: 0.067\n"
     ]
    },
    {
     "name": "stderr",
     "output_type": "stream",
     "text": [
      " 49%|████▊     | 144/296 [00:56<01:02,  2.44it/s]"
     ]
    },
    {
     "name": "stdout",
     "output_type": "stream",
     "text": [
      "Saved overlay image: D:\\ML_Seagrass\\SourceData\\Oregon\\Oregon\\test\\overlay\\FO_OR_22_row8_col6.png\n",
      "Saved predicted mask for FO_OR_22_row8_col6.png with mIoU score: 0.978\n"
     ]
    },
    {
     "name": "stderr",
     "output_type": "stream",
     "text": [
      " 49%|████▉     | 145/296 [00:56<01:02,  2.40it/s]"
     ]
    },
    {
     "name": "stdout",
     "output_type": "stream",
     "text": [
      "Saved overlay image: D:\\ML_Seagrass\\SourceData\\Oregon\\Oregon\\test\\overlay\\ID_OR_21_row10_col19.png\n",
      "Saved predicted mask for ID_OR_21_row10_col19.png with mIoU score: 0.937\n"
     ]
    },
    {
     "name": "stderr",
     "output_type": "stream",
     "text": [
      " 49%|████▉     | 146/296 [00:56<01:00,  2.49it/s]"
     ]
    },
    {
     "name": "stdout",
     "output_type": "stream",
     "text": [
      "Saved overlay image: D:\\ML_Seagrass\\SourceData\\Oregon\\Oregon\\test\\overlay\\ID_OR_21_row14_col18.png\n",
      "Saved predicted mask for ID_OR_21_row14_col18.png with mIoU score: 0.738\n"
     ]
    },
    {
     "name": "stderr",
     "output_type": "stream",
     "text": [
      " 50%|████▉     | 147/296 [00:57<00:58,  2.55it/s]"
     ]
    },
    {
     "name": "stdout",
     "output_type": "stream",
     "text": [
      "Saved overlay image: D:\\ML_Seagrass\\SourceData\\Oregon\\Oregon\\test\\overlay\\ID_OR_21_row14_col22.png\n",
      "Saved predicted mask for ID_OR_21_row14_col22.png with mIoU score: 0.617\n"
     ]
    },
    {
     "name": "stderr",
     "output_type": "stream",
     "text": [
      " 50%|█████     | 148/296 [00:57<00:55,  2.67it/s]"
     ]
    },
    {
     "name": "stdout",
     "output_type": "stream",
     "text": [
      "Saved overlay image: D:\\ML_Seagrass\\SourceData\\Oregon\\Oregon\\test\\overlay\\ID_OR_21_row15_col8.png\n",
      "Saved predicted mask for ID_OR_21_row15_col8.png with mIoU score: 0.454\n"
     ]
    },
    {
     "name": "stderr",
     "output_type": "stream",
     "text": [
      " 50%|█████     | 149/296 [00:57<00:55,  2.64it/s]"
     ]
    },
    {
     "name": "stdout",
     "output_type": "stream",
     "text": [
      "Saved overlay image: D:\\ML_Seagrass\\SourceData\\Oregon\\Oregon\\test\\overlay\\ID_OR_21_row16_col23.png\n",
      "Saved predicted mask for ID_OR_21_row16_col23.png with mIoU score: 0.652\n"
     ]
    },
    {
     "name": "stderr",
     "output_type": "stream",
     "text": [
      " 51%|█████     | 150/296 [00:59<01:25,  1.70it/s]"
     ]
    },
    {
     "name": "stdout",
     "output_type": "stream",
     "text": [
      "Saved overlay image: D:\\ML_Seagrass\\SourceData\\Oregon\\Oregon\\test\\overlay\\ID_OR_21_row16_col24.png\n",
      "Saved predicted mask for ID_OR_21_row16_col24.png with mIoU score: 0.830\n"
     ]
    },
    {
     "name": "stderr",
     "output_type": "stream",
     "text": [
      " 51%|█████     | 151/296 [00:59<01:15,  1.91it/s]"
     ]
    },
    {
     "name": "stdout",
     "output_type": "stream",
     "text": [
      "Saved overlay image: D:\\ML_Seagrass\\SourceData\\Oregon\\Oregon\\test\\overlay\\ID_OR_21_row16_col6.png\n",
      "Saved predicted mask for ID_OR_21_row16_col6.png with mIoU score: 0.643\n"
     ]
    },
    {
     "name": "stderr",
     "output_type": "stream",
     "text": [
      " 51%|█████▏    | 152/296 [00:59<01:07,  2.14it/s]"
     ]
    },
    {
     "name": "stdout",
     "output_type": "stream",
     "text": [
      "Saved overlay image: D:\\ML_Seagrass\\SourceData\\Oregon\\Oregon\\test\\overlay\\ID_OR_21_row17_col14.png\n",
      "Saved predicted mask for ID_OR_21_row17_col14.png with mIoU score: 0.024\n"
     ]
    },
    {
     "name": "stderr",
     "output_type": "stream",
     "text": [
      " 52%|█████▏    | 153/296 [01:00<01:02,  2.30it/s]"
     ]
    },
    {
     "name": "stdout",
     "output_type": "stream",
     "text": [
      "Saved overlay image: D:\\ML_Seagrass\\SourceData\\Oregon\\Oregon\\test\\overlay\\ID_OR_21_row18_col12.png\n",
      "Saved predicted mask for ID_OR_21_row18_col12.png with mIoU score: 0.000\n"
     ]
    },
    {
     "name": "stderr",
     "output_type": "stream",
     "text": [
      " 52%|█████▏    | 154/296 [01:00<00:59,  2.37it/s]"
     ]
    },
    {
     "name": "stdout",
     "output_type": "stream",
     "text": [
      "Saved overlay image: D:\\ML_Seagrass\\SourceData\\Oregon\\Oregon\\test\\overlay\\ID_OR_21_row18_col3.png\n",
      "Saved predicted mask for ID_OR_21_row18_col3.png with mIoU score: 0.602\n"
     ]
    },
    {
     "name": "stderr",
     "output_type": "stream",
     "text": [
      " 52%|█████▏    | 155/296 [01:00<00:57,  2.43it/s]"
     ]
    },
    {
     "name": "stdout",
     "output_type": "stream",
     "text": [
      "Saved overlay image: D:\\ML_Seagrass\\SourceData\\Oregon\\Oregon\\test\\overlay\\ID_OR_21_row18_col5.png\n",
      "Saved predicted mask for ID_OR_21_row18_col5.png with mIoU score: 0.793\n"
     ]
    },
    {
     "name": "stderr",
     "output_type": "stream",
     "text": [
      " 53%|█████▎    | 156/296 [01:01<00:55,  2.53it/s]"
     ]
    },
    {
     "name": "stdout",
     "output_type": "stream",
     "text": [
      "Saved overlay image: D:\\ML_Seagrass\\SourceData\\Oregon\\Oregon\\test\\overlay\\ID_OR_21_row19_col3.png\n",
      "Saved predicted mask for ID_OR_21_row19_col3.png with mIoU score: 0.792\n"
     ]
    },
    {
     "name": "stderr",
     "output_type": "stream",
     "text": [
      " 53%|█████▎    | 157/296 [01:01<00:53,  2.58it/s]"
     ]
    },
    {
     "name": "stdout",
     "output_type": "stream",
     "text": [
      "Saved overlay image: D:\\ML_Seagrass\\SourceData\\Oregon\\Oregon\\test\\overlay\\ID_OR_21_row19_col5.png\n",
      "Saved predicted mask for ID_OR_21_row19_col5.png with mIoU score: 0.427\n"
     ]
    },
    {
     "name": "stderr",
     "output_type": "stream",
     "text": [
      " 53%|█████▎    | 158/296 [01:02<00:58,  2.38it/s]"
     ]
    },
    {
     "name": "stdout",
     "output_type": "stream",
     "text": [
      "Saved overlay image: D:\\ML_Seagrass\\SourceData\\Oregon\\Oregon\\test\\overlay\\ID_OR_21_row19_col7.png\n",
      "Saved predicted mask for ID_OR_21_row19_col7.png with mIoU score: 0.239\n"
     ]
    },
    {
     "name": "stderr",
     "output_type": "stream",
     "text": [
      " 54%|█████▎    | 159/296 [01:02<00:54,  2.51it/s]"
     ]
    },
    {
     "name": "stdout",
     "output_type": "stream",
     "text": [
      "Saved overlay image: D:\\ML_Seagrass\\SourceData\\Oregon\\Oregon\\test\\overlay\\ID_OR_21_row19_col9.png\n",
      "Saved predicted mask for ID_OR_21_row19_col9.png with mIoU score: 0.233\n"
     ]
    },
    {
     "name": "stderr",
     "output_type": "stream",
     "text": [
      " 54%|█████▍    | 160/296 [01:02<00:52,  2.61it/s]"
     ]
    },
    {
     "name": "stdout",
     "output_type": "stream",
     "text": [
      "Saved overlay image: D:\\ML_Seagrass\\SourceData\\Oregon\\Oregon\\test\\overlay\\ID_OR_21_row20_col14.png\n",
      "Saved predicted mask for ID_OR_21_row20_col14.png with mIoU score: 0.425\n"
     ]
    },
    {
     "name": "stderr",
     "output_type": "stream",
     "text": [
      " 54%|█████▍    | 161/296 [01:03<00:50,  2.68it/s]"
     ]
    },
    {
     "name": "stdout",
     "output_type": "stream",
     "text": [
      "Saved overlay image: D:\\ML_Seagrass\\SourceData\\Oregon\\Oregon\\test\\overlay\\ID_OR_21_row20_col3.png\n",
      "Saved predicted mask for ID_OR_21_row20_col3.png with mIoU score: 0.427\n"
     ]
    },
    {
     "name": "stderr",
     "output_type": "stream",
     "text": [
      " 55%|█████▍    | 162/296 [01:03<00:48,  2.74it/s]"
     ]
    },
    {
     "name": "stdout",
     "output_type": "stream",
     "text": [
      "Saved overlay image: D:\\ML_Seagrass\\SourceData\\Oregon\\Oregon\\test\\overlay\\ID_OR_21_row21_col25.png\n",
      "Saved predicted mask for ID_OR_21_row21_col25.png with mIoU score: 0.331\n"
     ]
    },
    {
     "name": "stderr",
     "output_type": "stream",
     "text": [
      " 55%|█████▌    | 163/296 [01:03<00:48,  2.76it/s]"
     ]
    },
    {
     "name": "stdout",
     "output_type": "stream",
     "text": [
      "Saved overlay image: D:\\ML_Seagrass\\SourceData\\Oregon\\Oregon\\test\\overlay\\ID_OR_21_row22_col21.png\n",
      "Saved predicted mask for ID_OR_21_row22_col21.png with mIoU score: 0.753\n"
     ]
    },
    {
     "name": "stderr",
     "output_type": "stream",
     "text": [
      " 55%|█████▌    | 164/296 [01:04<00:50,  2.63it/s]"
     ]
    },
    {
     "name": "stdout",
     "output_type": "stream",
     "text": [
      "Saved overlay image: D:\\ML_Seagrass\\SourceData\\Oregon\\Oregon\\test\\overlay\\ID_OR_21_row23_col10.png\n",
      "Saved predicted mask for ID_OR_21_row23_col10.png with mIoU score: 0.605\n"
     ]
    },
    {
     "name": "stderr",
     "output_type": "stream",
     "text": [
      " 56%|█████▌    | 165/296 [01:04<00:49,  2.65it/s]"
     ]
    },
    {
     "name": "stdout",
     "output_type": "stream",
     "text": [
      "Saved overlay image: D:\\ML_Seagrass\\SourceData\\Oregon\\Oregon\\test\\overlay\\ID_OR_21_row23_col11.png\n",
      "Saved predicted mask for ID_OR_21_row23_col11.png with mIoU score: 0.574\n"
     ]
    },
    {
     "name": "stderr",
     "output_type": "stream",
     "text": [
      " 56%|█████▌    | 166/296 [01:05<00:49,  2.62it/s]"
     ]
    },
    {
     "name": "stdout",
     "output_type": "stream",
     "text": [
      "Saved overlay image: D:\\ML_Seagrass\\SourceData\\Oregon\\Oregon\\test\\overlay\\ID_OR_21_row23_col18.png\n",
      "Saved predicted mask for ID_OR_21_row23_col18.png with mIoU score: 0.735\n"
     ]
    },
    {
     "name": "stderr",
     "output_type": "stream",
     "text": [
      " 56%|█████▋    | 167/296 [01:05<00:48,  2.67it/s]"
     ]
    },
    {
     "name": "stdout",
     "output_type": "stream",
     "text": [
      "Saved overlay image: D:\\ML_Seagrass\\SourceData\\Oregon\\Oregon\\test\\overlay\\ID_OR_21_row23_col19.png\n",
      "Saved predicted mask for ID_OR_21_row23_col19.png with mIoU score: 0.604\n"
     ]
    },
    {
     "name": "stderr",
     "output_type": "stream",
     "text": [
      " 57%|█████▋    | 168/296 [01:05<00:47,  2.70it/s]"
     ]
    },
    {
     "name": "stdout",
     "output_type": "stream",
     "text": [
      "Saved overlay image: D:\\ML_Seagrass\\SourceData\\Oregon\\Oregon\\test\\overlay\\ID_OR_21_row23_col24.png\n",
      "Saved predicted mask for ID_OR_21_row23_col24.png with mIoU score: 0.818\n"
     ]
    },
    {
     "name": "stderr",
     "output_type": "stream",
     "text": [
      " 57%|█████▋    | 169/296 [01:06<00:47,  2.69it/s]"
     ]
    },
    {
     "name": "stdout",
     "output_type": "stream",
     "text": [
      "Saved overlay image: D:\\ML_Seagrass\\SourceData\\Oregon\\Oregon\\test\\overlay\\ID_OR_21_row24_col15.png\n",
      "Saved predicted mask for ID_OR_21_row24_col15.png with mIoU score: 0.746\n"
     ]
    },
    {
     "name": "stderr",
     "output_type": "stream",
     "text": [
      " 57%|█████▋    | 170/296 [01:06<00:46,  2.69it/s]"
     ]
    },
    {
     "name": "stdout",
     "output_type": "stream",
     "text": [
      "Saved overlay image: D:\\ML_Seagrass\\SourceData\\Oregon\\Oregon\\test\\overlay\\ID_OR_21_row24_col18.png\n",
      "Saved predicted mask for ID_OR_21_row24_col18.png with mIoU score: 0.754\n"
     ]
    },
    {
     "name": "stderr",
     "output_type": "stream",
     "text": [
      " 58%|█████▊    | 171/296 [01:06<00:46,  2.69it/s]"
     ]
    },
    {
     "name": "stdout",
     "output_type": "stream",
     "text": [
      "Saved overlay image: D:\\ML_Seagrass\\SourceData\\Oregon\\Oregon\\test\\overlay\\ID_OR_21_row24_col9.png\n",
      "Saved predicted mask for ID_OR_21_row24_col9.png with mIoU score: 0.384\n"
     ]
    },
    {
     "name": "stderr",
     "output_type": "stream",
     "text": [
      " 58%|█████▊    | 172/296 [01:07<00:45,  2.71it/s]"
     ]
    },
    {
     "name": "stdout",
     "output_type": "stream",
     "text": [
      "Saved overlay image: D:\\ML_Seagrass\\SourceData\\Oregon\\Oregon\\test\\overlay\\ID_OR_21_row3_col1.png\n",
      "Saved predicted mask for ID_OR_21_row3_col1.png with mIoU score: 0.661\n"
     ]
    },
    {
     "name": "stderr",
     "output_type": "stream",
     "text": [
      " 58%|█████▊    | 173/296 [01:07<00:47,  2.57it/s]"
     ]
    },
    {
     "name": "stdout",
     "output_type": "stream",
     "text": [
      "Saved overlay image: D:\\ML_Seagrass\\SourceData\\Oregon\\Oregon\\test\\overlay\\ID_OR_21_row4_col8.png\n",
      "Saved predicted mask for ID_OR_21_row4_col8.png with mIoU score: 0.566\n"
     ]
    },
    {
     "name": "stderr",
     "output_type": "stream",
     "text": [
      " 59%|█████▉    | 174/296 [01:08<00:47,  2.58it/s]"
     ]
    },
    {
     "name": "stdout",
     "output_type": "stream",
     "text": [
      "Saved overlay image: D:\\ML_Seagrass\\SourceData\\Oregon\\Oregon\\test\\overlay\\ID_OR_21_row4_col9.png\n",
      "Saved predicted mask for ID_OR_21_row4_col9.png with mIoU score: 0.161\n"
     ]
    },
    {
     "name": "stderr",
     "output_type": "stream",
     "text": [
      " 59%|█████▉    | 175/296 [01:08<00:47,  2.53it/s]"
     ]
    },
    {
     "name": "stdout",
     "output_type": "stream",
     "text": [
      "Saved overlay image: D:\\ML_Seagrass\\SourceData\\Oregon\\Oregon\\test\\overlay\\ID_OR_21_row5_col10.png\n",
      "Saved predicted mask for ID_OR_21_row5_col10.png with mIoU score: 0.298\n"
     ]
    },
    {
     "name": "stderr",
     "output_type": "stream",
     "text": [
      " 59%|█████▉    | 176/296 [01:09<00:56,  2.11it/s]"
     ]
    },
    {
     "name": "stdout",
     "output_type": "stream",
     "text": [
      "Saved overlay image: D:\\ML_Seagrass\\SourceData\\Oregon\\Oregon\\test\\overlay\\ID_OR_21_row5_col12.png\n",
      "Saved predicted mask for ID_OR_21_row5_col12.png with mIoU score: 0.906\n"
     ]
    },
    {
     "name": "stderr",
     "output_type": "stream",
     "text": [
      " 60%|█████▉    | 177/296 [01:09<00:52,  2.25it/s]"
     ]
    },
    {
     "name": "stdout",
     "output_type": "stream",
     "text": [
      "Saved overlay image: D:\\ML_Seagrass\\SourceData\\Oregon\\Oregon\\test\\overlay\\ID_OR_21_row5_col2.png\n",
      "Saved predicted mask for ID_OR_21_row5_col2.png with mIoU score: 0.921\n"
     ]
    },
    {
     "name": "stderr",
     "output_type": "stream",
     "text": [
      " 60%|██████    | 178/296 [01:09<00:49,  2.38it/s]"
     ]
    },
    {
     "name": "stdout",
     "output_type": "stream",
     "text": [
      "Saved overlay image: D:\\ML_Seagrass\\SourceData\\Oregon\\Oregon\\test\\overlay\\ID_OR_21_row8_col3.png\n",
      "Saved predicted mask for ID_OR_21_row8_col3.png with mIoU score: 0.107\n"
     ]
    },
    {
     "name": "stderr",
     "output_type": "stream",
     "text": [
      " 60%|██████    | 179/296 [01:10<00:47,  2.47it/s]"
     ]
    },
    {
     "name": "stdout",
     "output_type": "stream",
     "text": [
      "Saved overlay image: D:\\ML_Seagrass\\SourceData\\Oregon\\Oregon\\test\\overlay\\ID_OR_21_row9_col15.png\n",
      "Saved predicted mask for ID_OR_21_row9_col15.png with mIoU score: 0.006\n"
     ]
    },
    {
     "name": "stderr",
     "output_type": "stream",
     "text": [
      " 61%|██████    | 180/296 [01:10<00:45,  2.53it/s]"
     ]
    },
    {
     "name": "stdout",
     "output_type": "stream",
     "text": [
      "Saved overlay image: D:\\ML_Seagrass\\SourceData\\Oregon\\Oregon\\test\\overlay\\ID_OR_22_row11_col10.png\n",
      "Saved predicted mask for ID_OR_22_row11_col10.png with mIoU score: 0.927\n"
     ]
    },
    {
     "name": "stderr",
     "output_type": "stream",
     "text": [
      " 61%|██████    | 181/296 [01:11<00:46,  2.47it/s]"
     ]
    },
    {
     "name": "stdout",
     "output_type": "stream",
     "text": [
      "Saved overlay image: D:\\ML_Seagrass\\SourceData\\Oregon\\Oregon\\test\\overlay\\ID_OR_22_row12_col12.png\n",
      "Saved predicted mask for ID_OR_22_row12_col12.png with mIoU score: 0.933\n"
     ]
    },
    {
     "name": "stderr",
     "output_type": "stream",
     "text": [
      " 61%|██████▏   | 182/296 [01:11<00:46,  2.47it/s]"
     ]
    },
    {
     "name": "stdout",
     "output_type": "stream",
     "text": [
      "Saved overlay image: D:\\ML_Seagrass\\SourceData\\Oregon\\Oregon\\test\\overlay\\ID_OR_22_row13_col5.png\n",
      "Saved predicted mask for ID_OR_22_row13_col5.png with mIoU score: 0.869\n"
     ]
    },
    {
     "name": "stderr",
     "output_type": "stream",
     "text": [
      " 62%|██████▏   | 183/296 [01:11<00:45,  2.46it/s]"
     ]
    },
    {
     "name": "stdout",
     "output_type": "stream",
     "text": [
      "Saved overlay image: D:\\ML_Seagrass\\SourceData\\Oregon\\Oregon\\test\\overlay\\ID_OR_22_row15_col14.png\n",
      "Saved predicted mask for ID_OR_22_row15_col14.png with mIoU score: 0.933\n"
     ]
    },
    {
     "name": "stderr",
     "output_type": "stream",
     "text": [
      " 62%|██████▏   | 184/296 [01:12<00:41,  2.68it/s]"
     ]
    },
    {
     "name": "stdout",
     "output_type": "stream",
     "text": [
      "Saved overlay image: D:\\ML_Seagrass\\SourceData\\Oregon\\Oregon\\test\\overlay\\ID_OR_22_row15_col2.png\n",
      "Saved predicted mask for ID_OR_22_row15_col2.png with mIoU score: 0.909\n"
     ]
    },
    {
     "name": "stderr",
     "output_type": "stream",
     "text": [
      " 62%|██████▎   | 185/296 [01:12<00:41,  2.68it/s]"
     ]
    },
    {
     "name": "stdout",
     "output_type": "stream",
     "text": [
      "Saved overlay image: D:\\ML_Seagrass\\SourceData\\Oregon\\Oregon\\test\\overlay\\ID_OR_22_row16_col15.png\n",
      "Saved predicted mask for ID_OR_22_row16_col15.png with mIoU score: 0.974\n"
     ]
    },
    {
     "name": "stderr",
     "output_type": "stream",
     "text": [
      " 63%|██████▎   | 186/296 [01:12<00:41,  2.66it/s]"
     ]
    },
    {
     "name": "stdout",
     "output_type": "stream",
     "text": [
      "Saved overlay image: D:\\ML_Seagrass\\SourceData\\Oregon\\Oregon\\test\\overlay\\ID_OR_22_row5_col4.png\n",
      "Saved predicted mask for ID_OR_22_row5_col4.png with mIoU score: 0.886\n"
     ]
    },
    {
     "name": "stderr",
     "output_type": "stream",
     "text": [
      " 63%|██████▎   | 187/296 [01:13<00:42,  2.59it/s]"
     ]
    },
    {
     "name": "stdout",
     "output_type": "stream",
     "text": [
      "Saved overlay image: D:\\ML_Seagrass\\SourceData\\Oregon\\Oregon\\test\\overlay\\ID_OR_22_row5_col5.png\n",
      "Saved predicted mask for ID_OR_22_row5_col5.png with mIoU score: 0.930\n"
     ]
    },
    {
     "name": "stderr",
     "output_type": "stream",
     "text": [
      " 64%|██████▎   | 188/296 [01:13<00:41,  2.62it/s]"
     ]
    },
    {
     "name": "stdout",
     "output_type": "stream",
     "text": [
      "Saved overlay image: D:\\ML_Seagrass\\SourceData\\Oregon\\Oregon\\test\\overlay\\ID_OR_22_row7_col6.png\n",
      "Saved predicted mask for ID_OR_22_row7_col6.png with mIoU score: 0.796\n"
     ]
    },
    {
     "name": "stderr",
     "output_type": "stream",
     "text": [
      " 64%|██████▍   | 189/296 [01:14<00:40,  2.63it/s]"
     ]
    },
    {
     "name": "stdout",
     "output_type": "stream",
     "text": [
      "Saved overlay image: D:\\ML_Seagrass\\SourceData\\Oregon\\Oregon\\test\\overlay\\ID_OR_22_row7_col8.png\n",
      "Saved predicted mask for ID_OR_22_row7_col8.png with mIoU score: 0.811\n"
     ]
    },
    {
     "name": "stderr",
     "output_type": "stream",
     "text": [
      " 64%|██████▍   | 190/296 [01:14<00:42,  2.52it/s]"
     ]
    },
    {
     "name": "stdout",
     "output_type": "stream",
     "text": [
      "Saved overlay image: D:\\ML_Seagrass\\SourceData\\Oregon\\Oregon\\test\\overlay\\ID_OR_22_row8_col7.png\n",
      "Saved predicted mask for ID_OR_22_row8_col7.png with mIoU score: 0.901\n"
     ]
    },
    {
     "name": "stderr",
     "output_type": "stream",
     "text": [
      " 65%|██████▍   | 191/296 [01:14<00:41,  2.51it/s]"
     ]
    },
    {
     "name": "stdout",
     "output_type": "stream",
     "text": [
      "Saved overlay image: D:\\ML_Seagrass\\SourceData\\Oregon\\Oregon\\test\\overlay\\ID_OR_22_row8_col8.png\n",
      "Saved predicted mask for ID_OR_22_row8_col8.png with mIoU score: 0.880\n"
     ]
    },
    {
     "name": "stderr",
     "output_type": "stream",
     "text": [
      " 65%|██████▍   | 192/296 [01:15<00:39,  2.62it/s]"
     ]
    },
    {
     "name": "stdout",
     "output_type": "stream",
     "text": [
      "Saved overlay image: D:\\ML_Seagrass\\SourceData\\Oregon\\Oregon\\test\\overlay\\SBN1_OR_19_row10_col14.png\n",
      "Saved predicted mask for SBN1_OR_19_row10_col14.png with mIoU score: 0.510\n"
     ]
    },
    {
     "name": "stderr",
     "output_type": "stream",
     "text": [
      " 65%|██████▌   | 193/296 [01:15<00:39,  2.63it/s]"
     ]
    },
    {
     "name": "stdout",
     "output_type": "stream",
     "text": [
      "Saved overlay image: D:\\ML_Seagrass\\SourceData\\Oregon\\Oregon\\test\\overlay\\SBN1_OR_19_row10_col7.png\n",
      "Saved predicted mask for SBN1_OR_19_row10_col7.png with mIoU score: 0.084\n"
     ]
    },
    {
     "name": "stderr",
     "output_type": "stream",
     "text": [
      " 66%|██████▌   | 194/296 [01:15<00:37,  2.72it/s]"
     ]
    },
    {
     "name": "stdout",
     "output_type": "stream",
     "text": [
      "Saved overlay image: D:\\ML_Seagrass\\SourceData\\Oregon\\Oregon\\test\\overlay\\SBN1_OR_19_row12_col9.png\n",
      "Saved predicted mask for SBN1_OR_19_row12_col9.png with mIoU score: 0.000\n"
     ]
    },
    {
     "name": "stderr",
     "output_type": "stream",
     "text": [
      " 66%|██████▌   | 195/296 [01:16<00:33,  2.97it/s]"
     ]
    },
    {
     "name": "stdout",
     "output_type": "stream",
     "text": [
      "Saved overlay image: D:\\ML_Seagrass\\SourceData\\Oregon\\Oregon\\test\\overlay\\SBN1_OR_19_row13_col13.png\n",
      "Saved predicted mask for SBN1_OR_19_row13_col13.png with mIoU score: 0.908\n"
     ]
    },
    {
     "name": "stderr",
     "output_type": "stream",
     "text": [
      " 66%|██████▌   | 196/296 [01:16<00:33,  2.95it/s]"
     ]
    },
    {
     "name": "stdout",
     "output_type": "stream",
     "text": [
      "Saved overlay image: D:\\ML_Seagrass\\SourceData\\Oregon\\Oregon\\test\\overlay\\SBN1_OR_19_row14_col8.png\n",
      "Saved predicted mask for SBN1_OR_19_row14_col8.png with mIoU score: 0.000\n"
     ]
    },
    {
     "name": "stderr",
     "output_type": "stream",
     "text": [
      " 67%|██████▋   | 197/296 [01:17<00:37,  2.64it/s]"
     ]
    },
    {
     "name": "stdout",
     "output_type": "stream",
     "text": [
      "Saved overlay image: D:\\ML_Seagrass\\SourceData\\Oregon\\Oregon\\test\\overlay\\SBN1_OR_19_row1_col17.png\n",
      "Saved predicted mask for SBN1_OR_19_row1_col17.png with mIoU score: 0.389\n"
     ]
    },
    {
     "name": "stderr",
     "output_type": "stream",
     "text": [
      " 67%|██████▋   | 198/296 [01:17<00:33,  2.89it/s]"
     ]
    },
    {
     "name": "stdout",
     "output_type": "stream",
     "text": [
      "Saved overlay image: D:\\ML_Seagrass\\SourceData\\Oregon\\Oregon\\test\\overlay\\SBN1_OR_19_row23_col3.png\n",
      "Saved predicted mask for SBN1_OR_19_row23_col3.png with mIoU score: 0.991\n"
     ]
    },
    {
     "name": "stderr",
     "output_type": "stream",
     "text": [
      " 67%|██████▋   | 199/296 [01:17<00:29,  3.27it/s]"
     ]
    },
    {
     "name": "stdout",
     "output_type": "stream",
     "text": [
      "Saved overlay image: D:\\ML_Seagrass\\SourceData\\Oregon\\Oregon\\test\\overlay\\SBN1_OR_19_row23_col4.png\n",
      "Saved predicted mask for SBN1_OR_19_row23_col4.png with mIoU score: 0.959\n"
     ]
    },
    {
     "name": "stderr",
     "output_type": "stream",
     "text": [
      " 68%|██████▊   | 200/296 [01:17<00:29,  3.30it/s]"
     ]
    },
    {
     "name": "stdout",
     "output_type": "stream",
     "text": [
      "Saved overlay image: D:\\ML_Seagrass\\SourceData\\Oregon\\Oregon\\test\\overlay\\SBN1_OR_19_row23_col5.png\n",
      "Saved predicted mask for SBN1_OR_19_row23_col5.png with mIoU score: 0.989\n"
     ]
    },
    {
     "name": "stderr",
     "output_type": "stream",
     "text": [
      " 68%|██████▊   | 201/296 [01:18<00:29,  3.23it/s]"
     ]
    },
    {
     "name": "stdout",
     "output_type": "stream",
     "text": [
      "Saved overlay image: D:\\ML_Seagrass\\SourceData\\Oregon\\Oregon\\test\\overlay\\SBN1_OR_19_row4_col1.png\n",
      "Saved predicted mask for SBN1_OR_19_row4_col1.png with mIoU score: 0.963\n"
     ]
    },
    {
     "name": "stderr",
     "output_type": "stream",
     "text": [
      " 68%|██████▊   | 202/296 [01:18<00:30,  3.12it/s]"
     ]
    },
    {
     "name": "stdout",
     "output_type": "stream",
     "text": [
      "Saved overlay image: D:\\ML_Seagrass\\SourceData\\Oregon\\Oregon\\test\\overlay\\SBN1_OR_19_row6_col16.png\n",
      "Saved predicted mask for SBN1_OR_19_row6_col16.png with mIoU score: 0.782\n"
     ]
    },
    {
     "name": "stderr",
     "output_type": "stream",
     "text": [
      " 69%|██████▊   | 203/296 [01:18<00:31,  2.97it/s]"
     ]
    },
    {
     "name": "stdout",
     "output_type": "stream",
     "text": [
      "Saved overlay image: D:\\ML_Seagrass\\SourceData\\Oregon\\Oregon\\test\\overlay\\SBN1_OR_19_row8_col4.png\n",
      "Saved predicted mask for SBN1_OR_19_row8_col4.png with mIoU score: 0.648\n"
     ]
    },
    {
     "name": "stderr",
     "output_type": "stream",
     "text": [
      " 69%|██████▉   | 204/296 [01:19<00:31,  2.92it/s]"
     ]
    },
    {
     "name": "stdout",
     "output_type": "stream",
     "text": [
      "Saved overlay image: D:\\ML_Seagrass\\SourceData\\Oregon\\Oregon\\test\\overlay\\SBN1_OR_19_row9_col11.png\n",
      "Saved predicted mask for SBN1_OR_19_row9_col11.png with mIoU score: 0.001\n"
     ]
    },
    {
     "name": "stderr",
     "output_type": "stream",
     "text": [
      " 69%|██████▉   | 205/296 [01:19<00:31,  2.90it/s]"
     ]
    },
    {
     "name": "stdout",
     "output_type": "stream",
     "text": [
      "Saved overlay image: D:\\ML_Seagrass\\SourceData\\Oregon\\Oregon\\test\\overlay\\SBN2_OR_19_row10_col17.png\n",
      "Saved predicted mask for SBN2_OR_19_row10_col17.png with mIoU score: 0.139\n"
     ]
    },
    {
     "name": "stderr",
     "output_type": "stream",
     "text": [
      " 70%|██████▉   | 206/296 [01:19<00:30,  2.95it/s]"
     ]
    },
    {
     "name": "stdout",
     "output_type": "stream",
     "text": [
      "Saved overlay image: D:\\ML_Seagrass\\SourceData\\Oregon\\Oregon\\test\\overlay\\SBN2_OR_19_row10_col26.png\n",
      "Saved predicted mask for SBN2_OR_19_row10_col26.png with mIoU score: 0.393\n"
     ]
    },
    {
     "name": "stderr",
     "output_type": "stream",
     "text": [
      " 70%|██████▉   | 207/296 [01:20<00:29,  2.99it/s]"
     ]
    },
    {
     "name": "stdout",
     "output_type": "stream",
     "text": [
      "Saved overlay image: D:\\ML_Seagrass\\SourceData\\Oregon\\Oregon\\test\\overlay\\SBN2_OR_19_row11_col11.png\n",
      "Saved predicted mask for SBN2_OR_19_row11_col11.png with mIoU score: 0.000\n"
     ]
    },
    {
     "name": "stderr",
     "output_type": "stream",
     "text": [
      " 70%|███████   | 208/296 [01:20<00:30,  2.87it/s]"
     ]
    },
    {
     "name": "stdout",
     "output_type": "stream",
     "text": [
      "Saved overlay image: D:\\ML_Seagrass\\SourceData\\Oregon\\Oregon\\test\\overlay\\SBN2_OR_19_row11_col7.png\n",
      "Saved predicted mask for SBN2_OR_19_row11_col7.png with mIoU score: 0.000\n"
     ]
    },
    {
     "name": "stderr",
     "output_type": "stream",
     "text": [
      " 71%|███████   | 209/296 [01:20<00:30,  2.88it/s]"
     ]
    },
    {
     "name": "stdout",
     "output_type": "stream",
     "text": [
      "Saved overlay image: D:\\ML_Seagrass\\SourceData\\Oregon\\Oregon\\test\\overlay\\SBN2_OR_19_row12_col2.png\n",
      "Saved predicted mask for SBN2_OR_19_row12_col2.png with mIoU score: 0.716\n"
     ]
    },
    {
     "name": "stderr",
     "output_type": "stream",
     "text": [
      " 71%|███████   | 210/296 [01:21<00:30,  2.86it/s]"
     ]
    },
    {
     "name": "stdout",
     "output_type": "stream",
     "text": [
      "Saved overlay image: D:\\ML_Seagrass\\SourceData\\Oregon\\Oregon\\test\\overlay\\SBN2_OR_19_row14_col18.png\n",
      "Saved predicted mask for SBN2_OR_19_row14_col18.png with mIoU score: 0.438\n"
     ]
    },
    {
     "name": "stderr",
     "output_type": "stream",
     "text": [
      " 71%|███████▏  | 211/296 [01:21<00:29,  2.88it/s]"
     ]
    },
    {
     "name": "stdout",
     "output_type": "stream",
     "text": [
      "Saved overlay image: D:\\ML_Seagrass\\SourceData\\Oregon\\Oregon\\test\\overlay\\SBN2_OR_19_row14_col28.png\n",
      "Saved predicted mask for SBN2_OR_19_row14_col28.png with mIoU score: 0.746\n"
     ]
    },
    {
     "name": "stderr",
     "output_type": "stream",
     "text": [
      " 72%|███████▏  | 212/296 [01:21<00:28,  2.90it/s]"
     ]
    },
    {
     "name": "stdout",
     "output_type": "stream",
     "text": [
      "Saved overlay image: D:\\ML_Seagrass\\SourceData\\Oregon\\Oregon\\test\\overlay\\SBN2_OR_19_row14_col9.png\n",
      "Saved predicted mask for SBN2_OR_19_row14_col9.png with mIoU score: 0.000\n"
     ]
    },
    {
     "name": "stderr",
     "output_type": "stream",
     "text": [
      " 72%|███████▏  | 213/296 [01:22<00:28,  2.93it/s]"
     ]
    },
    {
     "name": "stdout",
     "output_type": "stream",
     "text": [
      "Saved overlay image: D:\\ML_Seagrass\\SourceData\\Oregon\\Oregon\\test\\overlay\\SBN2_OR_19_row15_col19.png\n",
      "Saved predicted mask for SBN2_OR_19_row15_col19.png with mIoU score: 0.026\n"
     ]
    },
    {
     "name": "stderr",
     "output_type": "stream",
     "text": [
      " 72%|███████▏  | 214/296 [01:22<00:28,  2.93it/s]"
     ]
    },
    {
     "name": "stdout",
     "output_type": "stream",
     "text": [
      "Saved overlay image: D:\\ML_Seagrass\\SourceData\\Oregon\\Oregon\\test\\overlay\\SBN2_OR_19_row15_col9.png\n",
      "Saved predicted mask for SBN2_OR_19_row15_col9.png with mIoU score: 0.002\n"
     ]
    },
    {
     "name": "stderr",
     "output_type": "stream",
     "text": [
      " 73%|███████▎  | 215/296 [01:23<00:27,  2.89it/s]"
     ]
    },
    {
     "name": "stdout",
     "output_type": "stream",
     "text": [
      "Saved overlay image: D:\\ML_Seagrass\\SourceData\\Oregon\\Oregon\\test\\overlay\\SBN2_OR_19_row17_col1.png\n",
      "Saved predicted mask for SBN2_OR_19_row17_col1.png with mIoU score: 0.894\n"
     ]
    },
    {
     "name": "stderr",
     "output_type": "stream",
     "text": [
      " 73%|███████▎  | 216/296 [01:23<00:27,  2.93it/s]"
     ]
    },
    {
     "name": "stdout",
     "output_type": "stream",
     "text": [
      "Saved overlay image: D:\\ML_Seagrass\\SourceData\\Oregon\\Oregon\\test\\overlay\\SBN2_OR_19_row17_col13.png\n",
      "Saved predicted mask for SBN2_OR_19_row17_col13.png with mIoU score: 0.000\n"
     ]
    },
    {
     "name": "stderr",
     "output_type": "stream",
     "text": [
      " 73%|███████▎  | 217/296 [01:23<00:24,  3.17it/s]"
     ]
    },
    {
     "name": "stdout",
     "output_type": "stream",
     "text": [
      "Saved overlay image: D:\\ML_Seagrass\\SourceData\\Oregon\\Oregon\\test\\overlay\\SBN2_OR_19_row18_col14.png\n",
      "Saved predicted mask for SBN2_OR_19_row18_col14.png with mIoU score: 0.989\n"
     ]
    },
    {
     "name": "stderr",
     "output_type": "stream",
     "text": [
      " 74%|███████▎  | 218/296 [01:23<00:23,  3.26it/s]"
     ]
    },
    {
     "name": "stdout",
     "output_type": "stream",
     "text": [
      "Saved overlay image: D:\\ML_Seagrass\\SourceData\\Oregon\\Oregon\\test\\overlay\\SBN2_OR_19_row18_col15.png\n",
      "Saved predicted mask for SBN2_OR_19_row18_col15.png with mIoU score: 0.991\n"
     ]
    },
    {
     "name": "stderr",
     "output_type": "stream",
     "text": [
      " 74%|███████▍  | 219/296 [01:24<00:21,  3.57it/s]"
     ]
    },
    {
     "name": "stdout",
     "output_type": "stream",
     "text": [
      "Saved overlay image: D:\\ML_Seagrass\\SourceData\\Oregon\\Oregon\\test\\overlay\\SBN2_OR_19_row18_col16.png\n",
      "Saved predicted mask for SBN2_OR_19_row18_col16.png with mIoU score: 0.987\n"
     ]
    },
    {
     "name": "stderr",
     "output_type": "stream",
     "text": [
      " 74%|███████▍  | 220/296 [01:24<00:20,  3.80it/s]"
     ]
    },
    {
     "name": "stdout",
     "output_type": "stream",
     "text": [
      "Saved overlay image: D:\\ML_Seagrass\\SourceData\\Oregon\\Oregon\\test\\overlay\\SBN2_OR_19_row18_col20.png\n",
      "Saved predicted mask for SBN2_OR_19_row18_col20.png with mIoU score: 0.988\n"
     ]
    },
    {
     "name": "stderr",
     "output_type": "stream",
     "text": [
      " 75%|███████▍  | 221/296 [01:24<00:20,  3.63it/s]"
     ]
    },
    {
     "name": "stdout",
     "output_type": "stream",
     "text": [
      "Saved overlay image: D:\\ML_Seagrass\\SourceData\\Oregon\\Oregon\\test\\overlay\\SBN2_OR_19_row1_col12.png\n",
      "Saved predicted mask for SBN2_OR_19_row1_col12.png with mIoU score: 0.793\n"
     ]
    },
    {
     "name": "stderr",
     "output_type": "stream",
     "text": [
      " 75%|███████▌  | 222/296 [01:25<00:27,  2.73it/s]"
     ]
    },
    {
     "name": "stdout",
     "output_type": "stream",
     "text": [
      "Saved overlay image: D:\\ML_Seagrass\\SourceData\\Oregon\\Oregon\\test\\overlay\\SBN2_OR_19_row1_col13.png\n",
      "Saved predicted mask for SBN2_OR_19_row1_col13.png with mIoU score: 0.783\n"
     ]
    },
    {
     "name": "stderr",
     "output_type": "stream",
     "text": [
      " 75%|███████▌  | 223/296 [01:25<00:28,  2.58it/s]"
     ]
    },
    {
     "name": "stdout",
     "output_type": "stream",
     "text": [
      "Saved overlay image: D:\\ML_Seagrass\\SourceData\\Oregon\\Oregon\\test\\overlay\\SBN2_OR_19_row1_col8.png\n",
      "Saved predicted mask for SBN2_OR_19_row1_col8.png with mIoU score: 0.802\n"
     ]
    },
    {
     "name": "stderr",
     "output_type": "stream",
     "text": [
      " 76%|███████▌  | 224/296 [01:26<00:27,  2.64it/s]"
     ]
    },
    {
     "name": "stdout",
     "output_type": "stream",
     "text": [
      "Saved overlay image: D:\\ML_Seagrass\\SourceData\\Oregon\\Oregon\\test\\overlay\\SBN2_OR_19_row2_col11.png\n",
      "Saved predicted mask for SBN2_OR_19_row2_col11.png with mIoU score: 0.133\n"
     ]
    },
    {
     "name": "stderr",
     "output_type": "stream",
     "text": [
      " 76%|███████▌  | 225/296 [01:26<00:26,  2.72it/s]"
     ]
    },
    {
     "name": "stdout",
     "output_type": "stream",
     "text": [
      "Saved overlay image: D:\\ML_Seagrass\\SourceData\\Oregon\\Oregon\\test\\overlay\\SBN2_OR_19_row2_col18.png\n",
      "Saved predicted mask for SBN2_OR_19_row2_col18.png with mIoU score: 0.713\n"
     ]
    },
    {
     "name": "stderr",
     "output_type": "stream",
     "text": [
      " 76%|███████▋  | 226/296 [01:26<00:26,  2.68it/s]"
     ]
    },
    {
     "name": "stdout",
     "output_type": "stream",
     "text": [
      "Saved overlay image: D:\\ML_Seagrass\\SourceData\\Oregon\\Oregon\\test\\overlay\\SBN2_OR_19_row2_col23.png\n",
      "Saved predicted mask for SBN2_OR_19_row2_col23.png with mIoU score: 0.568\n"
     ]
    },
    {
     "name": "stderr",
     "output_type": "stream",
     "text": [
      " 77%|███████▋  | 227/296 [01:27<00:25,  2.72it/s]"
     ]
    },
    {
     "name": "stdout",
     "output_type": "stream",
     "text": [
      "Saved overlay image: D:\\ML_Seagrass\\SourceData\\Oregon\\Oregon\\test\\overlay\\SBN2_OR_19_row2_col25.png\n",
      "Saved predicted mask for SBN2_OR_19_row2_col25.png with mIoU score: 0.777\n"
     ]
    },
    {
     "name": "stderr",
     "output_type": "stream",
     "text": [
      " 77%|███████▋  | 228/296 [01:27<00:24,  2.77it/s]"
     ]
    },
    {
     "name": "stdout",
     "output_type": "stream",
     "text": [
      "Saved overlay image: D:\\ML_Seagrass\\SourceData\\Oregon\\Oregon\\test\\overlay\\SBN2_OR_19_row3_col14.png\n",
      "Saved predicted mask for SBN2_OR_19_row3_col14.png with mIoU score: 0.683\n"
     ]
    },
    {
     "name": "stderr",
     "output_type": "stream",
     "text": [
      " 77%|███████▋  | 229/296 [01:27<00:23,  2.80it/s]"
     ]
    },
    {
     "name": "stdout",
     "output_type": "stream",
     "text": [
      "Saved overlay image: D:\\ML_Seagrass\\SourceData\\Oregon\\Oregon\\test\\overlay\\SBN2_OR_19_row3_col8.png\n",
      "Saved predicted mask for SBN2_OR_19_row3_col8.png with mIoU score: 0.228\n"
     ]
    },
    {
     "name": "stderr",
     "output_type": "stream",
     "text": [
      " 78%|███████▊  | 230/296 [01:28<00:23,  2.81it/s]"
     ]
    },
    {
     "name": "stdout",
     "output_type": "stream",
     "text": [
      "Saved overlay image: D:\\ML_Seagrass\\SourceData\\Oregon\\Oregon\\test\\overlay\\SBN2_OR_19_row3_col9.png\n",
      "Saved predicted mask for SBN2_OR_19_row3_col9.png with mIoU score: 0.334\n"
     ]
    },
    {
     "name": "stderr",
     "output_type": "stream",
     "text": [
      " 78%|███████▊  | 231/296 [01:28<00:23,  2.82it/s]"
     ]
    },
    {
     "name": "stdout",
     "output_type": "stream",
     "text": [
      "Saved overlay image: D:\\ML_Seagrass\\SourceData\\Oregon\\Oregon\\test\\overlay\\SBN2_OR_19_row5_col12.png\n",
      "Saved predicted mask for SBN2_OR_19_row5_col12.png with mIoU score: 0.331\n"
     ]
    },
    {
     "name": "stderr",
     "output_type": "stream",
     "text": [
      " 78%|███████▊  | 232/296 [01:28<00:22,  2.85it/s]"
     ]
    },
    {
     "name": "stdout",
     "output_type": "stream",
     "text": [
      "Saved overlay image: D:\\ML_Seagrass\\SourceData\\Oregon\\Oregon\\test\\overlay\\SBN2_OR_19_row5_col8.png\n",
      "Saved predicted mask for SBN2_OR_19_row5_col8.png with mIoU score: 0.277\n"
     ]
    },
    {
     "name": "stderr",
     "output_type": "stream",
     "text": [
      " 79%|███████▊  | 233/296 [01:29<00:21,  2.91it/s]"
     ]
    },
    {
     "name": "stdout",
     "output_type": "stream",
     "text": [
      "Saved overlay image: D:\\ML_Seagrass\\SourceData\\Oregon\\Oregon\\test\\overlay\\SBN2_OR_19_row6_col7.png\n",
      "Saved predicted mask for SBN2_OR_19_row6_col7.png with mIoU score: 0.059\n"
     ]
    },
    {
     "name": "stderr",
     "output_type": "stream",
     "text": [
      " 79%|███████▉  | 234/296 [01:29<00:21,  2.92it/s]"
     ]
    },
    {
     "name": "stdout",
     "output_type": "stream",
     "text": [
      "Saved overlay image: D:\\ML_Seagrass\\SourceData\\Oregon\\Oregon\\test\\overlay\\SBN2_OR_19_row7_col11.png\n",
      "Saved predicted mask for SBN2_OR_19_row7_col11.png with mIoU score: 0.222\n"
     ]
    },
    {
     "name": "stderr",
     "output_type": "stream",
     "text": [
      " 79%|███████▉  | 235/296 [01:29<00:21,  2.80it/s]"
     ]
    },
    {
     "name": "stdout",
     "output_type": "stream",
     "text": [
      "Saved overlay image: D:\\ML_Seagrass\\SourceData\\Oregon\\Oregon\\test\\overlay\\SBN2_OR_19_row8_col12.png\n",
      "Saved predicted mask for SBN2_OR_19_row8_col12.png with mIoU score: 0.199\n"
     ]
    },
    {
     "name": "stderr",
     "output_type": "stream",
     "text": [
      " 80%|███████▉  | 236/296 [01:30<00:21,  2.80it/s]"
     ]
    },
    {
     "name": "stdout",
     "output_type": "stream",
     "text": [
      "Saved overlay image: D:\\ML_Seagrass\\SourceData\\Oregon\\Oregon\\test\\overlay\\SBN2_OR_19_row8_col16.png\n",
      "Saved predicted mask for SBN2_OR_19_row8_col16.png with mIoU score: 0.646\n"
     ]
    },
    {
     "name": "stderr",
     "output_type": "stream",
     "text": [
      " 80%|████████  | 237/296 [01:30<00:20,  2.84it/s]"
     ]
    },
    {
     "name": "stdout",
     "output_type": "stream",
     "text": [
      "Saved overlay image: D:\\ML_Seagrass\\SourceData\\Oregon\\Oregon\\test\\overlay\\SBN2_OR_19_row8_col6.png\n",
      "Saved predicted mask for SBN2_OR_19_row8_col6.png with mIoU score: 0.267\n"
     ]
    },
    {
     "name": "stderr",
     "output_type": "stream",
     "text": [
      " 80%|████████  | 238/296 [01:30<00:20,  2.82it/s]"
     ]
    },
    {
     "name": "stdout",
     "output_type": "stream",
     "text": [
      "Saved overlay image: D:\\ML_Seagrass\\SourceData\\Oregon\\Oregon\\test\\overlay\\SBN2_OR_19_row8_col7.png\n",
      "Saved predicted mask for SBN2_OR_19_row8_col7.png with mIoU score: 0.238\n"
     ]
    },
    {
     "name": "stderr",
     "output_type": "stream",
     "text": [
      " 81%|████████  | 239/296 [01:31<00:20,  2.79it/s]"
     ]
    },
    {
     "name": "stdout",
     "output_type": "stream",
     "text": [
      "Saved overlay image: D:\\ML_Seagrass\\SourceData\\Oregon\\Oregon\\test\\overlay\\SBN2_OR_19_row9_col10.png\n",
      "Saved predicted mask for SBN2_OR_19_row9_col10.png with mIoU score: 0.012\n"
     ]
    },
    {
     "name": "stderr",
     "output_type": "stream",
     "text": [
      " 81%|████████  | 240/296 [01:31<00:20,  2.77it/s]"
     ]
    },
    {
     "name": "stdout",
     "output_type": "stream",
     "text": [
      "Saved overlay image: D:\\ML_Seagrass\\SourceData\\Oregon\\Oregon\\test\\overlay\\SBN2_OR_19_row9_col15.png\n",
      "Saved predicted mask for SBN2_OR_19_row9_col15.png with mIoU score: 0.505\n"
     ]
    },
    {
     "name": "stderr",
     "output_type": "stream",
     "text": [
      " 81%|████████▏ | 241/296 [01:32<00:24,  2.23it/s]"
     ]
    },
    {
     "name": "stdout",
     "output_type": "stream",
     "text": [
      "Saved overlay image: D:\\ML_Seagrass\\SourceData\\Oregon\\Oregon\\test\\overlay\\SS_OR_19_row11_col17.png\n",
      "Saved predicted mask for SS_OR_19_row11_col17.png with mIoU score: 0.995\n"
     ]
    },
    {
     "name": "stderr",
     "output_type": "stream",
     "text": [
      " 82%|████████▏ | 242/296 [01:32<00:22,  2.38it/s]"
     ]
    },
    {
     "name": "stdout",
     "output_type": "stream",
     "text": [
      "Saved overlay image: D:\\ML_Seagrass\\SourceData\\Oregon\\Oregon\\test\\overlay\\SS_OR_19_row12_col11.png\n",
      "Saved predicted mask for SS_OR_19_row12_col11.png with mIoU score: 0.281\n"
     ]
    },
    {
     "name": "stderr",
     "output_type": "stream",
     "text": [
      " 82%|████████▏ | 243/296 [01:32<00:19,  2.70it/s]"
     ]
    },
    {
     "name": "stdout",
     "output_type": "stream",
     "text": [
      "Saved overlay image: D:\\ML_Seagrass\\SourceData\\Oregon\\Oregon\\test\\overlay\\SS_OR_19_row14_col5.png\n",
      "Saved predicted mask for SS_OR_19_row14_col5.png with mIoU score: 0.981\n"
     ]
    },
    {
     "name": "stderr",
     "output_type": "stream",
     "text": [
      " 82%|████████▏ | 244/296 [01:33<00:17,  2.89it/s]"
     ]
    },
    {
     "name": "stdout",
     "output_type": "stream",
     "text": [
      "Saved overlay image: D:\\ML_Seagrass\\SourceData\\Oregon\\Oregon\\test\\overlay\\SS_OR_19_row19_col19.png\n",
      "Saved predicted mask for SS_OR_19_row19_col19.png with mIoU score: 0.973\n"
     ]
    },
    {
     "name": "stderr",
     "output_type": "stream",
     "text": [
      " 83%|████████▎ | 245/296 [01:33<00:17,  2.93it/s]"
     ]
    },
    {
     "name": "stdout",
     "output_type": "stream",
     "text": [
      "Saved overlay image: D:\\ML_Seagrass\\SourceData\\Oregon\\Oregon\\test\\overlay\\SS_OR_19_row21_col19.png\n",
      "Saved predicted mask for SS_OR_19_row21_col19.png with mIoU score: 0.929\n"
     ]
    },
    {
     "name": "stderr",
     "output_type": "stream",
     "text": [
      " 83%|████████▎ | 246/296 [01:33<00:16,  2.97it/s]"
     ]
    },
    {
     "name": "stdout",
     "output_type": "stream",
     "text": [
      "Saved overlay image: D:\\ML_Seagrass\\SourceData\\Oregon\\Oregon\\test\\overlay\\SS_OR_19_row25_col20.png\n",
      "Saved predicted mask for SS_OR_19_row25_col20.png with mIoU score: 0.893\n"
     ]
    },
    {
     "name": "stderr",
     "output_type": "stream",
     "text": [
      " 83%|████████▎ | 247/296 [01:34<00:15,  3.12it/s]"
     ]
    },
    {
     "name": "stdout",
     "output_type": "stream",
     "text": [
      "Saved overlay image: D:\\ML_Seagrass\\SourceData\\Oregon\\Oregon\\test\\overlay\\SS_OR_19_row2_col11.png\n",
      "Saved predicted mask for SS_OR_19_row2_col11.png with mIoU score: 0.949\n"
     ]
    },
    {
     "name": "stderr",
     "output_type": "stream",
     "text": [
      " 84%|████████▍ | 248/296 [01:34<00:15,  3.12it/s]"
     ]
    },
    {
     "name": "stdout",
     "output_type": "stream",
     "text": [
      "Saved overlay image: D:\\ML_Seagrass\\SourceData\\Oregon\\Oregon\\test\\overlay\\SS_OR_19_row2_col12.png\n",
      "Saved predicted mask for SS_OR_19_row2_col12.png with mIoU score: 0.552\n"
     ]
    },
    {
     "name": "stderr",
     "output_type": "stream",
     "text": [
      " 84%|████████▍ | 249/296 [01:34<00:16,  2.93it/s]"
     ]
    },
    {
     "name": "stdout",
     "output_type": "stream",
     "text": [
      "Saved overlay image: D:\\ML_Seagrass\\SourceData\\Oregon\\Oregon\\test\\overlay\\SS_OR_21_row10_col17.png\n",
      "Saved predicted mask for SS_OR_21_row10_col17.png with mIoU score: 0.542\n"
     ]
    },
    {
     "name": "stderr",
     "output_type": "stream",
     "text": [
      " 84%|████████▍ | 250/296 [01:35<00:16,  2.82it/s]"
     ]
    },
    {
     "name": "stdout",
     "output_type": "stream",
     "text": [
      "Saved overlay image: D:\\ML_Seagrass\\SourceData\\Oregon\\Oregon\\test\\overlay\\SS_OR_21_row13_col18.png\n",
      "Saved predicted mask for SS_OR_21_row13_col18.png with mIoU score: 0.356\n"
     ]
    },
    {
     "name": "stderr",
     "output_type": "stream",
     "text": [
      " 85%|████████▍ | 251/296 [01:35<00:16,  2.73it/s]"
     ]
    },
    {
     "name": "stdout",
     "output_type": "stream",
     "text": [
      "Saved overlay image: D:\\ML_Seagrass\\SourceData\\Oregon\\Oregon\\test\\overlay\\SS_OR_21_row14_col17.png\n",
      "Saved predicted mask for SS_OR_21_row14_col17.png with mIoU score: 0.438\n",
      "Saved overlay image: D:\\ML_Seagrass\\SourceData\\Oregon\\Oregon\\test\\overlay\\SS_OR_21_row14_col4.png\n",
      "Saved predicted mask for SS_OR_21_row14_col4.png with mIoU score: 0.993\n"
     ]
    },
    {
     "name": "stderr",
     "output_type": "stream",
     "text": [
      " 85%|████████▌ | 253/296 [01:36<00:15,  2.83it/s]"
     ]
    },
    {
     "name": "stdout",
     "output_type": "stream",
     "text": [
      "Saved overlay image: D:\\ML_Seagrass\\SourceData\\Oregon\\Oregon\\test\\overlay\\SS_OR_21_row15_col20.png\n",
      "Saved predicted mask for SS_OR_21_row15_col20.png with mIoU score: 0.492\n"
     ]
    },
    {
     "name": "stderr",
     "output_type": "stream",
     "text": [
      " 86%|████████▌ | 254/296 [01:36<00:15,  2.75it/s]"
     ]
    },
    {
     "name": "stdout",
     "output_type": "stream",
     "text": [
      "Saved overlay image: D:\\ML_Seagrass\\SourceData\\Oregon\\Oregon\\test\\overlay\\SS_OR_21_row17_col17.png\n",
      "Saved predicted mask for SS_OR_21_row17_col17.png with mIoU score: 0.493\n"
     ]
    },
    {
     "name": "stderr",
     "output_type": "stream",
     "text": [
      " 86%|████████▌ | 255/296 [01:37<00:15,  2.65it/s]"
     ]
    },
    {
     "name": "stdout",
     "output_type": "stream",
     "text": [
      "Saved overlay image: D:\\ML_Seagrass\\SourceData\\Oregon\\Oregon\\test\\overlay\\SS_OR_21_row17_col20.png\n",
      "Saved predicted mask for SS_OR_21_row17_col20.png with mIoU score: 0.519\n"
     ]
    },
    {
     "name": "stderr",
     "output_type": "stream",
     "text": [
      " 86%|████████▋ | 256/296 [01:37<00:15,  2.63it/s]"
     ]
    },
    {
     "name": "stdout",
     "output_type": "stream",
     "text": [
      "Saved overlay image: D:\\ML_Seagrass\\SourceData\\Oregon\\Oregon\\test\\overlay\\SS_OR_21_row18_col4.png\n",
      "Saved predicted mask for SS_OR_21_row18_col4.png with mIoU score: 0.072\n"
     ]
    },
    {
     "name": "stderr",
     "output_type": "stream",
     "text": [
      " 87%|████████▋ | 257/296 [01:37<00:14,  2.65it/s]"
     ]
    },
    {
     "name": "stdout",
     "output_type": "stream",
     "text": [
      "Saved overlay image: D:\\ML_Seagrass\\SourceData\\Oregon\\Oregon\\test\\overlay\\SS_OR_21_row18_col6.png\n",
      "Saved predicted mask for SS_OR_21_row18_col6.png with mIoU score: 0.000\n"
     ]
    },
    {
     "name": "stderr",
     "output_type": "stream",
     "text": [
      " 87%|████████▋ | 258/296 [01:38<00:14,  2.65it/s]"
     ]
    },
    {
     "name": "stdout",
     "output_type": "stream",
     "text": [
      "Saved overlay image: D:\\ML_Seagrass\\SourceData\\Oregon\\Oregon\\test\\overlay\\SS_OR_21_row19_col15.png\n",
      "Saved predicted mask for SS_OR_21_row19_col15.png with mIoU score: 0.346\n"
     ]
    },
    {
     "name": "stderr",
     "output_type": "stream",
     "text": [
      " 88%|████████▊ | 259/296 [01:38<00:14,  2.51it/s]"
     ]
    },
    {
     "name": "stdout",
     "output_type": "stream",
     "text": [
      "Saved overlay image: D:\\ML_Seagrass\\SourceData\\Oregon\\Oregon\\test\\overlay\\SS_OR_21_row19_col19.png\n",
      "Saved predicted mask for SS_OR_21_row19_col19.png with mIoU score: 0.587\n"
     ]
    },
    {
     "name": "stderr",
     "output_type": "stream",
     "text": [
      " 88%|████████▊ | 260/296 [01:38<00:13,  2.72it/s]"
     ]
    },
    {
     "name": "stdout",
     "output_type": "stream",
     "text": [
      "Saved overlay image: D:\\ML_Seagrass\\SourceData\\Oregon\\Oregon\\test\\overlay\\SS_OR_21_row1_col16.png\n",
      "Saved predicted mask for SS_OR_21_row1_col16.png with mIoU score: 0.848\n"
     ]
    },
    {
     "name": "stderr",
     "output_type": "stream",
     "text": [
      " 88%|████████▊ | 261/296 [01:39<00:12,  2.70it/s]"
     ]
    },
    {
     "name": "stdout",
     "output_type": "stream",
     "text": [
      "Saved overlay image: D:\\ML_Seagrass\\SourceData\\Oregon\\Oregon\\test\\overlay\\SS_OR_21_row20_col3.png\n",
      "Saved predicted mask for SS_OR_21_row20_col3.png with mIoU score: 0.191\n"
     ]
    },
    {
     "name": "stderr",
     "output_type": "stream",
     "text": [
      " 89%|████████▊ | 262/296 [01:39<00:13,  2.61it/s]"
     ]
    },
    {
     "name": "stdout",
     "output_type": "stream",
     "text": [
      "Saved overlay image: D:\\ML_Seagrass\\SourceData\\Oregon\\Oregon\\test\\overlay\\SS_OR_21_row21_col17.png\n",
      "Saved predicted mask for SS_OR_21_row21_col17.png with mIoU score: 0.539\n"
     ]
    },
    {
     "name": "stderr",
     "output_type": "stream",
     "text": [
      " 89%|████████▉ | 263/296 [01:40<00:13,  2.39it/s]"
     ]
    },
    {
     "name": "stdout",
     "output_type": "stream",
     "text": [
      "Saved overlay image: D:\\ML_Seagrass\\SourceData\\Oregon\\Oregon\\test\\overlay\\SS_OR_21_row21_col4.png\n",
      "Saved predicted mask for SS_OR_21_row21_col4.png with mIoU score: 0.206\n"
     ]
    },
    {
     "name": "stderr",
     "output_type": "stream",
     "text": [
      " 89%|████████▉ | 264/296 [01:40<00:12,  2.46it/s]"
     ]
    },
    {
     "name": "stdout",
     "output_type": "stream",
     "text": [
      "Saved overlay image: D:\\ML_Seagrass\\SourceData\\Oregon\\Oregon\\test\\overlay\\SS_OR_21_row22_col5.png\n",
      "Saved predicted mask for SS_OR_21_row22_col5.png with mIoU score: 0.137\n"
     ]
    },
    {
     "name": "stderr",
     "output_type": "stream",
     "text": [
      " 90%|████████▉ | 265/296 [01:41<00:12,  2.51it/s]"
     ]
    },
    {
     "name": "stdout",
     "output_type": "stream",
     "text": [
      "Saved overlay image: D:\\ML_Seagrass\\SourceData\\Oregon\\Oregon\\test\\overlay\\SS_OR_21_row23_col19.png\n",
      "Saved predicted mask for SS_OR_21_row23_col19.png with mIoU score: 0.503\n"
     ]
    },
    {
     "name": "stderr",
     "output_type": "stream",
     "text": [
      " 90%|████████▉ | 266/296 [01:41<00:10,  2.78it/s]"
     ]
    },
    {
     "name": "stdout",
     "output_type": "stream",
     "text": [
      "Saved overlay image: D:\\ML_Seagrass\\SourceData\\Oregon\\Oregon\\test\\overlay\\SS_OR_21_row24_col23.png\n",
      "Saved predicted mask for SS_OR_21_row24_col23.png with mIoU score: 0.842\n"
     ]
    },
    {
     "name": "stderr",
     "output_type": "stream",
     "text": [
      " 90%|█████████ | 267/296 [01:41<00:10,  2.75it/s]"
     ]
    },
    {
     "name": "stdout",
     "output_type": "stream",
     "text": [
      "Saved overlay image: D:\\ML_Seagrass\\SourceData\\Oregon\\Oregon\\test\\overlay\\SS_OR_21_row24_col4.png\n",
      "Saved predicted mask for SS_OR_21_row24_col4.png with mIoU score: 0.267\n"
     ]
    },
    {
     "name": "stderr",
     "output_type": "stream",
     "text": [
      " 91%|█████████ | 268/296 [01:42<00:10,  2.71it/s]"
     ]
    },
    {
     "name": "stdout",
     "output_type": "stream",
     "text": [
      "Saved overlay image: D:\\ML_Seagrass\\SourceData\\Oregon\\Oregon\\test\\overlay\\SS_OR_21_row25_col15.png\n",
      "Saved predicted mask for SS_OR_21_row25_col15.png with mIoU score: 0.380\n"
     ]
    },
    {
     "name": "stderr",
     "output_type": "stream",
     "text": [
      " 91%|█████████ | 269/296 [01:42<00:09,  2.73it/s]"
     ]
    },
    {
     "name": "stdout",
     "output_type": "stream",
     "text": [
      "Saved overlay image: D:\\ML_Seagrass\\SourceData\\Oregon\\Oregon\\test\\overlay\\SS_OR_21_row25_col21.png\n",
      "Saved predicted mask for SS_OR_21_row25_col21.png with mIoU score: 0.545\n"
     ]
    },
    {
     "name": "stderr",
     "output_type": "stream",
     "text": [
      " 91%|█████████ | 270/296 [01:42<00:09,  2.68it/s]"
     ]
    },
    {
     "name": "stdout",
     "output_type": "stream",
     "text": [
      "Saved overlay image: D:\\ML_Seagrass\\SourceData\\Oregon\\Oregon\\test\\overlay\\SS_OR_21_row26_col19.png\n",
      "Saved predicted mask for SS_OR_21_row26_col19.png with mIoU score: 0.555\n"
     ]
    },
    {
     "name": "stderr",
     "output_type": "stream",
     "text": [
      " 92%|█████████▏| 271/296 [01:43<00:09,  2.73it/s]"
     ]
    },
    {
     "name": "stdout",
     "output_type": "stream",
     "text": [
      "Saved overlay image: D:\\ML_Seagrass\\SourceData\\Oregon\\Oregon\\test\\overlay\\SS_OR_21_row27_col6.png\n",
      "Saved predicted mask for SS_OR_21_row27_col6.png with mIoU score: 0.323\n"
     ]
    },
    {
     "name": "stderr",
     "output_type": "stream",
     "text": [
      " 92%|█████████▏| 272/296 [01:43<00:09,  2.61it/s]"
     ]
    },
    {
     "name": "stdout",
     "output_type": "stream",
     "text": [
      "Saved overlay image: D:\\ML_Seagrass\\SourceData\\Oregon\\Oregon\\test\\overlay\\SS_OR_21_row28_col10.png\n",
      "Saved predicted mask for SS_OR_21_row28_col10.png with mIoU score: 0.006\n"
     ]
    },
    {
     "name": "stderr",
     "output_type": "stream",
     "text": [
      " 92%|█████████▏| 273/296 [01:43<00:09,  2.55it/s]"
     ]
    },
    {
     "name": "stdout",
     "output_type": "stream",
     "text": [
      "Saved overlay image: D:\\ML_Seagrass\\SourceData\\Oregon\\Oregon\\test\\overlay\\SS_OR_21_row29_col5.png\n",
      "Saved predicted mask for SS_OR_21_row29_col5.png with mIoU score: 0.412\n"
     ]
    },
    {
     "name": "stderr",
     "output_type": "stream",
     "text": [
      " 93%|█████████▎| 274/296 [01:44<00:08,  2.52it/s]"
     ]
    },
    {
     "name": "stdout",
     "output_type": "stream",
     "text": [
      "Saved overlay image: D:\\ML_Seagrass\\SourceData\\Oregon\\Oregon\\test\\overlay\\SS_OR_21_row30_col15.png\n",
      "Saved predicted mask for SS_OR_21_row30_col15.png with mIoU score: 0.000\n"
     ]
    },
    {
     "name": "stderr",
     "output_type": "stream",
     "text": [
      " 93%|█████████▎| 275/296 [01:44<00:08,  2.52it/s]"
     ]
    },
    {
     "name": "stdout",
     "output_type": "stream",
     "text": [
      "Saved overlay image: D:\\ML_Seagrass\\SourceData\\Oregon\\Oregon\\test\\overlay\\SS_OR_21_row30_col18.png\n",
      "Saved predicted mask for SS_OR_21_row30_col18.png with mIoU score: 0.030\n"
     ]
    },
    {
     "name": "stderr",
     "output_type": "stream",
     "text": [
      " 93%|█████████▎| 276/296 [01:45<00:08,  2.47it/s]"
     ]
    },
    {
     "name": "stdout",
     "output_type": "stream",
     "text": [
      "Saved overlay image: D:\\ML_Seagrass\\SourceData\\Oregon\\Oregon\\test\\overlay\\SS_OR_21_row30_col21.png\n",
      "Saved predicted mask for SS_OR_21_row30_col21.png with mIoU score: 0.583\n"
     ]
    },
    {
     "name": "stderr",
     "output_type": "stream",
     "text": [
      " 94%|█████████▎| 277/296 [01:45<00:07,  2.48it/s]"
     ]
    },
    {
     "name": "stdout",
     "output_type": "stream",
     "text": [
      "Saved overlay image: D:\\ML_Seagrass\\SourceData\\Oregon\\Oregon\\test\\overlay\\SS_OR_21_row30_col6.png\n",
      "Saved predicted mask for SS_OR_21_row30_col6.png with mIoU score: 0.409\n"
     ]
    },
    {
     "name": "stderr",
     "output_type": "stream",
     "text": [
      " 94%|█████████▍| 278/296 [01:45<00:07,  2.56it/s]"
     ]
    },
    {
     "name": "stdout",
     "output_type": "stream",
     "text": [
      "Saved overlay image: D:\\ML_Seagrass\\SourceData\\Oregon\\Oregon\\test\\overlay\\SS_OR_21_row31_col13.png\n",
      "Saved predicted mask for SS_OR_21_row31_col13.png with mIoU score: 0.344\n"
     ]
    },
    {
     "name": "stderr",
     "output_type": "stream",
     "text": [
      " 94%|█████████▍| 279/296 [01:46<00:06,  2.67it/s]"
     ]
    },
    {
     "name": "stdout",
     "output_type": "stream",
     "text": [
      "Saved overlay image: D:\\ML_Seagrass\\SourceData\\Oregon\\Oregon\\test\\overlay\\SS_OR_21_row31_col18.png\n",
      "Saved predicted mask for SS_OR_21_row31_col18.png with mIoU score: 0.929\n"
     ]
    },
    {
     "name": "stderr",
     "output_type": "stream",
     "text": [
      " 95%|█████████▍| 280/296 [01:46<00:05,  2.91it/s]"
     ]
    },
    {
     "name": "stdout",
     "output_type": "stream",
     "text": [
      "Saved overlay image: D:\\ML_Seagrass\\SourceData\\Oregon\\Oregon\\test\\overlay\\SS_OR_21_row3_col13.png\n",
      "Saved predicted mask for SS_OR_21_row3_col13.png with mIoU score: 0.899\n"
     ]
    },
    {
     "name": "stderr",
     "output_type": "stream",
     "text": [
      " 95%|█████████▍| 281/296 [01:46<00:05,  2.86it/s]"
     ]
    },
    {
     "name": "stdout",
     "output_type": "stream",
     "text": [
      "Saved overlay image: D:\\ML_Seagrass\\SourceData\\Oregon\\Oregon\\test\\overlay\\SS_OR_21_row3_col16.png\n",
      "Saved predicted mask for SS_OR_21_row3_col16.png with mIoU score: 0.334\n"
     ]
    },
    {
     "name": "stderr",
     "output_type": "stream",
     "text": [
      " 95%|█████████▌| 282/296 [01:47<00:05,  2.73it/s]"
     ]
    },
    {
     "name": "stdout",
     "output_type": "stream",
     "text": [
      "Saved overlay image: D:\\ML_Seagrass\\SourceData\\Oregon\\Oregon\\test\\overlay\\SS_OR_21_row6_col17.png\n",
      "Saved predicted mask for SS_OR_21_row6_col17.png with mIoU score: 0.497\n"
     ]
    },
    {
     "name": "stderr",
     "output_type": "stream",
     "text": [
      " 96%|█████████▌| 284/296 [01:47<00:03,  3.37it/s]"
     ]
    },
    {
     "name": "stdout",
     "output_type": "stream",
     "text": [
      "Saved overlay image: D:\\ML_Seagrass\\SourceData\\Oregon\\Oregon\\test\\overlay\\SS_OR_21_row8_col19.png\n",
      "Saved predicted mask for SS_OR_21_row8_col19.png with mIoU score: 0.868\n",
      "Saved overlay image: D:\\ML_Seagrass\\SourceData\\Oregon\\Oregon\\test\\overlay\\SS_OR_22_row10_col5.png\n",
      "Saved predicted mask for SS_OR_22_row10_col5.png with mIoU score: 0.994\n"
     ]
    },
    {
     "name": "stderr",
     "output_type": "stream",
     "text": [
      " 96%|█████████▋| 285/296 [01:48<00:04,  2.28it/s]"
     ]
    },
    {
     "name": "stdout",
     "output_type": "stream",
     "text": [
      "Saved overlay image: D:\\ML_Seagrass\\SourceData\\Oregon\\Oregon\\test\\overlay\\SS_OR_22_row12_col8.png\n",
      "Saved predicted mask for SS_OR_22_row12_col8.png with mIoU score: 0.662\n"
     ]
    },
    {
     "name": "stderr",
     "output_type": "stream",
     "text": [
      " 97%|█████████▋| 286/296 [01:48<00:04,  2.39it/s]"
     ]
    },
    {
     "name": "stdout",
     "output_type": "stream",
     "text": [
      "Saved overlay image: D:\\ML_Seagrass\\SourceData\\Oregon\\Oregon\\test\\overlay\\SS_OR_22_row15_col10.png\n",
      "Saved predicted mask for SS_OR_22_row15_col10.png with mIoU score: 0.872\n"
     ]
    },
    {
     "name": "stderr",
     "output_type": "stream",
     "text": [
      " 97%|█████████▋| 287/296 [01:49<00:03,  2.63it/s]"
     ]
    },
    {
     "name": "stdout",
     "output_type": "stream",
     "text": [
      "Saved overlay image: D:\\ML_Seagrass\\SourceData\\Oregon\\Oregon\\test\\overlay\\SS_OR_22_row15_col8.png\n",
      "Saved predicted mask for SS_OR_22_row15_col8.png with mIoU score: 0.781\n"
     ]
    },
    {
     "name": "stderr",
     "output_type": "stream",
     "text": [
      " 97%|█████████▋| 288/296 [01:49<00:02,  2.67it/s]"
     ]
    },
    {
     "name": "stdout",
     "output_type": "stream",
     "text": [
      "Saved overlay image: D:\\ML_Seagrass\\SourceData\\Oregon\\Oregon\\test\\overlay\\SS_OR_22_row2_col6.png\n",
      "Saved predicted mask for SS_OR_22_row2_col6.png with mIoU score: 0.797\n"
     ]
    },
    {
     "name": "stderr",
     "output_type": "stream",
     "text": [
      " 98%|█████████▊| 289/296 [01:49<00:02,  2.66it/s]"
     ]
    },
    {
     "name": "stdout",
     "output_type": "stream",
     "text": [
      "Saved overlay image: D:\\ML_Seagrass\\SourceData\\Oregon\\Oregon\\test\\overlay\\SS_OR_22_row3_col5.png\n",
      "Saved predicted mask for SS_OR_22_row3_col5.png with mIoU score: 0.506\n"
     ]
    },
    {
     "name": "stderr",
     "output_type": "stream",
     "text": [
      " 98%|█████████▊| 290/296 [01:50<00:02,  2.62it/s]"
     ]
    },
    {
     "name": "stdout",
     "output_type": "stream",
     "text": [
      "Saved overlay image: D:\\ML_Seagrass\\SourceData\\Oregon\\Oregon\\test\\overlay\\SS_OR_22_row3_col6.png\n",
      "Saved predicted mask for SS_OR_22_row3_col6.png with mIoU score: 0.760\n"
     ]
    },
    {
     "name": "stderr",
     "output_type": "stream",
     "text": [
      " 98%|█████████▊| 291/296 [01:50<00:01,  2.93it/s]"
     ]
    },
    {
     "name": "stdout",
     "output_type": "stream",
     "text": [
      "Saved overlay image: D:\\ML_Seagrass\\SourceData\\Oregon\\Oregon\\test\\overlay\\SS_OR_22_row5_col3.png\n",
      "Saved predicted mask for SS_OR_22_row5_col3.png with mIoU score: 0.977\n"
     ]
    },
    {
     "name": "stderr",
     "output_type": "stream",
     "text": [
      " 99%|█████████▊| 292/296 [01:51<00:01,  2.84it/s]"
     ]
    },
    {
     "name": "stdout",
     "output_type": "stream",
     "text": [
      "Saved overlay image: D:\\ML_Seagrass\\SourceData\\Oregon\\Oregon\\test\\overlay\\SS_OR_22_row5_col9.png\n",
      "Saved predicted mask for SS_OR_22_row5_col9.png with mIoU score: 0.853\n"
     ]
    },
    {
     "name": "stderr",
     "output_type": "stream",
     "text": [
      " 99%|█████████▉| 293/296 [01:51<00:01,  2.95it/s]"
     ]
    },
    {
     "name": "stdout",
     "output_type": "stream",
     "text": [
      "Saved overlay image: D:\\ML_Seagrass\\SourceData\\Oregon\\Oregon\\test\\overlay\\SS_OR_22_row6_col10.png\n",
      "Saved predicted mask for SS_OR_22_row6_col10.png with mIoU score: 0.954\n"
     ]
    },
    {
     "name": "stderr",
     "output_type": "stream",
     "text": [
      " 99%|█████████▉| 294/296 [01:51<00:00,  2.81it/s]"
     ]
    },
    {
     "name": "stdout",
     "output_type": "stream",
     "text": [
      "Saved overlay image: D:\\ML_Seagrass\\SourceData\\Oregon\\Oregon\\test\\overlay\\SS_OR_22_row7_col7.png\n",
      "Saved predicted mask for SS_OR_22_row7_col7.png with mIoU score: 0.623\n"
     ]
    },
    {
     "name": "stderr",
     "output_type": "stream",
     "text": [
      "100%|█████████▉| 295/296 [01:52<00:00,  2.80it/s]"
     ]
    },
    {
     "name": "stdout",
     "output_type": "stream",
     "text": [
      "Saved overlay image: D:\\ML_Seagrass\\SourceData\\Oregon\\Oregon\\test\\overlay\\SS_OR_22_row8_col8.png\n",
      "Saved predicted mask for SS_OR_22_row8_col8.png with mIoU score: 0.698\n"
     ]
    },
    {
     "name": "stderr",
     "output_type": "stream",
     "text": [
      "100%|██████████| 296/296 [01:52<00:00,  2.63it/s]"
     ]
    },
    {
     "name": "stdout",
     "output_type": "stream",
     "text": [
      "Saved overlay image: D:\\ML_Seagrass\\SourceData\\Oregon\\Oregon\\test\\overlay\\SS_OR_22_row9_col8.png\n",
      "Saved predicted mask for SS_OR_22_row9_col8.png with mIoU score: 0.610\n"
     ]
    },
    {
     "name": "stderr",
     "output_type": "stream",
     "text": [
      "\n"
     ]
    }
   ],
   "source": [
    "import os\n",
    "from tqdm import tqdm\n",
    "\n",
    "# Define the save path for the predicted masks and the folder for original images\n",
    "original_image_folder = r'D:\\ML_Seagrass\\SourceData\\Oregon\\Oregon\\test\\image'  # Folder with original images\n",
    "save_path = r'D:\\ML_Seagrass\\SourceData\\Oregon\\Oregon\\test\\overlay'\n",
    "Pred_mask_path = r'D:\\ML_Seagrass\\SourceData\\Oregon\\Oregon\\test\\predicted'\n",
    "\n",
    "# Ensure the directories exist\n",
    "os.makedirs(save_path, exist_ok=True)\n",
    "os.makedirs(Pred_mask_path, exist_ok=True)\n",
    "\n",
    "# Loop through all images in the test set\n",
    "for idx in tqdm(range(len(test_set))):\n",
    "    image, mask, img_file_name = test_set[idx]  # Get mask and filename from test_set\n",
    "    \n",
    "    # Define the save path for the current predicted mask\n",
    "    save_overlay_file = os.path.join(save_path, f'{img_file_name}')  # Save with filename\n",
    "    save_predicted_file = os.path.join(Pred_mask_path, f'{img_file_name}')\n",
    "     \n",
    "    # Run inference to get the predicted mask\n",
    "    pred_mask, score = predict_image_mask_miou(model, image, mask, save_predicted_file)\n",
    "    \n",
    "    # Save the overlay of the predicted mask on the original image read from `original_image_folder`\n",
    "    save_predicted_mask_overlay(pred_mask, img_file_name, original_image_folder, save_overlay_file)\n",
    "    \n",
    "    # Optionally, log the progress or save additional data\n",
    "    print(f\"Saved predicted mask for {img_file_name} with mIoU score: {score:.3f}\")\n"
   ]
  }
 ],
 "metadata": {
  "accelerator": "GPU",
  "colab": {
   "gpuType": "T4",
   "provenance": []
  },
  "kernelspec": {
   "display_name": "Python 3 (ipykernel)",
   "language": "python",
   "name": "python3"
  },
  "language_info": {
   "codemirror_mode": {
    "name": "ipython",
    "version": 3
   },
   "file_extension": ".py",
   "mimetype": "text/x-python",
   "name": "python",
   "nbconvert_exporter": "python",
   "pygments_lexer": "ipython3",
   "version": "3.10.14"
  },
  "widgets": {
   "application/vnd.jupyter.widget-state+json": {
    "03a2141fad814fa39632b87e7ef8a134": {
     "model_module": "@jupyter-widgets/base",
     "model_module_version": "1.2.0",
     "model_name": "LayoutModel",
     "state": {
      "_model_module": "@jupyter-widgets/base",
      "_model_module_version": "1.2.0",
      "_model_name": "LayoutModel",
      "_view_count": null,
      "_view_module": "@jupyter-widgets/base",
      "_view_module_version": "1.2.0",
      "_view_name": "LayoutView",
      "align_content": null,
      "align_items": null,
      "align_self": null,
      "border": null,
      "bottom": null,
      "display": null,
      "flex": null,
      "flex_flow": null,
      "grid_area": null,
      "grid_auto_columns": null,
      "grid_auto_flow": null,
      "grid_auto_rows": null,
      "grid_column": null,
      "grid_gap": null,
      "grid_row": null,
      "grid_template_areas": null,
      "grid_template_columns": null,
      "grid_template_rows": null,
      "height": null,
      "justify_content": null,
      "justify_items": null,
      "left": null,
      "margin": null,
      "max_height": null,
      "max_width": null,
      "min_height": null,
      "min_width": null,
      "object_fit": null,
      "object_position": null,
      "order": null,
      "overflow": null,
      "overflow_x": null,
      "overflow_y": null,
      "padding": null,
      "right": null,
      "top": null,
      "visibility": null,
      "width": null
     }
    },
    "0c6a036444b043ef9df7cc7e854a2a17": {
     "model_module": "@jupyter-widgets/controls",
     "model_module_version": "1.5.0",
     "model_name": "DescriptionStyleModel",
     "state": {
      "_model_module": "@jupyter-widgets/controls",
      "_model_module_version": "1.5.0",
      "_model_name": "DescriptionStyleModel",
      "_view_count": null,
      "_view_module": "@jupyter-widgets/base",
      "_view_module_version": "1.2.0",
      "_view_name": "StyleView",
      "description_width": ""
     }
    },
    "0d48ded90abf4b10b0ce4a023cedc338": {
     "model_module": "@jupyter-widgets/base",
     "model_module_version": "1.2.0",
     "model_name": "LayoutModel",
     "state": {
      "_model_module": "@jupyter-widgets/base",
      "_model_module_version": "1.2.0",
      "_model_name": "LayoutModel",
      "_view_count": null,
      "_view_module": "@jupyter-widgets/base",
      "_view_module_version": "1.2.0",
      "_view_name": "LayoutView",
      "align_content": null,
      "align_items": null,
      "align_self": null,
      "border": null,
      "bottom": null,
      "display": null,
      "flex": null,
      "flex_flow": null,
      "grid_area": null,
      "grid_auto_columns": null,
      "grid_auto_flow": null,
      "grid_auto_rows": null,
      "grid_column": null,
      "grid_gap": null,
      "grid_row": null,
      "grid_template_areas": null,
      "grid_template_columns": null,
      "grid_template_rows": null,
      "height": null,
      "justify_content": null,
      "justify_items": null,
      "left": null,
      "margin": null,
      "max_height": null,
      "max_width": null,
      "min_height": null,
      "min_width": null,
      "object_fit": null,
      "object_position": null,
      "order": null,
      "overflow": null,
      "overflow_x": null,
      "overflow_y": null,
      "padding": null,
      "right": null,
      "top": null,
      "visibility": null,
      "width": null
     }
    },
    "0da6636154224e239e0acf128251552d": {
     "model_module": "@jupyter-widgets/controls",
     "model_module_version": "1.5.0",
     "model_name": "HTMLModel",
     "state": {
      "_dom_classes": [],
      "_model_module": "@jupyter-widgets/controls",
      "_model_module_version": "1.5.0",
      "_model_name": "HTMLModel",
      "_view_count": null,
      "_view_module": "@jupyter-widgets/controls",
      "_view_module_version": "1.5.0",
      "_view_name": "HTMLView",
      "description": "",
      "description_tooltip": null,
      "layout": "IPY_MODEL_bfea514454064155841bb153d837b5b3",
      "placeholder": "​",
      "style": "IPY_MODEL_7b58b04187ad4246919324f5fa3d9a44",
      "value": "100%"
     }
    },
    "110ee953de00408389437603ab9cbd15": {
     "model_module": "@jupyter-widgets/base",
     "model_module_version": "1.2.0",
     "model_name": "LayoutModel",
     "state": {
      "_model_module": "@jupyter-widgets/base",
      "_model_module_version": "1.2.0",
      "_model_name": "LayoutModel",
      "_view_count": null,
      "_view_module": "@jupyter-widgets/base",
      "_view_module_version": "1.2.0",
      "_view_name": "LayoutView",
      "align_content": null,
      "align_items": null,
      "align_self": null,
      "border": null,
      "bottom": null,
      "display": null,
      "flex": null,
      "flex_flow": null,
      "grid_area": null,
      "grid_auto_columns": null,
      "grid_auto_flow": null,
      "grid_auto_rows": null,
      "grid_column": null,
      "grid_gap": null,
      "grid_row": null,
      "grid_template_areas": null,
      "grid_template_columns": null,
      "grid_template_rows": null,
      "height": null,
      "justify_content": null,
      "justify_items": null,
      "left": null,
      "margin": null,
      "max_height": null,
      "max_width": null,
      "min_height": null,
      "min_width": null,
      "object_fit": null,
      "object_position": null,
      "order": null,
      "overflow": null,
      "overflow_x": null,
      "overflow_y": null,
      "padding": null,
      "right": null,
      "top": null,
      "visibility": null,
      "width": null
     }
    },
    "163f38a04bda46ee92bb147e7d5faa80": {
     "model_module": "@jupyter-widgets/base",
     "model_module_version": "1.2.0",
     "model_name": "LayoutModel",
     "state": {
      "_model_module": "@jupyter-widgets/base",
      "_model_module_version": "1.2.0",
      "_model_name": "LayoutModel",
      "_view_count": null,
      "_view_module": "@jupyter-widgets/base",
      "_view_module_version": "1.2.0",
      "_view_name": "LayoutView",
      "align_content": null,
      "align_items": null,
      "align_self": null,
      "border": null,
      "bottom": null,
      "display": null,
      "flex": null,
      "flex_flow": null,
      "grid_area": null,
      "grid_auto_columns": null,
      "grid_auto_flow": null,
      "grid_auto_rows": null,
      "grid_column": null,
      "grid_gap": null,
      "grid_row": null,
      "grid_template_areas": null,
      "grid_template_columns": null,
      "grid_template_rows": null,
      "height": null,
      "justify_content": null,
      "justify_items": null,
      "left": null,
      "margin": null,
      "max_height": null,
      "max_width": null,
      "min_height": null,
      "min_width": null,
      "object_fit": null,
      "object_position": null,
      "order": null,
      "overflow": null,
      "overflow_x": null,
      "overflow_y": null,
      "padding": null,
      "right": null,
      "top": null,
      "visibility": null,
      "width": null
     }
    },
    "19d6d94b89704a269debe53bb709576d": {
     "model_module": "@jupyter-widgets/controls",
     "model_module_version": "1.5.0",
     "model_name": "HTMLModel",
     "state": {
      "_dom_classes": [],
      "_model_module": "@jupyter-widgets/controls",
      "_model_module_version": "1.5.0",
      "_model_name": "HTMLModel",
      "_view_count": null,
      "_view_module": "@jupyter-widgets/controls",
      "_view_module_version": "1.5.0",
      "_view_name": "HTMLView",
      "description": "",
      "description_tooltip": null,
      "layout": "IPY_MODEL_1a19a3eae622461585e820b2fb93316c",
      "placeholder": "​",
      "style": "IPY_MODEL_66a3ea8eb4f24f50b8e82fb9f25e3bcd",
      "value": "  0%"
     }
    },
    "1a19a3eae622461585e820b2fb93316c": {
     "model_module": "@jupyter-widgets/base",
     "model_module_version": "1.2.0",
     "model_name": "LayoutModel",
     "state": {
      "_model_module": "@jupyter-widgets/base",
      "_model_module_version": "1.2.0",
      "_model_name": "LayoutModel",
      "_view_count": null,
      "_view_module": "@jupyter-widgets/base",
      "_view_module_version": "1.2.0",
      "_view_name": "LayoutView",
      "align_content": null,
      "align_items": null,
      "align_self": null,
      "border": null,
      "bottom": null,
      "display": null,
      "flex": null,
      "flex_flow": null,
      "grid_area": null,
      "grid_auto_columns": null,
      "grid_auto_flow": null,
      "grid_auto_rows": null,
      "grid_column": null,
      "grid_gap": null,
      "grid_row": null,
      "grid_template_areas": null,
      "grid_template_columns": null,
      "grid_template_rows": null,
      "height": null,
      "justify_content": null,
      "justify_items": null,
      "left": null,
      "margin": null,
      "max_height": null,
      "max_width": null,
      "min_height": null,
      "min_width": null,
      "object_fit": null,
      "object_position": null,
      "order": null,
      "overflow": null,
      "overflow_x": null,
      "overflow_y": null,
      "padding": null,
      "right": null,
      "top": null,
      "visibility": null,
      "width": null
     }
    },
    "1c7b25ad1e4b43c79785da22f7abb982": {
     "model_module": "@jupyter-widgets/base",
     "model_module_version": "1.2.0",
     "model_name": "LayoutModel",
     "state": {
      "_model_module": "@jupyter-widgets/base",
      "_model_module_version": "1.2.0",
      "_model_name": "LayoutModel",
      "_view_count": null,
      "_view_module": "@jupyter-widgets/base",
      "_view_module_version": "1.2.0",
      "_view_name": "LayoutView",
      "align_content": null,
      "align_items": null,
      "align_self": null,
      "border": null,
      "bottom": null,
      "display": null,
      "flex": null,
      "flex_flow": null,
      "grid_area": null,
      "grid_auto_columns": null,
      "grid_auto_flow": null,
      "grid_auto_rows": null,
      "grid_column": null,
      "grid_gap": null,
      "grid_row": null,
      "grid_template_areas": null,
      "grid_template_columns": null,
      "grid_template_rows": null,
      "height": null,
      "justify_content": null,
      "justify_items": null,
      "left": null,
      "margin": null,
      "max_height": null,
      "max_width": null,
      "min_height": null,
      "min_width": null,
      "object_fit": null,
      "object_position": null,
      "order": null,
      "overflow": null,
      "overflow_x": null,
      "overflow_y": null,
      "padding": null,
      "right": null,
      "top": null,
      "visibility": null,
      "width": null
     }
    },
    "4907a67a924f4daea078544b5a929188": {
     "model_module": "@jupyter-widgets/controls",
     "model_module_version": "1.5.0",
     "model_name": "ProgressStyleModel",
     "state": {
      "_model_module": "@jupyter-widgets/controls",
      "_model_module_version": "1.5.0",
      "_model_name": "ProgressStyleModel",
      "_view_count": null,
      "_view_module": "@jupyter-widgets/base",
      "_view_module_version": "1.2.0",
      "_view_name": "StyleView",
      "bar_color": null,
      "description_width": ""
     }
    },
    "4a1b1fc61367429491b12299dc5d1ec9": {
     "model_module": "@jupyter-widgets/controls",
     "model_module_version": "1.5.0",
     "model_name": "DescriptionStyleModel",
     "state": {
      "_model_module": "@jupyter-widgets/controls",
      "_model_module_version": "1.5.0",
      "_model_name": "DescriptionStyleModel",
      "_view_count": null,
      "_view_module": "@jupyter-widgets/base",
      "_view_module_version": "1.2.0",
      "_view_name": "StyleView",
      "description_width": ""
     }
    },
    "4a3d1a2536ca421ba23300b348c7372d": {
     "model_module": "@jupyter-widgets/controls",
     "model_module_version": "1.5.0",
     "model_name": "HBoxModel",
     "state": {
      "_dom_classes": [],
      "_model_module": "@jupyter-widgets/controls",
      "_model_module_version": "1.5.0",
      "_model_name": "HBoxModel",
      "_view_count": null,
      "_view_module": "@jupyter-widgets/controls",
      "_view_module_version": "1.5.0",
      "_view_name": "HBoxView",
      "box_style": "",
      "children": [
       "IPY_MODEL_0da6636154224e239e0acf128251552d",
       "IPY_MODEL_f2885ad7a0d946168987cd0860ce2a13",
       "IPY_MODEL_edf110fd6b7f48caa90967a684a7d784"
      ],
      "layout": "IPY_MODEL_1c7b25ad1e4b43c79785da22f7abb982"
     }
    },
    "4c552b1eb28649ec8c49645da3c72bc9": {
     "model_module": "@jupyter-widgets/base",
     "model_module_version": "1.2.0",
     "model_name": "LayoutModel",
     "state": {
      "_model_module": "@jupyter-widgets/base",
      "_model_module_version": "1.2.0",
      "_model_name": "LayoutModel",
      "_view_count": null,
      "_view_module": "@jupyter-widgets/base",
      "_view_module_version": "1.2.0",
      "_view_name": "LayoutView",
      "align_content": null,
      "align_items": null,
      "align_self": null,
      "border": null,
      "bottom": null,
      "display": null,
      "flex": null,
      "flex_flow": null,
      "grid_area": null,
      "grid_auto_columns": null,
      "grid_auto_flow": null,
      "grid_auto_rows": null,
      "grid_column": null,
      "grid_gap": null,
      "grid_row": null,
      "grid_template_areas": null,
      "grid_template_columns": null,
      "grid_template_rows": null,
      "height": null,
      "justify_content": null,
      "justify_items": null,
      "left": null,
      "margin": null,
      "max_height": null,
      "max_width": null,
      "min_height": null,
      "min_width": null,
      "object_fit": null,
      "object_position": null,
      "order": null,
      "overflow": null,
      "overflow_x": null,
      "overflow_y": null,
      "padding": null,
      "right": null,
      "top": null,
      "visibility": null,
      "width": null
     }
    },
    "4e5b4dbac61640bc9dc8286cfee93f13": {
     "model_module": "@jupyter-widgets/controls",
     "model_module_version": "1.5.0",
     "model_name": "HTMLModel",
     "state": {
      "_dom_classes": [],
      "_model_module": "@jupyter-widgets/controls",
      "_model_module_version": "1.5.0",
      "_model_name": "HTMLModel",
      "_view_count": null,
      "_view_module": "@jupyter-widgets/controls",
      "_view_module_version": "1.5.0",
      "_view_name": "HTMLView",
      "description": "",
      "description_tooltip": null,
      "layout": "IPY_MODEL_03a2141fad814fa39632b87e7ef8a134",
      "placeholder": "​",
      "style": "IPY_MODEL_c99b9ceff61144ca937598af9d150c8b",
      "value": "100%"
     }
    },
    "4fc823b122304890af9cb927f3f8afef": {
     "model_module": "@jupyter-widgets/controls",
     "model_module_version": "1.5.0",
     "model_name": "DescriptionStyleModel",
     "state": {
      "_model_module": "@jupyter-widgets/controls",
      "_model_module_version": "1.5.0",
      "_model_name": "DescriptionStyleModel",
      "_view_count": null,
      "_view_module": "@jupyter-widgets/base",
      "_view_module_version": "1.2.0",
      "_view_name": "StyleView",
      "description_width": ""
     }
    },
    "66a3ea8eb4f24f50b8e82fb9f25e3bcd": {
     "model_module": "@jupyter-widgets/controls",
     "model_module_version": "1.5.0",
     "model_name": "DescriptionStyleModel",
     "state": {
      "_model_module": "@jupyter-widgets/controls",
      "_model_module_version": "1.5.0",
      "_model_name": "DescriptionStyleModel",
      "_view_count": null,
      "_view_module": "@jupyter-widgets/base",
      "_view_module_version": "1.2.0",
      "_view_name": "StyleView",
      "description_width": ""
     }
    },
    "68dcb9ff28f54dd387d3e816473cd13f": {
     "model_module": "@jupyter-widgets/base",
     "model_module_version": "1.2.0",
     "model_name": "LayoutModel",
     "state": {
      "_model_module": "@jupyter-widgets/base",
      "_model_module_version": "1.2.0",
      "_model_name": "LayoutModel",
      "_view_count": null,
      "_view_module": "@jupyter-widgets/base",
      "_view_module_version": "1.2.0",
      "_view_name": "LayoutView",
      "align_content": null,
      "align_items": null,
      "align_self": null,
      "border": null,
      "bottom": null,
      "display": null,
      "flex": null,
      "flex_flow": null,
      "grid_area": null,
      "grid_auto_columns": null,
      "grid_auto_flow": null,
      "grid_auto_rows": null,
      "grid_column": null,
      "grid_gap": null,
      "grid_row": null,
      "grid_template_areas": null,
      "grid_template_columns": null,
      "grid_template_rows": null,
      "height": null,
      "justify_content": null,
      "justify_items": null,
      "left": null,
      "margin": null,
      "max_height": null,
      "max_width": null,
      "min_height": null,
      "min_width": null,
      "object_fit": null,
      "object_position": null,
      "order": null,
      "overflow": null,
      "overflow_x": null,
      "overflow_y": null,
      "padding": null,
      "right": null,
      "top": null,
      "visibility": null,
      "width": null
     }
    },
    "7b58b04187ad4246919324f5fa3d9a44": {
     "model_module": "@jupyter-widgets/controls",
     "model_module_version": "1.5.0",
     "model_name": "DescriptionStyleModel",
     "state": {
      "_model_module": "@jupyter-widgets/controls",
      "_model_module_version": "1.5.0",
      "_model_name": "DescriptionStyleModel",
      "_view_count": null,
      "_view_module": "@jupyter-widgets/base",
      "_view_module_version": "1.2.0",
      "_view_name": "StyleView",
      "description_width": ""
     }
    },
    "7c1f12cb1ab847249bb4280c54b564cb": {
     "model_module": "@jupyter-widgets/controls",
     "model_module_version": "1.5.0",
     "model_name": "HBoxModel",
     "state": {
      "_dom_classes": [],
      "_model_module": "@jupyter-widgets/controls",
      "_model_module_version": "1.5.0",
      "_model_name": "HBoxModel",
      "_view_count": null,
      "_view_module": "@jupyter-widgets/controls",
      "_view_module_version": "1.5.0",
      "_view_name": "HBoxView",
      "box_style": "",
      "children": [
       "IPY_MODEL_19d6d94b89704a269debe53bb709576d",
       "IPY_MODEL_d4f923059c214d2a8aa3fd74ef0b0b38",
       "IPY_MODEL_be620ffd47314ef3b9e071b5f1eca94c"
      ],
      "layout": "IPY_MODEL_163f38a04bda46ee92bb147e7d5faa80"
     }
    },
    "84657db6d3dc46d5bd0fa25898ee14f2": {
     "model_module": "@jupyter-widgets/controls",
     "model_module_version": "1.5.0",
     "model_name": "FloatProgressModel",
     "state": {
      "_dom_classes": [],
      "_model_module": "@jupyter-widgets/controls",
      "_model_module_version": "1.5.0",
      "_model_name": "FloatProgressModel",
      "_view_count": null,
      "_view_module": "@jupyter-widgets/controls",
      "_view_module_version": "1.5.0",
      "_view_name": "ProgressView",
      "bar_style": "success",
      "description": "",
      "description_tooltip": null,
      "layout": "IPY_MODEL_8ee2363c68e54d908f2dfb0b698549d3",
      "max": 9,
      "min": 0,
      "orientation": "horizontal",
      "style": "IPY_MODEL_f05c6fe1e5c04ebdae94c909041712ac",
      "value": 9
     }
    },
    "8834a7b9229842e78082e64a5157a0ce": {
     "model_module": "@jupyter-widgets/base",
     "model_module_version": "1.2.0",
     "model_name": "LayoutModel",
     "state": {
      "_model_module": "@jupyter-widgets/base",
      "_model_module_version": "1.2.0",
      "_model_name": "LayoutModel",
      "_view_count": null,
      "_view_module": "@jupyter-widgets/base",
      "_view_module_version": "1.2.0",
      "_view_name": "LayoutView",
      "align_content": null,
      "align_items": null,
      "align_self": null,
      "border": null,
      "bottom": null,
      "display": null,
      "flex": null,
      "flex_flow": null,
      "grid_area": null,
      "grid_auto_columns": null,
      "grid_auto_flow": null,
      "grid_auto_rows": null,
      "grid_column": null,
      "grid_gap": null,
      "grid_row": null,
      "grid_template_areas": null,
      "grid_template_columns": null,
      "grid_template_rows": null,
      "height": null,
      "justify_content": null,
      "justify_items": null,
      "left": null,
      "margin": null,
      "max_height": null,
      "max_width": null,
      "min_height": null,
      "min_width": null,
      "object_fit": null,
      "object_position": null,
      "order": null,
      "overflow": null,
      "overflow_x": null,
      "overflow_y": null,
      "padding": null,
      "right": null,
      "top": null,
      "visibility": null,
      "width": null
     }
    },
    "8ee2363c68e54d908f2dfb0b698549d3": {
     "model_module": "@jupyter-widgets/base",
     "model_module_version": "1.2.0",
     "model_name": "LayoutModel",
     "state": {
      "_model_module": "@jupyter-widgets/base",
      "_model_module_version": "1.2.0",
      "_model_name": "LayoutModel",
      "_view_count": null,
      "_view_module": "@jupyter-widgets/base",
      "_view_module_version": "1.2.0",
      "_view_name": "LayoutView",
      "align_content": null,
      "align_items": null,
      "align_self": null,
      "border": null,
      "bottom": null,
      "display": null,
      "flex": null,
      "flex_flow": null,
      "grid_area": null,
      "grid_auto_columns": null,
      "grid_auto_flow": null,
      "grid_auto_rows": null,
      "grid_column": null,
      "grid_gap": null,
      "grid_row": null,
      "grid_template_areas": null,
      "grid_template_columns": null,
      "grid_template_rows": null,
      "height": null,
      "justify_content": null,
      "justify_items": null,
      "left": null,
      "margin": null,
      "max_height": null,
      "max_width": null,
      "min_height": null,
      "min_width": null,
      "object_fit": null,
      "object_position": null,
      "order": null,
      "overflow": null,
      "overflow_x": null,
      "overflow_y": null,
      "padding": null,
      "right": null,
      "top": null,
      "visibility": null,
      "width": null
     }
    },
    "9075c9929447407ea9e9c5288583dadb": {
     "model_module": "@jupyter-widgets/controls",
     "model_module_version": "1.5.0",
     "model_name": "ProgressStyleModel",
     "state": {
      "_model_module": "@jupyter-widgets/controls",
      "_model_module_version": "1.5.0",
      "_model_name": "ProgressStyleModel",
      "_view_count": null,
      "_view_module": "@jupyter-widgets/base",
      "_view_module_version": "1.2.0",
      "_view_name": "StyleView",
      "bar_color": null,
      "description_width": ""
     }
    },
    "92b88d70c83248279bf530ea2041bfe8": {
     "model_module": "@jupyter-widgets/controls",
     "model_module_version": "1.5.0",
     "model_name": "HTMLModel",
     "state": {
      "_dom_classes": [],
      "_model_module": "@jupyter-widgets/controls",
      "_model_module_version": "1.5.0",
      "_model_name": "HTMLModel",
      "_view_count": null,
      "_view_module": "@jupyter-widgets/controls",
      "_view_module_version": "1.5.0",
      "_view_name": "HTMLView",
      "description": "",
      "description_tooltip": null,
      "layout": "IPY_MODEL_8834a7b9229842e78082e64a5157a0ce",
      "placeholder": "​",
      "style": "IPY_MODEL_0c6a036444b043ef9df7cc7e854a2a17",
      "value": " 9/9 [00:23&lt;00:00,  2.84s/it]"
     }
    },
    "a24b9d4c1e524a1c9c105e6e5740bde1": {
     "model_module": "@jupyter-widgets/controls",
     "model_module_version": "1.5.0",
     "model_name": "HBoxModel",
     "state": {
      "_dom_classes": [],
      "_model_module": "@jupyter-widgets/controls",
      "_model_module_version": "1.5.0",
      "_model_name": "HBoxModel",
      "_view_count": null,
      "_view_module": "@jupyter-widgets/controls",
      "_view_module_version": "1.5.0",
      "_view_name": "HBoxView",
      "box_style": "",
      "children": [
       "IPY_MODEL_4e5b4dbac61640bc9dc8286cfee93f13",
       "IPY_MODEL_84657db6d3dc46d5bd0fa25898ee14f2",
       "IPY_MODEL_92b88d70c83248279bf530ea2041bfe8"
      ],
      "layout": "IPY_MODEL_f7a8233fab1e4dff8bb2403538b49da1"
     }
    },
    "be620ffd47314ef3b9e071b5f1eca94c": {
     "model_module": "@jupyter-widgets/controls",
     "model_module_version": "1.5.0",
     "model_name": "HTMLModel",
     "state": {
      "_dom_classes": [],
      "_model_module": "@jupyter-widgets/controls",
      "_model_module_version": "1.5.0",
      "_model_name": "HTMLModel",
      "_view_count": null,
      "_view_module": "@jupyter-widgets/controls",
      "_view_module_version": "1.5.0",
      "_view_name": "HTMLView",
      "description": "",
      "description_tooltip": null,
      "layout": "IPY_MODEL_110ee953de00408389437603ab9cbd15",
      "placeholder": "​",
      "style": "IPY_MODEL_4fc823b122304890af9cb927f3f8afef",
      "value": " 0/11 [00:00&lt;?, ?it/s]"
     }
    },
    "bfea514454064155841bb153d837b5b3": {
     "model_module": "@jupyter-widgets/base",
     "model_module_version": "1.2.0",
     "model_name": "LayoutModel",
     "state": {
      "_model_module": "@jupyter-widgets/base",
      "_model_module_version": "1.2.0",
      "_model_name": "LayoutModel",
      "_view_count": null,
      "_view_module": "@jupyter-widgets/base",
      "_view_module_version": "1.2.0",
      "_view_name": "LayoutView",
      "align_content": null,
      "align_items": null,
      "align_self": null,
      "border": null,
      "bottom": null,
      "display": null,
      "flex": null,
      "flex_flow": null,
      "grid_area": null,
      "grid_auto_columns": null,
      "grid_auto_flow": null,
      "grid_auto_rows": null,
      "grid_column": null,
      "grid_gap": null,
      "grid_row": null,
      "grid_template_areas": null,
      "grid_template_columns": null,
      "grid_template_rows": null,
      "height": null,
      "justify_content": null,
      "justify_items": null,
      "left": null,
      "margin": null,
      "max_height": null,
      "max_width": null,
      "min_height": null,
      "min_width": null,
      "object_fit": null,
      "object_position": null,
      "order": null,
      "overflow": null,
      "overflow_x": null,
      "overflow_y": null,
      "padding": null,
      "right": null,
      "top": null,
      "visibility": null,
      "width": null
     }
    },
    "c99b9ceff61144ca937598af9d150c8b": {
     "model_module": "@jupyter-widgets/controls",
     "model_module_version": "1.5.0",
     "model_name": "DescriptionStyleModel",
     "state": {
      "_model_module": "@jupyter-widgets/controls",
      "_model_module_version": "1.5.0",
      "_model_name": "DescriptionStyleModel",
      "_view_count": null,
      "_view_module": "@jupyter-widgets/base",
      "_view_module_version": "1.2.0",
      "_view_name": "StyleView",
      "description_width": ""
     }
    },
    "d4f923059c214d2a8aa3fd74ef0b0b38": {
     "model_module": "@jupyter-widgets/controls",
     "model_module_version": "1.5.0",
     "model_name": "FloatProgressModel",
     "state": {
      "_dom_classes": [],
      "_model_module": "@jupyter-widgets/controls",
      "_model_module_version": "1.5.0",
      "_model_name": "FloatProgressModel",
      "_view_count": null,
      "_view_module": "@jupyter-widgets/controls",
      "_view_module_version": "1.5.0",
      "_view_name": "ProgressView",
      "bar_style": "",
      "description": "",
      "description_tooltip": null,
      "layout": "IPY_MODEL_0d48ded90abf4b10b0ce4a023cedc338",
      "max": 11,
      "min": 0,
      "orientation": "horizontal",
      "style": "IPY_MODEL_4907a67a924f4daea078544b5a929188",
      "value": 0
     }
    },
    "edf110fd6b7f48caa90967a684a7d784": {
     "model_module": "@jupyter-widgets/controls",
     "model_module_version": "1.5.0",
     "model_name": "HTMLModel",
     "state": {
      "_dom_classes": [],
      "_model_module": "@jupyter-widgets/controls",
      "_model_module_version": "1.5.0",
      "_model_name": "HTMLModel",
      "_view_count": null,
      "_view_module": "@jupyter-widgets/controls",
      "_view_module_version": "1.5.0",
      "_view_name": "HTMLView",
      "description": "",
      "description_tooltip": null,
      "layout": "IPY_MODEL_4c552b1eb28649ec8c49645da3c72bc9",
      "placeholder": "​",
      "style": "IPY_MODEL_4a1b1fc61367429491b12299dc5d1ec9",
      "value": " 9/9 [00:01&lt;00:00,  6.16it/s]"
     }
    },
    "f05c6fe1e5c04ebdae94c909041712ac": {
     "model_module": "@jupyter-widgets/controls",
     "model_module_version": "1.5.0",
     "model_name": "ProgressStyleModel",
     "state": {
      "_model_module": "@jupyter-widgets/controls",
      "_model_module_version": "1.5.0",
      "_model_name": "ProgressStyleModel",
      "_view_count": null,
      "_view_module": "@jupyter-widgets/base",
      "_view_module_version": "1.2.0",
      "_view_name": "StyleView",
      "bar_color": null,
      "description_width": ""
     }
    },
    "f2885ad7a0d946168987cd0860ce2a13": {
     "model_module": "@jupyter-widgets/controls",
     "model_module_version": "1.5.0",
     "model_name": "FloatProgressModel",
     "state": {
      "_dom_classes": [],
      "_model_module": "@jupyter-widgets/controls",
      "_model_module_version": "1.5.0",
      "_model_name": "FloatProgressModel",
      "_view_count": null,
      "_view_module": "@jupyter-widgets/controls",
      "_view_module_version": "1.5.0",
      "_view_name": "ProgressView",
      "bar_style": "success",
      "description": "",
      "description_tooltip": null,
      "layout": "IPY_MODEL_68dcb9ff28f54dd387d3e816473cd13f",
      "max": 9,
      "min": 0,
      "orientation": "horizontal",
      "style": "IPY_MODEL_9075c9929447407ea9e9c5288583dadb",
      "value": 9
     }
    },
    "f7a8233fab1e4dff8bb2403538b49da1": {
     "model_module": "@jupyter-widgets/base",
     "model_module_version": "1.2.0",
     "model_name": "LayoutModel",
     "state": {
      "_model_module": "@jupyter-widgets/base",
      "_model_module_version": "1.2.0",
      "_model_name": "LayoutModel",
      "_view_count": null,
      "_view_module": "@jupyter-widgets/base",
      "_view_module_version": "1.2.0",
      "_view_name": "LayoutView",
      "align_content": null,
      "align_items": null,
      "align_self": null,
      "border": null,
      "bottom": null,
      "display": null,
      "flex": null,
      "flex_flow": null,
      "grid_area": null,
      "grid_auto_columns": null,
      "grid_auto_flow": null,
      "grid_auto_rows": null,
      "grid_column": null,
      "grid_gap": null,
      "grid_row": null,
      "grid_template_areas": null,
      "grid_template_columns": null,
      "grid_template_rows": null,
      "height": null,
      "justify_content": null,
      "justify_items": null,
      "left": null,
      "margin": null,
      "max_height": null,
      "max_width": null,
      "min_height": null,
      "min_width": null,
      "object_fit": null,
      "object_position": null,
      "order": null,
      "overflow": null,
      "overflow_x": null,
      "overflow_y": null,
      "padding": null,
      "right": null,
      "top": null,
      "visibility": null,
      "width": null
     }
    }
   }
  }
 },
 "nbformat": 4,
 "nbformat_minor": 4
}
